{
 "cells": [
  {
   "cell_type": "markdown",
   "metadata": {
    "collapsed": true
   },
   "source": []
  },
  {
   "cell_type": "markdown",
   "metadata": {},
   "source": []
  },
  {
   "cell_type": "code",
   "execution_count": null,
   "metadata": {
    "collapsed": true
   },
   "outputs": [],
   "source": []
  },
  {
   "cell_type": "markdown",
   "metadata": {},
   "source": []
  },
  {
   "cell_type": "code",
   "execution_count": null,
   "metadata": {
    "collapsed": true
   },
   "outputs": [],
   "source": [
    " "
   ]
  },
  {
   "cell_type": "markdown",
   "metadata": {},
   "source": []
  },
  {
   "cell_type": "code",
   "execution_count": null,
   "metadata": {
    "collapsed": true
   },
   "outputs": [],
   "source": []
  },
  {
   "cell_type": "markdown",
   "metadata": {},
   "source": []
  },
  {
   "cell_type": "code",
   "execution_count": null,
   "metadata": {
    "collapsed": true
   },
   "outputs": [],
   "source": []
  },
  {
   "cell_type": "markdown",
   "metadata": {},
   "source": []
  },
  {
   "cell_type": "code",
   "execution_count": null,
   "metadata": {
    "collapsed": true
   },
   "outputs": [],
   "source": []
  },
  {
   "cell_type": "markdown",
   "metadata": {},
   "source": []
  },
  {
   "cell_type": "code",
   "execution_count": null,
   "metadata": {
    "collapsed": true
   },
   "outputs": [],
   "source": []
  },
  {
   "cell_type": "markdown",
   "metadata": {},
   "source": []
  },
  {
   "cell_type": "code",
   "execution_count": null,
   "metadata": {
    "collapsed": true
   },
   "outputs": [],
   "source": []
  },
  {
   "cell_type": "markdown",
   "metadata": {},
   "source": [
    "\n",
    "__What is Git?__ \n",
    "\n",
    "Git is *version control* software."
   ]
  },
  {
   "cell_type": "markdown",
   "metadata": {},
   "source": [
    "__What is version control software?__ \n",
    "\n",
    "Software that tracks and manages changes to project without overwriting any part of the project. "
   ]
  },
  {
   "cell_type": "markdown",
   "metadata": {},
   "source": [
    "Typically, when you save a file, for example a word document, you either:\n",
    " - overwrite the previous version (save)\n",
    " - save the file under a new name (save as)"
   ]
  },
  {
   "cell_type": "markdown",
   "metadata": {},
   "source": [
    "This means we either:\n",
    "- Lose the previous version\n",
    "- End up with multiple files\n"
   ]
  },
  {
   "cell_type": "markdown",
   "metadata": {},
   "source": [
    "In programming we often want to:\n",
    " - make a small change to our program \n",
    " - test our change works before moving on. \n",
    " - easily revert to a previous version if we don't like the changes\n",
    "\n",
    "It makes sense to incrementally save our work as we go along. \n",
    "\n",
    "That way, if we break something we can just go back to the previous version. "
   ]
  },
  {
   "cell_type": "markdown",
   "metadata": {},
   "source": [
    "But this can lead to many files:\n",
    "\n",
    "<img src=\"../../../ILAS_seminars/intro to python/img/many_files_same_name.png\" alt=\"Drawing\" style=\"width: 300px;\"/>\n",
    "\n",
    "How can we tell what each one does?"
   ]
  },
  {
   "cell_type": "markdown",
   "metadata": {},
   "source": [
    "We could try giving them meaningful names:\n",
    "\n",
    "<img src=\"../../../ILAS_seminars/intro to python/img/many_files.gif\" alt=\"Drawing\" style=\"width: 300px;\"/>\n",
    "\n",
    "But the name can only tell us a little bit of information...\n"
   ]
  },
  {
   "cell_type": "markdown",
   "metadata": {},
   "source": [
    "...before they start getting really long!\n",
    "\n",
    "<img src=\"../../../ILAS_seminars/intro to python/img/many_files_different_names.png\" alt=\"Drawing\" style=\"width: 300px;\"/>\n",
    "\n",
    "Things get very confusing!\n",
    "\n",
    "And many files take up lots of space on your computer. "
   ]
  },
  {
   "cell_type": "markdown",
   "metadata": {},
   "source": [
    "Git creates a folder in the same directory as your file. \n",
    "\n",
    "The directory containing both the file being tracked and the Git folder is now referred to as a repository or \"repo\". \n",
    "\n",
    "(The folder is hidden.)\n",
    "\n",
    "The folder being tracked by git is referred to as a repository or \"repo\". \n",
    "\n",
    "You can keep any type of file in a repository (code files, text files, image files....). \n",
    "\n"
   ]
  },
  {
   "cell_type": "markdown",
   "metadata": {},
   "source": [
    "\n",
    "\n",
    "It logs changes you make to the file.\n",
    "\n",
    "It track of multiple files within this directory.  \n",
    "\n",
    "It stores a *commit message* with each change you *commit*, saying what you changed:\n",
    "\n",
    "<img src=\"../../../ILAS_seminars/intro to python/img/MILK.png\" alt=\"Drawing\" style=\"width: 300px;\"/>"
   ]
  },
  {
   "cell_type": "markdown",
   "metadata": {},
   "source": [
    "So if you make a mistake, you can just reset to a previous version.\n",
    "\n",
    "<img src=\"../../../ILAS_seminars/intro to python/img/git_reset.png\" alt=\"Drawing\" style=\"width: 300px;\"/>"
   ]
  },
  {
   "cell_type": "markdown",
   "metadata": {},
   "source": [
    "When you commit chanegs, Git does not save two versions of the same file. \n",
    "\n",
    "Git only saves the __difference__ between two files.\n",
    "\n",
    "This minimises the amount of space that tracking your changes takes up on your computer,\n",
    "\n",
    "__Example:__ Between files r3 and r4, the information saved is\n",
    " > -juice <br>\n",
    " > +soup\n",
    "\n",
    "<img src=\"../../../ILAS_seminars/intro to python/img/git_diff.png\" alt=\"Drawing\" style=\"width: 500px;\"/>"
   ]
  },
  {
   "cell_type": "markdown",
   "metadata": {},
   "source": [
    "A __great thing__ about git is that it was made by programmers for programmers. \n",
    "\n",
    "Professional developers and most other professionals who write code, use git (or other version control software) to manage their files, workflow and collaborations.  \n",
    "\n",
    "It has an enourmous range of functionality.\n"
   ]
  },
  {
   "cell_type": "markdown",
   "metadata": {},
   "source": [
    "A __problem__ with so much freedom is that it can be easy to get things wrong.\n",
    "\n",
    "Git can be difficult to use.\n",
    "\n"
   ]
  },
  {
   "cell_type": "markdown",
   "metadata": {},
   "source": [
    "To keep things nice and easy we will learn only the basics of using Git. \n",
    "\n",
    "Even this basic understanding will give you essential skills that are used every day by professional programmers. "
   ]
  },
  {
   "cell_type": "markdown",
   "metadata": {
    "collapsed": true
   },
   "source": [
    "A __problem__ with Git is that it was made by programmers for programmers. \n",
    "\n",
    "We have to use the command line (or Terminal) to access it. \n",
    "\n",
    "There is no user interface.\n",
    "\n",
    "It can be difficult to visualise what is going on. \n",
    "\n",
    "<img src=\"../../../ILAS_seminars/intro to python/img/git_command_line.png\" alt=\"Drawing\" style=\"width: 500px;\"/>"
   ]
  },
  {
   "cell_type": "markdown",
   "metadata": {},
   "source": [
    "To provide a visual interface we can use an online *host site* to store and view code...\n",
    "\n"
   ]
  },
  {
   "cell_type": "markdown",
   "metadata": {},
   "source": [
    "A repo can be a local folder on your computer. \n",
    "\n",
    "A repo can also be a storage space on GitHub or another online host site. \n",
    "\n",
    "<img src=\"../../../ILAS_seminars/intro to python/img/github-logo.jpg\" alt=\"Drawing\" style=\"width: 200px;\"/>\n"
   ]
  },
  {
   "cell_type": "markdown",
   "metadata": {},
   "source": [
    "GitHub.com is a \"code hosting site\".\n",
    "\n",
    "It provides a visual interface to view code, the changes (*commits*) and to share and collaborate with others. \n",
    "\n",
    "There are many code hosting sites, however Github has a large community of users.  \n",
    "\n",
    "So for programmers, it works like a social media site like Facebook or instagram.\n",
    "\n",
    "<img src=\"../../../ILAS_seminars/intro to python/img/github-logo.jpg\" alt=\"Drawing\" style=\"width: 200px;\"/>\n",
    "\n"
   ]
  },
  {
   "cell_type": "markdown",
   "metadata": {},
   "source": [
    "Let's start by downloading your interactive textbook from github.com\n",
    "\n",
    "Open a web browser and go to:\n",
    "\n",
    "https://github.com/hphilamore/ILAS_python\n",
    "\n",
    "This is a __repository__.\n",
    "\n",
    "It is an online directory where this project, the textbook, is stored. "
   ]
  },
  {
   "cell_type": "markdown",
   "metadata": {},
   "source": [
    "We can look at previous versions of the code by selecting *commits*...\n",
    "\n",
    "We can easily view the difference (\"diff\") between the previous and current version."
   ]
  },
  {
   "cell_type": "markdown",
   "metadata": {},
   "source": [
    " You are going to download a personal copy of the textbook to you user area. "
   ]
  },
  {
   "cell_type": "markdown",
   "metadata": {},
   "source": []
  },
  {
   "cell_type": "markdown",
   "metadata": {
    "collapsed": true
   },
   "source": [
    "To do this we are going to learn to use the command line. \n",
    "\n",
    "\n",
    "\n"
   ]
  },
  {
   "cell_type": "markdown",
   "metadata": {},
   "source": [
    "## Introduction to the Command Line. \n",
    "\n",
    "To open the terminal:\n",
    " - press \"win key\" + \"R\"\n",
    " - type cmd\n",
    " -press enter"
   ]
  },
  {
   "cell_type": "markdown",
   "metadata": {},
   "source": [
    "A terminal will launch.\n",
    "\n",
    "The *command prompt* will say something like:\n",
    "\n",
    "C:¥Users¥Username:\n",
    "\n",
    "The C tells us that we are on the C drive of the computer.\n",
    "\n",
    "Lets switch to the M drive where the user (you!) can save files."
   ]
  },
  {
   "cell_type": "markdown",
   "metadata": {},
   "source": [
    "In the terminal type: \n",
    "\n",
    ">`M:`\n",
    "\n",
    "...and press enter.\n"
   ]
  },
  {
   "cell_type": "markdown",
   "metadata": {},
   "source": [
    "You should see the command prompt change.  \n",
    "\n",
    "<img src=\"../../../ILAS_seminars/intro to python/img/cmd_jupyter.png\" alt=\"Drawing\" style=\"width: 500px;\"/>"
   ]
  },
  {
   "cell_type": "markdown",
   "metadata": {},
   "source": [
    "To see what is on the M drive type:\n",
    "\n",
    ">`dir`\n",
    "\n",
    "..and press enter.\n",
    "\n",
    "You will see all the folders in your personal user area.\n",
    "\n",
    "Double click on the computer icon on the desktop. \n",
    "\n",
    "Double click on the M drive.\n",
    "\n",
    "You should see the same folders as those listed in the terminal.\n"
   ]
  },
  {
   "cell_type": "markdown",
   "metadata": {
    "collapsed": true
   },
   "source": [
    "## Installing Git\n",
    "\n",
    "The first thing we need to do is install git.\n",
    "\n",
    "You are going to install your own personal copy in your user area, in the documents folder.\n",
    "\n",
    "To navigate to documents type:\n",
    "\n",
    ">`cd Documents`\n",
    "\n",
    "cd stands for \"change directory\".\n",
    "\n",
    "\n",
    "\n"
   ]
  },
  {
   "cell_type": "markdown",
   "metadata": {},
   "source": [
    "We can move down the filesystem of the computer by typing:\n",
    "\n",
    ">`cd`\n",
    "\n",
    "followed by the name of the folder we want to move to.\n",
    "\n",
    "The folder must be:\n",
    " - on the same branch\n",
    " - one step from our current location\n",
    "\n",
    "<img src=\"../../../ILAS_seminars/intro to python/img/directory_tree.gif\" alt=\"Drawing\" style=\"width: 200px;\"/>"
   ]
  },
  {
   "cell_type": "markdown",
   "metadata": {},
   "source": [
    "Type:\n",
    "    \n",
    ">`dir` \n",
    "\n",
    "again to view the contents of your Documents folder."
   ]
  },
  {
   "cell_type": "markdown",
   "metadata": {},
   "source": [
    "To move back up by one step, type:\n",
    "    \n",
    ">`cd ..`\n",
    "\n",
    "Try this now.\n",
    "\n",
    "<img src=\"../../../ILAS_seminars/intro to python/img/directory_tree.gif\" alt=\"Drawing\" style=\"width: 200px;\"/>"
   ]
  },
  {
   "cell_type": "markdown",
   "metadata": {},
   "source": [
    "We can move by more than one step by seperating the names of the folders using the symbol: \n",
    "\n",
    "¥\n",
    "\n",
    "(note, this is \\ or / on US and European computers, depending on the operating system)"
   ]
  },
  {
   "cell_type": "markdown",
   "metadata": {},
   "source": [
    "For example, now try navigating to any folder in your Documents folder by typing:\n",
    ">`cd Documents¥folder_name`\n",
    "\n",
    "where `folder_name` is the name of the folder to move to.\n"
   ]
  },
  {
   "cell_type": "markdown",
   "metadata": {},
   "source": [
    "And now let's go back to the main Documents folder by typing:\n",
    "> cd .."
   ]
  },
  {
   "cell_type": "markdown",
   "metadata": {},
   "source": [
    "Make a new folder in which to store your Git program. Type:\n",
    "> `mkdir Git`\n",
    "\n",
    "`mkdir` stands for \"make directory\".\n",
    "`Git` is the name, chosen by you.\n",
    "\n"
   ]
  },
  {
   "cell_type": "markdown",
   "metadata": {},
   "source": [
    "Download the Git program from here:\n",
    "\n",
    "https://github.com/git-for-windows/git/releases/tag/v2.14.1.windows.1\n",
    "\n",
    "The version you need is: \n",
    "\n",
    "PortableGit-2.14.1-32-bit.7z.exe\n",
    "\n",
    "\n",
    "\n"
   ]
  },
  {
   "cell_type": "markdown",
   "metadata": {},
   "source": [
    "This file will appear in the downloads folde of you computer.\n",
    "\n",
    "If it downloads as a zip file:\n",
    "- right click on it \n",
    "- exctract files\n",
    "\n",
    "Move the file PortableGit-2.14.1-32-bit.7z.exe to the Git folder you just created in Documents."
   ]
  },
  {
   "cell_type": "markdown",
   "metadata": {},
   "source": [
    "Double click on the file to launch a wizard that will install Git for you. "
   ]
  },
  {
   "cell_type": "markdown",
   "metadata": {},
   "source": [
    "Go back to the terminal and type:\n",
    ">cd Git \n",
    "\n",
    "to move into your Git folder.\n",
    "\n",
    "To check git has installed type:\n",
    "\n",
    ">`git --version`\n",
    "\n",
    "You should see something like this:\n",
    "\n",
    "<img src=\"../../../ILAS_seminars/intro to python/img/git-version.gif\" alt=\"Drawing\" style=\"width: 500px;\"/>"
   ]
  },
  {
   "cell_type": "markdown",
   "metadata": {},
   "source": [
    "The final thing we need to do is to tell the computer where to look for the Git program. \n",
    "\n",
    "Move one step up from the Git folder. Type:\n",
    "\n",
    "> `cd ..`\n",
    "\n",
    "Now enter the following in the terminal: \n",
    "\n",
    ">set PATH=%PATH%;M:¥Documents¥Git¥bin\n",
    "\n",
    "If this is a little bit complicated, you can __copy and paste__ it from the README section on the github page we looked at earlier.\n",
    "\n",
    "At the start of each seminar you will enter this line of code to allow the computer to run git.\n",
    "\n",
    "\n"
   ]
  },
  {
   "cell_type": "markdown",
   "metadata": {},
   "source": [
    "Finally, let's check git is working by typing:\n",
    ">`git status`\n",
    "\n",
    "You should see something like this:\n",
    "\n",
    "....."
   ]
  },
  {
   "cell_type": "markdown",
   "metadata": {},
   "source": [
    "The program Git has its own terminal commands.\n",
    "\n",
    "Each one starts with the word `git`"
   ]
  },
  {
   "cell_type": "markdown",
   "metadata": {},
   "source": [
    "## 'Cloning' the Textbook Using Git\n",
    "\n",
    "Go to the Github site we opened earlier.  \n",
    "\n",
    "We are going to download the *repository* so that we can work on the textbook and save it locally on a computer.\n",
    "\n",
    "Click the button \"Clone or download\" and copy the link by presssing Ctrl , C\n",
    "\n",
    "<img src=\"../../../ILAS_seminars/intro to python/img/clone_or_download.png\" alt=\"Drawing\" style=\"width: 500px;\"/>\n",
    "\n",
    "\n"
   ]
  },
  {
   "cell_type": "markdown",
   "metadata": {},
   "source": [
    "In the terminal type:\n",
    "\n",
    "> `git clone` \n",
    "\n",
    "after the word `clone` leave a space and then paste the URL that you just copied.\n",
    "\n",
    "`Clone` copies all the files from the repository at the URL you have entered. "
   ]
  },
  {
   "cell_type": "markdown",
   "metadata": {},
   "source": [
    "In the terminal type:\n",
    "\n",
    "> `dir`\n",
    "\n",
    "A folder called \"ILAS_python\" should have appeared. \n",
    "\n",
    "Go into the folder and view the content by typing:\n",
    "\n",
    ">`cd ILAS_pyhon`\n",
    "><br>`dir` \n",
    "\n"
   ]
  },
  {
   "cell_type": "markdown",
   "metadata": {},
   "source": [
    "Hint: If you start typing  a folder name and press \"tab\", the folder name autocompletes! Try it for yourself e.g. in the Documents directory type:\n",
    "\n",
    ">`cd ILAS`\n",
    "\n",
    "then press \"tab\"."
   ]
  },
  {
   "cell_type": "markdown",
   "metadata": {},
   "source": [
    "The textbook files should now have appeared in your Documents folder."
   ]
  },
  {
   "cell_type": "markdown",
   "metadata": {},
   "source": [
    "## Creating an Online Github Account\n",
    "\n",
    "The __online Github repository__ that you cloned the textbook from belongs to me. \n",
    "\n",
    "You are going to create your own online Github user account.\n",
    "\n",
    "\n"
   ]
  },
  {
   "cell_type": "markdown",
   "metadata": {},
   "source": [
    "You will use Github to update the online version of your textbook to match the version on the university M drive.\n",
    "\n",
    "This means you can easily access it from outside the Kyoto University system, for example, to complete your homework. \n",
    "\n",
    "I will use your online repositories to view your work and check your progress during the course."
   ]
  },
  {
   "cell_type": "markdown",
   "metadata": {},
   "source": [
    "Open github.com. \n",
    "\n",
    "Click \"Sign in\" at the top right hand corner. \n",
    "\n",
    "<img src=\"../../../ILAS_seminars/intro to python/img/github_signup.png\" alt=\"Drawing\" style=\"width: 500px;\"/>\n"
   ]
  },
  {
   "cell_type": "markdown",
   "metadata": {},
   "source": [
    "Follow the steps to create an account, the same way as you would for a social media site for example.\n",
    "\n",
    "Choose a user name, email address, password.\n",
    "\n",
    "<img src=\"../../../ILAS_seminars/intro to python/img/github-signup.png\" alt=\"Drawing\" style=\"width: 300px;\"/>\n",
    "\n",
    "Use the confirmation email to complete your registration."
   ]
  },
  {
   "cell_type": "markdown",
   "metadata": {},
   "source": [
    "## Creating an Online GitHub Repository\n",
    "\n",
    "Now we are going to set up your first online repository. \n",
    "\n",
    "Click the + sign in the top right corner.\n",
    "\n",
    "Choose \"New repository\". \n",
    "\n",
    "<img src=\"../../../ILAS_seminars/intro to python/img/github_newrepo.png\" alt=\"Drawing\" style=\"width: 500px;\"/>"
   ]
  },
  {
   "cell_type": "markdown",
   "metadata": {},
   "source": [
    "Choose a repository name (e.g. Python Textbook, python_textbook, Intro_to_python)\n",
    "\n",
    "<img src=\"../../../ILAS_seminars/intro to python/img/github_namerepo.jpg\" alt=\"Drawing\" style=\"width: 300px;\"/>"
   ]
  },
  {
   "cell_type": "markdown",
   "metadata": {},
   "source": [
    "Leave the other settings as they are for now.\n",
    "\n",
    "We will learn about these later in the course. \n",
    "\n",
    "Click the button \"Create repository\".\n",
    "\n",
    "<img src=\"../../../ILAS_seminars/intro to python/img/github_create_repo.jpg\" alt=\"Drawing\" style=\"width: 300px;\"/>"
   ]
  },
  {
   "cell_type": "markdown",
   "metadata": {},
   "source": [
    "## Adding Files to an Online Github Repository\n",
    "We are now going to link your local repository (stored on the computer on the M drive) to your online repository (stored at github.com). \n",
    "\n",
    "In the terminal, make sure you are __inside__ the folder named ILAS_python.\n",
    "\n",
    "If you are not, then navigate to the folder using \n",
    "\n",
    ">`cd`\n",
    "\n"
   ]
  },
  {
   "cell_type": "markdown",
   "metadata": {},
   "source": [
    "Enter the username that you registered when setting up your account on GitHub:\n",
    "\n",
    ">`git config --global user.name \"username\"`\n",
    "\n",
    "Enter the email adress that you registered when setting up your account on GitHub:\n",
    "\n",
    ">`git config --global user.email \"your_email@youremail.com\"`"
   ]
  },
  {
   "cell_type": "markdown",
   "metadata": {},
   "source": [
    "Copy the URL of your repo from the \"Quick setup\" section. \n",
    "\n",
    "<img src=\"../../../ILAS_seminars/intro to python/img/github_copyurl.png\" alt=\"Drawing\" style=\"width: 300px;\"/>\n",
    "\n",
    "__NOTE__ \n",
    "<br>Earlier we copied the URL of __my repository__ (https://github.com/hphilamore/ILAS_python.git).\n",
    "<br>We used it to tell the computer where to copy files __from__.\n",
    "\n",
    "<br>Now we are copying the URL of __your repository__(https://github.com/yourGithub/yourRepo.git).\n",
    "<br>We will now use a similar procedure to tell the computer where it should copy files __to__."
   ]
  },
  {
   "cell_type": "markdown",
   "metadata": {
    "collapsed": true
   },
   "source": [
    "First we will disconnect your local repo from __my__ online repo.\n",
    "<br>The command `git remote rm` removes (`rm`) a remote (`remote`) URL from your local repository. \n",
    "<br>Type:\n",
    ">`git remote rm origin`\n",
    "\n",
    "(*origin* is a name that was given by default to the URL you cloned the repository from). \n",
    "\n"
   ]
  },
  {
   "cell_type": "markdown",
   "metadata": {},
   "source": [
    "Second we will connect your local repo to __your__ online repo.\n",
    "<br>The command `git remote add` connects (`add`) a remote (`remote`) URL to your local repository using:\n",
    "- a name for you remote (let's use origin, again) \n",
    "- a URL (the URL just just copied)\n",
    "<br>Type:\n",
    ">`git remote add origin` [PASTE COPIED URL HERE] "
   ]
  },
  {
   "cell_type": "markdown",
   "metadata": {},
   "source": [
    "Upload the textbook to your personal GitHub online repository.\n",
    "    \n",
    "<br>The command `git push -u` uploads (pushes) the contents of your local repository to a remote repository:\n",
    "- a remote name (ours is \"origin\") \n",
    "- a *branch* of your repository (this is a more advanced feature of github. We will use the default branch ony. It is called \"master\")\n",
    "<br>Type:\n",
    ">`git push -u origin master`\n",
    "\n"
   ]
  },
  {
   "cell_type": "markdown",
   "metadata": {},
   "source": [
    "Now look again at your online GitHub page.\n",
    "\n",
    "Click on the \"code\" tab.\n",
    "\n",
    "<img src=\"../../../ILAS_seminars/intro to python/img/github_code.png\" alt=\"Drawing\" style=\"width: 300px;\"/>\n",
    "\n",
    "The textbook should now have appeared in your online repository. "
   ]
  },
  {
   "cell_type": "markdown",
   "metadata": {},
   "source": [
    "## Writing Code Using Jupyter Notebook\n",
    "\n",
    "There are diffrent ways of writing and running Python code.\n",
    "\n",
    "For the first part of this course we will be writing code in the Python interactive execution environment, __Jupyte notebook__. \n",
    "\n",
    "A Jupyter notebook lets you write and execute Python code a web browser. \n",
    "\n",
    "Jupyter notebooks make it very easy to write and execute code in sections and immediately view the output of each section.   \n",
    "\n",
    "For this reason Jupyter notebooks are widely used in scientific computing.\n"
   ]
  },
  {
   "cell_type": "markdown",
   "metadata": {},
   "source": [
    "To launch Jupyter notebook go to:\n",
    "    \n",
    "Start >> Programs >> Programming >> JupyterNotebook\n",
    "\n",
    "and double click the Jupyter notebook icon to launch the application. "
   ]
  },
  {
   "cell_type": "markdown",
   "metadata": {},
   "source": [
    "In the window that opens, click through the file system to navigate to the folder ILAS_python which contains the interactive textbook that we will use on this course. \n",
    "\n",
    "The textbook is written as a Jupyter notebook; each chapter (or seminar) is a seperate .ipynb file.\n",
    "\n",
    "This format allows you to:\n",
    " - add to the textbook\n",
    " - run your code and view the outcome within the file\n",
    " \n",
    " <img src=\"../../../ILAS_seminars/intro to python/img/jupyter-file-browser.png\" alt=\"Drawing\" style=\"width: 500px;\"/>"
   ]
  },
  {
   "cell_type": "markdown",
   "metadata": {},
   "source": [
    "Double click on the file 0_Introduction.ipynb to open it.\n",
    "\n",
    "You will see the contents of the slides that you have been following today. \n",
    "\n",
    "Scroll down to find __THIS SLIDE__ in the notebook. \n",
    "\n",
    " <img src=\"../../../ILAS_seminars/intro to python/img/youarehere.png\" alt=\"Drawing\" style=\"width: 300px;\"/>"
   ]
  },
  {
   "cell_type": "markdown",
   "metadata": {},
   "source": [
    "At the top of the screen click:\n",
    "\n",
    "File >> New Notebook >> Python 3\n",
    "\n",
    "We will use this new notebook to learn how a Jupyter notebook works.\n",
    "\n"
   ]
  },
  {
   "cell_type": "markdown",
   "metadata": {},
   "source": [
    "A Jupyter notebook is made up of a number of cells. \n",
    "\n",
    "Each cell can contain Python code. \n",
    "\n",
    "To execute a cell:\n",
    "- Click on it (a green box will appear around it once selected)\n",
    "- Press \"shift\" + \"enter\"\n",
    "\n",
    "When executed: \n",
    "- the code in the cell will run\n",
    "- the output of the cell will be displayed beneath the cell. "
   ]
  },
  {
   "cell_type": "markdown",
   "metadata": {},
   "source": [
    "Let's execute from very simple code in your \n",
    "\n",
    "### Your First Python Code\n",
    "\n",
    "Python can be used like a calculator to do basic arithmetic.\n",
    "\n",
    "In the empty cell in the new notebook in the next tab of your web browser (Untitled) enter:\n",
    "<br> 1 + 2\n",
    "\n",
    "Press \"shift\" + \"enter\"\n",
    "\n",
    "Your notebook should look something like this:\n",
    "\n",
    "<img src=\"../../../ILAS_seminars/intro to python/img/jupyter_cell_one.png\" alt=\"Drawing\" style=\"width: 500px;\"/>"
   ]
  },
  {
   "cell_type": "markdown",
   "metadata": {},
   "source": [
    "In Python we can create variables that store values.\n",
    "\n",
    "In the next cell create the value `x` which has the value `2 + 3`:\n",
    "\n",
    "```python\n",
    "x = 2 + 3\n",
    "```\n",
    "\n",
    "To display the value of x we need to \"print\" it.\n",
    "\n",
    "Type `print(x)`.\n",
    "\n",
    "Press \"shift\" + \"enter\" to run the cell.\n",
    "\n",
    "Your notebook should look something like this:\n",
    "\n",
    "<img src=\"../../../ILAS_seminars/intro to python/img/jupyter_celltwo.png\" alt=\"Drawing\" style=\"width: 500px;\"/>\n",
    "\n"
   ]
  },
  {
   "cell_type": "markdown",
   "metadata": {},
   "source": [
    "Variables are shared between cells. \n",
    "\n",
    "Therefore, executing:\n",
    "\n",
    "```python\n",
    "y = x - 2\n",
    "print(y)\n",
    "```\n",
    "in the next cell\n",
    "\n",
    "should give the following result in your notebook:\n",
    "\n",
    "<img src=\"../../../ILAS_seminars/intro to python/img/jupyter_cell_three.png\" alt=\"Drawing\" style=\"width: 500px;\"/>\n",
    "\n"
   ]
  },
  {
   "cell_type": "markdown",
   "metadata": {},
   "source": [
    "Cells are executed in the order that the user runs them. \n",
    "\n",
    "By convention, Jupyter notebooks are __expected__ to be run from top to bottom. \n",
    "\n",
    "If you skip a cell or run the cells in a different order you may get unexpected behaviour.\n",
    "\n",
    "For example, in the next cell enter:\n",
    "```python\n",
    "x = 10\n",
    "```\n",
    "\n",
    "then re-run the cell above containing:\n",
    "```python\n",
    "y = x - 2\n",
    "print(y)\n",
    "\n",
    "```\n",
    "\n",
    "and you should see the value of y change. \n",
    "\n",
    "The original value of `x` has been replaced by the new definition `x = 10`.\n",
    "\n",
    "<img src=\"../../../ILAS_seminars/intro to python/img/jupyter_change_value.png\" alt=\"Drawing\" style=\"width: 500px;\"/>"
   ]
  },
  {
   "cell_type": "markdown",
   "metadata": {},
   "source": [
    "Now run the cell containing: \n",
    "    \n",
    "```python\n",
    "x = 2 + 3\n",
    "```\n",
    "then the cell containing:\n",
    "```python\n",
    "y = x - 2\n",
    "print(y)\n",
    "\n",
    "```\n",
    "and you will see the value of `y` change back to it's original value. \n",
    "\n",
    "<img src=\"../../../ILAS_seminars/intro to python/img/jupyter_value_change2.png\" alt=\"Drawing\" style=\"width: 500px;\"/>\n",
    "\n"
   ]
  },
  {
   "cell_type": "markdown",
   "metadata": {},
   "source": [
    "To run all the cells sequentially from top to bottom:\n",
    "\n",
    "Click Cell >> Run All\n",
    "\n",
    "This menu also contains other options for running cells. "
   ]
  },
  {
   "cell_type": "markdown",
   "metadata": {},
   "source": [
    "## Tracking changes using Git\n",
    "\n",
    "We are now going to:\n",
    " - use Git to record the changes you make to the textbook.\n",
    " - upload it to your online GitHub repository so that you can access it online. "
   ]
  },
  {
   "cell_type": "markdown",
   "metadata": {},
   "source": []
  },
  {
   "cell_type": "code",
   "execution_count": 36,
   "metadata": {},
   "outputs": [
    {
     "name": "stdout",
     "output_type": "stream",
     "text": [
      "This is a string.\n",
      "<class 'str'>\n"
     ]
    }
   ],
   "source": []
  },
  {
   "cell_type": "markdown",
   "metadata": {},
   "source": []
  },
  {
   "cell_type": "code",
   "execution_count": 37,
   "metadata": {},
   "outputs": [
    {
     "name": "stdout",
     "output_type": "stream",
     "text": [
      "i\n",
      "<class 'str'>\n"
     ]
    }
   ],
   "source": []
  },
  {
   "cell_type": "markdown",
   "metadata": {},
   "source": [
    "__Try it yourself__. In the cell below:\n",
    " - store the 5th character as a new variable\n",
    " - print the new variable\n",
    " - check that it is a string"
   ]
  },
  {
   "cell_type": "code",
   "execution_count": 38,
   "metadata": {
    "collapsed": true
   },
   "outputs": [],
   "source": [
    "# Store the 7th character as a new variable\n",
    "\n",
    "# Print the new variable\n",
    "\n",
    "# Check the type of the new variable"
   ]
  },
  {
   "cell_type": "markdown",
   "metadata": {},
   "source": [
    "We can extract a *range of* characters as a new string by specifiying the index to start at and the index to stop at:\n",
    "\n"
   ]
  },
  {
   "cell_type": "code",
   "execution_count": 39,
   "metadata": {},
   "outputs": [
    {
     "name": "stdout",
     "output_type": "stream",
     "text": [
      "This i\n",
      "<class 'str'>\n"
     ]
    }
   ],
   "source": [
    "# Store the first 6 characters, print and check type\n",
    "s = my_string[0:6]\n",
    "\n",
    "print(s)\n",
    "\n",
    "print(type(s))"
   ]
  },
  {
   "cell_type": "markdown",
   "metadata": {},
   "source": [
    "$$\n",
    "my\\_string = \n",
    "\\underbrace{\n",
    "\\underbrace{t}_{\\text{0}} \\\n",
    "\\underbrace{h}_{\\text{1}}\\\n",
    "\\underbrace{i}_{\\text{2}}\\\n",
    "\\underbrace{s}_{\\text{3}}\\\n",
    "\\underbrace{}_{\\text{4}}\\\n",
    "\\underbrace{i}_{\\text{5}}\\\n",
    "}_{\\text{s}}\n",
    "\\underbrace{s}_{\\text{6}}\\\n",
    "\\underbrace{}_{\\text{7}}\\\n",
    "\\underbrace{a}_{\\text{8}}\\\n",
    "\\underbrace{}_{\\text{9}}\\\n",
    "\\underbrace{s}_{\\text{10}}\\\n",
    "\\underbrace{t}_{\\text{11}}\\\n",
    "\\underbrace{r}_{\\text{12}}\\\n",
    "\\underbrace{i}_{\\text{13}}\\\n",
    "\\underbrace{n}_{\\text{14}} \\\n",
    "\\underbrace{g}_{\\text{15}} \\\n",
    "\\underbrace{.}_{\\text{16}} \\\n",
    "$$"
   ]
  },
  {
   "cell_type": "markdown",
   "metadata": {},
   "source": [
    "__Note:__ \n",
    " - The space between the first and second word is counted as the 5th character. Spaces between words are counted as characters.\n",
    " - The \"stop\" value is not included in the range. "
   ]
  },
  {
   "cell_type": "code",
   "execution_count": 40,
   "metadata": {},
   "outputs": [
    {
     "name": "stdout",
     "output_type": "stream",
     "text": [
      "ing.\n"
     ]
    }
   ],
   "source": [
    "# Store the last 4 characters and print\n",
    "s = my_string[-4:]\n",
    "print(s)"
   ]
  },
  {
   "cell_type": "markdown",
   "metadata": {},
   "source": [
    "$$\n",
    "my\\_string = \n",
    "\\underbrace{t}_{\\text{-17}} \\\n",
    "\\underbrace{h}_{\\text{-16}}\\\n",
    "\\underbrace{i}_{\\text{-15}}\\\n",
    "\\underbrace{s}_{\\text{-14}}\\\n",
    "\\underbrace{}_{\\text{-13}}\\\n",
    "\\underbrace{i}_{\\text{-12}}\\\n",
    "\\underbrace{s}_{\\text{-11}}\\\n",
    "\\underbrace{}_{\\text{-10}}\\\n",
    "\\underbrace{a}_{\\text{-9}}\\\n",
    "\\underbrace{}_{\\text{-8}}\\\n",
    "\\underbrace{s}_{\\text{-7}}\\\n",
    "\\underbrace{t}_{\\text{-6}}\\\n",
    "\\underbrace{r}_{\\text{-5}}\\\n",
    "\\underbrace{\n",
    "\\underbrace{i}_{\\text{-4}}\\\n",
    "\\underbrace{n}_{\\text{-3}} \\\n",
    "\\underbrace{g}_{\\text{-2}} \\\n",
    "\\underbrace{.}_{\\text{-1}} \\\n",
    "}_{\\text{s}}\n",
    "$$"
   ]
  },
  {
   "cell_type": "markdown",
   "metadata": {},
   "source": [
    "__Note:__ \n",
    " - The second value in this range is empty.\n",
    " - This means the range ends at the end of the string."
   ]
  },
  {
   "cell_type": "markdown",
   "metadata": {},
   "source": [
    "__Try it yourself.__ In the cell below:\n",
    "\n",
    "  - store the last 6 characters\n",
    "  - print your new variable\n",
    "\n"
   ]
  },
  {
   "cell_type": "code",
   "execution_count": 41,
   "metadata": {
    "collapsed": true
   },
   "outputs": [],
   "source": [
    "# Store the last 6 characters as a new variable\n",
    "\n",
    "# Print the new varaible"
   ]
  },
  {
   "cell_type": "markdown",
   "metadata": {},
   "source": [
    "__Try it yourself__. In the cell below:\n",
    " - store 6 characters, starting with the 2nd character; \"his is\"\n",
    " - print your new variable"
   ]
  },
  {
   "cell_type": "code",
   "execution_count": 42,
   "metadata": {
    "collapsed": true
   },
   "outputs": [],
   "source": [
    "# Store 6 characters, starting with \"h\"\n",
    "\n",
    "# Print the new varaible"
   ]
  },
  {
   "cell_type": "markdown",
   "metadata": {},
   "source": [
    "Try an alternative way of extracting the same string. \n",
    "Run the cell again to check your answer."
   ]
  },
  {
   "cell_type": "markdown",
   "metadata": {},
   "source": [
    "__Example:__ Add strings together. "
   ]
  },
  {
   "cell_type": "code",
   "execution_count": 43,
   "metadata": {},
   "outputs": [
    {
     "name": "stdout",
     "output_type": "stream",
     "text": [
      "Python\n"
     ]
    }
   ],
   "source": [
    "start = \"Py\"\n",
    "\n",
    "end = \"thon\"\n",
    "\n",
    "word = start + end\n",
    "\n",
    "print(word)"
   ]
  },
  {
   "cell_type": "markdown",
   "metadata": {},
   "source": [
    "__Example:__ Add a section of a string to a section of another string:"
   ]
  },
  {
   "cell_type": "code",
   "execution_count": 44,
   "metadata": {},
   "outputs": [
    {
     "name": "stdout",
     "output_type": "stream",
     "text": [
      "Python\n"
     ]
    }
   ],
   "source": [
    "start = \"Pythagorus\"\n",
    "\n",
    "end = \"marathon\"\n",
    "\n",
    "word = start[:2] + end[-4:]\n",
    "\n",
    "print(word)"
   ]
  },
  {
   "cell_type": "markdown",
   "metadata": {
    "collapsed": true
   },
   "source": [
    "Notice that we can use a blank space or a 0 to index the first character; either is OK.\n",
    "\n",
    "__Try it yourself:__ Add the variables `start` and `end` to make a sentence."
   ]
  },
  {
   "cell_type": "code",
   "execution_count": 45,
   "metadata": {
    "collapsed": true
   },
   "outputs": [],
   "source": [
    "start = \"My name is\"\n",
    "\n",
    "end = \"Mari\"\n",
    "\n",
    "# Add start and end to make a new variable with the name sentence"
   ]
  },
  {
   "cell_type": "markdown",
   "metadata": {},
   "source": [
    "Notice that we need to add a space to seperate the words \"is\" and \"Mari\". \n",
    "We do this using a pair of quotation marks, seperated by a space. "
   ]
  },
  {
   "cell_type": "code",
   "execution_count": 46,
   "metadata": {
    "collapsed": true
   },
   "outputs": [],
   "source": [
    "sentence = start + \" \" + end"
   ]
  },
  {
   "cell_type": "markdown",
   "metadata": {},
   "source": [
    "## 8.4 Numeric types\n",
    "\n",
    "Numeric types are particlarly important when solving scientific and engineering problems. \n",
    "\n",
    "Python 3 has three numerical types:\n",
    "\n",
    "- integers (`int`)\n",
    "- floating point numbers (`float`)\n",
    "- complex numbers (`complex`)\n",
    "\n",
    "__Integers:__Whole numbers.\n",
    "__Floating point:__Numbers with a decimal place.\n",
    "__Complex numbers:__Numbers with a real and imaginary part.\n",
    "\n",
    "Python determines the type of a number from the way we input it.\n",
    "\n",
    "e.g. It will decide that a number is an `int` if we assign a number with no decimal place:\n",
    "\n",
    "__Try it for yourself__ In the cell below:\n",
    " - Create a variable with the value 3.1\n",
    " - Print the variable type \n",
    " \n",
    " - Create a variable with the value 2\n",
    " - Print the variable type\n",
    " "
   ]
  },
  {
   "cell_type": "code",
   "execution_count": 47,
   "metadata": {
    "collapsed": true
   },
   "outputs": [],
   "source": [
    "# Create a variable with the value 3.1\n",
    "\n",
    "# Print the variable type\n",
    "\n",
    "# Create a variable with the value 2\n",
    "\n",
    "# Print the variable type "
   ]
  },
  {
   "cell_type": "markdown",
   "metadata": {},
   "source": [
    "__How do you think you could re-write the number 2 so that Python makes it a float?__\n",
    "\n",
    "Try changing the way 2 is written and run the cell again to check that the variable type has changed. "
   ]
  },
  {
   "cell_type": "markdown",
   "metadata": {},
   "source": [
    "## 8.4.1 Integers\n",
    "\n",
    " - Integers (`int`) are whole numbers.\n",
    " - They can be postive or negative. \n",
    " - Integers should be used when a value can only take on a whole number <br> e.g. the year, or the number of students following this course. "
   ]
  },
  {
   "cell_type": "markdown",
   "metadata": {},
   "source": [
    "##  8.4.2 Floating point \n",
    "\n",
    "Most engineering calculations involve numbers that cannot be represented as integers. \n",
    "\n",
    "Numbers that have a decimal point are automatically stored using the `float` type. "
   ]
  },
  {
   "cell_type": "markdown",
   "metadata": {},
   "source": [
    "A number is automatically classed as a float:\n",
    "- if it has a decimal point\n",
    "- if it is written using scientific notation (i.e. using e or E - either is fine)\n",
    "\n",
    "In scientific notation, the letter e (or E) symbolises the power of ten in the exponent. \n",
    "\n",
    "For example:\n",
    "\n",
    "$$\n",
    "10.45e2 = 10.45 \\times 10^{-2} = 1045\n",
    "$$"
   ]
  },
  {
   "cell_type": "markdown",
   "metadata": {},
   "source": [
    "Examples using scientific notation."
   ]
  },
  {
   "cell_type": "code",
   "execution_count": 48,
   "metadata": {},
   "outputs": [
    {
     "name": "stdout",
     "output_type": "stream",
     "text": [
      "2.0 <class 'float'>\n",
      "2000.0\n",
      "2100.0\n"
     ]
    }
   ],
   "source": [
    "a = 2e0\n",
    "print(a, type(a))\n",
    "\n",
    "b = 2e3\n",
    "print(b)\n",
    "\n",
    "c = 2.1E3\n",
    "print(c)"
   ]
  },
  {
   "cell_type": "markdown",
   "metadata": {},
   "source": [
    "__Try it yourself__ \n",
    "\n",
    "In the cell below:\n",
    "\n",
    "- create a floating point variable for each number shown using scientific notation.\n",
    "- print each variable to check it matches the number given in the comment. "
   ]
  },
  {
   "cell_type": "code",
   "execution_count": 49,
   "metadata": {
    "collapsed": true
   },
   "outputs": [],
   "source": [
    "# Create a variable with value 62\n",
    "\n",
    "# Print the variable\n",
    "\n",
    "# Create a variable with value 35,000\n",
    "\n",
    "# Print the variable\n",
    "\n",
    "# Are there any other ways you could have expressed this? "
   ]
  },
  {
   "cell_type": "markdown",
   "metadata": {},
   "source": [
    "## 8.4.3 Complex numbers\n",
    "\n",
    "Complex numbers have real and imaginary parts. \n",
    "\n",
    "We can declare a complex number in Python by adding `j` or `J` after the complex part of the number:\n",
    "\n",
    "&nbsp; &nbsp; __Standard mathematical notation.__ &nbsp; &nbsp; &nbsp; &nbsp; &nbsp; &nbsp; &nbsp; &nbsp;__Python notation__\n",
    "\n",
    "&nbsp; &nbsp; &nbsp; &nbsp;\n",
    "$ a = \\underbrace{3}_{\\text{real part}} + \\underbrace{4i}_{\\text{imaginary part}} $        &nbsp; &nbsp; &nbsp; &nbsp; &nbsp; &nbsp; &nbsp; &nbsp; &nbsp; &nbsp; &nbsp; &nbsp; &nbsp; &nbsp;\n",
    "`a = 3 + 4j` &nbsp; &nbsp; __or__ &nbsp; &nbsp; `a = 3 + 4J`"
   ]
  },
  {
   "cell_type": "code",
   "execution_count": 50,
   "metadata": {},
   "outputs": [
    {
     "name": "stdout",
     "output_type": "stream",
     "text": [
      "(4-3j) <class 'complex'>\n"
     ]
    }
   ],
   "source": [
    "b = 4 - 3j\n",
    "print(b, type(b))"
   ]
  },
  {
   "cell_type": "markdown",
   "metadata": {},
   "source": [
    "__Try it yourself__\n",
    "In the cell below:\n",
    " - re-write the complex numbers using Python.\n",
    " - print the variable and the variable type to check your answers.\n",
    "\n",
    "\n"
   ]
  },
  {
   "cell_type": "code",
   "execution_count": 51,
   "metadata": {
    "collapsed": true
   },
   "outputs": [],
   "source": [
    "# a = 3 + 2i\n",
    "\n",
    "# b = 7i"
   ]
  },
  {
   "cell_type": "markdown",
   "metadata": {},
   "source": [
    "# 8.5 Type conversions (casting)\n",
    "\n",
    "We often want to change between types. \n",
    "\n",
    "Sometimes we need to make sure two variables have the same type in order to perform an operation on them. \n",
    "\n",
    "Sometimes we recieve data of a type that is not directly usable by the program.\n",
    "\n",
    "This is called *type conversion* or *type casting*. \n",
    "\n",
    "## 8.5.1 Automatic Type Conversion\n",
    "\n",
    "If we add two integers, the results will be an integer:"
   ]
  },
  {
   "cell_type": "code",
   "execution_count": 52,
   "metadata": {},
   "outputs": [
    {
     "name": "stdout",
     "output_type": "stream",
     "text": [
      "19 <class 'int'>\n"
     ]
    }
   ],
   "source": [
    "a = 4     # int\n",
    "b = 15    # int\n",
    "\n",
    "c = a + b\n",
    "\n",
    "print(c, type(c))"
   ]
  },
  {
   "cell_type": "markdown",
   "metadata": {},
   "source": [
    "However, if we add an int and a float, the result will be a float:"
   ]
  },
  {
   "cell_type": "code",
   "execution_count": 53,
   "metadata": {},
   "outputs": [
    {
     "name": "stdout",
     "output_type": "stream",
     "text": [
      "19.0 <class 'float'>\n"
     ]
    }
   ],
   "source": [
    "a = 4     # int\n",
    "b = 15.0  # float\n",
    "\n",
    "c = a + b\n",
    "\n",
    "print(c, type(c))"
   ]
  },
  {
   "cell_type": "markdown",
   "metadata": {},
   "source": [
    "If we divide two integers, the result will be a `float`:"
   ]
  },
  {
   "cell_type": "code",
   "execution_count": 54,
   "metadata": {},
   "outputs": [
    {
     "name": "stdout",
     "output_type": "stream",
     "text": [
      "4.0 <class 'float'>\n"
     ]
    }
   ],
   "source": [
    "a = 16  # int\n",
    "b = 4   # int\n",
    "\n",
    "c = a/b\n",
    "\n",
    "print(c, type(c))"
   ]
  },
  {
   "cell_type": "markdown",
   "metadata": {},
   "source": [
    "When dividing two integers with floor division (or 'integer division') using `//`, the result will be an `int` e.g."
   ]
  },
  {
   "cell_type": "code",
   "execution_count": 55,
   "metadata": {},
   "outputs": [
    {
     "name": "stdout",
     "output_type": "stream",
     "text": [
      "5 <class 'int'>\n"
     ]
    }
   ],
   "source": [
    "a = 16   # int\n",
    "b = 3    # int\n",
    "\n",
    "c = a//b\n",
    "\n",
    "print(c, type(c))"
   ]
  },
  {
   "cell_type": "markdown",
   "metadata": {},
   "source": [
    "In general:\n",
    " - operations that mix an `int` and `float` will generate a `float`.\n",
    " - operations that mix an `int` or a `float` with `complex` will generate a `complex` type. \n",
    " \n",
    " \n",
    "If in doubt, use `type` to experiment and check.  "
   ]
  },
  {
   "cell_type": "markdown",
   "metadata": {},
   "source": [
    "### 8.5.2. Explicit Type Conversion\n",
    "\n",
    "We can explicitly change (or *cast*) the type.\n",
    "\n",
    "To cast variable a as a different type, write the name of the type, followed by the variable to convert in brackets. \n",
    "\n",
    "__Example: Cast from an int to a float:__"
   ]
  },
  {
   "cell_type": "code",
   "execution_count": 56,
   "metadata": {},
   "outputs": [
    {
     "name": "stdout",
     "output_type": "stream",
     "text": [
      "1.0 <class 'float'>\n"
     ]
    }
   ],
   "source": [
    "a = 1\n",
    "\n",
    "a = float(a)\n",
    "\n",
    "print(a, type(a))"
   ]
  },
  {
   "cell_type": "code",
   "execution_count": 57,
   "metadata": {},
   "outputs": [
    {
     "name": "stdout",
     "output_type": "stream",
     "text": [
      "1.0 <class 'float'>\n",
      "1.0 <class 'float'>\n"
     ]
    }
   ],
   "source": [
    "# If we use a new variable name the original value is unchnaged.\n",
    "b = float(a)      \n",
    "\n",
    "print(a, type(a))\n",
    "print(b, type(b))"
   ]
  },
  {
   "cell_type": "code",
   "execution_count": 58,
   "metadata": {},
   "outputs": [
    {
     "name": "stdout",
     "output_type": "stream",
     "text": [
      "1.0 <class 'float'>\n"
     ]
    }
   ],
   "source": [
    "# If we use the orignal name, the variable is updated. \n",
    "a = float(a)       \n",
    "\n",
    "print(a, type(a))"
   ]
  },
  {
   "cell_type": "markdown",
   "metadata": {},
   "source": [
    "__Try it yourself.__\n",
    "In the cell below:\n",
    "- cast variable `a` from a float back to an int. \n",
    "- print variable `a` and its type to check your answer "
   ]
  },
  {
   "cell_type": "code",
   "execution_count": 59,
   "metadata": {
    "collapsed": true
   },
   "outputs": [],
   "source": [
    "# cast a as an int\n",
    "\n",
    "# print a and its type "
   ]
  },
  {
   "cell_type": "markdown",
   "metadata": {},
   "source": [
    "##### Note: Take care when casting as the value of the variable may change as well as the type.\n",
    "\n",
    "In the cell below:\n",
    "1. cast `i` as an `int` and print `i`.\n",
    "1. cast `i` back to a `float` and print `i`."
   ]
  },
  {
   "cell_type": "code",
   "execution_count": 60,
   "metadata": {},
   "outputs": [
    {
     "name": "stdout",
     "output_type": "stream",
     "text": [
      "1.3 <class 'float'>\n"
     ]
    }
   ],
   "source": [
    "i = 1.3                  # float\n",
    "print(i, type(i))\n",
    "\n",
    "# cast i as an int and print it\n",
    "\n",
    "# cast i back to a float and print it"
   ]
  },
  {
   "cell_type": "markdown",
   "metadata": {},
   "source": [
    "What has happened to the original value of `i`?\n",
    "\n",
    "Note that rounding is applied when converting from a `float` to an `int`; the values after the decimal point are discarded. \n",
    "\n",
    "This type of rounding is called 'round towards zero' or 'truncation'."
   ]
  },
  {
   "cell_type": "markdown",
   "metadata": {},
   "source": [
    "A common task is converting numerical types to-and-from strings. \n",
    "\n",
    "Examples:\n",
    " - Reading a number from a file where it appears as as a string\n",
    " - User input might be given as a string. \n",
    "\n",
    "__Example: Cast from a float to a string:__\n"
   ]
  },
  {
   "cell_type": "code",
   "execution_count": 61,
   "metadata": {},
   "outputs": [
    {
     "name": "stdout",
     "output_type": "stream",
     "text": [
      "1.023 <class 'str'>\n"
     ]
    }
   ],
   "source": [
    "a = 1.023\n",
    "\n",
    "b = str(a)\n",
    "\n",
    "print(b, type(b))"
   ]
  },
  {
   "cell_type": "markdown",
   "metadata": {},
   "source": [
    "__Example: Cast from a string to a float:__\n",
    "\n",
    "It is important to cast string numbers as either `int`s or `float`s for them to perform correctly in algebraic expressions.\n",
    "\n",
    "Consider the example below:"
   ]
  },
  {
   "cell_type": "code",
   "execution_count": 62,
   "metadata": {},
   "outputs": [
    {
     "name": "stdout",
     "output_type": "stream",
     "text": [
      "As string numbers:\n",
      "15.07 + 18.07 =  15.0718.07\n",
      "When cast from string to float:\n",
      "15.07 + 18.07 =  33.14\n"
     ]
    }
   ],
   "source": [
    "a = \"15.07\"\n",
    "b = \"18.07\"\n",
    "\n",
    "print(\"As string numbers:\")\n",
    "print(\"15.07 + 18.07 = \", a + b)\n",
    "      \n",
    "print(\"When cast from string to float:\")\n",
    "print(\"15.07 + 18.07 = \", float(a) + float(b))\n"
   ]
  },
  {
   "cell_type": "markdown",
   "metadata": {},
   "source": [
    "Note from the cell above that numbers expressed as strings can be cast as floats *within* algebraic expressions."
   ]
  },
  {
   "cell_type": "markdown",
   "metadata": {},
   "source": [
    "Only numerical values can be cast as numerical types.\n",
    "e.g. Trying to cast the string `four` as an integer causes an error:"
   ]
  },
  {
   "cell_type": "code",
   "execution_count": 63,
   "metadata": {},
   "outputs": [
    {
     "ename": "ValueError",
     "evalue": "could not convert string to float: 'four'",
     "output_type": "error",
     "traceback": [
      "\u001b[0;31m---------------------------------------------------------------------------\u001b[0m",
      "\u001b[0;31mValueError\u001b[0m                                Traceback (most recent call last)",
      "\u001b[0;32m<ipython-input-63-3277840d9888>\u001b[0m in \u001b[0;36m<module>\u001b[0;34m()\u001b[0m\n\u001b[0;32m----> 1\u001b[0;31m \u001b[0mf\u001b[0m \u001b[0;34m=\u001b[0m \u001b[0mfloat\u001b[0m\u001b[0;34m(\u001b[0m\u001b[0;34m\"four\"\u001b[0m\u001b[0;34m)\u001b[0m\u001b[0;34m\u001b[0m\u001b[0m\n\u001b[0m",
      "\u001b[0;31mValueError\u001b[0m: could not convert string to float: 'four'"
     ]
    }
   ],
   "source": [
    "f = float(\"four\")"
   ]
  },
  {
   "cell_type": "markdown",
   "metadata": {},
   "source": [
    "## 9. Review Exercises\n",
    "Here are a series of short engineering problems for you to practise each of the new Python skills that you have learnt today. "
   ]
  },
  {
   "cell_type": "markdown",
   "metadata": {
    "collapsed": true
   },
   "source": [
    "### 9.1 Review Excercise: Gravitational Potential\n",
    "The gravitational potential, $V$, of a particle of mass $m$ at a distance $r$ from a body of mass $M$, is:\n",
    "\n",
    "$$\n",
    "V = \\frac{G M m}{r}\n",
    "$$\n",
    "\n",
    "In the cell below, solve for $V$ when:\n",
    "\n",
    "$G$ = *gravitational constant* = 6.674 \\times 10^{-11}$ Nm$^{2}$kg$^{-2}$.\n",
    "\n",
    "$M = 1.65 \\times 10^{12}$kg\n",
    "\n",
    "$m = 6.1 \\times 10^2$kg\n",
    "\n",
    "$r = 7.0 \\times 10^3$ m\n",
    "\n",
    "Assign variables for $G, M, m$ and $r$ before solving. Express the numbers using __scientific notation__."
   ]
  },
  {
   "cell_type": "code",
   "execution_count": null,
   "metadata": {
    "collapsed": true
   },
   "outputs": [],
   "source": [
    "# Gravitational Potential"
   ]
  },
  {
   "cell_type": "markdown",
   "metadata": {},
   "source": [
    "### 9.2 Review Exercise: Fahrenheit to Celsius\n",
    "\n",
    "Degrees Fahrenheit ($T_F$) are converted to degrees Celsius ($T_c$) using the formula:\n",
    "\n",
    "$$\n",
    "T_c = 5(T_f - 32)/9\n",
    "$$\n",
    "\n",
    "In the cell below, write a program to convert 78 degrees Fahrenheit to degrees Celsius and print the result.\n",
    "\n",
    "Write your program such that you can easily change the input temperature in Fahrenheit and re-calculate the answer."
   ]
  },
  {
   "cell_type": "code",
   "execution_count": null,
   "metadata": {
    "collapsed": true
   },
   "outputs": [],
   "source": [
    "# Convert degrees Fahrenheit to degrees Celsius"
   ]
  },
  {
   "cell_type": "markdown",
   "metadata": {},
   "source": [
    "### 9.3 Review Exercise: Volume of a Cone\n",
    "The volume of a cone is:\n",
    "$$\n",
    "V = \\frac{1}{3}(base \\ area)\\times(perpendicular \\ height)\n",
    "$$\n",
    "\n",
    "![title](../../../ILAS_seminars/intro to python/img/cone.png)\n",
    "\n",
    "In the cell below, find the internal volume of a cone of internal dimensions:\n",
    "\n",
    "base radius, $r = 5cm$\n",
    "\n",
    "perpendicular height, $h = 15cm$\n",
    "\n",
    "Assign variables for $r$ and $h$ before solving."
   ]
  },
  {
   "cell_type": "code",
   "execution_count": null,
   "metadata": {
    "collapsed": true
   },
   "outputs": [],
   "source": [
    "pi = 3.142\n",
    "# Internal volume\n",
    "\n",
    "r = 2.5\n",
    "h = 15\n",
    "v = (1/3) * pi*r**2 * h\n",
    "print(v)"
   ]
  },
  {
   "cell_type": "markdown",
   "metadata": {},
   "source": [
    "The cone is held upside down and filled with liquid.\n",
    "\n",
    "The liquid is then transferred to a hollow cylinder.\n",
    "\n",
    "Base radius of cylinder, $r_c = 4cm$.\n",
    "\n",
    "<img src=\"../../../ILAS_seminars/intro to python/img/cone-cyl.gif\" alt=\"Drawing\" style=\"width: 200px;\"/>\n",
    "\n",
    "The volume of liquid in the cylinder is:\n",
    "\n",
    "$V = (base \\ area)\\times(height \\ of \\ liquid)$\n",
    "\n",
    "\n",
    "In the cell below, find the height of the liquid in the cylinder?\n",
    "\n",
    "Assign a variables for $r_c$ before solving."
   ]
  },
  {
   "cell_type": "code",
   "execution_count": null,
   "metadata": {
    "collapsed": true
   },
   "outputs": [],
   "source": [
    "# H = height of liquid in the cylinder\n",
    "\n",
    "rc = 4\n",
    "\n",
    "H = v / (pi*rc**2)\n",
    "print(pi*rc**2)\n",
    "print(H)"
   ]
  },
  {
   "cell_type": "markdown",
   "metadata": {},
   "source": [
    "The total height of the cyclinder, $H_{tot}$ is 10cm.\n",
    "\n",
    "In the cell below, use a __comparison operator__ (Section 7.1) to show if the height of the liquid, $H$, is more than half the total height of the cylinder.  "
   ]
  },
  {
   "cell_type": "code",
   "execution_count": null,
   "metadata": {
    "collapsed": true
   },
   "outputs": [],
   "source": [
    "# Is the height of the liquid more than half the total height of the cylinder?\n",
    "Htot = 10\n",
    "print(H>(Htot/2))"
   ]
  },
  {
   "cell_type": "markdown",
   "metadata": {},
   "source": [
    "Lastly, go back and change the radius of the __cone__ to 2.5cm. \n",
    "\n",
    "Re-run the cells to observe how you can quickly re-run calculations using different initial values. "
   ]
  },
  {
   "cell_type": "markdown",
   "metadata": {},
   "source": [
    "### 9.4 Review Exercise: Arithmetic with Strings\n",
    "__(A)__ \n",
    "\n",
    "In the cell below, print a new string whose:\n",
    " - first 3 letters are the last 3 letters of `a` \n",
    " - last 3 letters are the first 3 letters of `b` "
   ]
  },
  {
   "cell_type": "code",
   "execution_count": null,
   "metadata": {
    "collapsed": true
   },
   "outputs": [],
   "source": [
    "a = \"orangutans\"\n",
    "b = \"werewolves\""
   ]
  },
  {
   "cell_type": "markdown",
   "metadata": {},
   "source": [
    "__(B)__ \n",
    "\n",
    "In the cell below, use `c` to make a new string that says: `programming`."
   ]
  },
  {
   "cell_type": "code",
   "execution_count": null,
   "metadata": {
    "collapsed": true
   },
   "outputs": [],
   "source": [
    "c = \"programme\""
   ]
  },
  {
   "cell_type": "markdown",
   "metadata": {},
   "source": [
    "__(C)__ \n",
    "\n",
    "In the cell below create and print a new variable, `f`:\n",
    "\n",
    "$$\n",
    "f = (numerical \\ value \\ of \\ d) +  (numerical \\ value \\ of \\ e)\n",
    "$$\n",
    "\n",
    "using standard arithmetic. "
   ]
  },
  {
   "cell_type": "code",
   "execution_count": null,
   "metadata": {
    "collapsed": true
   },
   "outputs": [],
   "source": [
    "d = \"3.12\"\n",
    "e = \"7.41\"\n",
    "\n",
    "f = float(d) + float(e)\n",
    "f"
   ]
  },
  {
   "cell_type": "markdown",
   "metadata": {},
   "source": [
    "Use __shortcut notation__ (Section 4) to update the value of `f`.\n",
    "The new value of f should equal the __remainder (or modulus)__ when f is divided by 3."
   ]
  },
  {
   "cell_type": "code",
   "execution_count": null,
   "metadata": {
    "collapsed": true
   },
   "outputs": [],
   "source": [
    "# What is the remainder (modulus) when f is divided by 3\n",
    "f"
   ]
  },
  {
   "cell_type": "markdown",
   "metadata": {},
   "source": [
    "In the cell below, cast f as an integer type. "
   ]
  },
  {
   "cell_type": "code",
   "execution_count": null,
   "metadata": {
    "collapsed": true
   },
   "outputs": [],
   "source": [
    "# f expressed as an integer"
   ]
  },
  {
   "cell_type": "code",
   "execution_count": null,
   "metadata": {
    "collapsed": true
   },
   "outputs": [],
   "source": []
  },
  {
   "cell_type": "markdown",
   "metadata": {},
   "source": [
    "## 10. Updating your git repository\n",
    "\n",
    "You have made several changes to your interactive textbook.\n",
    "\n",
    "The final thing we are going to do is add these changes to your online repository so that:\n",
    " - I can check your progress\n",
    " - You can access the changes from outside of the university server. "
   ]
  },
  {
   "cell_type": "markdown",
   "metadata": {
    "collapsed": true
   },
   "source": [
    "# Summary\n",
    "\n",
    "- We can perform simple *arithmetic operations* in Python (+, -, $\\times$, $\\divide$.....)\n",
    "- We can *assign* values to variables.\n",
    "- Expressions containing multiple operators obey precedence when executing operations.\n",
    "- *Comparison operators* (==, !=, <, >....) compare two variables.\n",
    "- The outcome of a comparison is a *Boolean* (True or False) value.\n",
    "- *Logical operators* (`and`, `or`) compares the outcomes of two comparison operations.\n",
    "- The outcome of a logical operation is a *Boolean* (True or False) value.\n",
    "- The logical `not` operator returns the inverse Boolean value of a comparison.\n",
    "- Every variable has a type (int, float, string....).\n",
    "- A type is automatically assigned when a variable is created.\n",
    "- Python's type() function can be used to determine the type of a variable.\n",
    "-  The data type of a variable can be converted by casting (int(), float()....)"
   ]
  },
  {
   "cell_type": "code",
   "execution_count": null,
   "metadata": {
    "collapsed": true
   },
   "outputs": [],
   "source": []
  }
 ],
 "metadata": {
  "kernelspec": {
   "display_name": "env",
   "language": "python",
   "name": "env"
  },
  "language_info": {
   "codemirror_mode": {
    "name": "ipython",
    "version": 3
   },
   "file_extension": ".py",
   "mimetype": "text/x-python",
   "name": "python",
   "nbconvert_exporter": "python",
   "pygments_lexer": "ipython3",
   "version": "3.5.3"
  }
 },
 "nbformat": 4,
 "nbformat_minor": 2
}
