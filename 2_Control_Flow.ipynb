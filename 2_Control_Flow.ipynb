{
 "cells": [
  {
   "cell_type": "code",
   "execution_count": 42,
   "metadata": {},
   "outputs": [
    {
     "data": {
      "text/html": [
       "<style>\n",
       "\n",
       "body {\n",
       " counter-reset: h2counter;\n",
       "}\n",
       "h1 {\n",
       " counter-reset: h2counter;\n",
       "}\n",
       "h2:before {\n",
       " content: counter(h2counter) \".\\0000a0\\0000a0\";\n",
       " counter-increment: h2counter;\n",
       " counter-reset: h3counter;\n",
       "}\n",
       "\n",
       "\n",
       "</style>\n"
      ],
      "text/plain": [
       "<IPython.core.display.HTML object>"
      ]
     },
     "execution_count": 42,
     "metadata": {},
     "output_type": "execute_result"
    }
   ],
   "source": [
    "from IPython.core.display import HTML\n",
    "def css_styling():\n",
    "    styles = open(\"./styles/custom.css\", \"r\").read()\n",
    "    return HTML(styles)\n",
    "css_styling()"
   ]
  },
  {
   "cell_type": "markdown",
   "metadata": {
    "collapsed": true
   },
   "source": [
    "<h1>Control Flow</h1> \n",
    "\n",
    "<h1>Lesson Goal</h1>\n",
    "\n",
    "Compose simple programs to control the flow with which the operators we have studied so far are executed.  \n",
    "\n",
    "\n",
    "<h1>Objectives</h1>\n",
    "\n",
    "Use control __statements__ and  __loops__ to determine the flow of a program. \n"
   ]
  },
  {
   "cell_type": "markdown",
   "metadata": {},
   "source": [
    "<h2>Control Statements</h2>\n",
    "In the last seminar we looked at a simple computer program that returned Boolean (True or False) variables. \n",
    "\n",
    "Based on the current time of day, the program answers two questions:\n",
    "\n",
    "\n",
    ">__Is it lunchtime?__\n",
    "\n",
    ">`True`\n",
    "\n",
    "\n",
    "if it is lunch time.\n",
    "\n",
    ">__Is it time for work?__\n",
    "\n",
    ">`True`\n",
    "\n",
    "if it is within working hours."
   ]
  },
  {
   "cell_type": "code",
   "execution_count": 43,
   "metadata": {},
   "outputs": [
    {
     "name": "stdout",
     "output_type": "stream",
     "text": [
      "Is it lunchtime?\n",
      "True\n",
      "Is it time for work?\n",
      "False\n"
     ]
    }
   ],
   "source": [
    "time = 13.05          # current time\n",
    "\n",
    "work_starts = 8.00    # time work starts \n",
    "work_ends =  17.00    # time work ends\n",
    "\n",
    "lunch_starts = 13.00  # time lunch starts\n",
    "lunch_ends =   14.00  # time lunch ends\n",
    "\n",
    "# variable lunchtime is True or False\n",
    "lunchtime = time >= lunch_starts and time < lunch_ends\n",
    "\n",
    "# variable work_time is True or False\n",
    "work_time = time < work_starts or time >= work_ends\n",
    "\n",
    "\n",
    "print(\"Is it lunchtime?\")\n",
    "print(lunchtime)\n",
    "print(\"Is it time for work?\")\n",
    "print(work_time)"
   ]
  },
  {
   "cell_type": "raw",
   "metadata": {},
   "source": [
    "a = 1\n",
    "a"
   ]
  },
  {
   "cell_type": "markdown",
   "metadata": {},
   "source": [
    "What if we now want our computer program to do something based on these answers?\n",
    "\n",
    "To do this, we need to use *control statements*.\n",
    "\n",
    "Control statements allow us to make decisions in a program.\n",
    "\n",
    "This decision making is known as *control flow*. \n",
    "\n",
    "Control statements are a fundamental part of programming."
   ]
  },
  {
   "cell_type": "markdown",
   "metadata": {},
   "source": [
    "Here is a control statement in pseudo code:\n",
    "\n",
    "This is an `if` statement.\n",
    "\n",
    "    if A is true    \n",
    "        Perform task X\n",
    "        \n",
    "For example \n",
    "\n",
    "    if lunchtime is true    \n",
    "        Eat lunch\n"
   ]
  },
  {
   "cell_type": "markdown",
   "metadata": {},
   "source": [
    "We can check if an alternative to the `if` statement is true using an `else if` statement.\n",
    "\n",
    "    if A is true\n",
    "        Perform task X (only)\n",
    "        \n",
    "    else if B is true\n",
    "        Perform task Y (only)\n",
    "        \n",
    "\n",
    "\n",
    "    if lunchtime is true\n",
    "        Eat lunch\n",
    "        \n",
    "    else if work_time is true\n",
    "        Do work"
   ]
  },
  {
   "cell_type": "markdown",
   "metadata": {},
   "source": [
    "Often it is useful to include an `else` statement.\n",
    "\n",
    "If none of the `if` and `else if` statements are satisfied, the code following the `else` statement will be executed.\n",
    "\n",
    "    if A is true\n",
    "        Perform task X (only)\n",
    "        \n",
    "    else if B is true\n",
    "        Perform task Y (only)\n",
    "        \n",
    "    else   \n",
    "        Perform task Z (only)\n",
    "        \n",
    "\n",
    "\n",
    "\n",
    "    if lunchtime is true\n",
    "        Eat lunch\n",
    "        \n",
    "    else if work_time is true\n",
    "        Do work\n",
    "        \n",
    "    else   \n",
    "        Go home"
   ]
  },
  {
   "cell_type": "markdown",
   "metadata": {},
   "source": [
    "Let's get a better understanding of control flow statements by completing some examples. "
   ]
  },
  {
   "cell_type": "markdown",
   "metadata": {
    "collapsed": true
   },
   "source": [
    "<a id='IfElse'></a>\n",
    "\n",
    "## `if` and `else` statements\n",
    "\n",
    "Below is a simple example that demonstrates a Python  if-else control statement. \n",
    "\n",
    "It uses the lunch/work example from the previous seminar.\n",
    "\n",
    "__Note:__ In Python, \"else if\" is written: `elif`"
   ]
  },
  {
   "cell_type": "code",
   "execution_count": 44,
   "metadata": {},
   "outputs": [
    {
     "name": "stdout",
     "output_type": "stream",
     "text": [
      "Eat lunch\n"
     ]
    }
   ],
   "source": [
    "time = 13.05          # current time\n",
    "\n",
    "work_starts = 8.00    # time work starts \n",
    "work_ends =  17.00    # time work ends\n",
    "\n",
    "lunch_starts = 13.00  # time lunch starts\n",
    "lunch_ends =   14.00  # time lunch ends\n",
    "\n",
    "# variable lunchtime is True or False\n",
    "lunchtime = time >= lunch_starts and time < lunch_ends\n",
    "\n",
    "# variable work_time is True or False\n",
    "work_time = time < work_starts or time >= work_ends\n",
    "\n",
    "#print(\"Is it lunchtime?\")\n",
    "#print(lunchtime)\n",
    "#print(\"Is it time for work?\")\n",
    "#print(work_time)\n",
    "\n",
    "if lunchtime == True:\n",
    "    print(\"Eat lunch\")\n",
    "        \n",
    "elif work_time == True:\n",
    "    print(\"Do work\")\n",
    "        \n",
    "else:   \n",
    "    print(\"Go home\")\n"
   ]
  },
  {
   "cell_type": "markdown",
   "metadata": {},
   "source": [
    "Here is another example, using algebraic operators. \n",
    "\n",
    "The input to the program is variable `x`.\n",
    "\n",
    "The program prints a message and modifies `x`.\n",
    "\n",
    "The message and the modification of `x` depend on the initial value of `x`.\n",
    "\n",
    "__Note:__ The program  uses the short-cut algebraic operators that you learnt to use in the last seminar. "
   ]
  },
  {
   "cell_type": "code",
   "execution_count": 45,
   "metadata": {},
   "outputs": [
    {
     "name": "stdout",
     "output_type": "stream",
     "text": [
      "Initial x is less than zero\n",
      "Modified x =  11.0\n"
     ]
    }
   ],
   "source": [
    "x = -10.0  # Initial x value\n",
    "\n",
    "if x > 0.0:  \n",
    "    print('Initial x is greater than zero')\n",
    "    x -= 20.0\n",
    "    \n",
    "elif x < 0.0:  \n",
    "    print('Initial x is less than zero')\n",
    "    x += 21.0\n",
    "    \n",
    "else: \n",
    "    print('Initial x is not less than zero and not greater than zero, therefore it must be zero')\n",
    "    x *= 2.5\n",
    "\n",
    "print(\"Modified x = \", x)"
   ]
  },
  {
   "cell_type": "markdown",
   "metadata": {},
   "source": [
    "__Try it yourself__\n",
    "\n",
    "Try changing the value of `x` a few times.\n",
    "Re-run the cell to see the different paths the program can follow."
   ]
  },
  {
   "cell_type": "markdown",
   "metadata": {},
   "source": [
    "### Look carefully at the structure of the `if`, `elif`, `else`, control statement:\n",
    "\n",
    "\n",
    "__The control statement begins with an `if`__, followed by the expression to check.  <br> \n",
    " At the end of the `if` statement you must put a colon (`:`) <br> \n",
    "````python\n",
    "if x > 0.0:    \n",
    "````\n",
    "\n",
    "After the `if` statement, indent the code to be run in the case that the `if` statement is `True`. <br>\n",
    " The indent can be any number of spaces, but the number of spaces must be the same for all lines of code to be run if `True`.\n",
    " <br> Jupyter Notebooks automatically indent 4 spaces.<br>\n",
    " This is considered good Python style.\n",
    " <br>\n",
    " To end the code to be run, simply stop indenting:\n",
    "````python\n",
    "if x > 0.0:\n",
    "    print('Initial x is greater than zero')\n",
    "    x -= 20.0\n",
    "````\n",
    "  - `if` statement is `True` (e.g. (`x > 0.0`) is True):\n",
    "    - The indented code is executed.\n",
    "    - The control block is exited.\n",
    "    - The program moves past any subsequent `elif` or `else` statements.\n",
    "    <br>    \n",
    "    \n",
    "    \n",
    "  - `if` statement is `False`:\n",
    "  the program moves past the inented code to the next (non-indented) part of the program. <br>\n",
    "  \n",
    "__In this case `elif` (else if)__ check is performed.\n",
    "(Notice that the code is structured in the same way as the `if` statement.):\n",
    "\n",
    "```python\n",
    "elif x < 0.0:\n",
    "    print('Initial x is less than zero')\n",
    "    x += 21.0\n",
    "```   \n",
    "\n",
    "- If (`x < 0.0`) is true:\n",
    "    - The indented code is executed.\n",
    "    - The control block is exited. \n",
    "    - The program moves past any subsequent `elif` or `else` statements.\n",
    "    \n",
    "    \n",
    "- `if` statement is `False`:\n",
    "  the program moves past the inented code to the next (non-indented) part of the program. <br>\n",
    " \n",
    "__If none of the preceding stements are true__ [(`x > 0.0`) is false and (`x < 0.0`) is false], the code following the `else` statement is executed.\n",
    " \n",
    " \n",
    "```python\n",
    "else:\n",
    "    print('Initial x is not less than zero and not greater than zero, therefore it must be zero')\n",
    "```\n"
   ]
  },
  {
   "cell_type": "code",
   "execution_count": null,
   "metadata": {
    "collapsed": true
   },
   "outputs": [],
   "source": []
  },
  {
   "cell_type": "markdown",
   "metadata": {
    "collapsed": true
   },
   "source": [
    "### Real-World Example: currency trading\n",
    "\n",
    "__Read the problem below carefully.__\n",
    "\n",
    "To make a comission (profit), a currency trader sells US dollars to travellers at a rate below the market rate. \n",
    "\n",
    "The multiplier the apply to calculate the reduction is shown in the table.  \n",
    "\n",
    "|Amount (GBP)                                |reduction on market rate |\n",
    "|--------------------------------------------|-------------------------|\n",
    "| Less than $100$                            | 0.9                     |   \n",
    "| From $100$ and less than $1,000$           | 0.925                   |   \n",
    "| From $1,000$ and less than $10,000$        | 0.95                    |   \n",
    "| From $10,000$ and less than $100,000$      | 0.97                    |   \n",
    "| Over $100,000$                             | 0.98                    |   \n",
    "\n",
    "The currency trader incurs extra costs for handling cash. \n",
    "\n",
    "Therefore, if the transaction is made in cash they retain an extra 10% after conversion. \n",
    "(If the trasnaction is made electronically, they do not).  \n",
    "\n",
    "At the current market rate 1 JPY is 0.0091 USD.\n",
    "\n",
    "The *effective rate* is the rate that the customer is getting based on the amount in JPY to be changed."
   ]
  },
  {
   "cell_type": "code",
   "execution_count": 46,
   "metadata": {},
   "outputs": [
    {
     "name": "stdout",
     "output_type": "stream",
     "text": [
      "Amount in JPY sold: 200500\n",
      "Amount in USD purchased: 1609.2531000000001\n",
      "Effective rate: 0.0080262\n"
     ]
    }
   ],
   "source": [
    "JPY  = 200500  # The amount in JPY to be changed into USD\n",
    "cash = True  # True if selling cash, otherwise False\n",
    "\n",
    "market_rate = 0.0091  # 1 JPY is worth this many dollars at the market rate\n",
    "\n",
    "# Apply the appropriate reduction depending on the amount being sold\n",
    "if JPY < 100:\n",
    "    USD = 0.9 * market_rate * JPY\n",
    "    \n",
    "elif JPY < 1000:  \n",
    "    USD = 0.925 * market_rate * JPY\n",
    "    \n",
    "elif JPY < 10000:\n",
    "    USD = 0.95 * market_rate * JPY\n",
    "    \n",
    "elif JPY < 100000:\n",
    "    USD = 0.97 * market_rate * JPY\n",
    "    \n",
    "else:\n",
    "    USD = 0.98 * market_rate * JPY\n",
    "\n",
    "if cash:\n",
    "    USD *= 0.9  # recall that this is shorthand for USD = 0.9*USD \n",
    "    \n",
    "print(\"Amount in JPY sold:\", JPY)\n",
    "print(\"Amount in USD purchased:\", USD)\n",
    "print(\"Effective rate:\", USD/JPY)"
   ]
  },
  {
   "cell_type": "markdown",
   "metadata": {},
   "source": [
    "__Note:__\n",
    " - We can use multiple `elif` statements.\n",
    " - When the program executes and exits a control block, it moves to the next `if` statement.  \n",
    " \n",
    "__Try it yourself__\n",
    "\n",
    "Try changing the values of `JPY` and `cash` a few times.\n",
    "Re-run the cell to see the different paths the program can follow."
   ]
  },
  {
   "cell_type": "markdown",
   "metadata": {},
   "source": [
    "<a id='ForLoops'></a>\n",
    "\n",
    "## `for` loops\n",
    "\n",
    "*Loops* are used to execute a command repeatedly.\n",
    "<br>\n",
    "A loop is a block that repeats an operation a specified number of times (loops). \n",
    "\n",
    "To learn about loops we are going to use the function `range()`."
   ]
  },
  {
   "cell_type": "markdown",
   "metadata": {},
   "source": [
    "### `range`.\n",
    "\n",
    "The function `range` gives us a sequence of *integer* numbers.\n",
    "\n",
    "`range(3, 6)` returns integer values starting from 3 and ending at 6.\n",
    "\n",
    "i.e.\n",
    "\n",
    "> 3,4,5\n",
    "\n",
    "Note this does not include 6.\n",
    "\n",
    "We can change the starting value.\n",
    " \n",
    "For example for integer values starting at 0 and ending at 4:\n",
    " \n",
    "`range(0,4)`\n",
    "\n",
    "returns:\n",
    "\n",
    "> 0, 1, 2, 3\n",
    "\n",
    "`range(4)` is a __shortcut__ for range(0, 4) "
   ]
  },
  {
   "cell_type": "markdown",
   "metadata": {},
   "source": [
    "### Simple `for` loops"
   ]
  },
  {
   "cell_type": "code",
   "execution_count": 47,
   "metadata": {},
   "outputs": [
    {
     "name": "stdout",
     "output_type": "stream",
     "text": [
      "0\n",
      "1\n",
      "2\n",
      "3\n",
      "4\n"
     ]
    }
   ],
   "source": [
    "for i in range(0, 5):\n",
    "    print(i)"
   ]
  },
  {
   "cell_type": "markdown",
   "metadata": {},
   "source": [
    "The cell shows an example of a for loop.\n",
    "\n",
    "The statement \n",
    "```python\n",
    "for i in range(0, 5):\n",
    "```\n",
    "says that we want to run the indented code five times.\n",
    "\n",
    "The first time through, the value of i is equal to 0.\n",
    "<br>\n",
    "The second time through, its value is 1.\n",
    "<br>\n",
    "Each loop the value `i` increases by 1 (0, 1, 2, 3, 4) until the last time when its value is 4. \n",
    "\n",
    "Look carefully at the structure of the `for` loop:\n",
    " - `for` is followed by the condition being checked.\n",
    " - At the end of the `for` statement you must put a colon (`:`) \n",
    " - The indented code that follows is run each time the code loops.  <br>\n",
    " (Any number of spaces, but __same of spaces__ for the entire `for` loop.) \n",
    " <br> \n",
    " - To end the `for` loop, simply stop indenting. \n",
    "\n"
   ]
  },
  {
   "cell_type": "code",
   "execution_count": 48,
   "metadata": {},
   "outputs": [
    {
     "name": "stdout",
     "output_type": "stream",
     "text": [
      "-2\n",
      "-1\n",
      "0\n",
      "1\n",
      "2\n",
      "The end of the loop\n"
     ]
    }
   ],
   "source": [
    "for i in range(-2, 3):\n",
    "    print(i)\n",
    "print('The end of the loop')"
   ]
  },
  {
   "cell_type": "markdown",
   "metadata": {},
   "source": [
    "The above loop starts from -2 and executes the indented code for each value of i in the range (-2, -1, 0, 1, 2).\n",
    "<br>\n",
    "When the loop has executed the code for the final value `i = 2`, it moves on to the next unindented line of code."
   ]
  },
  {
   "cell_type": "code",
   "execution_count": 49,
   "metadata": {},
   "outputs": [
    {
     "name": "stdout",
     "output_type": "stream",
     "text": [
      "----\n",
      "0 0\n",
      "----\n",
      "1 1\n",
      "----\n",
      "2 4\n",
      "----\n",
      "3 9\n"
     ]
    }
   ],
   "source": [
    "for n in range(4):\n",
    "    \n",
    "    print(\"----\")\n",
    "    \n",
    "    print(n, n**2)"
   ]
  },
  {
   "cell_type": "markdown",
   "metadata": {},
   "source": [
    "The above executes 4 loops.\n",
    "\n",
    "The statement \n",
    "```python\n",
    "for n in range(4):\n",
    "```\n",
    "says that we want to loop over four integers, starting from 0. \n",
    "\n",
    "Each loop the value `n` increases by 1 (0, 1, 2 3).\n",
    " \n",
    "The code we want to execute inside the loop is indented four spaces: \n",
    "```python\n",
    "    print(\"----\")\n",
    "    print(n, n**2)\n",
    "```"
   ]
  },
  {
   "cell_type": "markdown",
   "metadata": {},
   "source": [
    "__Try it yourself__\n",
    "<br>\n",
    "Go back and change the __range__ of input values in the last three cells and observe the change in output. \n"
   ]
  },
  {
   "cell_type": "markdown",
   "metadata": {
    "collapsed": true
   },
   "source": [
    "If we want to step by three rather than one:"
   ]
  },
  {
   "cell_type": "code",
   "execution_count": 50,
   "metadata": {},
   "outputs": [
    {
     "name": "stdout",
     "output_type": "stream",
     "text": [
      "0\n",
      "3\n",
      "6\n",
      "9\n"
     ]
    }
   ],
   "source": [
    "for n in range(0, 10, 3):\n",
    "    print(n)"
   ]
  },
  {
   "cell_type": "markdown",
   "metadata": {},
   "source": [
    "If we want to step backwards rather than forwards we __must__ include the step size:"
   ]
  },
  {
   "cell_type": "code",
   "execution_count": 51,
   "metadata": {},
   "outputs": [
    {
     "name": "stdout",
     "output_type": "stream",
     "text": [
      "10\n",
      "9\n",
      "8\n",
      "7\n",
      "6\n",
      "5\n",
      "4\n",
      "3\n",
      "2\n",
      "1\n"
     ]
    }
   ],
   "source": [
    "for n in range(10, 0, -1):\n",
    "    print(n)"
   ]
  },
  {
   "cell_type": "markdown",
   "metadata": {},
   "source": [
    "For example:"
   ]
  },
  {
   "cell_type": "code",
   "execution_count": 52,
   "metadata": {
    "collapsed": true
   },
   "outputs": [],
   "source": [
    "for n in range(10, 0):\n",
    "    print(n)"
   ]
  },
  {
   "cell_type": "markdown",
   "metadata": {},
   "source": [
    "Does not return any values because there are no values that lie between 10 and 0 when counting in the positive direction from 10. "
   ]
  },
  {
   "cell_type": "markdown",
   "metadata": {},
   "source": [
    "__Try it yourself.__\n",
    "\n",
    "In the cell below write a `for` loop that:\n",
    " - loops __backwards__ through a range starting at `n = 10` and ending at `n = 1`.\n",
    " - prints `n`$^2$ at each loop.\n"
   ]
  },
  {
   "cell_type": "code",
   "execution_count": 53,
   "metadata": {
    "collapsed": true
   },
   "outputs": [],
   "source": [
    "# For loop"
   ]
  },
  {
   "cell_type": "markdown",
   "metadata": {},
   "source": [
    "### Real-world Example: conversion table from degrees Fahrenheit to degrees Celsius\n",
    "\n",
    "We can use a `for` loop to create a conversion table from degrees Fahrenheit ($T_F$) to degrees Celsius ($T_c$).\n",
    "\n",
    "Conversion formula:\n",
    "\n",
    "$$\n",
    "T_c = 5(T_f - 32)/9\n",
    "$$\n",
    "\n",
    "Computing the conversion from -100 F to 200 F in steps of 20 F (not including 200 F):"
   ]
  },
  {
   "cell_type": "code",
   "execution_count": 54,
   "metadata": {},
   "outputs": [
    {
     "name": "stdout",
     "output_type": "stream",
     "text": [
      "T_f,    T_c\n",
      "-100 -73.33333333333333\n",
      "-80 -62.22222222222222\n",
      "-60 -51.111111111111114\n",
      "-40 -40.0\n",
      "-20 -28.88888888888889\n",
      "0 -17.77777777777778\n",
      "20 -6.666666666666667\n",
      "40 4.444444444444445\n",
      "60 15.555555555555555\n",
      "80 26.666666666666668\n",
      "100 37.77777777777778\n",
      "120 48.888888888888886\n",
      "140 60.0\n",
      "160 71.11111111111111\n",
      "180 82.22222222222223\n"
     ]
    }
   ],
   "source": [
    "print(\"T_f,    T_c\")\n",
    "\n",
    "for Tf in range(-100, 200, 20):\n",
    "    print(Tf, (Tf - 32) * 5 / 9)"
   ]
  },
  {
   "cell_type": "markdown",
   "metadata": {},
   "source": [
    "<a id='WhileLoops'></a>\n",
    "\n",
    "## `while` loops\n",
    "\n",
    "`for` loops perform an operation a specified number of times. \n",
    "\n",
    "A `while` loop performs a task while a specified statement is true. \n",
    "\n",
    "For example:"
   ]
  },
  {
   "cell_type": "code",
   "execution_count": 55,
   "metadata": {},
   "outputs": [
    {
     "name": "stdout",
     "output_type": "stream",
     "text": [
      "Start of while statement\n",
      "-2\n",
      "-1\n",
      "0\n",
      "1\n",
      "2\n",
      "3\n",
      "4\n",
      "End of while statement\n"
     ]
    }
   ],
   "source": [
    "x = -2\n",
    "\n",
    "print(\"Start of while statement\")\n",
    "\n",
    "while x < 5:\n",
    "    print(x)\n",
    "    x += 1  # Increment x\n",
    "    \n",
    "print(\"End of while statement\")"
   ]
  },
  {
   "cell_type": "markdown",
   "metadata": {},
   "source": [
    "The structure of a `while` loop is similar to a `for` loop.\n",
    "- `while` is followed by the condition being checked.\n",
    " - At the end of the `for` statement you must put a colon (`:`) \n",
    " - The indented code that follows the `while` statement is is executed and repeated until the `while` statement (e.g. `x < 5`) is `False`.\n",
    "\n",
    "It can be quite easy to crash your computer using a `while` loop. \n",
    "<br> e.g. If we don't modify the value of x each time the code loops:\n",
    "```python\n",
    "x = -2\n",
    "while x < 5:\n",
    "    print(x)\n",
    "    # x += 1  \n",
    "```\n",
    "will continue indefinitely since `x < 5 == False`  will never be satisfied.\n",
    "\n",
    "This is called an *infinite loop*.\n",
    "\n",
    "One way to avoid getting stuck in an infinite loop is to consider using a `for` loop instead. "
   ]
  },
  {
   "cell_type": "code",
   "execution_count": 56,
   "metadata": {},
   "outputs": [
    {
     "name": "stdout",
     "output_type": "stream",
     "text": [
      "Start of for statement\n",
      "-2\n",
      "-1\n",
      "0\n",
      "1\n",
      "2\n",
      "3\n",
      "4\n",
      "End of for statement\n"
     ]
    }
   ],
   "source": [
    "x = -2\n",
    "\n",
    "print(\"Start of for statement\")\n",
    "\n",
    "for y in range(x,5):\n",
    "    print(y)\n",
    "    \n",
    "print(\"End of for statement\")"
   ]
  },
  {
   "cell_type": "markdown",
   "metadata": {},
   "source": [
    "Here is another example of a `while` loop."
   ]
  },
  {
   "cell_type": "code",
   "execution_count": 57,
   "metadata": {},
   "outputs": [
    {
     "name": "stdout",
     "output_type": "stream",
     "text": [
      "0.81\n",
      "0.6561000000000001\n",
      "0.43046721000000016\n",
      "0.18530201888518424\n",
      "0.03433683820292518\n",
      "0.001179018457773862\n",
      "1.390084523771456e-06\n"
     ]
    }
   ],
   "source": [
    "x = 0.9\n",
    "\n",
    "while x > 0.001:\n",
    "    # Square x (shortcut x *= x)\n",
    "    x = x * x\n",
    "    print(x)"
   ]
  },
  {
   "cell_type": "markdown",
   "metadata": {},
   "source": [
    "This example will generate an infinite loop if $x \\ge 1$ as `x` will always be greater than 0.001.\n",
    "\n",
    "e.g. \n",
    "```python\n",
    "x = 2\n",
    "\n",
    "while x > 0.001:\n",
    "    x = x * x\n",
    "    print(x)\n",
    "```\n",
    "\n",
    "In this case using a for loop is less appropraite; we might not know beforehand how many steps are required before `x > 0.001` becomes false. \n",
    "\n",
    "To make a code robust, it is good practice to check that $x < 1$ before entering the `while` loop e.g."
   ]
  },
  {
   "cell_type": "code",
   "execution_count": 58,
   "metadata": {},
   "outputs": [
    {
     "name": "stdout",
     "output_type": "stream",
     "text": [
      "0.81\n",
      "0.6561000000000001\n",
      "0.43046721000000016\n",
      "0.18530201888518424\n",
      "0.03433683820292518\n",
      "0.001179018457773862\n",
      "1.390084523771456e-06\n"
     ]
    }
   ],
   "source": [
    "x = 0.9\n",
    "\n",
    "if x < 1:\n",
    "\n",
    "    while x > 0.001:\n",
    "        # Square x (shortcut x *= x)\n",
    "        x = x * x\n",
    "        print(x)\n",
    "        \n",
    "else:\n",
    "    print(\"x is greater than one, infinite loop avoided\")"
   ]
  },
  {
   "cell_type": "code",
   "execution_count": 59,
   "metadata": {},
   "outputs": [
    {
     "ename": "SyntaxError",
     "evalue": "invalid syntax (<ipython-input-59-63581ea7bb6b>, line 1)",
     "output_type": "error",
     "traceback": [
      "\u001b[0;36m  File \u001b[0;32m\"<ipython-input-59-63581ea7bb6b>\"\u001b[0;36m, line \u001b[0;32m1\u001b[0m\n\u001b[0;31m    __Try it for yourself:__\u001b[0m\n\u001b[0m           ^\u001b[0m\n\u001b[0;31mSyntaxError\u001b[0m\u001b[0;31m:\u001b[0m invalid syntax\n"
     ]
    }
   ],
   "source": [
    "__Try it for yourself:__\n",
    "\n",
    "In the cell above change the value of x to above or below 1 and observe the output.\n"
   ]
  },
  {
   "cell_type": "markdown",
   "metadata": {},
   "source": [
    "__Try it for yourself:__\n",
    "\n",
    "In the cell below:\n",
    " - Create a variable,`x`, with the initial value 50\n",
    " - Each loop, reduce the value of x by half\n",
    " - Exit the loop when `x` < 3"
   ]
  },
  {
   "cell_type": "code",
   "execution_count": null,
   "metadata": {
    "collapsed": true
   },
   "outputs": [],
   "source": [
    "# While loop"
   ]
  },
  {
   "cell_type": "markdown",
   "metadata": {},
   "source": [
    "## `break` and `continue`.\n",
    "\n",
    "<a id='break'></a>\n",
    "### `break`\n",
    "\n",
    "Sometimes we want to break out of a `for` or `while` loop. \n",
    "\n",
    "For example in a `for` loop we can check if something is true, and then exit the loop prematurely, e.g"
   ]
  },
  {
   "cell_type": "code",
   "execution_count": null,
   "metadata": {
    "collapsed": true
   },
   "outputs": [],
   "source": [
    "for x in range(10):\n",
    "    print(x)\n",
    "    \n",
    "    if x == 5:\n",
    "        print(\"Time to break out\")\n",
    "        break"
   ]
  },
  {
   "cell_type": "markdown",
   "metadata": {},
   "source": [
    "Let's look at how we can use this in a program.\n",
    "\n",
    "The program below checks (integer) numbers up to 50 __finds prime numbers__ and prints the prime numbers. \n",
    "\n",
    "__Prime number:__ A positive integer, greater than 1, that has no positive divisors other than 1 and itself (2, 3, 5, 11, 13, 17....)"
   ]
  },
  {
   "cell_type": "code",
   "execution_count": null,
   "metadata": {
    "collapsed": true
   },
   "outputs": [],
   "source": [
    "N = 50  # Check numbers up 50 for primes (excludes 50)\n",
    "\n",
    "# Loop over all numbers from 2 to 50 (excluding 50)\n",
    "for n in range(2, N):\n",
    "\n",
    "    # Assume that n is prime\n",
    "    n_is_prime = True\n",
    "\n",
    "    # Check if n can be divided by m\n",
    "    # m ranges from 2 to n (excluding n)\n",
    "    for m in range(2, n):\n",
    "        \n",
    "        # Check if the remainder when n/m is equal to zero \n",
    "        # If the remainder is zero it is not a prime number\n",
    "        if n % m == 0:   \n",
    "            n_is_prime = False\n",
    "\n",
    "    #  If n is prime, print to screen        \n",
    "    if n_is_prime:\n",
    "        print(n)"
   ]
  },
  {
   "cell_type": "markdown",
   "metadata": {},
   "source": [
    "Notice that our program contains a second `for` loop. \n",
    "\n",
    "For each value of n, it loops through incrementing values of m in the range (2 to n):\n",
    "\n",
    "```python\n",
    "# Check if n can be divided by m\n",
    "    # m ranges from 2 to n (excluding n)\n",
    "    for m in range(2, n):\n",
    "```\n",
    "before incrementing to the next value of n.\n",
    "\n",
    "We call this a *nested* loop.\n",
    "\n",
    "The indents in the code show where loops are nested.\n",
    "\n",
    "<br>\n",
    "<br>\n",
    "\n",
    "Notice that one of the prime numbers is 17.\n",
    "\n",
    "In the program below, a break statment is added. "
   ]
  },
  {
   "cell_type": "code",
   "execution_count": null,
   "metadata": {
    "collapsed": true
   },
   "outputs": [],
   "source": [
    "N = 50  \n",
    "#for loop 1\n",
    "for n in range(2, N):   \n",
    "    n_is_prime = True\n",
    "\n",
    "    # for loop 2\n",
    "    for m in range(2, n):\n",
    "        if n % m == 0:   \n",
    "            n_is_prime = False\n",
    "\n",
    "    if n_is_prime:\n",
    "        print(n)\n",
    "    \n",
    "    # if n == 17, stop for loop 1\n",
    "    if n == 17:   \n",
    "        break"
   ]
  },
  {
   "cell_type": "markdown",
   "metadata": {},
   "source": [
    "If if `n`  is equal to 17, the program stops running the `for` loop:\n",
    "\n",
    "```python\n",
    "for n in range(2, N):\n",
    "```\n",
    "\n",
    "Only values up to 17 are printed. "
   ]
  },
  {
   "cell_type": "markdown",
   "metadata": {},
   "source": [
    "__Try it yourself.__\n",
    "\n",
    "In the cell above, re-write the break statement in to stop the foor loop at the first prime number greater than 20.\n",
    "\n",
    "__Note:__ You do not need to delete the previous `break` statement.\n",
    "\n",
    "You can make it a comment by adding a `#` at the start of each line:\n",
    "\n",
    "```python\n",
    "#    if n == 17:   \n",
    "#        break\n",
    "```\n",
    "This allows you to refer to see the code, but stops the program from running it. \n",
    "\n",
    "The program exits the loop at the `break` statement.\n",
    "This means that any code within the loop, after the break statement is skipped. \n",
    "\n",
    "__In the cell below copy and paste your code from the cell above.__\n",
    "\n",
    "__Try editing your code to printing all of the prime numbers *under* 20.__"
   ]
  },
  {
   "cell_type": "code",
   "execution_count": null,
   "metadata": {
    "collapsed": true
   },
   "outputs": [],
   "source": [
    "# Copy and paste your code here."
   ]
  },
  {
   "cell_type": "markdown",
   "metadata": {},
   "source": [
    "A simple way to do this is to place the break statement before we print the value of `n`.\n",
    "\n",
    "    #  If n is prime, print to screen        \n",
    "    if n_is_prime:\n",
    "        print(n)\n",
    "        \n",
    "If `n`$>20$ the program breaks out of the loop before printing the number."
   ]
  },
  {
   "cell_type": "markdown",
   "metadata": {
    "collapsed": true
   },
   "source": [
    "<a id='Continue'></a>\n",
    "\n",
    "### `continue`\n",
    "\n",
    "Sometimes, instead of stopping the loop we want to go to the next iteration in a loop, skipping the remaining code.\n",
    "\n",
    "For this we use `continue`. \n",
    "\n",
    "The example below loops over 20 numbers (0 to 19) and checks if the number is divisible by 4. \n",
    "\n",
    "If the number is not divisible by 4:\n",
    "\n",
    "- it prints a message \n",
    "- it moves to the next value. \n",
    "\n",
    "If the number is divisible by 4 it *continues* to the next value in the loop, without printing."
   ]
  },
  {
   "cell_type": "code",
   "execution_count": null,
   "metadata": {
    "collapsed": true
   },
   "outputs": [],
   "source": [
    "for j in range(20):\n",
    "    \n",
    "    if j % 4 == 0:  # Check remainer of j/4\n",
    "        continue    # continue to next value of j\n",
    "        \n",
    "    print(j, \"is not a multiple of 4\")"
   ]
  },
  {
   "cell_type": "markdown",
   "metadata": {},
   "source": [
    "## Review Exercises\n",
    "Complete the review exercises to practise each of the new Python skills that you have learnt today."
   ]
  },
  {
   "cell_type": "markdown",
   "metadata": {},
   "source": [
    "### Review Exercise: `while` loops.\n",
    "In the cell below, write a program that repeatedly prints the value of `x`, then decreases the value of x by 0.5, as long as `x` remains positive.\n",
    "\n",
    "<a href='#WhileLoops'>Jump to While Loops'</a>"
   ]
  },
  {
   "cell_type": "code",
   "execution_count": null,
   "metadata": {
    "collapsed": true
   },
   "outputs": [],
   "source": [
    "x = 4"
   ]
  },
  {
   "cell_type": "markdown",
   "metadata": {},
   "source": [
    "### Review Exercise: `for` loops and `if`, `else` and `continue` statements.\n",
    "__(A)__ In the cell below, use a for loop to print the square roots of the first 25 odd positive integers.\n",
    "<br> (Remember, the square root of a number, $x$ can be found by $x^{1/2}$)\n",
    "\n",
    "__(B)__ If the number generated is greater than 3 and smaller than 5, print \"`skip`\" and __`continue`__ to the next iteration *without* printing the number.\n",
    "<br><br>Hint: Refer to __Logical Operators__ (Seminar 2). \n",
    "\n",
    "<a href='#ForLoops'>Jump to for loops</a>\n",
    "\n",
    "<a href='#IfElse'>Jump to if and else statements</a>\n",
    "\n",
    "<a href='#Continue'>Jump to continue</a>"
   ]
  },
  {
   "cell_type": "code",
   "execution_count": null,
   "metadata": {
    "collapsed": true
   },
   "outputs": [],
   "source": [
    "# Square root "
   ]
  },
  {
   "cell_type": "markdown",
   "metadata": {},
   "source": [
    "\n",
    " "
   ]
  },
  {
   "cell_type": "markdown",
   "metadata": {},
   "source": [
    "# Summary\n",
    "\n",
    "[*McGrath, Python in easy steps, 2013*]\n",
    "\n",
    " - The Python `if` keyword performs a conditional test on an expression for a Boolean value of True or False.\n",
    " - Alternatives to an `if` test are provided using `elif` and `else` tests.\n",
    " - A `while` loop repeats until a test expression returns `False`.\n",
    " - A `for`...`in`... loop iterates over each item in a specified data structure (or string).\n",
    " - The `range()` function generates a numerical sequence that can be used to specify the length of the `for` loop.\n",
    " - The `break` and `continue` keywords interrupt loop iterations."
   ]
  },
  {
   "cell_type": "markdown",
   "metadata": {
    "collapsed": true
   },
   "source": [
    "# Homework \n",
    "\n",
    "Complete any unfinished Review Exercises.\n",
    "\n",
    "Update your online repository after making changes to your local copy of the textbook.  \n",
    "<br>Refer to supplementary material: S1_Syncing_Repositories "
   ]
  }
 ],
 "metadata": {
  "kernelspec": {
   "display_name": "Python 3",
   "language": "python",
   "name": "python3"
  },
  "language_info": {
   "codemirror_mode": {
    "name": "ipython",
    "version": 3
   },
   "file_extension": ".py",
   "mimetype": "text/x-python",
   "name": "python",
   "nbconvert_exporter": "python",
   "pygments_lexer": "ipython3",
   "version": "3.6.1"
  }
 },
 "nbformat": 4,
 "nbformat_minor": 2
}
