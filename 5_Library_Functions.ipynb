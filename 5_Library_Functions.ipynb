{
 "cells": [
  {
   "cell_type": "markdown",
   "metadata": {
    "collapsed": true
   },
   "source": [
    "# Library Functions\n",
    "## Lesson Goal\n",
    "\n",
    " - Compose and solve simple mathematical problems given as text using python opertaors.  \n",
    "\n",
    "## Objectives\n",
    "\n",
    "- Introduce use of standard library functions\n",
    "- Importing and using modules\n",
    "- Introduction to namespaces\n",
    "- Print formatting of floats\n",
    "\n"
   ]
  },
  {
   "cell_type": "markdown",
   "metadata": {},
   "source": [
    "## 1.0 Libraries\n",
    "\n",
    "Python, like other modern programming languages, has an extensive *library* of built-in functions. \n",
    "\n",
    "These functions are designed, tested and optimised by the developers of the Pyhton langauge.  \n",
    "\n",
    "We can use these functions to make our code shorter, faster and more reliable.\n"
   ]
  },
  {
   "cell_type": "markdown",
   "metadata": {},
   "source": [
    "You are already familiar with some *built in* Python functions:\n",
    "\n",
    "   - `print()` takes the __input__ in the parentheses and __outputs__ a visible representation.\n",
    "   - `len()` takes a data structure as __input__ in the parentheses and __outputs__ the number of items in the data structure (in one direction).\n",
    "   - `sorted()` takes a data structure as __input__ in the parentheses and __outputs__ the data structure sorted by a rule determined by the data type.\n",
    "   - `abs()` takes a numeric variable as  __input__ in the parentheses and __outputs__ the mathematical absolute value of the input."
   ]
  },
  {
   "cell_type": "markdown",
   "metadata": {},
   "source": [
    "These functions belong to Python's standard library."
   ]
  },
  {
   "cell_type": "markdown",
   "metadata": {},
   "source": [
    "## 1.1 The Standard Library"
   ]
  },
  {
   "cell_type": "markdown",
   "metadata": {},
   "source": [
    "Python has a large standard library. \n",
    "\n",
    "It is installed on the computer you are using.\n",
    "\n",
    "It is simply a collection of Python files called 'modules'.\n",
    "\n",
    "Each module contains code very much like the code that you have been writing, defining functions. \n",
    "\n",
    "There are multiple modules to keep the code sorted and well organised. "
   ]
  },
  {
   "cell_type": "markdown",
   "metadata": {
    "collapsed": true
   },
   "source": [
    "The standard libary contains many useful functions. \n",
    "\n",
    "They are listed on the Python website:\n",
    "https://docs.python.org/3/library/functions.html\n",
    "\n",
    "If you want to do something, for example a mathematical operation, it worth trying an internet search for a built-in function already exists.\n",
    "\n"
   ]
  },
  {
   "cell_type": "markdown",
   "metadata": {},
   "source": [
    "For example, a quick google search for \"python function to sum all the numbers in a list\"...\n",
    "\n",
    "<br>\n",
    "https://www.google.co.jp/search?q=python+function+to+sum+all+the+numbers+in+a+list&rlz=1C5CHFA_enJP751JP751&oq=python+function+to+sum+&aqs=chrome.0.0j69i57j0l4.7962j0j7&sourceid=chrome&ie=UTF-8"
   ]
  },
  {
   "cell_type": "markdown",
   "metadata": {},
   "source": [
    "...returns the function `sum()`.\n",
    "\n",
    "`sum()` finds the sum of the values in a data strcuture. "
   ]
  },
  {
   "cell_type": "code",
   "execution_count": 14,
   "metadata": {},
   "outputs": [
    {
     "name": "stdout",
     "output_type": "stream",
     "text": [
      "15\n",
      "15\n",
      "15\n"
     ]
    }
   ],
   "source": [
    "print(sum([1,2,3,4,5]))\n",
    "\n",
    "print(sum((1,2,3,4,5)))\n",
    "\n",
    "a = [1,2,3,4,5]\n",
    "print(sum(a))\n",
    "\n"
   ]
  },
  {
   "cell_type": "markdown",
   "metadata": {},
   "source": [
    "The function `max()` finds the maximum value in data structure."
   ]
  },
  {
   "cell_type": "code",
   "execution_count": 15,
   "metadata": {},
   "outputs": [
    {
     "name": "stdout",
     "output_type": "stream",
     "text": [
      "61\n",
      "15\n",
      "5\n"
     ]
    }
   ],
   "source": [
    "print(max([4,61,12,9,2]))\n",
    "\n",
    "print(max((3,6,9,12,15)))\n",
    "\n",
    "a = [1,2,3,4,5]\n",
    "print(max(a))"
   ]
  },
  {
   "cell_type": "markdown",
   "metadata": {},
   "source": [
    "## 1.2 Packages\n",
    "\n",
    "The standard library tools are available in any Python environment.\n",
    "\n",
    "More specialised modules are available. We call these packages. \n",
    "\n",
    "Packages contain functions to more specific tasks e.g. solving trigonometric functions. \n",
    "\n",
    "We simply install the modules on the computer where we want to use them. \n",
    "\n",
    "When developing programs outside of learning exercises, if there is a no standard library module for a problem you are trying to solve, \n",
    "search online for a module before implementing your own."
   ]
  },
  {
   "cell_type": "markdown",
   "metadata": {},
   "source": [
    "Two widely used packages for mathematics, science and engineeirng are `NumPy` and `SciPy`.\n",
    "\n",
    "These are already installed on your computers.\n",
    "\n",
    "### 1.2.1 Importing a Package\n",
    "\n",
    "To use an installed package, we  simply `import` it. "
   ]
  },
  {
   "cell_type": "code",
   "execution_count": 16,
   "metadata": {},
   "outputs": [
    {
     "name": "stdout",
     "output_type": "stream",
     "text": [
      "0.540302305868\n"
     ]
    }
   ],
   "source": [
    "import numpy \n",
    "\n",
    "x = 1\n",
    "\n",
    "y = numpy.cos(x)\n",
    "\n",
    "print(y)"
   ]
  },
  {
   "cell_type": "markdown",
   "metadata": {},
   "source": [
    "The `import` statement must appear before the use of the package in the code.  \n",
    "\n",
    "        import numpy \n",
    "\n",
    "After this, any function in `numpy` can be called as:\n",
    "\n",
    "        `numpy.function()`.\n",
    "\n",
    "There are a many mathematical functions available. <br>\n",
    "https://docs.scipy.org/doc/numpy-1.13.0/reference/routines.math.html"
   ]
  },
  {
   "cell_type": "markdown",
   "metadata": {},
   "source": [
    "We can change the name of a package e.g. to keep our code short and neat.\n",
    "\n",
    "Using the __`as`__ keyword:"
   ]
  },
  {
   "cell_type": "code",
   "execution_count": 17,
   "metadata": {},
   "outputs": [
    {
     "name": "stdout",
     "output_type": "stream",
     "text": [
      "0.540302305868\n"
     ]
    }
   ],
   "source": [
    "import numpy as np\n",
    "\n",
    "x = 1\n",
    "\n",
    "y = np.cos(x)\n",
    "\n",
    "print(y)"
   ]
  },
  {
   "cell_type": "markdown",
   "metadata": {
    "collapsed": true
   },
   "source": [
    "By prefixing `cos` with `np`, we are using a *namespace* (which in this case is `np`).\n",
    "This makes clear precisely which `cos` function we want to use - there could be more than one `cos` function available.\n",
    "\n",
    "> *Namespaces:* The prefix '`np`' indicates which '`cos`' function we want to use. This\n",
    "might seem pedantic, but in practice there are often different algorithms for performing the same or similar  operation. They might vary in speed and accuracy. In some applications we might need an accurate (but slow)  method for computing the square root, while for other applications we might need speed with a compromise on accuracy. But, if two functions have the same name and are not distinguished by a name space, we have a *name clash*.\n",
    "\n",
    "> In a large program, two developers might choose the same name for two functions that perform similar but slightly different tasks. If these functions are in different modules, there will be no name clash since the module name provides a 'namespace'  - a prefix that provides a distinction between the two functions. Namespaces are extremely helpful for multi-author programs. "
   ]
  },
  {
   "cell_type": "markdown",
   "metadata": {},
   "source": [
    "### 1.2.2 Importing a Function\n",
    "Single functions can be imported without importing the entire package e.g. use:\n",
    "\n",
    "        from numpy import cos\n",
    "\n",
    "instead of:\n",
    "\n",
    "        import numpy \n",
    "\n",
    "After this you call the function without the numpy prefix: "
   ]
  },
  {
   "cell_type": "code",
   "execution_count": 18,
   "metadata": {},
   "outputs": [
    {
     "data": {
      "text/plain": [
       "0.54030230586813977"
      ]
     },
     "execution_count": 18,
     "metadata": {},
     "output_type": "execute_result"
    }
   ],
   "source": [
    "from numpy import cos\n",
    "\n",
    "cos(x)"
   ]
  },
  {
   "cell_type": "markdown",
   "metadata": {},
   "source": [
    "We can even rename individual functions when we import them:"
   ]
  },
  {
   "cell_type": "code",
   "execution_count": 19,
   "metadata": {},
   "outputs": [
    {
     "data": {
      "text/plain": [
       "0.54030230586813977"
      ]
     },
     "execution_count": 19,
     "metadata": {},
     "output_type": "execute_result"
    }
   ],
   "source": [
    "from numpy import cos as cosine\n",
    "\n",
    "cosine(x)"
   ]
  },
  {
   "cell_type": "markdown",
   "metadata": {},
   "source": [
    "Function names should be chosen wisely."
   ]
  },
  {
   "cell_type": "markdown",
   "metadata": {},
   "source": [
    "## 1.3 Using Package Functions in a Program\n",
    "\n",
    "Let's go through some examples using `numpy` functions in our programs.\n",
    "\n",
    "To check how to use a function e.g.  what should go in the () parentheses and in what order, look at the Numpy documentation.\n",
    "\n",
    "https://docs.scipy.org/doc/numpy-1.13.0/reference/routines.math.html\n",
    "\n"
   ]
  },
  {
   "cell_type": "code",
   "execution_count": 20,
   "metadata": {},
   "outputs": [
    {
     "name": "stdout",
     "output_type": "stream",
     "text": [
      "0.841470984808\n",
      "1.55740772465\n",
      "0.785398163397\n",
      "57.2957795131\n",
      "1.0\n"
     ]
    }
   ],
   "source": [
    "# Some Numpy functions\n",
    "\n",
    "x = 1\n",
    "y = 2\n",
    "z = 3\n",
    "\n",
    "# Trigonometric sine, element-wise.\n",
    "print(np.sin(x))\n",
    "\n",
    "# Compute tangent element-wise.\n",
    "print(np.tan(x))\n",
    "\n",
    "# Trigonometric inverse tangent\n",
    "print(np.arctan(x))\n",
    "\n",
    "# Convert angles from radians to degrees\n",
    "degrees = np.degrees(x)\n",
    "print(degrees)\n",
    "\n",
    "# Convert angles from degrees to radians\n",
    "radians = np.radians(degrees)\n",
    "print(radians)   "
   ]
  },
  {
   "cell_type": "markdown",
   "metadata": {},
   "source": [
    "__Try it yourself:__\n",
    "<br> Find a function in the Python Numpy documentation that matches the function definition and use it to solve the problem given. \n",
    "\n",
    "__(A)__ Given the “legs” of a right triangle, return its hypotenuse.<br> If  the lengths of the two shorter sides of a right angle triangle are 6 units  and 3 units, what is the length of the hypotenuse?"
   ]
  },
  {
   "cell_type": "code",
   "execution_count": null,
   "metadata": {
    "collapsed": true
   },
   "outputs": [],
   "source": []
  },
  {
   "cell_type": "markdown",
   "metadata": {},
   "source": [
    "__(B)__ Calculate the exponential of all elements in the input array.\n",
    "<br> Print a list where each element is the exponential of the corresponding element in list a:\n",
    "<br>`a = [0.1, 0, 10]`"
   ]
  },
  {
   "cell_type": "code",
   "execution_count": null,
   "metadata": {
    "collapsed": true
   },
   "outputs": [],
   "source": []
  },
  {
   "cell_type": "markdown",
   "metadata": {},
   "source": [
    "Numpy functions often appear within user defined functions e.g.:\n",
    "\n",
    "$f(x)= \\cos(x) \\qquad x <0$\n",
    "\n",
    "$f(x) = \\exp(-x) \\qquad x \\ge 0$"
   ]
  },
  {
   "cell_type": "code",
   "execution_count": 21,
   "metadata": {},
   "outputs": [
    {
     "name": "stdout",
     "output_type": "stream",
     "text": [
      "0.0497870683679\n",
      "-0.416146836547\n"
     ]
    }
   ],
   "source": [
    "def f(x):\n",
    "    if x < 0:\n",
    "        f = np.cos(x)\n",
    "    else:\n",
    "        f = np.exp(-x)\n",
    "    return f\n",
    "\n",
    "print(f(3))\n",
    "print(f(-2))"
   ]
  },
  {
   "cell_type": "markdown",
   "metadata": {
    "collapsed": true
   },
   "source": [
    "Package functions can be passed to other functions as arguments.\n",
    "\n",
    "Recall Seminar 4, Section 1.2.2 What can be passed as a function argument?\n",
    "\n",
    "Example: the function `is_positive` checks if the value of a function $f$, evaluated at $x$, is positive.\n",
    "<br> The arguments are the function $f$, and the value of $x$, at which it is evaluated:"
   ]
  },
  {
   "cell_type": "code",
   "execution_count": 23,
   "metadata": {},
   "outputs": [
    {
     "name": "stdout",
     "output_type": "stream",
     "text": [
      "False\n",
      "True\n"
     ]
    }
   ],
   "source": [
    "def is_positive(f, x):\n",
    "\n",
    "    if f(x) > 0:\n",
    "        return True\n",
    "    else:\n",
    "        return False\n",
    "    \n",
    "def f0(x):\n",
    "    \"\"\"\n",
    "    Computes x^2 - 1\n",
    "    \"\"\"\n",
    "    return x*x - 1\n",
    "    \n",
    "# Value of x to test\n",
    "x = - 0.5\n",
    "\n",
    "# Test user defined function f0\n",
    "print(is_positive(f0, x))\n",
    "\n",
    "# Test function f1\n",
    "print(is_positive(np.cos, x))"
   ]
  },
  {
   "cell_type": "markdown",
   "metadata": {},
   "source": [
    "__Try it yourself:__\n",
    "<br> In the cell below use the function `is_positive` to test the output of the functions: \n",
    "- $f = arcsin(x)$\n",
    "- $f = \\sqrt x$\n",
    "- $ f = $ maximum $ \\{ sin(x), cos(x) \\}$"
   ]
  },
  {
   "cell_type": "code",
   "execution_count": 24,
   "metadata": {
    "collapsed": true
   },
   "outputs": [],
   "source": [
    "# f = arcsin(x)\n",
    "\n",
    "# f = square root of x\n",
    "\n",
    "# f = maximum of sin(x) and cos(x)  "
   ]
  },
  {
   "cell_type": "markdown",
   "metadata": {},
   "source": [
    "## 1.4 Using Package Functions to Improve User-Defined Code\n",
    "The examples in this section will take previous excercises that you have completed either in class or for homework and look at how we can optimise them using Numpy functions.\n",
    "<br> If you have not completed the excercises mentiond in previous seminars  you can *optionally* complete the exercise without Numpy functions before optimising. "
   ]
  },
  {
   "cell_type": "markdown",
   "metadata": {},
   "source": [
    "## 1.4.1 Optimising your Code\n",
    "Refer to your answer to Seminar 4, 1.2.4 Return arguments. \n",
    "\n",
    "The function `compute_max_min_mean`:\n"
   ]
  },
  {
   "cell_type": "code",
   "execution_count": 52,
   "metadata": {},
   "outputs": [
    {
     "name": "stdout",
     "output_type": "stream",
     "text": [
      "-20 0.5 -6.466666666666666\n"
     ]
    }
   ],
   "source": [
    "def compute_max_min_mean(x0, x1, x2):\n",
    "    \"Return maximum, minimum and mean values\"\n",
    "    \n",
    "    x_min = x0\n",
    "    if x1 < x_min:\n",
    "        x_min = x1\n",
    "    if x2 < x_min:\n",
    "        x_min = x2\n",
    "\n",
    "    x_max = x0\n",
    "    if x1 > x_max:\n",
    "        x_max = x1\n",
    "    if x2 > x_max:\n",
    "        x_max = x2\n",
    "\n",
    "    x_mean = (x0 + x1 + x2)/3    \n",
    "        \n",
    "    return x_min, x_max, x_mean\n",
    "\n",
    "\n",
    "xmin, xmax, xmean = compute_max_min_mean(0.5, 0.1, -20)\n",
    "print(xmin, xmax, xmean)"
   ]
  },
  {
   "cell_type": "markdown",
   "metadata": {},
   "source": [
    "Could be re-written as:"
   ]
  },
  {
   "cell_type": "code",
   "execution_count": 53,
   "metadata": {},
   "outputs": [
    {
     "name": "stdout",
     "output_type": "stream",
     "text": [
      "-20.0 0.5 -6.46666666667\n"
     ]
    }
   ],
   "source": [
    "def np_compute_max_min_mean(x0, x1, x2):\n",
    "    \"Return maximum, minimum and mean values\"\n",
    "    \n",
    "    x_min = np.amin([x0, x1, x2])\n",
    "    x_max = np.amax([x0, x1, x2])\n",
    "    x_mean = np.mean([x0, x1, x2])\n",
    "            \n",
    "    return x_min, x_max, x_mean\n",
    "\n",
    "\n",
    "xmin, xmax, xmean = np_compute_max_min_mean(0.5, 0.1, -20)\n",
    "print(xmin, xmax, xmean)"
   ]
  },
  {
   "cell_type": "code",
   "execution_count": 44,
   "metadata": {},
   "outputs": [
    {
     "data": {
      "text/plain": [
       "-1"
      ]
     },
     "execution_count": 44,
     "metadata": {},
     "output_type": "execute_result"
    }
   ],
   "source": [
    "np.amin([1,2,3, -1])"
   ]
  },
  {
   "cell_type": "markdown",
   "metadata": {},
   "source": [
    "We can use *magic function* (http://ipython.readthedocs.io/en/stable/interactive/magics.html), `%timeit`, to compare the time the user-defiend function takes to execute compared to the Numpy function. \n",
    "\n",
    "Sometimes we must choose between minimising the length of the code and minimising the time it takes to run. \n",
    "\n",
    "Simply put `%timeit` before the function call to print the execution time. \n",
    "<br> e.g. `%timeit cos(x)` "
   ]
  },
  {
   "cell_type": "code",
   "execution_count": 50,
   "metadata": {},
   "outputs": [
    {
     "name": "stdout",
     "output_type": "stream",
     "text": [
      "The slowest run took 10.69 times longer than the fastest. This could mean that an intermediate result is being cached.\n",
      "1000000 loops, best of 3: 369 ns per loop\n",
      "\n",
      "The slowest run took 87.57 times longer than the fastest. This could mean that an intermediate result is being cached.\n",
      "10000 loops, best of 3: 21.1 µs per loop\n"
     ]
    }
   ],
   "source": [
    "%timeit compute_max_min_mean(0.5, 0.1, -20)\n",
    "print(\"\")\n",
    "%timeit np_compute_max_min_mean(0.5, 0.1, -20)"
   ]
  },
  {
   "cell_type": "markdown",
   "metadata": {},
   "source": [
    "##### Try it yourself \n",
    "In the cell below, find a Numpy function that provides the same solution as the function your write as your answer to Seminar 3, Section 5.3 Review Exercise: Indexing., __part (A)__: Add two vectors, $\\mathbf{A}$ and $\\mathbf{B}$ such that:\n",
    "$ \\mathbf{A} + \\mathbf{B} = [(A_1 + B_1), \n",
    "                              (A_2 + B_2),\n",
    "                              ...\n",
    "                              (A_n + B_n)]$\n",
    "\n",
    "Use the Numpy function to add vectors:\n",
    "\n",
    "$\\mathbf{A} = [-2, 1, 3]$\n",
    "\n",
    "$\\mathbf{B} = [6, 2, 2]$\n",
    "\n",
    "Compare your answer with your answer to Seminar 3, Section 5.3 Review Exercise: Indexing."
   ]
  },
  {
   "cell_type": "code",
   "execution_count": 58,
   "metadata": {
    "collapsed": true
   },
   "outputs": [],
   "source": [
    "# Vector Addition"
   ]
  },
  {
   "cell_type": "markdown",
   "metadata": {},
   "source": [
    "##### Try it yourself\n",
    "<br>\n",
    "Refer to your answer to Seminar 4, 1.7.2 Review Exercise: (functions and default arguments).\n",
    "\n",
    "Copy and paste your code in the cell below.\n",
    "\n",
    "__A__ Find Numpy functions to the replace operations for:\n",
    "\n",
    " - summation $\\sum$\n",
    " - square root $\\sqrt $\n",
    " - square (raise to power of 2) $^2$\n",
    " \n",
    "in your code. \n",
    "\n",
    "find the magnitude of the vector $x = [1, 3, -2]$.\n",
    "\n",
    "__B__ Search online for a single numpy function that takes a vector as input and returns the magnitide of a vector. \n",
    "<br> Use it calculate the magnitude of the vector $x$. \n",
    "<br> Check the answer against the value generated in __A__\n",
    "<br> Check your answers using hand calculations.\n",
    "\n",
    "__C__ Use *magic function* `%timeit`, to compare the time your user-defiend function takes to execute compared to the Numpy function. \n",
    "<br> If you want to, you can also compare the function you write as your answer to Seminar 4, 1.7.2 Review Exercise.\n",
    "<br> Which is fastest?\n",
    "\n",
    "\n"
   ]
  },
  {
   "cell_type": "code",
   "execution_count": 57,
   "metadata": {},
   "outputs": [
    {
     "name": "stdout",
     "output_type": "stream",
     "text": [
      "The slowest run took 120.33 times longer than the fastest. This could mean that an intermediate result is being cached.\n",
      "100000 loops, best of 3: 4.87 µs per loop\n"
     ]
    }
   ],
   "source": [
    "import numpy as np\n",
    "x = np.array([1,2,3,4,5])\n",
    "x = np.array([1])\n",
    "x = [1]\n",
    "np.linalg.norm(x)\n",
    "%timeit np.linalg.norm(x)  "
   ]
  },
  {
   "cell_type": "markdown",
   "metadata": {},
   "source": [
    "## 1.4.2 Alternative Expressions\n",
    "Recall Seminar 3, Section 1.3 Indexing. \n",
    "\n",
    "We saw that the __dot product__ of two vectors can be experssed both geometrically and algebraically. \n",
    "\n",
    "__GEOMETRIC REPRESENTATION__\n",
    "\n",
    "\\begin{align}\n",
    "\\mathbf{A} \\cdot \\mathbf{B} = |\\mathbf{A}| |\\mathbf{B}| cos(\\theta)\n",
    "\\end{align}\n",
    "\n",
    "__ALGEBRAIC REPRESENTATION__\n",
    "\n",
    ">So the dot product of two 3D vectors:\n",
    "> <br> $ \\mathbf{A} = [A_x, A_y, A_z]$\n",
    "> <br> $ \\mathbf{B} = [B_x, B_y, B_z]$\n",
    "> <br> is:\n",
    "\n",
    "\\begin{align}\n",
    "\\mathbf{A} \\cdot \\mathbf{B} &= \\sum_{i=1}^n A_i B_i \\\\\n",
    "&= A_x B_x + A_y B_y + A_z B_z.\n",
    "\\end{align}\n"
   ]
  },
  {
   "cell_type": "markdown",
   "metadata": {},
   "source": [
    "\n",
    "In the cell titled `# The dot product of C and D `, you wrote a program that used a for loop and indexing to compute the dot product using the algebraic method. \n",
    "\n",
    "$\\mathbf{C} = [2, 4, 3.5]$\n",
    "\n",
    "$\\mathbf{D} = [1, 2, -6]$\n",
    "\n",
    "\n",
    "In the cell below, use:\n",
    " - the Numpy cosine function\n",
    " - the magnitude function that you used in the last example (either  user defined or Numpy function)\n",
    " \n",
    "to compute $\\mathbf{C} \\cdot \\mathbf{D}$ using the geomtric expression.\n",
    "\n",
    "Compare your answer to your answer in Seminar 3, Section 1.3. \n",
    "\n"
   ]
  },
  {
   "cell_type": "code",
   "execution_count": null,
   "metadata": {
    "collapsed": true
   },
   "outputs": [],
   "source": []
  }
 ],
 "metadata": {
  "kernelspec": {
   "display_name": "Python 3",
   "language": "python",
   "name": "python3"
  },
  "language_info": {
   "codemirror_mode": {
    "name": "ipython",
    "version": 3
   },
   "file_extension": ".py",
   "mimetype": "text/x-python",
   "name": "python",
   "nbconvert_exporter": "python",
   "pygments_lexer": "ipython3",
   "version": "3.6.1"
  }
 },
 "nbformat": 4,
 "nbformat_minor": 2
}
