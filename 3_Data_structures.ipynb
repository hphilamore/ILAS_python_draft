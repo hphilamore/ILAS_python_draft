{
 "cells": [
  {
   "cell_type": "markdown",
   "metadata": {
    "collapsed": true
   },
   "source": [
    "# Data Structures\n",
    "\n",
    "## Lesson Goal\n",
    "\n",
    " - Compose simple programs to control the flow with which the operators we have studied so far are executed on:\n",
    "  - single value variables.\n",
    "  - data structures (holding mutiple variables)\n",
    "\n",
    "\n",
    "## Objectives\n",
    "\n",
    " - Express collections of mulitple variables as `list`, `tuple` and dictionary (`dict`) data structures.\n",
    " \n",
    "- Use iteratation to visit entries in a data structure \n",
    "\n",
    "- Learn to select the right data structure for an application"
   ]
  },
  {
   "cell_type": "markdown",
   "metadata": {
    "collapsed": true
   },
   "source": [
    "In the last seminar we learnt to generate a rnage of numbers for use in control flow of  a program, using the function `range()`:"
   ]
  },
  {
   "cell_type": "code",
   "execution_count": 110,
   "metadata": {},
   "outputs": [
    {
     "name": "stdout",
     "output_type": "stream",
     "text": [
      "1 is not a multiple of 4\n",
      "2 is not a multiple of 4\n",
      "3 is not a multiple of 4\n",
      "5 is not a multiple of 4\n",
      "6 is not a multiple of 4\n",
      "7 is not a multiple of 4\n",
      "9 is not a multiple of 4\n",
      "10 is not a multiple of 4\n",
      "11 is not a multiple of 4\n",
      "13 is not a multiple of 4\n",
      "14 is not a multiple of 4\n",
      "15 is not a multiple of 4\n",
      "17 is not a multiple of 4\n",
      "18 is not a multiple of 4\n",
      "19 is not a multiple of 4\n"
     ]
    }
   ],
   "source": [
    "for j in range(20):\n",
    "    \n",
    "    if j % 4 == 0:  # Check remainer of j/4\n",
    "        continue    # continue to next value of j\n",
    "        \n",
    "    print(j, \"is not a multiple of 4\")"
   ]
  },
  {
   "cell_type": "markdown",
   "metadata": {},
   "source": [
    "## Data Structures\n",
    "\n",
    "Often we want to manipulate data that is more meaningful than ranges of numbers.\n",
    "\n",
    "These collections of variables might include:\n",
    " - the results of an experiment\n",
    " - a list of names\n",
    " - the components of a vector\n",
    " - a telephone directory with names and associated numbers.\n",
    " \n",
    "Python has different __data structures__ that can be used to store and manipulate these values.\n",
    "\n",
    "Like variable types (`string`, `int`,`float`...) different data structures behave in different ways.\n",
    "\n",
    "Today we will learn to use `list`, `tuple` and dictionary (`dict`) data structures.\n",
    "\n",
    "We will study the differences in how they behave so that you can learn to select the most suitable data structure for an application. \n",
    " \n",
    " "
   ]
  },
  {
   "cell_type": "markdown",
   "metadata": {},
   "source": [
    "Programs use data structure to collect data into useful packages. \n",
    "\n",
    "$$\n",
    "r = [u, v, w]\n",
    "$$\n",
    "\n",
    "For example, rather than representing a vector `r` of length 3 using three seperate floats `ru`, `rv` and `rw`, we could represent \n",
    "it as a __list__ of floats:\n",
    "\n",
    "&nbsp;&nbsp;&nbsp;&nbsp;&nbsp;&nbsp;&nbsp;&nbsp; &nbsp;&nbsp;&nbsp;&nbsp;&nbsp;&nbsp;&nbsp;&nbsp;\n",
    "&nbsp;&nbsp;&nbsp;&nbsp;&nbsp;&nbsp;&nbsp;&nbsp;\n",
    "&nbsp;&nbsp;&nbsp;&nbsp;&nbsp;&nbsp;&nbsp;&nbsp; `r = [u, v, w]`. \n",
    "\n",
    "We will learn what a __list__ is in a moment.\n",
    "\n",
    "If we want to store the names of students in a laboratory group, rather than representing each students using an individual string variable, we could use a list of names, e.g.:\n",
    "\n"
   ]
  },
  {
   "cell_type": "code",
   "execution_count": 59,
   "metadata": {
    "collapsed": true
   },
   "outputs": [],
   "source": [
    "lab_group0 = [\"Sarah\", \"John\", \"Joe\", \"Emily\"]\n",
    "lab_group1 = [\"Roger\", \"Rachel\", \"Amer\", \"Caroline\", \"Colin\"]"
   ]
  },
  {
   "cell_type": "markdown",
   "metadata": {},
   "source": [
    "This is useful because we can perform operations on lists such as:\n",
    " - checking its length (number of students in a lab group)\n",
    " - sorting the names in the list into alphabetical order\n",
    " - making a list of lists (we call this a *nested list*):\n"
   ]
  },
  {
   "cell_type": "code",
   "execution_count": 60,
   "metadata": {
    "collapsed": true
   },
   "outputs": [],
   "source": [
    "lab_groups = [lab_group0, lab_group1]"
   ]
  },
  {
   "cell_type": "markdown",
   "metadata": {},
   "source": [
    "## 1.0 Lists"
   ]
  },
  {
   "cell_type": "markdown",
   "metadata": {},
   "source": [
    "A list is a sequence of data. \n",
    "\n",
    "We call each item in the sequence an *element*. \n",
    "\n",
    "A list is constructed using square brackets:\n",
    "\n"
   ]
  },
  {
   "cell_type": "code",
   "execution_count": 61,
   "metadata": {
    "collapsed": true
   },
   "outputs": [],
   "source": [
    "a = [1, 2, 3]"
   ]
  },
  {
   "cell_type": "markdown",
   "metadata": {},
   "source": [
    "A `range` can be converted to a list with the `list` function."
   ]
  },
  {
   "cell_type": "code",
   "execution_count": 62,
   "metadata": {},
   "outputs": [
    {
     "name": "stdout",
     "output_type": "stream",
     "text": [
      "[0, 1, 2, 3, 4, 5, 6, 7, 8, 9]\n"
     ]
    }
   ],
   "source": [
    "print(list(range(10)))"
   ]
  },
  {
   "cell_type": "markdown",
   "metadata": {},
   "source": [
    "When `range` has just one *argument* (the entry in the parentheses), it will generate a range from 0 up to but not including the specified number. \n"
   ]
  },
  {
   "cell_type": "code",
   "execution_count": 63,
   "metadata": {},
   "outputs": [
    {
     "name": "stdout",
     "output_type": "stream",
     "text": [
      "[10, 11, 12, 13, 14, 15, 16, 17, 18, 19]\n"
     ]
    }
   ],
   "source": [
    "print(list(range(10,20)))"
   ]
  },
  {
   "cell_type": "markdown",
   "metadata": {},
   "source": [
    "When a range has two arguments:\n",
    " - the first value is the starting value.\n",
    " - the second value is the stoping value.\n",
    " - the stopping value is not included in the range"
   ]
  },
  {
   "cell_type": "markdown",
   "metadata": {},
   "source": [
    "You can optionally include a step:"
   ]
  },
  {
   "cell_type": "code",
   "execution_count": 64,
   "metadata": {},
   "outputs": [
    {
     "name": "stdout",
     "output_type": "stream",
     "text": [
      "[10, 12, 14, 16, 18]\n"
     ]
    }
   ],
   "source": [
    "print(list(range(10, 20, 2)))"
   ]
  },
  {
   "cell_type": "markdown",
   "metadata": {},
   "source": [
    "A list can hold a mixture of types (`int`, `string`....)."
   ]
  },
  {
   "cell_type": "code",
   "execution_count": 65,
   "metadata": {
    "collapsed": true
   },
   "outputs": [],
   "source": [
    "a = [1, 2.0, \"three\"]"
   ]
  },
  {
   "cell_type": "markdown",
   "metadata": {},
   "source": [
    "An empty list is created by"
   ]
  },
  {
   "cell_type": "code",
   "execution_count": 67,
   "metadata": {
    "collapsed": true
   },
   "outputs": [],
   "source": [
    "my_list = []"
   ]
  },
  {
   "cell_type": "markdown",
   "metadata": {},
   "source": [
    "A list of length 5 with repeated values can be created by"
   ]
  },
  {
   "cell_type": "code",
   "execution_count": 68,
   "metadata": {},
   "outputs": [
    {
     "name": "stdout",
     "output_type": "stream",
     "text": [
      "['Hello', 'Hello', 'Hello', 'Hello', 'Hello']\n"
     ]
    }
   ],
   "source": [
    "my_list = [\"Hello\"]*5\n",
    "print(my_list)"
   ]
  },
  {
   "cell_type": "markdown",
   "metadata": {},
   "source": [
    "We can check if an item is in a list using the function `in`:\n"
   ]
  },
  {
   "cell_type": "code",
   "execution_count": 131,
   "metadata": {},
   "outputs": [
    {
     "name": "stdout",
     "output_type": "stream",
     "text": [
      "True\n",
      "False\n"
     ]
    }
   ],
   "source": [
    "print(\"Hello\" in my_list)\n",
    "print(\"Goodbye\" in my_list)"
   ]
  },
  {
   "cell_type": "markdown",
   "metadata": {},
   "source": [
    "### 1.1 Iterating over lists\n",
    "\n",
    "Looping over each item in a list is called *iterating*. \n",
    "\n",
    "To iterate over a list of the lab group we use a `for` loop.\n",
    "\n",
    "Each iteration, variable data takes the value of the next item in the list:"
   ]
  },
  {
   "cell_type": "code",
   "execution_count": 69,
   "metadata": {},
   "outputs": [
    {
     "name": "stdout",
     "output_type": "stream",
     "text": [
      "the value of data is: 1\n",
      "the value of data is: 2.0\n",
      "the value of data is: three\n"
     ]
    }
   ],
   "source": [
    "for data in [1, 2.0, \"three\"]:    \n",
    "    print('the value of data is:', data)"
   ]
  },
  {
   "cell_type": "markdown",
   "metadata": {},
   "source": [
    "__Try it yourself__\n",
    "<br>\n",
    "In the cell below *iterate* over the list `[1, 2.0, \"three\"]`.\n",
    "<br>\n",
    "Each time the code loops print the value of data __cast as a string__.\n",
    "<br>\n",
    "(Hint: Look at Seminar 1, Section 8.5.2 for how to cast a variable as a different type).  "
   ]
  },
  {
   "cell_type": "code",
   "execution_count": 112,
   "metadata": {
    "collapsed": true
   },
   "outputs": [],
   "source": [
    "# Iterate over a list and cast each item as a string"
   ]
  },
  {
   "cell_type": "markdown",
   "metadata": {},
   "source": [
    "### 1.2 Manipulating lists \n",
    "\n",
    "There are many functions for manipulating lists. \n",
    "\n",
    "We can find the length (number of items) of a list using the function `len()`, by including the name of the list in the brackets. \n",
    "\n",
    "In the example below, we find the length of the list `lab_group0`. "
   ]
  },
  {
   "cell_type": "code",
   "execution_count": 149,
   "metadata": {},
   "outputs": [
    {
     "name": "stdout",
     "output_type": "stream",
     "text": [
      "Lab group members: ['Sara', 'Mari', 'Quang']\n",
      "Size of lab group: 3\n",
      "Check the Python object type: <class 'list'>\n"
     ]
    }
   ],
   "source": [
    "lab_group0 = [\"Sara\", \"Mari\", \"Quang\"]\n",
    "\n",
    "size = len(lab_group0)\n",
    "\n",
    "print(\"Lab group members:\", lab_group0)\n",
    "\n",
    "print(\"Size of lab group:\", size)\n",
    "\n",
    "print(\"Check the Python object type:\", type(lab_group0))"
   ]
  },
  {
   "cell_type": "markdown",
   "metadata": {},
   "source": [
    "To sort the list we use `sorted()`.\n",
    "\n",
    "If the list contains numerical variables, the numbers is sorted in ascending order."
   ]
  },
  {
   "cell_type": "code",
   "execution_count": 114,
   "metadata": {},
   "outputs": [
    {
     "name": "stdout",
     "output_type": "stream",
     "text": [
      "[7, 1, 3.0]\n",
      "[1, 3.0, 7]\n"
     ]
    }
   ],
   "source": [
    "numbers = [7, 1, 3.0]\n",
    "\n",
    "print(numbers)\n",
    "\n",
    "numbers = sorted(numbers)\n",
    "\n",
    "print(numbers)"
   ]
  },
  {
   "cell_type": "markdown",
   "metadata": {},
   "source": [
    "__Note:__ We can sort a list with mixed numeric types (e.g. `float` and `int`). \n",
    "<br>\n",
    "However, we cannot sort a list with types that cannot be sorted by the same ordering rule \n",
    "<br>\n",
    "(e.g. `numbers = sorted([seven, 1, 3.0])` causes an error.)"
   ]
  },
  {
   "cell_type": "code",
   "execution_count": 115,
   "metadata": {
    "collapsed": true
   },
   "outputs": [],
   "source": [
    "# numbers = sorted([seven, 1, 3.0])"
   ]
  },
  {
   "cell_type": "markdown",
   "metadata": {},
   "source": [
    "If the list contains strings, the list is sorted by alphabetical order. "
   ]
  },
  {
   "cell_type": "code",
   "execution_count": 117,
   "metadata": {},
   "outputs": [
    {
     "name": "stdout",
     "output_type": "stream",
     "text": [
      "['Sara', 'Mari', 'Quang']\n",
      "['Mari', 'Quang', 'Sara']\n"
     ]
    }
   ],
   "source": [
    "lab_group0 = [\"Sara\", \"Mari\", \"Quang\"]\n",
    "\n",
    "print(lab_group0)\n",
    "\n",
    "lab_group0 = sorted(lab_group0)\n",
    "\n",
    "print(lab_group0)"
   ]
  },
  {
   "cell_type": "markdown",
   "metadata": {},
   "source": [
    "As with `len()` we include the name of the list we want to sort in the brackets. "
   ]
  },
  {
   "cell_type": "markdown",
   "metadata": {},
   "source": [
    "There is a shortcut for sorting a list\n",
    "\n",
    "`sort` is known as a 'method' of a `list`. \n",
    "\n",
    "If we suffix a list with `.sort()`, it performs an *in-place* sort."
   ]
  },
  {
   "cell_type": "code",
   "execution_count": 118,
   "metadata": {},
   "outputs": [
    {
     "name": "stdout",
     "output_type": "stream",
     "text": [
      "['Sara', 'Mari', 'Quang']\n",
      "['Mari', 'Quang', 'Sara']\n"
     ]
    }
   ],
   "source": [
    "lab_group0 = [\"Sara\", \"Mari\", \"Quang\"]\n",
    "\n",
    "print(lab_group0)\n",
    "\n",
    "#lab_group0 = sorted(lab_group0)\n",
    "lab_group0.sort()\n",
    "\n",
    "print(lab_group0)"
   ]
  },
  {
   "cell_type": "markdown",
   "metadata": {},
   "source": [
    "__Try it yourself__\n",
    "<br>\n",
    "In the cell below create a list of numeric or string values.\n",
    "<br>\n",
    "Sort the list using `sorted()` or `.sort()`.\n",
    "<br>\n",
    "Print the sorted list.\n",
    "<br>\n",
    "Print the length of the list using `len()`."
   ]
  },
  {
   "cell_type": "code",
   "execution_count": null,
   "metadata": {
    "collapsed": true
   },
   "outputs": [],
   "source": [
    "# Sorting a list"
   ]
  },
  {
   "cell_type": "markdown",
   "metadata": {},
   "source": [
    "We can remove items from a list using the method `pop`.\n",
    "\n",
    "We place the index of the element we wich to remove in brackets. "
   ]
  },
  {
   "cell_type": "code",
   "execution_count": 75,
   "metadata": {},
   "outputs": [
    {
     "name": "stdout",
     "output_type": "stream",
     "text": [
      "['Mari', 'Quang', 'Sara']\n",
      "['Mari', 'Sara']\n"
     ]
    }
   ],
   "source": [
    "print(lab_group0)\n",
    "\n",
    "# Remove the second student \n",
    "# remember indexing starts from 0\n",
    "# 1 is the second element\n",
    "\n",
    "lab_group0.pop(1)\n",
    "print(lab_group0)"
   ]
  },
  {
   "cell_type": "markdown",
   "metadata": {},
   "source": [
    "We can add items at the end of a list using the method `append`.\n",
    "\n",
    "We place the element we want to add to the end of the list in brackets. "
   ]
  },
  {
   "cell_type": "code",
   "execution_count": 76,
   "metadata": {},
   "outputs": [
    {
     "name": "stdout",
     "output_type": "stream",
     "text": [
      "['Mari', 'Sara', 'Lia']\n"
     ]
    }
   ],
   "source": [
    "# Add new student \"Lia\" at the end of the list\n",
    "lab_group0.append(\"Lia\")\n",
    "print(lab_group0)"
   ]
  },
  {
   "cell_type": "markdown",
   "metadata": {},
   "source": [
    "__Try it yourself__\n",
    "<br>\n",
    "In the cell below.\n",
    "<br>\n",
    "Remove Sara from the list.\n",
    "<br>\n",
    "Print the new list.\n",
    "<br>\n",
    "Add a new lab group member, Tom, to the list.\n",
    "<br>\n",
    "Print the new list."
   ]
  },
  {
   "cell_type": "code",
   "execution_count": 119,
   "metadata": {
    "collapsed": true
   },
   "outputs": [],
   "source": [
    "# Adding and removing items from a list."
   ]
  },
  {
   "cell_type": "markdown",
   "metadata": {},
   "source": [
    "## 1.3 Indexing\n",
    "\n",
    "Lists store data in order.\n",
    "\n",
    "We can select a single element of a list using its index.\n",
    "\n",
    "You are familiar with this process; it is the same as selecting individual characters of a `string`:"
   ]
  },
  {
   "cell_type": "code",
   "execution_count": 77,
   "metadata": {},
   "outputs": [
    {
     "name": "stdout",
     "output_type": "stream",
     "text": [
      "t\n"
     ]
    }
   ],
   "source": [
    "a = \"string\"\n",
    "b = a[1]\n",
    "print(b)"
   ]
  },
  {
   "cell_type": "code",
   "execution_count": 121,
   "metadata": {},
   "outputs": [
    {
     "name": "stdout",
     "output_type": "stream",
     "text": [
      "Mari\n"
     ]
    }
   ],
   "source": [
    "first_member = lab_group0[0]\n",
    "print(first_member)"
   ]
  },
  {
   "cell_type": "markdown",
   "metadata": {},
   "source": [
    "Indices can be useful when looping through the items in a list.`"
   ]
  },
  {
   "cell_type": "code",
   "execution_count": 79,
   "metadata": {},
   "outputs": [
    {
     "name": "stdout",
     "output_type": "stream",
     "text": [
      "Mari\n",
      "Sara\n",
      "Lia\n",
      "Mari\n",
      "Sara\n",
      "Lia\n"
     ]
    }
   ],
   "source": [
    "# We can express the following for loop:\n",
    "# ITERATING\n",
    "for i in lab_group0:\n",
    "    print(i)\n",
    "    \n",
    "# as:\n",
    "# INDEXING\n",
    "for i in range(len(lab_group0)):\n",
    "    print(lab_group0[i])"
   ]
  },
  {
   "cell_type": "markdown",
   "metadata": {},
   "source": [
    "__Note:__<br>\n",
    "- Some data structures that support *iterating* but do not support *indexing*. <br> When possible, it is better to iterate over a list rather than use indexing.\n",
    "- When indexing:\n",
    "   - the first value in the range is 0.\n",
    "   - the last value in the range is (list length - 1). "
   ]
  },
  {
   "cell_type": "markdown",
   "metadata": {},
   "source": [
    "Lists and indexing can be useful for numerical computations. \n",
    "\n",
    "### Example: Vectors\n",
    "\n",
    "__Vector:__ A quantity with magnitude and direction.\n",
    "\n",
    "Position vectors (or displacement vectors) in 3D space can always be expressed in terms of x,y, and z-directions.  \n",
    "\n",
    "<img src=\"../../../ILAS_seminars/intro to python/img/3d_position_vector.png\" alt=\"Drawing\" style=\"width: 175px;\"/>\n",
    "\n",
    "The position vector 𝒓 indicates the position of a point in 3D space.\n",
    "\n",
    "$$\n",
    "\\mathbf{r} = x\\mathbf{i} + y\\mathbf{j} + z\\mathbf{k}\n",
    "$$\n",
    "\n",
    "𝒊 is the displacement one unit in the x-direction<br>\n",
    "𝒋 is the displacement one unit in the y-direction<br>\n",
    "𝒌 is the displacement one unit in the z-direction\n",
    "\n",
    "We can conveniently express $\\mathbf{r}$ as a matrix: \n",
    "$$\n",
    "\\mathbf{r} = [x, y, z]\n",
    "$$\n",
    "\n",
    "__...which looks a lot like a Python list!__\n",
    "\n"
   ]
  },
  {
   "cell_type": "markdown",
   "metadata": {},
   "source": [
    "You will encounter 3D vectors a lot in your engineering studies as they are used to describe many physical quantities, e.g. force.\n",
    "\n",
    "### Example: The dot product of two vectors:\n",
    "\n",
    "The __dot product__ is a really useful algebraic operation that takes two equal-length sequences of numbers (usually coordinate vectors) and returns a single number.\n",
    "\n",
    "It can be expressed mathematically as:\n",
    "\n",
    "__GEOMETRIC REPRESENTATION__\n",
    "\n",
    "\\begin{align}\n",
    "\\mathbf{A} \\cdot \\mathbf{B} = |\\mathbf{A}| |\\mathbf{B}| cos(\\theta)\n",
    "\\end{align}\n",
    "\n",
    "<img src=\"../../../ILAS_seminars/intro to python/img/dot_product.gif\" alt=\"Drawing\" style=\"width: 250px;\"/>\n",
    "\n",
    "$\\mathbf{B} cos(\\theta)$ is the component of $B$ acting in the direction of $A$.\n",
    "\n",
    "For example, the component of a force acting in the direction of the velocity of an object:\n",
    "\n",
    "<img src=\"../../../ILAS_seminars/intro to python/img/resolving_force.png\" alt=\"Drawing\" style=\"width: 250px;\"/>\n",
    "\n",
    "$$\n",
    "\\mathbf{F_{app,x}} = \\mathbf{F_{app}}cos(\\theta)\n",
    "$$\n",
    "\n",
    "__ALGEBRAIC REPRESENTATION__\n",
    "\n",
    ">The dot product of two $n$-length-vectors:\n",
    "> <br> $ \\mathbf{A} = [A_1, A_2, ... A_n]$\n",
    "> <br> $ \\mathbf{B} = [B_1, B_2, ... B_n]$\n",
    "> <br> is: \n",
    "\n",
    "\\begin{align}\n",
    "\\mathbf{A} \\cdot \\mathbf{B} = \\sum_{i=1}^n A_i B_i.\n",
    "\\end{align}\n",
    "\n",
    ">So the dot product of two 3D vectors:\n",
    "> <br> $ \\mathbf{A} = [A_x, A_y, A_z]$\n",
    "> <br> $ \\mathbf{B} = [B_x, B_y, B_z]$\n",
    "> <br> is:\n",
    "\n",
    "\\begin{align}\n",
    "\\mathbf{A} \\cdot \\mathbf{B} &= \\sum_{i=1}^n A_i B_i \\\\\n",
    "&= A_x B_x + A_y B_y + A_z B_z.\n",
    "\\end{align}"
   ]
  },
  {
   "cell_type": "markdown",
   "metadata": {},
   "source": [
    "__Example:__ \n",
    "<br> The dot product $\\mathbf{A} \\cdot \\mathbf{B}$:\n",
    "> <br> $ \\mathbf{A} = [1, 3, −5]$\n",
    "> <br> $ \\mathbf{B} = [4, −2, −1]$\n",
    "\n",
    "\n",
    "\n",
    "\\begin{align}\n",
    "      {\\displaystyle {\\begin{aligned}\\ [1,3,-5]\\cdot [4,-2,-1]&=(1)(4)+(3)(-2)+(-5)(-1)\\\\&=4-6+5\\\\&=3\\end{aligned}}} \n",
    "\\end{align}\n",
    "\n",
    "We can solve this very easily using a Python `for` loop.\n",
    "\n"
   ]
  },
  {
   "cell_type": "code",
   "execution_count": 124,
   "metadata": {},
   "outputs": [
    {
     "name": "stdout",
     "output_type": "stream",
     "text": [
      "3.0\n"
     ]
    }
   ],
   "source": [
    "A = [1.0, 3.0, -5.0]\n",
    "B = [4.0, -2.0, -1.0]\n",
    "\n",
    "# Create a variable called dot_product with value, 0.\n",
    "dot_product = 0.0\n",
    "\n",
    "for i in range(len(A)):\n",
    "    dot_product += A[i]*B[i]\n",
    "\n",
    "print(dot_product)"
   ]
  },
  {
   "cell_type": "markdown",
   "metadata": {
    "collapsed": true
   },
   "source": [
    "From is __GEOMETRIC__ representation, we can see that the dot product allows us to quickly solve many engineering-related problems \n",
    "\n",
    "\\begin{align}\n",
    "\\mathbf{A} \\cdot \\mathbf{B} = |\\mathbf{A}| |\\mathbf{B}| cos(\\theta)\n",
    "\\end{align}\n",
    "\n",
    "Examples:\n",
    " - Test if two vectors are:\n",
    "   - perpendicular ($\\mathbf{A} \\cdot \\mathbf{B}==0$)\n",
    "   - acute ($\\mathbf{A} \\cdot \\mathbf{B}>0$)\n",
    "   - obtuse ($\\mathbf{A} \\cdot \\mathbf{B}<0$)\n",
    " - Find the angle between two vectors (from its cosine).\n",
    " - Find the magnitude of one vector in the direction of another.\n",
    " <br>(e.g. resolving forces into their component directions). \n",
    " - Find physical quantities e.g. the work, W, when pushing an object a certain distance, d, with force, F:\n",
    " \n",
    " <img src=\"../../../ILAS_seminars/intro to python/img/work_equation.jpg\" alt=\"Drawing\" style=\"width: 300px;\"/>\n"
   ]
  },
  {
   "cell_type": "markdown",
   "metadata": {},
   "source": [
    "__Try it yourself:__ \n",
    "\n",
    "$\\mathbf{C} = [2, 4, 3.5]$\n",
    "\n",
    "$\\mathbf{D} = [1, 2, -6]$\n",
    "\n",
    "In the cell below find:\n",
    "$\\mathbf{C} \\cdot \\mathbf{D}$\n",
    "\n",
    "using a for loop and the indices of Python lists. \n",
    "\n",
    "Is the angle between the vectors obtuse or acute or are the vectors perpendicular? \n",
    "\n",
    "(Perpendicular if $\\mathbf{A} \\cdot \\mathbf{B}==0$, acute if $\\mathbf{A} \\cdot \\mathbf{B}>0$, or obtuse if $\\mathbf{A} \\cdot \\mathbf{B}<0$).\n",
    " "
   ]
  },
  {
   "cell_type": "code",
   "execution_count": 81,
   "metadata": {
    "collapsed": true
   },
   "outputs": [],
   "source": [
    "# The dot product of C and D"
   ]
  },
  {
   "cell_type": "markdown",
   "metadata": {
    "collapsed": true
   },
   "source": [
    "A *nested list* is a list within a list. (Recall a *nested loop* from Section 1). \n",
    "\n",
    "To access a __single element__ we need as many indices as there are levels of nested list. \n",
    "\n",
    "This is more easily explained with an example:"
   ]
  },
  {
   "cell_type": "code",
   "execution_count": 82,
   "metadata": {
    "collapsed": true
   },
   "outputs": [],
   "source": [
    "lab_group0 = [\"Sara\", \"Mika\", \"Ryo\", \"Am\"]\n",
    "lab_group1 = [\"Hemma\", \"Miri\", \"Qui\", \"Sajid\"]\n",
    "lab_group2 = [\"Adam\", \"Yukari\", \"Farad\", \"Fumitoshi\"]\n",
    "\n",
    "lab_groups = [lab_group0, lab_group1]"
   ]
  },
  {
   "cell_type": "markdown",
   "metadata": {},
   "source": [
    "`lab_group0`, `lab_group1` and `lab_group2` are nested within `lab_groups`.\n",
    "\n",
    "Therefore there are __two__ levels of nested lists.\n",
    "\n",
    "Therefore we need __two__ indices to select a single elememt from `lab_group0`, `lab_group1` or `lab_group2`. \n",
    "    The first index: a list (`lab_group0`, `lab_group1` or `lab_group2`). \n",
    "The second index: an element in that list. "
   ]
  },
  {
   "cell_type": "code",
   "execution_count": 125,
   "metadata": {},
   "outputs": [
    {
     "name": "stdout",
     "output_type": "stream",
     "text": [
      "['Sara', 'Mika', 'Ryo', 'Am']\n",
      "Qui\n"
     ]
    }
   ],
   "source": [
    "group = lab_groups[0]\n",
    "print(group)\n",
    "\n",
    "name = lab_groups[1][2]\n",
    "print(name)"
   ]
  },
  {
   "cell_type": "markdown",
   "metadata": {},
   "source": [
    "## 2.0 Tuples\n",
    "\n",
    "Tuples are similar to lists. \n",
    "\n",
    "However, after creatig a tuple:\n",
    " - you can't add or remove elements from it without creating a new tuple. \n",
    " - you can't change the value of a single tuple element e.g. by indexing. \n",
    "\n",
    "Tuples are therefore used for values that should not change after being created.\n",
    "<br> e.g. a vector of length three with fixed entries\n",
    "<br>It is 'safer' in this case since it cannot be modified accidentally in a program. \n",
    "\n",
    "To create a tuple, use round brackets. \n",
    "\n",
    "__Example__\n",
    "In Kyoto University, each professor is assigned an office.\n",
    "\n",
    "Philamore-sensei is given room 32:"
   ]
  },
  {
   "cell_type": "code",
   "execution_count": 85,
   "metadata": {},
   "outputs": [
    {
     "name": "stdout",
     "output_type": "stream",
     "text": [
      "Room allocation: ('Philamore', 32)\n",
      "Length of entry: 2\n",
      "<class 'tuple'>\n"
     ]
    }
   ],
   "source": [
    "room = (\"Philamore\", 32)\n",
    "\n",
    "print(\"Room allocation:\", room)\n",
    "\n",
    "print(\"Length of entry:\", len(room))\n",
    "\n",
    "print(type(room))"
   ]
  },
  {
   "cell_type": "markdown",
   "metadata": {},
   "source": [
    "We can *iterate* over tuples in the same way as with lists,"
   ]
  },
  {
   "cell_type": "code",
   "execution_count": 86,
   "metadata": {},
   "outputs": [
    {
     "name": "stdout",
     "output_type": "stream",
     "text": [
      "Philamore\n",
      "32\n"
     ]
    }
   ],
   "source": [
    "# Iterate over tuple values\n",
    "for d in room:\n",
    "    print(d)"
   ]
  },
  {
   "cell_type": "markdown",
   "metadata": {},
   "source": [
    "and we can index into a tuple:"
   ]
  },
  {
   "cell_type": "code",
   "execution_count": 15,
   "metadata": {},
   "outputs": [
    {
     "name": "stdout",
     "output_type": "stream",
     "text": [
      "32\n",
      "Philamore\n"
     ]
    }
   ],
   "source": [
    "# Index into tuple values\n",
    "print(room[1])\n",
    "print(room[0])"
   ]
  },
  {
   "cell_type": "markdown",
   "metadata": {},
   "source": [
    "__Note__ Take care when creating a tuple of length 1:"
   ]
  },
  {
   "cell_type": "code",
   "execution_count": 23,
   "metadata": {},
   "outputs": [
    {
     "name": "stdout",
     "output_type": "stream",
     "text": [
      "[1]\n",
      "1\n",
      "<class 'list'>\n"
     ]
    }
   ],
   "source": [
    "# Creating a list of length 1 \n",
    "a = [1]\n",
    "print(a)\n",
    "print(type(a))\n",
    "print(len(a))"
   ]
  },
  {
   "cell_type": "markdown",
   "metadata": {},
   "source": [
    "However, if we use the same process for a tuple:"
   ]
  },
  {
   "cell_type": "code",
   "execution_count": 26,
   "metadata": {},
   "outputs": [
    {
     "name": "stdout",
     "output_type": "stream",
     "text": [
      "1\n",
      "<class 'int'>\n"
     ]
    }
   ],
   "source": [
    "a = (1)\n",
    "print(a)\n",
    "print(type(a))\n",
    "#print(len(a))"
   ]
  },
  {
   "cell_type": "markdown",
   "metadata": {},
   "source": [
    "To create a tuple of length 1, we use a comma:"
   ]
  },
  {
   "cell_type": "code",
   "execution_count": 28,
   "metadata": {},
   "outputs": [
    {
     "name": "stdout",
     "output_type": "stream",
     "text": [
      "(1,)\n",
      "<class 'tuple'>\n",
      "1\n"
     ]
    }
   ],
   "source": [
    "a = (1,)\n",
    "print(a)\n",
    "print(type(a))\n",
    "print(len(a))"
   ]
  },
  {
   "cell_type": "code",
   "execution_count": 20,
   "metadata": {},
   "outputs": [
    {
     "data": {
      "text/plain": [
       "1"
      ]
     },
     "execution_count": 20,
     "metadata": {},
     "output_type": "execute_result"
    }
   ],
   "source": [
    "room = (\"Endo\",)\n",
    "print(\"Room allocation:\", room))\n",
    "print(\"Length of entry:\", len(room))\n",
    "print(type(room))"
   ]
  },
  {
   "cell_type": "markdown",
   "metadata": {},
   "source": [
    "As part of a rooms database, we can create a list of tuples:"
   ]
  },
  {
   "cell_type": "code",
   "execution_count": 127,
   "metadata": {},
   "outputs": [
    {
     "name": "stdout",
     "output_type": "stream",
     "text": [
      "[('Endo',), ('Philamore', 32), ('Matsuno', 31), ('Sawaragi', 28), ('Okino', 28), ('Kumegawa', 19)]\n"
     ]
    }
   ],
   "source": [
    "room_allocation = [(\"Endo\",), \n",
    "                   (\"Philamore\", 32), \n",
    "                   (\"Matsuno\", 31), \n",
    "                   (\"Sawaragi\", 28), \n",
    "                   (\"Okino\", 28), \n",
    "                   (\"Kumegawa\", 19)]\n",
    "\n",
    "print(room_allocation)"
   ]
  },
  {
   "cell_type": "markdown",
   "metadata": {},
   "source": [
    "Index into the list room allocation \n",
    "\n",
    "(See Section 2.3 for how to index into *nested* data structures.)\n",
    "\n",
    "In the cell below use indexing to print:\n",
    " - Matsuno-sensei's room number\n",
    " - Kumegawa-sensei's room number\n",
    " - The variable type of Kumegawa-sensei's room number"
   ]
  },
  {
   "cell_type": "code",
   "execution_count": 129,
   "metadata": {
    "collapsed": true
   },
   "outputs": [],
   "source": [
    "# Matsuno-sensei's room number\n",
    "\n",
    "# Kumegawa-sensei's room number\n",
    "\n",
    "# The Python variable type of Kumegawa-sensei's room number\n"
   ]
  },
  {
   "cell_type": "markdown",
   "metadata": {},
   "source": [
    "To make it easier to look up the office number each professor, we can __sort__ the list of tuples into an office directory.\n",
    "\n",
    "The ordering rule is determined by the __first element__ of each tuple.\n",
    "\n",
    "If the first element of each tuple is a numeric type (`int`, `float`...) the tulpes are sorted by ascending numerical order of the first element:\n",
    "\n",
    "If the first element of each tuple is a `string` (as in this case), the tuples are sorted by alphabetical order of the first element.\n",
    "\n",
    "Look back at Section 2.2 (Manipulating Lists) and remind yourself how to sort a list.\n",
    "\n",
    "In the cell provided below, sort the list, `room_allocation` by alphabetical order. "
   ]
  },
  {
   "cell_type": "code",
   "execution_count": 43,
   "metadata": {},
   "outputs": [
    {
     "name": "stdout",
     "output_type": "stream",
     "text": [
      "[('Endo',), ('Kumegawa', 19), ('Matsuno', 31), ('Okino', 28), ('Philamore', 32), ('Sawaragi', 28)]\n"
     ]
    }
   ],
   "source": [
    "# room_allocation sorted by alphabetical order"
   ]
  },
  {
   "cell_type": "markdown",
   "metadata": {},
   "source": [
    "The office directory can be improved by excluding professors who do not have an office at Yoshida campus:"
   ]
  },
  {
   "cell_type": "code",
   "execution_count": 45,
   "metadata": {},
   "outputs": [
    {
     "name": "stdout",
     "output_type": "stream",
     "text": [
      "Name: Kumegawa , Room: 19\n",
      "Name: Matsuno , Room: 31\n",
      "Name: Okino , Room: 28\n",
      "Name: Philamore , Room: 32\n",
      "Name: Sawaragi , Room: 28\n"
     ]
    }
   ],
   "source": [
    "for entry in room_allocation:\n",
    "    \n",
    "    # only professors with an office have an entry length > 1\n",
    "    if len(entry) > 1:\n",
    "        print(\"Name:\", entry[0], \", Room:\", entry[1])"
   ]
  },
  {
   "cell_type": "markdown",
   "metadata": {},
   "source": [
    "In summary, use tuples over lists when the length will not change."
   ]
  },
  {
   "cell_type": "markdown",
   "metadata": {},
   "source": [
    "## 3.0 Dictionaries (maps)\n",
    "\n",
    "We used a list of tuples in the previous section to store room allocations. \n",
    "\n",
    "What if we wanted to use a program to find which room a particular professor has been allocated?\n",
    "\n",
    "we would need to either:\n",
    "- iterate through the list and check each name. \n",
    "\n",
    "> For a very large list, this might not be very efficient.\n",
    "\n",
    "- use the index to select a specific entry of a list or tuple. \n",
    "\n",
    "> This works if we know the index to the entry of interest. For a very large list, this is unlikely.\n",
    "\n",
    "\n",
    "\n",
    "\n",
    "\n",
    "A human looking would identify individuals in an office directory by name (or \"keyword\") rather than a continuous set of integers. \n",
    "\n",
    "Using a Python __dictionary__ we can build a 'map' from names (*keys*) to room numbers (*values*). \n",
    "\n",
    "A Python dictionary (`dict`) is declared using curly braces:"
   ]
  },
  {
   "cell_type": "code",
   "execution_count": 135,
   "metadata": {},
   "outputs": [
    {
     "name": "stdout",
     "output_type": "stream",
     "text": [
      "{'Okino': 28, 'Matsuno': 31, 'Kumegawa': 19, 'Sawaragi': 28, 'Philamore': 32, 'Endo': None}\n",
      "<class 'dict'>\n"
     ]
    }
   ],
   "source": [
    "room_allocation = {\"Endo\": None, \n",
    "                   \"Philamore\": 32, \n",
    "                   \"Matsuno\": 31, \n",
    "                   \"Sawaragi\": 28, \n",
    "                   \"Okino\": 28, \n",
    "                   \"Kumegawa\": 19}\n",
    "\n",
    "print(room_allocation)\n",
    "\n",
    "print(type(room_allocation))"
   ]
  },
  {
   "cell_type": "markdown",
   "metadata": {},
   "source": [
    "Each entry is separated by a comma. \n",
    "\n",
    "For each entry we have:\n",
    " - a 'key' (followed by a colon)\n",
    " - a 'value'. \n",
    " \n",
    "__Note:__ For empty values (e.g. `Endo` in the example above) we use '`None`' for the value.\n",
    "\n",
    "`None` is a Python keyword for 'nothing' or 'empty'.\n",
    "\n",
    "Now if we want to know which office belongs to Philamore-sensei, we can query the dictionary by key:"
   ]
  },
  {
   "cell_type": "code",
   "execution_count": 136,
   "metadata": {},
   "outputs": [
    {
     "name": "stdout",
     "output_type": "stream",
     "text": [
      "32\n"
     ]
    }
   ],
   "source": [
    "philamore_office = room_allocation[\"Philamore\"]\n",
    "print(philamore_office)"
   ]
  },
  {
   "cell_type": "markdown",
   "metadata": {},
   "source": [
    "We can __*iterate*__ over the keys in a dictionary as we iterated over the elements of a list or tuple:\n",
    "\n",
    "__Try it yourself:__\n",
    "<br>\n",
    "Refer back to Sections 2.1.3 and 2.2 to remind yourself how to *iterate* over a data structure.\n",
    "<br>\n",
    "Using __exactly the same method__, iterate over the entries in the dictionary `room allocation` using a `for` loop.\n",
    "<br>\n",
    "Each time the code loops, print the next dictionary entry. "
   ]
  },
  {
   "cell_type": "code",
   "execution_count": 137,
   "metadata": {
    "collapsed": true
   },
   "outputs": [],
   "source": [
    "# iterate over the dictionary, room_allocation.\n",
    "# print each entry\n"
   ]
  },
  {
   "cell_type": "markdown",
   "metadata": {},
   "source": [
    "We can also iterate over `keys` and `values` seperately by:\n",
    " - creating two variable names before `in` \n",
    " - putting `items()` after the dictionary name"
   ]
  },
  {
   "cell_type": "code",
   "execution_count": 138,
   "metadata": {},
   "outputs": [
    {
     "name": "stdout",
     "output_type": "stream",
     "text": [
      "Okino 28\n",
      "Matsuno 31\n",
      "Kumegawa 19\n",
      "Sawaragi 28\n",
      "Philamore 32\n",
      "Endo None\n"
     ]
    }
   ],
   "source": [
    "for name, room_number in room_allocation.items():\n",
    "    print(name, room_number)    "
   ]
  },
  {
   "cell_type": "markdown",
   "metadata": {},
   "source": [
    "__Try it yourself__<br>\n",
    "Copy and paste the code from the cell above.\n",
    "<br>\n",
    "Edit it so that it prints the names only. \n",
    "\n",
    "Remember you can __\"comment out\"__ the existing code (instead of deleting it) so that you can refer to it later.\n",
    "e.g.\n",
    "```python\n",
    "#print(name, room_number)\n",
    "```\n"
   ]
  },
  {
   "cell_type": "code",
   "execution_count": 139,
   "metadata": {
    "collapsed": true
   },
   "outputs": [],
   "source": [
    "# iterate over the dictionary, room_allocation.\n",
    "# print each name"
   ]
  },
  {
   "cell_type": "markdown",
   "metadata": {},
   "source": [
    "Note that the order of the printed entries in the dictionary is different from the input order. \n",
    "<br>\n",
    "A dictionary stores data differently from a list or tuple. \n",
    "<br>\n",
    "Lists and tuples store entries as continuous pieces of memory, which is why we can access entries by index. \n",
    "<br>\n",
    "Indexing cannot be used to access the entries of a dictionary. For example:\n",
    "```python\n",
    "print(room_allocation[0])\n",
    "```\n",
    "raises an error. \n",
    "<br>\n",
    "\n",
    "Dictionaries use a different type of storage which allows us to perform look-ups using a 'key'.\n",
    "\n",
    "\n",
    "\n"
   ]
  },
  {
   "cell_type": "code",
   "execution_count": 140,
   "metadata": {},
   "outputs": [
    {
     "name": "stdout",
     "output_type": "stream",
     "text": [
      "32\n"
     ]
    }
   ],
   "source": [
    "print(room_allocation[\"Philamore\"])"
   ]
  },
  {
   "cell_type": "markdown",
   "metadata": {},
   "source": [
    "And we use this same code to add new entries to an existing dictionary: "
   ]
  },
  {
   "cell_type": "code",
   "execution_count": 141,
   "metadata": {},
   "outputs": [
    {
     "name": "stdout",
     "output_type": "stream",
     "text": [
      "{'Okino': 28, 'Matsuno': 31, 'Kumegawa': 19, 'Sawaragi': 28, 'Philamore': 32, 'Endo': None}\n",
      "\n",
      "{'Okino': 28, 'Matsuno': 31, 'Fujiwara': 34, 'Kumegawa': 19, 'Sawaragi': 28, 'Philamore': 32, 'Endo': None}\n"
     ]
    }
   ],
   "source": [
    "print(room_allocation)\n",
    "\n",
    "room_allocation[\"Fujiwara\"]= 34\n",
    "\n",
    "print(\"\")\n",
    "\n",
    "print(room_allocation)\n"
   ]
  },
  {
   "cell_type": "markdown",
   "metadata": {},
   "source": [
    "To remove an item from a disctionary we use the command `del`."
   ]
  },
  {
   "cell_type": "code",
   "execution_count": 142,
   "metadata": {},
   "outputs": [
    {
     "name": "stdout",
     "output_type": "stream",
     "text": [
      "{'Okino': 28, 'Matsuno': 31, 'Fujiwara': 34, 'Kumegawa': 19, 'Sawaragi': 28, 'Philamore': 32, 'Endo': None}\n",
      "\n",
      "{'Okino': 28, 'Matsuno': 31, 'Kumegawa': 19, 'Sawaragi': 28, 'Philamore': 32, 'Endo': None}\n"
     ]
    }
   ],
   "source": [
    "print(room_allocation)\n",
    "\n",
    "del room_allocation[\"Fujiwara\"]\n",
    "\n",
    "print(\"\")\n",
    "\n",
    "print(room_allocation)"
   ]
  },
  {
   "cell_type": "markdown",
   "metadata": {},
   "source": [
    "__Try it yourself__\n",
    "<br>\n",
    "Okino-sensei is leaving Kyoto University. Her office will be re-allocated to a new member of staff, Ito-sensei.\n",
    "<br>\n",
    "In the cell below, update the dictionary by deleting the entry for Okino-sensei and creating a new entry for Ito-sensei."
   ]
  },
  {
   "cell_type": "code",
   "execution_count": 143,
   "metadata": {
    "collapsed": true
   },
   "outputs": [],
   "source": [
    "# Remove Okino-sensei (room 28) from the dictionary.\n",
    "# Add a new entry for Ito-sensei (room 28)"
   ]
  },
  {
   "cell_type": "markdown",
   "metadata": {},
   "source": [
    "So far we have used a string variable types for the dictionary keys.\n",
    "<br>\n",
    "However, we can use almost any variable type as a key and we can mix types. \n",
    "\n",
    "__Example__: We could 'invert' the room allocation dictionary to create a room-to-name map.\n",
    "\n",
    "We are going to build a new dictionary (`room_map`) by looping through the old dictionary (`room_allocation`) using a `for` loop:"
   ]
  },
  {
   "cell_type": "code",
   "execution_count": 144,
   "metadata": {},
   "outputs": [
    {
     "name": "stdout",
     "output_type": "stream",
     "text": [
      "{32: 'Philamore', None: 'Endo', 19: 'Kumegawa', 28: 'Sawaragi', 31: 'Matsuno'}\n"
     ]
    }
   ],
   "source": [
    "# Create empty dictionary\n",
    "room_map = {}\n",
    "\n",
    "# Build dictionary to map 'room number' -> name \n",
    "for name, room_number in room_allocation.items():\n",
    "    \n",
    "    # Insert entry into new dictionary\n",
    "    room_map[room_number] = name\n",
    "\n",
    "print(room_map)"
   ]
  },
  {
   "cell_type": "markdown",
   "metadata": {},
   "source": [
    "We can now consult the room-to-name map to find out if a particular room is occupied and by whom.\n",
    "\n",
    "Let's assume some rooms are unoccupied and therefore do not exist in this dictionary.\n",
    "\n",
    "If we try to use a key that does not exist in the dictionary, e.g.\n",
    "\n",
    "   occupant17 = room_map[17]\n",
    "\n",
    "Python will give an error (raise an exception). \n",
    "<br>\n",
    "If we're not sure that a __key__ is present (that a room is occupied or unocupied in this case), we can check using the funstion in '`in`' \n",
    "<br>(we used this function to check wether an entry exists in a __list__)\n",
    "\n"
   ]
  },
  {
   "cell_type": "code",
   "execution_count": 146,
   "metadata": {},
   "outputs": [
    {
     "name": "stdout",
     "output_type": "stream",
     "text": [
      "True\n",
      "False\n",
      "False\n"
     ]
    }
   ],
   "source": [
    "print(19 in room_map)\n",
    "print(17 in room_map)"
   ]
  },
  {
   "cell_type": "markdown",
   "metadata": {},
   "source": [
    "So we know that:\n",
    " - room 17 is unoccupied\n",
    " - room 19 is occupied\n"
   ]
  },
  {
   "cell_type": "markdown",
   "metadata": {},
   "source": [
    "When using `in`, take care to check for the __key__ (not the value)"
   ]
  },
  {
   "cell_type": "code",
   "execution_count": 147,
   "metadata": {},
   "outputs": [
    {
     "name": "stdout",
     "output_type": "stream",
     "text": [
      "False\n"
     ]
    }
   ],
   "source": [
    "print('Kumegawa' in room_map)"
   ]
  },
  {
   "cell_type": "markdown",
   "metadata": {},
   "source": [
    "We could `in` to avoid generating errors if unoccupied room numbers are entered.  \n",
    "\n",
    "For example, in a program that checks the occupants of rooms by entreing the room number: "
   ]
  },
  {
   "cell_type": "code",
   "execution_count": 148,
   "metadata": {},
   "outputs": [
    {
     "name": "stdout",
     "output_type": "stream",
     "text": [
      "Room 17 is unoccupied.\n",
      "Room 19 is occupied by Kumegawa -sensei\n"
     ]
    }
   ],
   "source": [
    "rooms_to_check = [17, 19]\n",
    "\n",
    "for room in rooms_to_check:\n",
    "    \n",
    "    if room in room_map:\n",
    "        print(\"Room\", room, \"is occupied by\", room_map[room], \"-sensei\")\n",
    "    \n",
    "    else:\n",
    "        print(\"Room\", room, \"is unoccupied.\")"
   ]
  },
  {
   "cell_type": "markdown",
   "metadata": {},
   "source": [
    "## 4.0 Choosing a data structure\n",
    "\n",
    "An important task when developing a computer program is selecting the *appropriate* data structure for a task.\n",
    "\n",
    "Here are some examples of the suitablity of the data types we have studied for some common computing tasks.\n",
    "\n",
    "- __Dynamically changing individual elements of a data structure.__ \n",
    "<br> \n",
    "e.g. updating the occupant of a room number or adding a name to a list of group members.<br> \n",
    "__Lists and dictionaries__ allow us to do this.<br> \n",
    "__Tuples__ do not.\n",
    "\n",
    "\n",
    "- __Storing items in a perticular sequence (so that they can be addressed by index or in a particular order)__.\n",
    "<br> \n",
    "e.g. representing the x, y, z coordinates of a 3D position vector, storing data collected from an experiment as a time series. \n",
    "<br> \n",
    "__Lists and tuples__ allow us to do this.\n",
    "<br> \n",
    "__Dictionaries__ do not.\n",
    "\n",
    "\n",
    "- __Performing an operation on every item in a sequence.__ \n",
    "<br> \n",
    "e.g. checking every item in a data set against a particular condition (e.g. prime number, multiple of 5....etc), performing an algebraic operation on every item in a data set. \n",
    "<br> \n",
    "__Lists and tuples__ make this simple as we can call each entry in turn using its index.\n",
    "<br> \n",
    "__Dictionaries__ this is less efficient as it requires more code.\n",
    "\n",
    "\n",
    "- __Selecting a single item from a data structure without knowing its position in a sequence.__  \n",
    "e.g. looking up the profile of a person using their name, avoiding looping through a large data set in order to identify a single entry. \n",
    "<br> \n",
    "__Dictionaries__ allow us to select a single entry by an associated (unique) key variable.\n",
    "<br> \n",
    "__Lists and tuples__ make this difficult as to pick out a single value we must either i) know it's position in an ordered sequence, ii)loop through every item until we find it. \n",
    "\n",
    "\n",
    "- __Protecting individual items of a data sequence from being added, removed or changed within the program.__\n",
    "<br>\n",
    "e.g. representing a vector of fixed length with fixed values, representing the coordintes of a fixed point. \n",
    "<br> \n",
    "__Tuples__ allow us to do this.\n",
    "<br> \n",
    "__Lists and dictionaries__ do not. \n",
    "\n",
    "\n",
    "- __Speed__\n",
    "For many numerical computations, efficiency is essential. More flexible data structures are generally less efficient computationally. They require more computer memory. We will study the difference in speed there can be between different data structures in a later seminar."
   ]
  },
  {
   "cell_type": "markdown",
   "metadata": {},
   "source": [
    "## 5.0 Review Exercises\n",
    "Here are a series of engineering problems for you to practise each of the new Python skills that you have learnt today."
   ]
  },
  {
   "cell_type": "markdown",
   "metadata": {},
   "source": [
    "### 5.1 Review Exercise:  <a name=\"back1\"></a> Data structures.\n",
    "\n",
    "__(A)__ In the cell below, what type of data structure is C?\n",
    "\n",
    "__(B)__ Write a line of code that checks whether 3 exists within the data strcuture.\n",
    "\n",
    "__(C)__ Write a line of code that checks whether 3.0 exists within the data strcuture.\n",
    "\n",
    "__(D)__ Write a line of code that checks whether \"3\" exists within the data strcuture.\n"
   ]
  },
  {
   "cell_type": "code",
   "execution_count": 94,
   "metadata": {
    "collapsed": true
   },
   "outputs": [],
   "source": [
    "C = (2, 3, 5, 6, 1, \"hello\")"
   ]
  },
  {
   "cell_type": "markdown",
   "metadata": {},
   "source": [
    "### 5.2 Review Exercise:  <a name=\"back1\"></a> `for` loops.\n",
    "\n",
    "In the cell below, create a list with the names of the months. \n",
    "<br>\n",
    "Create a second list with the number of days in each month (for a regular year). \n",
    "<br>\n",
    "Create a `for` loop that prints:\n",
    "\n",
    "`The number of days in MONTH is XX days`\n",
    "\n",
    "where, `MONTH` is the name of the month and `XX` is the correct number of days in that month.\n",
    "\n",
    "Hint: See computing the dot product in Section 2.1.3 for how to use two vectors in a loop."
   ]
  },
  {
   "cell_type": "code",
   "execution_count": 95,
   "metadata": {
    "collapsed": true
   },
   "outputs": [],
   "source": [
    "# A for loop to print the number of days in each month"
   ]
  },
  {
   "cell_type": "markdown",
   "metadata": {},
   "source": [
    "\n",
    "### 5.3 Review Exercise:  <a name=\"back1\"></a> Indexing.\n",
    "\n",
    "__(A)__ In the cell below write a program that adds two vectors, $\\mathbf{A}$ and $\\mathbf{B}$, expressed as lists \n",
    "<br> (Hint: See computing the dot product in Section 2.1.3 for how to use two vectors in a loop).\n",
    "\n",
    "The vectors can be of any length ($n$).\n",
    "<br> However the length of the two vectors must be equal (or an error will be generated). \n",
    "\n",
    " $ \\mathbf{A} = [A_1, A_2, ... A_n]$\n",
    " \n",
    " $ \\mathbf{B} = [B_1, B_2, ... B_n]$\n",
    " \n",
    " $ \\mathbf{A} + \\mathbf{B} = [(A_1 + B_1), \n",
    "                              (A_2 + B_2),\n",
    "                              ...\n",
    "                              (A_n + B_n)]$\n",
    "Use your code to add vectors:\n",
    "\n",
    "$\\mathbf{A} = [-2, 1, 3]$\n",
    "\n",
    "$\\mathbf{B} = [6, 2, 2]$\n",
    "                              \n",
    " \n",
    "<br>\n",
    "__(B)__ Use the function `len()` (Section 2.1) to \n",
    "find the length of $\\mathbf{A}$ and the length of $\\mathbf{B}$ before adding the two vectors.\n",
    "\n",
    "<br>\n",
    "__(C)__ Use a logical operator (`==`, `<`, `>`....) to determine if the length of $\\mathbf{A}$ and the length of $\\mathbf{B}$ are equal or unequal(Seminar 1, Section 7.1)before adding the two vectors.\n",
    "\n",
    "<br>\n",
    "__(D)__ Use `if` and `else` statements (Section 1.1) to:\n",
    "- perform the addition __only__ if the length of $\\mathbf{A}$ and the length of $\\mathbf{B}$ are equal.\n",
    "- print a message  (e.g. \"`unequal vector length!`\") and __do not__ perform the addition, if the length of $\\mathbf{A}$ and the length of $\\mathbf{B}$ are unequal.   \n",
    "\n",
    "<br>\n",
    "__(E)__ Check your code works by testing it using vectors of equal length and vectors of mismatched length."
   ]
  },
  {
   "cell_type": "code",
   "execution_count": 96,
   "metadata": {
    "collapsed": true
   },
   "outputs": [],
   "source": [
    "# Vector addition program with length check."
   ]
  },
  {
   "cell_type": "markdown",
   "metadata": {},
   "source": [
    "### 5.4 Review Exercise: <a name=\"back1\"></a> `if` and `else` statements.\n",
    "\n",
    "__(A)__ Copy and paste the program you wrote earlier to find the dot product of two vectors (Section 2.1.3) into the cell below.\n",
    "\n",
    "__(B)__ Within the loop use `if`, `elif` and else `else` to make the program print:\n",
    " - \"`The angle between vectors is acute`\" if the dot product is positive.\n",
    " - \"`The angle between vectors is obtuse`\" if the dot product is negative.\n",
    " - \"`The vectors are perpendicular`\" if the dot product is 0."
   ]
  },
  {
   "cell_type": "code",
   "execution_count": 97,
   "metadata": {
    "collapsed": true
   },
   "outputs": [],
   "source": [
    "# Determinig angle types using the dot product."
   ]
  },
  {
   "cell_type": "markdown",
   "metadata": {},
   "source": [
    "### 5.5 Review Exercise: <a name=\"back1\"></a> Dictionaries.\n",
    "\n",
    "<img src=\"../../../ILAS_seminars/intro to python/img/periodic_table.gif\" alt=\"Drawing\" style=\"width: 300px;\"/>\n",
    "\n",
    "__(A)__ Choose 5 elements from the periodic table.\n",
    "<br>\n",
    "In the cell below create a dictionary: \n",
    " - __keys:__ chemical symbol names \n",
    " - __values:__ atomic numbers \n",
    " \n",
    " e.g. \n",
    " ```python\n",
    " dictionary = {\"C\":6, \"N\":7, \"O\":8....}\n",
    " ```\n",
    "\n",
    "__(B)__ Remove one entry from the dictionary and print it.\n",
    "\n",
    "__(C)__ Add a new entry (chemical symbol and atomic number) to the dictionary and print it.\n",
    "\n",
    "__(D)__ Use a `for` loop to create a new dictionary:  \n",
    " - __keys:__ atomic numbers \n",
    " - __values:__ chemical symbols\n",
    "using your original dictionary (See section 2.3)\n",
    "\n",
    "__*Optional Extension*__\n",
    "\n",
    "Generate a __list__ of the chemical symbols in your dictionary, sorted into alphabetical order.\n",
    "Hints:\n",
    " - Create an empty list (Section 2.1)\n",
    " - Use a for loop to add each chemical symbol to the list (Section 2.3 shows how to add to a data structure with each loop, Section 2.1.2 shows how to add an item to a list)\n",
    " - Put the list in alphabetical order (2.1.2)"
   ]
  },
  {
   "cell_type": "code",
   "execution_count": 98,
   "metadata": {
    "collapsed": true
   },
   "outputs": [],
   "source": [
    "# Dictionary of periodic table items."
   ]
  },
  {
   "cell_type": "markdown",
   "metadata": {},
   "source": [
    "\n",
    " "
   ]
  },
  {
   "cell_type": "markdown",
   "metadata": {},
   "source": [
    "## 5.6 Extension Exercise: Selecting data structures.\n",
    "\n",
    "<img src=\"../../../ILAS_seminars/intro to python/img/2d_poly.png\" alt=\"Drawing\" style=\"width: 300px;\"/>\n",
    "\n",
    "For a simple (non-intersecting) polygon:\n",
    "\n",
    " - with $n$ vertices \n",
    " ($(x_0, y_0)$, $(x_1, y_1, ...x_{n-1}, y_{n-1})$\n",
    " - where $(x_n, y_n) = (x_0, y_0)$. \n",
    " - where the vertices are ordered as you move around the polygon.\n",
    "\n",
    "the area $A$ is given by:\n",
    "$$\n",
    "A = \\left| \\frac{1}{2} \\sum_{i=0}^{n-1} \\left(x_{i} y _{i+1} - x_{i+1} y_{i} \\right) \\right|\n",
    "$$\n",
    "\n",
    "Write a program that computes the area of a simple polygon with an arbitrary number of vertices.\n",
    "\n",
    "Write a for loop to to the summation as you did when finding the dot product. \n",
    "\n",
    "Before doing this you must choose a data structure to represent the coordinates of each vertex of the polygon. \n",
    "\n",
    "Test your function for some simple shapes. "
   ]
  },
  {
   "cell_type": "code",
   "execution_count": 99,
   "metadata": {
    "collapsed": true
   },
   "outputs": [],
   "source": [
    "# Program to calculate the area of a polygon."
   ]
  },
  {
   "cell_type": "markdown",
   "metadata": {
    "collapsed": true
   },
   "source": [
    "## Summary: Data Structures\n",
    " - A data structure is used to assign a collection of values to a single collection name.\n",
    " - A Python list can store multiple items of data in sequentially numbered elements (numbering starts at zero)\n",
    " - Data stored in a list element can be referenced using the list name can be referenced using the list name followed by an index number in [] square brackets.\n",
    " - The `len()` function returns the length of a specified list.\n",
    " - A Python tuple whose values can not be individually changed, removed or added to (except by adding another tuple).\n",
    " - Data stored in a tuple element can be referenced using the tuple name followed by an index number in [] square brackets.\n",
    " - A Python dictionary is a list of key: value pairs of data in which each key must be unique.\n",
    " - Data stored in a dictionary element can be referenced using the dictionary name followed by its key in [] square brackets. "
   ]
  },
  {
   "cell_type": "code",
   "execution_count": null,
   "metadata": {
    "collapsed": true
   },
   "outputs": [],
   "source": []
  }
 ],
 "metadata": {
  "kernelspec": {
   "display_name": "Python 3",
   "language": "python",
   "name": "python3"
  },
  "language_info": {
   "codemirror_mode": {
    "name": "ipython",
    "version": 3
   },
   "file_extension": ".py",
   "mimetype": "text/x-python",
   "name": "python",
   "nbconvert_exporter": "python",
   "pygments_lexer": "ipython3",
   "version": "3.6.1"
  }
 },
 "nbformat": 4,
 "nbformat_minor": 2
}
