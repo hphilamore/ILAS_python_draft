{
 "cells": [
  {
   "cell_type": "markdown",
   "metadata": {
    "collapsed": true
   },
   "source": [
    "# Functions\n",
    "\n",
    "## Lesson Goal\n",
    "\n",
    "To encapsulate the code you have been writing to solve engineering problems as Python functions. \n",
    "\n",
    "## Objectives\n",
    "\n",
    "- Learn to write a user-defined Python function.  \n",
    "- Pass arguments to a function to give it inputs.\n",
    "- Use global and local variables within functions.  \n",
    "- Generate sequences of values recursively using functions [and generators].\n",
    "- [Generating functions using an alternative method (lamda functions)]."
   ]
  },
  {
   "cell_type": "markdown",
   "metadata": {},
   "source": [
    "# 1. What is a function?\n",
    "\n",
    "Functions are one of the most important concepts in computing. \n",
    "\n",
    "In mathematics, a function is a relation between __inputs__ and a set of permissible __outputs__.\n",
    "\n",
    "Example: The function relating $x$ to $x^2$ is:\n",
    "$$ \n",
    "f(x) = x \\cdot x\n",
    "$$"
   ]
  },
  {
   "cell_type": "markdown",
   "metadata": {},
   "source": [
    "In programming, a function behaves in a similar way. \n",
    "\n",
    "__Function__: A named section of a code that performs a specific task. \n",
    "\n",
    "Functions can (although do no always) take data as __inputs__ and return __outputs__.\n",
    "\n",
    " \n",
    "A simple function example:\n",
    " - Inputs: the coordinates of the vertices of a triangle.\n",
    " - Output: the area of the triangle. "
   ]
  },
  {
   "cell_type": "markdown",
   "metadata": {},
   "source": [
    "You are already familiar with some *built in* Python functions:\n",
    "\n",
    "   - `print()` takes the __input__ in the parentheses and __outputs__ a visible representation.\n",
    "   - `len()` takes a data structure as __input__ in the parentheses and __outputs__ the number of items in the data structure (in one direction).\n",
    "   - `sorted()` takes a data structure as __input__ in the parentheses and __outputs__ the data structure sorted by a rule determined by the data type.\n",
    "   \n",
    "   \n"
   ]
  },
  {
   "cell_type": "markdown",
   "metadata": {},
   "source": [
    "Most Python programs contain a number of *custom functions*. \n",
    "\n",
    "These are functions, created by the programmer (you!) to perform a specific task."
   ]
  },
  {
   "cell_type": "markdown",
   "metadata": {},
   "source": [
    "## 1.1 The Anatomy of a Function\n",
    "\n",
    "Here is a python function in pseudocode:\n",
    "        \n",
    "        def function_name():\n",
    "            code to execute\n",
    "            more code to execute\n",
    "            \n",
    "\n"
   ]
  },
  {
   "cell_type": "markdown",
   "metadata": {},
   "source": [
    "A custom function is __declared__ using:\n",
    "1. The definition keyword, `def`.\n",
    "1. A name of your choice.\n",
    "1. () parentheses\n",
    "1. : a colon character\n",
    "1. The code to be executed when the function is *called*. "
   ]
  },
  {
   "cell_type": "markdown",
   "metadata": {},
   "source": [
    "Below is an example of a Python function.\n"
   ]
  },
  {
   "cell_type": "code",
   "execution_count": null,
   "metadata": {
    "collapsed": true
   },
   "outputs": [],
   "source": [
    "def sum_and_increment(a, b):    \n",
    "    c = a + b + 1\n",
    "    return c"
   ]
  },
  {
   "cell_type": "markdown",
   "metadata": {},
   "source": [
    "The function name is `sum_and_increment`.<br>\n",
    "The function has two __inputs__ (*arguments*), `a` and `b`.<br>\n",
    "Function arguments are placed within the () parentheses.\n",
    "\n",
    "  ```python\n",
    "  def sum_and_increment(a, b): \n",
    "  \n",
    "  ```\n",
    "The code to be executed when the function is called (*the body*) is indented by four spaces. <br>\n",
    "(Indentation happens automatically following `def`).<br>\n",
    "Code indented to the same level (or less) as `def` falls __outside__ of the function body.\n",
    "\n",
    "  ```python\n",
    "      c = a + b + 1\n",
    "      return c\n",
    "  ```\n",
    "\n",
    "There is usually (though not always) a __`return`__ statement. <br>\n",
    "This defines what result the function should return. <br>\n",
    "It is often placed at the end of a function."
   ]
  },
  {
   "cell_type": "markdown",
   "metadata": {},
   "source": [
    "It is best practise to include a *documentation string*.<br> \n",
    "The \"doc string\" describes __in words__ what the function does.<br> \n",
    "It begins and end with `\"\"\"`.<br>\n",
    "The doc-string is __optional__ however it makes your code more understandadble to you and other people using it. \n",
    "<br>"
   ]
  },
  {
   "cell_type": "code",
   "execution_count": null,
   "metadata": {
    "collapsed": true
   },
   "outputs": [],
   "source": [
    "def sum_and_increment(a, b):\n",
    "    \"\"\"\"\n",
    "    Return the sum of a and b, plus 1\n",
    "    \"\"\"\n",
    "    c = a + b + 1\n",
    "    return c\n"
   ]
  },
  {
   "cell_type": "markdown",
   "metadata": {},
   "source": [
    "To execute (*call*) the function, type:\n",
    " - a variable name to store the output (`n` in the example below)\n",
    " - the function name\n",
    " - any arguments in parentheses"
   ]
  },
  {
   "cell_type": "code",
   "execution_count": null,
   "metadata": {
    "collapsed": true
   },
   "outputs": [],
   "source": [
    "m = sum_and_increment(3, 4)\n",
    "print(m)  # Expect 8\n",
    "\n",
    "m = 10\n",
    "n = sum_and_increment(m, m)\n",
    "print(n)  # Expect 21\n",
    "\n",
    "#m = sum_and_increment(2, 1)\n",
    "#print(m) \n",
    "\n",
    "#l = 5\n",
    "#m = 6\n",
    "#n = sum_and_increment(m, l)\n",
    "#print(m) \n",
    "\n",
    "#m = 2\n",
    "#m = sum_and_increment(m, m)\n",
    "#print(m) "
   ]
  },
  {
   "cell_type": "markdown",
   "metadata": {},
   "source": [
    "Example: a function that:\n",
    "- does not take any arguments\n",
    "- does not return any variables."
   ]
  },
  {
   "cell_type": "code",
   "execution_count": 4,
   "metadata": {},
   "outputs": [
    {
     "name": "stdout",
     "output_type": "stream",
     "text": [
      "The function 'print_message' has been called.\n"
     ]
    }
   ],
   "source": [
    "def print_message():\n",
    "    print(\"The function 'print_message' has been called.\")\n",
    "\n",
    "print_message()"
   ]
  },
  {
   "cell_type": "markdown",
   "metadata": {},
   "source": [
    "Functions are ideal for repetitive tasks. <br>\n",
    "Computer code can be re-used multiple times with different input data. <br>\n",
    "Re-using code reduces the risk of making mistakes or errors. \n",
    "\n"
   ]
  },
  {
   "cell_type": "markdown",
   "metadata": {},
   "source": [
    "Below is a simple example of a function using `if` and `else` control statements.`\n",
    "\n"
   ]
  },
  {
   "cell_type": "code",
   "execution_count": 7,
   "metadata": {
    "collapsed": true
   },
   "outputs": [],
   "source": [
    "def process_value(x):\n",
    "    \"Return a value that depends on the input value x \"\n",
    "    if x > 10:\n",
    "        return 0\n",
    "    elif x > 5:\n",
    "        return x*x\n",
    "    elif x > 0:\n",
    "        return x**3\n",
    "    else:\n",
    "        return x"
   ]
  },
  {
   "cell_type": "markdown",
   "metadata": {},
   "source": [
    "By placing these in a function we can avoid duplicating the `if-elif-else` statement every time we want to use it. \n"
   ]
  },
  {
   "cell_type": "code",
   "execution_count": 8,
   "metadata": {},
   "outputs": [
    {
     "name": "stdout",
     "output_type": "stream",
     "text": [
      "27\n"
     ]
    }
   ],
   "source": [
    "print(process_value(3))"
   ]
  },
  {
   "cell_type": "markdown",
   "metadata": {},
   "source": [
    "Below is a simple example of a function being 'called' numerous times from inside a `for` loop."
   ]
  },
  {
   "cell_type": "code",
   "execution_count": 14,
   "metadata": {},
   "outputs": [
    {
     "name": "stdout",
     "output_type": "stream",
     "text": [
      "0\n",
      "1\n",
      "8\n",
      "0\n",
      "1\n",
      "8\n"
     ]
    }
   ],
   "source": [
    "for x in range(3):\n",
    "    print(process_value(x))\n",
    "       \n",
    "# which is much neater than\n",
    "    \n",
    "for x in range(3):\n",
    "    if x > 10:\n",
    "        print(0)\n",
    "    elif x > 5:\n",
    "        print(x*x)\n",
    "    elif x > 0:\n",
    "        print(x**3)\n",
    "    else:\n",
    "        print(x)\n",
    "    \n",
    "# but gives the same result:"
   ]
  },
  {
   "cell_type": "markdown",
   "metadata": {},
   "source": [
    "The more times we want to use the function, the more useful this becomes:"
   ]
  },
  {
   "cell_type": "code",
   "execution_count": 25,
   "metadata": {},
   "outputs": [
    {
     "name": "stdout",
     "output_type": "stream",
     "text": [
      "0\n",
      "1\n",
      "8\n",
      "0\n",
      "1\n",
      "8\n",
      "27\n",
      "64\n",
      "125\n",
      "36\n",
      "49\n",
      "64\n",
      "81\n",
      "100\n",
      "0\n"
     ]
    }
   ],
   "source": [
    "def process_value(x):\n",
    "    \"Return a value that depends on the input value x \"\n",
    "    if x > 10:\n",
    "        return 0\n",
    "    elif x > 5:\n",
    "        return x*x\n",
    "    elif x > 0:\n",
    "        return x**3\n",
    "    else:\n",
    "        return x\n",
    "       \n",
    "for y in range(3):\n",
    "    print(process_value(y))\n",
    "\n",
    " \n",
    "for y in range(12):\n",
    "    print(process_value(y))\n",
    "    \n",
    "\n",
    "#for y in range(2):\n",
    "    #print(process_value(y))"
   ]
  },
  {
   "cell_type": "markdown",
   "metadata": {},
   "source": []
  },
  {
   "cell_type": "markdown",
   "metadata": {},
   "source": [
    "Functions can make programs more readable.<br>\n",
    "\n",
    "__Example:__ <br>\n",
    "A function called `sin`, that computes and returns $\\sin(x)$, <br>\n",
    "is far more readable than writing the equation for  $\\sin(x)$ every time we want to use it. "
   ]
  },
  {
   "cell_type": "markdown",
   "metadata": {},
   "source": [
    "## 1.2 Function Arguments\n",
    "\n",
    "It is important to input arguments in the correct order when calling a function.         \n",
    "\n"
   ]
  },
  {
   "cell_type": "code",
   "execution_count": 18,
   "metadata": {
    "collapsed": true
   },
   "outputs": [],
   "source": [
    "def sum_and_increment(a, b):\n",
    "            \"\"\"\"\n",
    "            Return the sum of a and b, plus 1\n",
    "            \"\"\"\n",
    "            c = a + b + 1\n",
    "            return c"
   ]
  },
  {
   "cell_type": "markdown",
   "metadata": {},
   "source": [
    "The function `sum_and_increment` adds:\n",
    " - the first argument, `a`\n",
    " - ...to the second argument `b`\n",
    " - ...to 1.\n",
    " \n",
    "If the order of a and b is switched, the result is the same.\n"
   ]
  },
  {
   "cell_type": "code",
   "execution_count": 20,
   "metadata": {},
   "outputs": [
    {
     "name": "stdout",
     "output_type": "stream",
     "text": [
      "8\n",
      "8\n"
     ]
    }
   ],
   "source": [
    "print(sum_and_increment(3,4))\n",
    "print(sum_and_increment(4,3))"
   ]
  },
  {
   "cell_type": "markdown",
   "metadata": {},
   "source": [
    "However, if we subtract one argument from the other, the result depends on the input order: "
   ]
  },
  {
   "cell_type": "code",
   "execution_count": 21,
   "metadata": {},
   "outputs": [
    {
     "name": "stdout",
     "output_type": "stream",
     "text": [
      "0\n",
      "2\n"
     ]
    }
   ],
   "source": [
    "def subtract_and_increment(a, b):\n",
    "    \"\"\"\"\n",
    "    Return a minus b, plus 1\n",
    "    \"\"\"\n",
    "    c = a - b + 1\n",
    "    return c\n",
    "\n",
    "print(subtract_and_increment(3,4))\n",
    "print(subtract_and_increment(4,3))"
   ]
  },
  {
   "cell_type": "markdown",
   "metadata": {},
   "source": [
    "### 1.2.1 Named Arguments\n",
    "\n",
    "If a function has many arguments, it can be easy to make a mistake in the input order.  \n",
    "\n",
    "This can lead to errors in how the program functions (termed *a bug*).  \n",
    "\n",
    "We can reduce this risk by giving inputs as *named* arguments. \n",
    "\n",
    "Using named arguments can also enhance program readability. \n",
    "\n",
    "When we use named arguments, the order of input does not matter.  "
   ]
  },
  {
   "cell_type": "code",
   "execution_count": 23,
   "metadata": {},
   "outputs": [
    {
     "name": "stdout",
     "output_type": "stream",
     "text": [
      "0\n",
      "0\n"
     ]
    }
   ],
   "source": [
    "alpha = 3\n",
    "beta = 4\n",
    "\n",
    "print(subtract_and_increment(a=alpha, b=beta))\n",
    "\n",
    "print(subtract_and_increment(b=beta, a=alpha))  "
   ]
  },
  {
   "cell_type": "markdown",
   "metadata": {},
   "source": [
    "### 1.2.2 What can be passed as a function argument?\n",
    "\n",
    "*Object* types that can be passed as arguments to functions include:\n",
    "- single variables (`int`, `float`...)\n",
    "- data structures (`list`, `tuple`, `dict`...)\n",
    "- __other functions__ \n",
    "\n",
    "Example: the function `is_positive` checks if the value of a function $f$, evaluated at $x$, is positive.\n",
    "<br> The arguments are the function $f$, and the value of $x$, at which it is evaluated:"
   ]
  },
  {
   "cell_type": "code",
   "execution_count": 26,
   "metadata": {},
   "outputs": [
    {
     "name": "stdout",
     "output_type": "stream",
     "text": [
      "True\n",
      "False\n"
     ]
    }
   ],
   "source": [
    "def is_positive(f, x):\n",
    "    \"\"\"\n",
    "    Check if the function value f(x) is positive\n",
    "    \"\"\"\"\n",
    "    if f(x) > 0:\n",
    "        return True\n",
    "    else:\n",
    "        return False\n",
    "    \n",
    "def f0(x):\n",
    "    \"\"\"\n",
    "    Computes x^2 - 1\n",
    "    \"\"\"\n",
    "    return x*x - 1\n",
    "\n",
    "\n",
    "def f1(x):\n",
    "    \"\"\"\n",
    "    Computes -x^2 + 2x + 1\n",
    "    \"\"\"\n",
    "    return -x*x + 2*x + 1\n",
    "\n",
    "    \n",
    "# Value of x to test\n",
    "x = 4.5\n",
    "\n",
    "# Test function f0\n",
    "print(is_positive(f0, x))\n",
    "\n",
    "# Test function f1\n",
    "print(is_positive(f1, x))"
   ]
  },
  {
   "cell_type": "markdown",
   "metadata": {},
   "source": [
    "__Note:__ The order that we *define* the functions does not effect the output. "
   ]
  },
  {
   "cell_type": "markdown",
   "metadata": {},
   "source": [
    "### 1.2.3 Default arguments\n",
    "\n",
    "'Default' arguments have a default initial value.\n",
    "\n",
    "The default value can be overridden when the function is called. \n",
    "\n",
    "In some cases it just saves the programmer effort - they can write less code. \n",
    "\n",
    "In other cases allows a function to be applied to a wider range of problems. \n",
    "\n",
    "__Example:__\n",
    "\n",
    "We can use the same function for 2D vectors and 3D vectors. \n",
    "\n",
    "The default value for the z component is zero.\n",
    "\n",
    "So the third argument of the function, `z`, is 0 by default."
   ]
  },
  {
   "cell_type": "code",
   "execution_count": 51,
   "metadata": {},
   "outputs": [
    {
     "name": "stdout",
     "output_type": "stream",
     "text": [
      "[2.0, 1.5, 0.0]\n",
      "[2.0, 1.5, 6]\n"
     ]
    }
   ],
   "source": [
    "def vector_3D(x, y, z=0.0):\n",
    "    \"\"\"\n",
    "    Expresses 2D or 3D vector in 3D space, as a list.\n",
    "    \"\"\"\n",
    "    return[x, y, z]"
   ]
  },
  {
   "cell_type": "code",
   "execution_count": null,
   "metadata": {
    "collapsed": true
   },
   "outputs": [],
   "source": [
    "print(vector_3D(2.0 ,1.5 ,6.0))  \n",
    "print(vector_3D(2.0, 1.5))\n"
   ]
  },
  {
   "cell_type": "markdown",
   "metadata": {},
   "source": [
    "__Example:__\n",
    "\n",
    "We can use the same function for 1D, 2D and 3D vectors. \n",
    "\n",
    "The default values for the y and z components are both zero."
   ]
  },
  {
   "cell_type": "code",
   "execution_count": 53,
   "metadata": {
    "collapsed": true
   },
   "outputs": [],
   "source": [
    "def vector_3D(x, y = 0.0, z = 0.0):\n",
    "    \"\"\"\n",
    "    Expresses 1D, 2D or 3D vector in 3D space, as a list.\n",
    "    \"\"\"\n",
    "    return[x, y, z]"
   ]
  },
  {
   "cell_type": "code",
   "execution_count": 58,
   "metadata": {},
   "outputs": [
    {
     "name": "stdout",
     "output_type": "stream",
     "text": [
      "[2.0, 1.5, 6.0]\n",
      "[2.0, 1.5, 0.0]\n",
      "[2.0, 0.0, 0.0]\n"
     ]
    }
   ],
   "source": [
    "print(vector_3D(2.0 ,1.5 ,6.0))\n",
    "print(vector_3D(2.0, 1.5))\n",
    "print(vector_3D(2.0))"
   ]
  },
  {
   "cell_type": "markdown",
   "metadata": {},
   "source": [
    "__Example: A particle moving with constant acceleration.__\n",
    "<br>\n",
    "Find the position $r$ of a particle with initial position $r_{0}$ and initial velocity $v_{0}$, and subject to a constant acceleration $a$. \n",
    "\n",
    "From the equations of motion, the position $r(t)$ is given by:  \n",
    "\n",
    "$$\n",
    "r(t) = r(0) + v(0) t + \\frac{1}{2} a t^{2}\n",
    "$$\n",
    "\n",
    "When measuring an object falling from rest, due to gravity (neglecting resistance of air):\n",
    "\n",
    " - the acceleration `a`=$g = 9.81$ m s$^{-1}$ is sufficiently accurate *in most cases*. \n",
    " - the initial velocity, `v0`, is always zero. \n",
    " - the initial position, `r0`, is the height from which the object falls. \n",
    " \n",
    "We can use default arguments for the velocity `v0` and the acceleration `a`:"
   ]
  },
  {
   "cell_type": "code",
   "execution_count": 59,
   "metadata": {
    "collapsed": true
   },
   "outputs": [],
   "source": [
    "def position(t, r0, v0=0.0, a= -9.81):\n",
    "    \"\"\"\n",
    "    Computes position of an accelerating particle.\n",
    "    \"\"\"\n",
    "    return r0 + (v0 * t) + (0.5 * a * t**2)"
   ]
  },
  {
   "cell_type": "markdown",
   "metadata": {},
   "source": [
    "__Note__ that we __do not__ need to include the default variables in the brackets when calling the function. \n",
    "\n"
   ]
  },
  {
   "cell_type": "code",
   "execution_count": 61,
   "metadata": {},
   "outputs": [
    {
     "name": "stdout",
     "output_type": "stream",
     "text": [
      "height = 0.8038 m\n"
     ]
    }
   ],
   "source": [
    "# Position at t = 0.2s, when dropped from r0 = 1m\n",
    "\n",
    "p = position(0.2, 1.0)\n",
    "\n",
    "print(\"height =\", p, \"m\")"
   ]
  },
  {
   "cell_type": "markdown",
   "metadata": {},
   "source": [
    "At the equator, the acceleration due to gravity is lower, `a`=$g = 9.78$ m s$^{-1}$\n",
    "\n",
    "For some calculations, this makes a significnat difference. \n",
    "\n",
    "In this case, we simply override the default value for acceleration:  "
   ]
  },
  {
   "cell_type": "code",
   "execution_count": 62,
   "metadata": {},
   "outputs": [
    {
     "name": "stdout",
     "output_type": "stream",
     "text": [
      "height = 0.8044 m\n"
     ]
    }
   ],
   "source": [
    "# Position at t = 0.2s, when dropped from r0 = 1m\n",
    "\n",
    "p = position(0.2, 1, 0.0, -9.78)\n",
    "\n",
    "print(\"height =\", p, \"m\")"
   ]
  },
  {
   "cell_type": "markdown",
   "metadata": {},
   "source": [
    "__Note__ that we have *also* passed the initial velocity, `v`.\n",
    "\n",
    "As the value to overide is the 4th argument, the 3rd argument must also be input. \n",
    "\n",
    "The function interprets:\n",
    "\n",
    "    p = position(0.2, 1, -9.78)\n",
    "    \n",
    "as\n",
    "\n",
    "    p = position(0.2, 1, -9.78 -9.81)\n",
    "    \n",
    "\n",
    "Manually inputting an argument, `v0` when we want to use its default is risky.  \n",
    "\n",
    "We may accidentally input the default value of `v0` incorrectly, causing a bug. \n",
    "\n",
    "A more robust solution is to specify the acceleration by using a named argument. "
   ]
  },
  {
   "cell_type": "code",
   "execution_count": 65,
   "metadata": {},
   "outputs": [
    {
     "name": "stdout",
     "output_type": "stream",
     "text": [
      "0.8044\n"
     ]
    }
   ],
   "source": [
    "# Position at t = 0.2s, when dropped from r0 = 1m\n",
    "\n",
    "p = position(0.2, 1, a = -9.78)\n",
    "\n",
    "print(p)"
   ]
  },
  {
   "cell_type": "markdown",
   "metadata": {
    "collapsed": true
   },
   "source": [
    "The program overwrites the correct default value.\n",
    "\n",
    "We do not have to specify `v`. "
   ]
  },
  {
   "cell_type": "markdown",
   "metadata": {},
   "source": [
    "__Try it yourself__\n",
    "\n",
    "The hydrostatic pressure (the pressure due to the overlying fluid) of a submerged object is:\n",
    "\n",
    "$$\n",
    "P = \\rho g h\n",
    "$$\n",
    "\n",
    "$g$ = acceleration due to gravity, $g = 9.81$ m s$^{-2}$\n",
    "<br> $\\rho $ = fluid density \n",
    "<br> $h$ = height of the fluid above the object. \n",
    "\n",
    "<img src=\"../../../ILAS_seminars/intro to python/img/HydrostaticPressure.png\" alt=\"Drawing\" style=\"width: 350px;\"/>\n",
    "\n",
    "In the cell below, write a function that:\n",
    " - takes $g$, $\\rho$ and $h$ as __inputs__\n",
    " - returns (__outputs__) the hydrostatic pressure $P$\n",
    " \n",
    "\n",
    "Assume the fucntion will mostly to be used for calculating the hydrostatic pressure on objects submerged in __water__.\n",
    "<br> The density of water, $\\rho_w$ = 1000 kg m$^3$ is sufficiently accurate *in most cases*.\n",
    "\n",
    "Therefore use default arguments for `g` and `rho` in your function. \n",
    "\n",
    "Include a doc-string to say what your function does. "
   ]
  },
  {
   "cell_type": "code",
   "execution_count": null,
   "metadata": {
    "collapsed": true
   },
   "outputs": [],
   "source": [
    "# Function to compute hydrostatic pressure."
   ]
  },
  {
   "cell_type": "markdown",
   "metadata": {},
   "source": [
    "In the cell below, __call__ your function to find the hydrostatic pressure on an object, submerged in water, at a depth of 10m."
   ]
  },
  {
   "cell_type": "code",
   "execution_count": null,
   "metadata": {
    "collapsed": true
   },
   "outputs": [],
   "source": [
    "# The hydrostatic pressure on an object at a depth of 10m in WATER"
   ]
  },
  {
   "cell_type": "markdown",
   "metadata": {
    "collapsed": true
   },
   "source": [
    "Due to it's salt content, seawater has a higher density, $\\rho_w$ = 1022 kg m$^3$.<br>\n",
    "In the cell below, find the hydrostatic pressure on an object, submerged in __sea water__, at a depth of 10m."
   ]
  },
  {
   "cell_type": "code",
   "execution_count": null,
   "metadata": {
    "collapsed": true
   },
   "outputs": [],
   "source": [
    "# The hydrostatic pressure on an object at a depth of 10m in SEA WATER"
   ]
  },
  {
   "cell_type": "markdown",
   "metadata": {},
   "source": [
    "In the cell below, find the hydrostatic pressure on an object:\n",
    "- submerged in __sea water__\n",
    "- at a depth of 10m\n",
    "- at the equator"
   ]
  },
  {
   "cell_type": "code",
   "execution_count": null,
   "metadata": {
    "collapsed": true
   },
   "outputs": [],
   "source": [
    "# The hydrostatic pressure on an object at a depth of 10m in SEA WATER at the EQUATOR."
   ]
  },
  {
   "cell_type": "markdown",
   "metadata": {},
   "source": [
    "\n",
    " "
   ]
  },
  {
   "cell_type": "markdown",
   "metadata": {},
   "source": [
    "__Note__ \n",
    "<br> In the last seminar we looked at how to store mulitple variables (e.g. vectors) as lists. \n",
    "<br> The functions above could be implemented more efficiently using lists or tuples. \n",
    "<br>  We will look at how to optimise functions later in the course."
   ]
  },
  {
   "cell_type": "markdown",
   "metadata": {},
   "source": [
    "## 1.3  Introduction to Scope\n",
    "\n",
    "__Global variables:__ Variable that are *declared* __outside__ of a function *can* be used __inside__ on the function. <br>\n",
    "They have *global scope*. \n",
    "\n",
    "__Local variables:__ Variables that are *declared* __inside__ of a function *can not* be used __outside__ of the function. \n",
    "<br>\n",
    "They have *local scope*. "
   ]
  },
  {
   "cell_type": "code",
   "execution_count": 5,
   "metadata": {},
   "outputs": [
    {
     "name": "stdout",
     "output_type": "stream",
     "text": [
      "10.0\n",
      "10.0\n"
     ]
    }
   ],
   "source": [
    "# Here is a global variable\n",
    "global_var = \"Global variable\"\n",
    "\n",
    "\n",
    "def my_func():\n",
    "    # the function can access the global variable\n",
    "    print(global_var)    \n",
    "     \n",
    "    # local variable of the same name\n",
    "    local_var = \"Local variable\"\n",
    "    print(local_var)\n",
    "    \n",
    "\n",
    "# Calling the function prints the local and global variable\n",
    "my_func()\n",
    "\n",
    "\n",
    "# Global variable are accessible outside the function\n",
    "print(global_var)\n",
    "\n",
    "# Local variables are not accessible outside of the function\n",
    "# print(local_var)"
   ]
  },
  {
   "cell_type": "markdown",
   "metadata": {},
   "source": [
    "Due to local scope, variables with the same name can appear globally and in different functions without conflict. \n",
    "\n",
    "This prevents variables declared inside a function from unexpectedly affecting other parts of a program. \n",
    "\n",
    "Where a local and global variable have the same name, the program will use the __local__ version.\n",
    "\n",
    "Let's modify our function `my_func` so now both the local and global varibale have the same name:"
   ]
  },
  {
   "cell_type": "code",
   "execution_count": null,
   "metadata": {
    "collapsed": true
   },
   "outputs": [],
   "source": [
    "# Here is a global variable\n",
    "var = \"Global variable\"\n",
    "\n",
    "\n",
    "def my_func():\n",
    "    # notice what happens this time if we try to access the global variable within the function\n",
    "    print(var)    \n",
    "     \n",
    "    # local variable of the same name\n",
    "    var = \"Local variable\"\n",
    "    print(var)"
   ]
  },
  {
   "cell_type": "markdown",
   "metadata": {},
   "source": [
    "The global variable `var` is unaffected by the local variable `var`."
   ]
  },
  {
   "cell_type": "code",
   "execution_count": 26,
   "metadata": {},
   "outputs": [
    {
     "name": "stdout",
     "output_type": "stream",
     "text": [
      "Local variable\n",
      "Local variable\n",
      "Global variable\n",
      "Local variable\n",
      "Local variable\n"
     ]
    }
   ],
   "source": [
    "# Here is a global variable\n",
    "var = \"Global variable\"\n",
    "\n",
    "\n",
    "def my_func():\n",
    "     \n",
    "    # local variable of the same name\n",
    "    var = \"Local variable\"\n",
    "    return var\n",
    "\n",
    "# Call the function.\n",
    "print(my_func())\n",
    "\n",
    "# The function declaration of 'var' has not affected the global variable 'var'\n",
    "print(var)\n",
    "\n",
    "# We can overwrite the global varibale with the returned value\n",
    "var = my_func()\n",
    "print(var)"
   ]
  },
  {
   "cell_type": "markdown",
   "metadata": {},
   "source": [
    "If we *really* want to use a global variable and a local variable with the same name __within__ a function, we can use the global variable as an __input__ to the function.\n",
    "<br> By inputting it as an argument we can rename the global variable for use within the function:"
   ]
  },
  {
   "cell_type": "code",
   "execution_count": 28,
   "metadata": {},
   "outputs": [
    {
     "name": "stdout",
     "output_type": "stream",
     "text": [
      "Global variable\n",
      "Local variable\n",
      "Global variable Local variable\n"
     ]
    }
   ],
   "source": [
    "# Global variable\n",
    "var = \"Global variable\"\n",
    "\n",
    "def my_func(input_var):\n",
    "    # The argument is given the name input_variable within the function \n",
    "    print(input_var)    \n",
    "     \n",
    "    # Local\n",
    "    var = \"Local variable\"\n",
    "    print(var)\n",
    "    \n",
    "    return (input_var + \" \" + var)\n",
    "\n",
    "\n",
    "# Run the function, giving the global variable as an argument\n",
    "print(my_func(var))"
   ]
  },
  {
   "cell_type": "markdown",
   "metadata": {},
   "source": [
    "The global variable is unaffected by the function"
   ]
  },
  {
   "cell_type": "code",
   "execution_count": 29,
   "metadata": {},
   "outputs": [
    {
     "name": "stdout",
     "output_type": "stream",
     "text": [
      "Global variable\n"
     ]
    }
   ],
   "source": [
    "print(var)"
   ]
  },
  {
   "cell_type": "markdown",
   "metadata": {},
   "source": [
    "...unless we overwrite the value of the global variable."
   ]
  },
  {
   "cell_type": "code",
   "execution_count": 30,
   "metadata": {},
   "outputs": [
    {
     "name": "stdout",
     "output_type": "stream",
     "text": [
      "Global variable\n",
      "Local variable\n",
      "Global variable Local variable\n"
     ]
    }
   ],
   "source": [
    "var = my_func(var)\n",
    "print(var)"
   ]
  },
  {
   "cell_type": "markdown",
   "metadata": {},
   "source": [
    "__Try it yourself__\n",
    "In the cell below:\n",
    "1. Create a global variable with a numeric value\n",
    "1. Create a function that:\n",
    "    - takes the global variable as an input \n",
    "    - creates a local variable with the same name as the global variable\n",
    "    - returns the sum of the two variables\n",
    "1. Print the output of the function.\n",
    "1. print the global variable\n",
    "1. Add a doc-string to say what your code does"
   ]
  },
  {
   "cell_type": "code",
   "execution_count": 31,
   "metadata": {
    "collapsed": true
   },
   "outputs": [],
   "source": [
    "# Global and local scope"
   ]
  },
  {
   "cell_type": "markdown",
   "metadata": {},
   "source": [
    "A local variable  can be accessed from outside the function by making it a global variable.\n",
    "1. Use Python `global` keyword. Give the variable a name.\n",
    "```python\n",
    "global var\n",
    "```\n",
    "1. Assign the variable a value.\n",
    "```python\n",
    "var = 10\n",
    "```\n",
    "If a global variable already exists with the same name it's value will be overwritten:"
   ]
  },
  {
   "cell_type": "code",
   "execution_count": 32,
   "metadata": {},
   "outputs": [
    {
     "name": "stdout",
     "output_type": "stream",
     "text": [
      "Before calling the function var = Global variable\n",
      "After calling the function var = Locally assigned global variable\n"
     ]
    }
   ],
   "source": [
    "# Global variable\n",
    "var = \"Global variable\"\n",
    "\n",
    "\n",
    "def my_func():\n",
    "     \n",
    "    # local variable of the same name\n",
    "    global var\n",
    "    var = \"Locally assigned global variable\"\n",
    "    \n",
    "    \n",
    "print(\"Before calling the function var =\", var)\n",
    "\n",
    "# Call the function.\n",
    "my_func()\n",
    "\n",
    "print(\"After calling the function var =\", var)"
   ]
  },
  {
   "cell_type": "markdown",
   "metadata": {},
   "source": [
    "__Try it yourself__\n",
    "\n",
    "In the cell below:\n",
    "1. Copy and paste your code from the previous excercise.\n",
    "1. Edit your code to overwrite the initnal value of global variable when the function is called by creating a global variabe of the same name within the function. \n",
    "1. Call the function.\n",
    "1. Print the output of the function.\n",
    "1. Print the global variable."
   ]
  },
  {
   "cell_type": "markdown",
   "metadata": {},
   "source": [
    "### 1.2.4 Return arguments\n",
    "\n",
    "Most functions (though not all) return data. \n",
    "\n",
    "A __single__ Python function can return:\n",
    "- no values\n",
    "- a single value \n",
    "- multiple return values\n",
    "\n",
    "<br>\n",
    "\n",
    "\n",
    "For example, we could have a function that:\n",
    " - takes three values (`x0, x1, x2`)\n",
    " - returns the maximum, the minimum and the mean"
   ]
  },
  {
   "cell_type": "code",
   "execution_count": 60,
   "metadata": {},
   "outputs": [
    {
     "name": "stdout",
     "output_type": "stream",
     "text": [
      "-20 0.5 -6.466666666666666\n"
     ]
    }
   ],
   "source": [
    "def compute_max_min_mean(x0, x1, x2):\n",
    "    \"Return maximum, minimum and mean values\"\n",
    "    \n",
    "    x_min = x0\n",
    "    if x1 < x_min:\n",
    "        x_min = x1\n",
    "    if x2 < x_min:\n",
    "        x_min = x2\n",
    "\n",
    "    x_max = x0\n",
    "    if x1 > x_max:\n",
    "        x_max = x1\n",
    "    if x2 > x_max:\n",
    "        x_max = x2\n",
    "\n",
    "    x_mean = (x0 + x1 + x2)/3    \n",
    "        \n",
    "    return x_min, x_max, x_mean\n",
    "\n",
    "\n",
    "xmin, xmax, xmean = compute_max_min_mean(0.5, 0.1, -20)\n",
    "print(xmin, xmax, xmean)"
   ]
  },
  {
   "cell_type": "markdown",
   "metadata": {},
   "source": [
    "The __`return`__ keyword works a bit like the __`break`__ statement does in a loop.\n",
    "\n",
    "It returns the value and then exits the function before running the rest of the code.\n",
    "\n",
    "This can be an efficient way to structure the code.\n",
    "<br>\n",
    "\n",
    "But what if we want the prgram to do something else before exiting the function.\n",
    "\n",
    "In the following example, we want the function to :\n",
    "- return the input value of global varibale `x` as a string, with some information.\n",
    "- increase the value of `x` by 1\n",
    "\n",
    "IF we call the function repeatedly, we should see the printed value of global variable `x` increasing. \n",
    "\n",
    "<br>\n",
    "\n",
    "If we increase x by one last after `return`,  the value of `x` does not increase. \n",
    "<br> The program exits the function before `\"Increment global x by +1 \".\n"
   ]
  },
  {
   "cell_type": "code",
   "execution_count": 63,
   "metadata": {},
   "outputs": [
    {
     "name": "stdout",
     "output_type": "stream",
     "text": [
      "1 > 0\n",
      "1 > 0\n"
     ]
    }
   ],
   "source": [
    "x = 1\n",
    "\n",
    "def process_value(X):\n",
    "    \"Return a value that depends on the input value x \"\n",
    "    if X > 10:\n",
    "        return str(X) + \" > 10\"\n",
    "    elif X > 5:\n",
    "        return str(X) + \" > 5\"\n",
    "    elif X > 0:\n",
    "        return str(X) + \" > 0\"\n",
    "    else:\n",
    "        return str(X)\n",
    "    \n",
    "    \"Increment global x by +1 \"\n",
    "    global x\n",
    "    x = X + 1 \n",
    "    \n",
    "print(process_value(x))\n",
    "print(process_value(x))\n",
    "print(process_value(x))"
   ]
  },
  {
   "cell_type": "markdown",
   "metadata": {},
   "source": [
    "If we place the code to increase x by one first, the new value (not the input value) is printed."
   ]
  },
  {
   "cell_type": "code",
   "execution_count": 69,
   "metadata": {},
   "outputs": [
    {
     "name": "stdout",
     "output_type": "stream",
     "text": [
      "1 > 0\n",
      "2 > 0\n",
      "3 > 0\n"
     ]
    }
   ],
   "source": [
    "x = 1\n",
    "\n",
    "def process_value(X):\n",
    "    \"Increment global x by +1 \"\n",
    "    global x\n",
    "    x = X + 1 \n",
    "    \n",
    "    \"Return a value that depends on the input value x \"\n",
    "    if x > 10:\n",
    "        return str(X) + \" > 10\"\n",
    "    elif x > 5:\n",
    "        return str(X) + \" > 5\"\n",
    "    elif x > 0:\n",
    "        return str(X) + \" > 0\"\n",
    "    else:\n",
    "        return str(X)\n",
    "\n",
    "    \n",
    "    \n",
    "print(process_value(x))\n",
    "print(process_value(x))\n",
    "print(process_value(x))"
   ]
  },
  {
   "cell_type": "markdown",
   "metadata": {},
   "source": [
    "We need to place the return keyword at the end of the function. \n",
    "<br> "
   ]
  },
  {
   "cell_type": "code",
   "execution_count": 70,
   "metadata": {},
   "outputs": [
    {
     "name": "stdout",
     "output_type": "stream",
     "text": [
      "1 > 0\n",
      "2 > 0\n",
      "3 > 0\n"
     ]
    }
   ],
   "source": [
    "x = 1\n",
    "\n",
    "def process_value(X):\n",
    "    \n",
    "    \"Return a value that depends on the input value x \"\n",
    "    if X > 10:\n",
    "        i = (str(X) + \" > 10\")\n",
    "    elif X > 5:\n",
    "        i = (str(X) + \" > 5\")\n",
    "    elif X > 0:\n",
    "        i = (str(X) + \" > 0\")\n",
    "    else:\n",
    "        i = str(X)\n",
    "    \n",
    "    \"Increment global x by +1 \"\n",
    "    global x\n",
    "    x = X + 1 \n",
    "    \n",
    "    return i    \n",
    "    \n",
    "print(process_value(x))\n",
    "print(process_value(x))\n",
    "print(process_value(x))"
   ]
  },
  {
   "cell_type": "markdown",
   "metadata": {},
   "source": [
    "## 1.4 Recursive Functions\n",
    "\n",
    "A recursive function is a function that makes calls to itself.\n",
    "\n",
    "Let's consider a well-known example, the Fibonacci series of numbers."
   ]
  },
  {
   "cell_type": "markdown",
   "metadata": {},
   "source": [
    "## The Fibonacci Sequence\n",
    "\n",
    "An integer sequence characterised by the fact that every number (after the first two) is the sum of the two preceding numbers. \n",
    "\n",
    "i.e. the $n$th term $f_{n}$ is computed from the preceding terms $f_{n-1}$ and $f_{n-2}$. \n",
    "\n",
    "$$\n",
    "f_n = f_{n-1} + f_{n-2}\n",
    "$$\n",
    "\n",
    "for $n > 1$, and with $f_0 = 0$ and $f_1 = 1$. \n",
    "\n",
    "The number sequence appears in many natural geometric arrangements: \n",
    "\n",
    "<img src=\"../../../ILAS_seminars/intro to python/img/FibonacciSpiral.png\" alt=\"Drawing\" style=\"width: 200px;\"/> \n",
    "<img src=\"../../../ILAS_seminars/intro to python/img/fibonacci-whelk.jpg\" alt=\"Drawing\" style=\"width: 200px;\"/>\n",
    "<img src=\"../../../ILAS_seminars/intro to python/img/fibonacci_africa.jpg\" alt=\"Drawing\" style=\"width: 200px;\"/>\n",
    "\n",
    "\n",
    "Due to this dependency on previous terms, we say the series is defined __recursively__.\n",
    "\n"
   ]
  },
  {
   "cell_type": "markdown",
   "metadata": {},
   "source": [
    "Below is a function that computes the $n$th number in the Fibonacci sequence using a `for` loop inside the function."
   ]
  },
  {
   "cell_type": "code",
   "execution_count": 71,
   "metadata": {},
   "outputs": [
    {
     "name": "stdout",
     "output_type": "stream",
     "text": [
      "55\n"
     ]
    }
   ],
   "source": [
    "def fib(n):\n",
    "    \"Compute the nth Fibonacci number\"\n",
    "    # Starting values for f0 and f1\n",
    "    f0, f1 = 0, 1\n",
    "\n",
    "    # Handle cases n==0 and n==1\n",
    "    if n == 0:\n",
    "        return 0\n",
    "    elif n == 1:\n",
    "        return 1\n",
    "    \n",
    "    # Start loop (from n = 2)    \n",
    "    for i in range(2, n + 1):\n",
    "        \n",
    "        # Compute next term in sequence\n",
    "        f = f1 + f0\n",
    "\n",
    "        # Update f0 and f1    \n",
    "        f0 = f1\n",
    "        f1 = f\n",
    "\n",
    "    # Return Fibonacci number\n",
    "    return f\n",
    "\n",
    "print(fib(10))"
   ]
  },
  {
   "cell_type": "markdown",
   "metadata": {},
   "source": [
    "The __recursive function__ below return the same result.\n",
    "\n",
    "It is simpler and has a more \"mathematical\" structure."
   ]
  },
  {
   "cell_type": "code",
   "execution_count": null,
   "metadata": {
    "collapsed": true
   },
   "outputs": [],
   "source": [
    "def f(n): \n",
    "    \"Compute the nth Fibonacci number using recursion\"\n",
    "    if n == 0:\n",
    "        return 0  # This doesn't call f, so it breaks out of the recursion loop\n",
    "    elif n == 1:\n",
    "        return 1  # This doesn't call f, so it breaks out of the recursion loop\n",
    "    else:\n",
    "        return f(n - 1) + f(n - 2)  # This calls f for n-1 and n-2 (recursion), and returns the sum \n",
    "\n",
    "print(f(10))"
   ]
  },
  {
   "cell_type": "markdown",
   "metadata": {},
   "source": [
    "Care needs to be taken when using recursion that a program does not enter an infinite recursion loop. \n",
    "\n",
    "There must be a mechanism to 'break out' of the recursion cycle. "
   ]
  },
  {
   "cell_type": "markdown",
   "metadata": {},
   "source": [
    "## 1.5 Extension: Generators \n",
    "\n",
    "When a Python function is called:\n",
    "1. It excutes the code within the function\n",
    "1. It returns any values \n",
    "The state of the variables within the function are not retained.\n",
    "\n",
    "i.e. the next time the function is called it will process the code within the function exactly as before.\n",
    "\n",
    "A generator is a special type of function.\n",
    "<br> They contain the keyword `yield`.\n",
    "<br> When called, any variables within the function retain their value at the end of the function call. \n",
    "<br> Values following the keyword `yield` are \"returned\" by the generator function.\n",
    "\n",
    "Intuitively, generators can be used to increment a value. \n",
    "\n",
    "Let's consider our examlpe from earlier, which incremented a value every time called. "
   ]
  },
  {
   "cell_type": "code",
   "execution_count": null,
   "metadata": {
    "collapsed": true
   },
   "outputs": [],
   "source": [
    "x = 1\n",
    "\n",
    "def process_value(X):\n",
    "    \n",
    "    \"Return a value that depends on the input value x \"\n",
    "    if X > 10:\n",
    "        i = (str(X) + \" > 10\")\n",
    "    elif X > 5:\n",
    "        i = (str(X) + \" > 5\")\n",
    "    elif X > 0:\n",
    "        i = (str(X) + \" > 0\")\n",
    "    else:\n",
    "        i = str(X)\n",
    "    \n",
    "    \"Increment global x by +1 \"\n",
    "    global x\n",
    "    x = X + 1 \n",
    "    \n",
    "    return i    \n",
    "    \n",
    "print(process_value(x))\n",
    "print(process_value(x))\n",
    "print(process_value(x))"
   ]
  },
  {
   "cell_type": "markdown",
   "metadata": {},
   "source": [
    "A more concise way to express this is as a generator.\n",
    "1. Use the function definition line as normal\n",
    "1. Initialise the variable(s) you are going to increment.\n",
    "1. Start a while loop. `while True` creates an infinite while loop. <br> The program won't get stuck as it will only execute 1 loop every time the function is called.\n",
    "1. The value to yield each loop.\n",
    "1. The operation to perform each loop\n"
   ]
  },
  {
   "cell_type": "code",
   "execution_count": 88,
   "metadata": {
    "collapsed": true
   },
   "outputs": [],
   "source": [
    "# `def` is used as normal\n",
    "def incr():\n",
    "    \n",
    "    # create an initial value, i\n",
    "    i = 1\n",
    "    \n",
    "    # while loop\n",
    "    while True:\n",
    "        \n",
    "        # the value to return at each call\n",
    "        yield i \n",
    "        \n",
    "        # the operation to perform on i at each call\n",
    "        i += 1  \n"
   ]
  },
  {
   "cell_type": "markdown",
   "metadata": {},
   "source": [
    "We create a *generator object* by assigning the generator to a name:"
   ]
  },
  {
   "cell_type": "code",
   "execution_count": 90,
   "metadata": {
    "collapsed": true
   },
   "outputs": [],
   "source": [
    "inc = incr()"
   ]
  },
  {
   "cell_type": "markdown",
   "metadata": {},
   "source": [
    "The next value can be called using the `next` keyword:"
   ]
  },
  {
   "cell_type": "code",
   "execution_count": 89,
   "metadata": {},
   "outputs": [
    {
     "name": "stdout",
     "output_type": "stream",
     "text": [
      "1\n",
      "2\n",
      "3\n"
     ]
    }
   ],
   "source": [
    "print(next(inc))\n",
    "print(next(inc))\n",
    "print(next(inc))\n",
    "\n"
   ]
  },
  {
   "cell_type": "markdown",
   "metadata": {},
   "source": [
    "It is not very efficient to print next mulitple times.\n",
    "We can call the generator using a for loop.\n",
    "As the generator contains an infinite while loop, we must specify where the code should stop running to avoid getting trapped in an infinite loop. \n",
    "There is more than one way to do this:"
   ]
  },
  {
   "cell_type": "code",
   "execution_count": 92,
   "metadata": {},
   "outputs": [
    {
     "name": "stdout",
     "output_type": "stream",
     "text": [
      "102\n",
      "103\n",
      "104\n",
      "105\n",
      "106\n",
      "107\n",
      "108\n",
      "109\n",
      "110\n",
      "111\n"
     ]
    }
   ],
   "source": [
    "# to print the result of the next 10 loops\n",
    "for j in range(10):\n",
    "    print(next(inc))"
   ]
  },
  {
   "cell_type": "code",
   "execution_count": 96,
   "metadata": {
    "collapsed": true
   },
   "outputs": [],
   "source": [
    "# to keep looping until the incremented value exceeds a specified threshold \n",
    "for i in inc: \n",
    "    if i > 20:\n",
    "        break\n",
    "    else:\n",
    "        print(i)"
   ]
  },
  {
   "cell_type": "markdown",
   "metadata": {},
   "source": [
    "## The Fibonacci Sequence (Continued)\n",
    "\n",
    "The followig example shows how a generator can be used to produce the Finonacci number sequence. "
   ]
  },
  {
   "cell_type": "code",
   "execution_count": 86,
   "metadata": {},
   "outputs": [
    {
     "name": "stdout",
     "output_type": "stream",
     "text": [
      "7\n",
      "8\n",
      "9\n",
      "1\n",
      "1\n",
      "2\n",
      "4\n",
      "8\n",
      "16\n",
      "32\n",
      "64\n"
     ]
    }
   ],
   "source": [
    "def fibonacci():\n",
    "    # first two values in the sequence\n",
    "    a = 0\n",
    "    b = 1\n",
    "    \n",
    "    # infinite while loop\n",
    "    while True:\n",
    "        \n",
    "        # value to return\n",
    "        yield a \n",
    "        \n",
    "        # new a = old b\n",
    "        a = b\n",
    "        # new b = old a + old b\n",
    "        b = a + b \n",
    "        \n",
    "\n",
    "        \n",
    "# Create a generator object called fib        \n",
    "fib = fibonacci()\n",
    "\n",
    "\n",
    "# Call single loops of the function\n",
    "print(next(inc))\n",
    "print(next(inc))\n",
    "print(next(inc))\n",
    "\n",
    "\n",
    "# Repeatedly call the function until the sequence exceeds 100.\n",
    "for i in fib: \n",
    "    if i > 100:\n",
    "        break\n",
    "    else:\n",
    "        print(i)"
   ]
  },
  {
   "cell_type": "markdown",
   "metadata": {},
   "source": []
  },
  {
   "cell_type": "markdown",
   "metadata": {},
   "source": [
    "## 1.6 Extension: Callbacks\n",
    "\n",
    "When we create a function using the `def` keyword we assign it to a function name. \n",
    "<br> e.g. in the function above we assign the name fibonacci:\n",
    "```python\n",
    "def fibonacci():\n",
    "```\n",
    "\n",
    "We can also create un-named functions using the `lamda` keyword.\n",
    "An un-named function: \n",
    " - may contain a single expression, only\n",
    " - must always return a value\n",
    " \n",
    "The example below shows the definition of a function and a lamda function.\n",
    "<br> Both perform exactly the same task; computing the value of `x`$^2$.\n",
    "\n",
    "Both can be called using:\n",
    "```python\n",
    "square(5)\n",
    "```\n",
    "with the number in brackets being the value that you want to square. "
   ]
  },
  {
   "cell_type": "code",
   "execution_count": null,
   "metadata": {
    "collapsed": true
   },
   "outputs": [],
   "source": [
    "# function definition expressed on two lines\n",
    "#def square(x):\n",
    "#    return X ** 2\n",
    "\n",
    "#function definition expressed on one line\n",
    "def square(x) :  return X ** 2\n",
    "\n",
    "print(square(5))\n",
    "\n",
    "\n",
    "\n",
    "# un-named function\n",
    "square = lamda x : x ** 2\n",
    "    \n",
    "print(square(5))"
   ]
  },
  {
   "cell_type": "markdown",
   "metadata": {},
   "source": [
    "So what is the point of the un-named function? \n",
    "<br> Where we only need a short function, it allows us to write code more concisely.\n",
    "<br> We can embed functions drectly into the main body of the code, for example within a list.\n",
    "<br> This is not possible with a regular function, as shown below:\n"
   ]
  },
  {
   "cell_type": "code",
   "execution_count": 103,
   "metadata": {},
   "outputs": [
    {
     "name": "stdout",
     "output_type": "stream",
     "text": [
      "25\n",
      "125\n",
      "625\n"
     ]
    }
   ],
   "source": [
    "# 1. Define functions\n",
    "def function1(x): return x ** 2\n",
    "def function2(x): return x ** 3\n",
    "def function3(x): return x ** 4\n",
    "# 2. Compile list\n",
    "callbacks = [function1, function2, function3]\n",
    "\n",
    "# 3. Call each function\n",
    "for function in callbacks:\n",
    "    print(function(5))"
   ]
  },
  {
   "cell_type": "code",
   "execution_count": 105,
   "metadata": {},
   "outputs": [
    {
     "name": "stdout",
     "output_type": "stream",
     "text": [
      "25\n",
      "125\n",
      "625\n"
     ]
    }
   ],
   "source": [
    "# 1. Define lamda functions within list\n",
    "callbacks = [lambda x : x ** 2, lambda x : x ** 3, lambda x : x ** 4]\n",
    "\n",
    "# 3. Call each function\n",
    "for function in callbacks:\n",
    "    print(function(5))"
   ]
  },
  {
   "cell_type": "markdown",
   "metadata": {
    "collapsed": true
   },
   "source": [
    "## 1.7 Review Exercises\n",
    "The following review problems are designed to:\n",
    " - test your understanding of the different techniques for building functions that we have learnt today.\n",
    " - test your ability to use user-defined Pyhton functions to solve the type of engineering problems you will encounter in your studies. "
   ]
  },
  {
   "cell_type": "markdown",
   "metadata": {},
   "source": [
    "### 1.7.1 Review Exercise 1: (simple function)\n",
    "\n",
    "In the cell below, write a function called `is_odd`.\n",
    "\n",
    "__Input:__ The function should take an integer as an argument.\n",
    "\n",
    "__Output:__ The function should and return:\n",
    " - `True` if the argument is odd\n",
    " - `False` if otherwise (i.e. if argument is even). \n",
    " \n",
    "Show the output of your function for several input values."
   ]
  },
  {
   "cell_type": "code",
   "execution_count": 1,
   "metadata": {
    "collapsed": true
   },
   "outputs": [],
   "source": [
    "# A simple function"
   ]
  },
  {
   "cell_type": "markdown",
   "metadata": {},
   "source": [
    "## 1.7.2 Review Exercise: (functions and default arguments)\n",
    "\n",
    "The magnitude of an $n$ dimensional vector is\n",
    "\n",
    "$$\n",
    "|x|= \\sqrt{\\sum_{i = 1}^{n} (x_{n})^2 }\n",
    "$$\n",
    "<br>\n",
    "\n",
    "So the magnitude of a 2D vector (e.g. $x = [x_1, x_2]$):\n",
    "\n",
    "$$\n",
    "|x|= \\sqrt{x_1^2 + x_2^2}\n",
    "$$\n",
    "<br>\n",
    "\n",
    "...and the magnitude of a 3D vector (e.g. $x = [x_1, x_2, x_3]$):\n",
    "\n",
    "$$\n",
    "|x|= \\sqrt{x_1^2 + x_2^2+ x_3^2}\n",
    "$$\n",
    "\n",
    "<br>\n",
    "In the cell below, write a function:\n",
    "<br>__Input:__ Components of a 2D *or* 3D vector.\n",
    "<br>__Output:__ Return the magnitude of the vector.\n",
    "\n",
    "Hint: Refer to Section 1.2.2: Default Arguments\n",
    "\n",
    "Use default arguments to handle vectors of length 2 or 3 with the same code. \n",
    "\n",
    "Test your function for correctness using hand calculations. \n",
    "\n",
    "Show the output of your function for several input values.\n",
    "\n",
    "\n"
   ]
  },
  {
   "cell_type": "code",
   "execution_count": 3,
   "metadata": {
    "collapsed": true
   },
   "outputs": [],
   "source": [
    "# Function to compute the magnitide of a vector."
   ]
  },
  {
   "cell_type": "markdown",
   "metadata": {
    "collapsed": true
   },
   "source": [
    "## 1.7.3 Review Exercise:  (functions)\n",
    "\n",
    "<img src=\"../../../ILAS_seminars/intro to python/img/triangle.jpg\" alt=\"Drawing\" style=\"width: 200px;\"/> \n",
    "\n",
    "\n",
    "The coordinates of the vertices of a triangle are $(x_0, y_0)$, $(x_1, y_1)$ and $(x_2, y_2)$.\n",
    "\n",
    "The area $A$ of the triangle is given by:\n",
    "\n",
    "$$\n",
    "A = \\left| \\frac{x_0(y_1  - y_2) + x_1(y_2 - y_0) + x_2(y_0 - y_1)}{2} \\right|\n",
    "$$\n",
    "\n",
    "In the cell below, write a function that computes the area of a triangle.\n",
    "<br> __Input:__ The coordinates of the vertices $(x_0, y_0)$, $(x_1, y_1)$ and $(x_2, y_2)$.\n",
    "<br> __Output:__ The area of the triangle, $A$. \n",
    "\n",
    "Test your function for correctness using hand calculations. \n",
    "\n",
    "Show the output of your function for several input values.\n"
   ]
  },
  {
   "cell_type": "markdown",
   "metadata": {
    "collapsed": true
   },
   "source": [
    "## 1.7.4 Review Excercise (recursive functions)\n",
    "\n",
    "The factorial of a positive integer $n$ is:\n",
    "\n",
    "\\begin{align}\n",
    "n! = \\prod_{i=1}^{n} i =1 \\cdot 2 \\cdot 3 \\cdot ... (n - 2) \\cdot (n - 1) \\cdot n\n",
    "\\end{align}\n",
    "\n",
    "We can write this recursively.\n",
    "<br> The $n$ factorial is a function of $n-1$ factorial.\n",
    "\n",
    "\n",
    "$$\n",
    "n! = \n",
    "\\begin{cases}\n",
    "1 & n = 0 \\\\\n",
    "(n - 1)! \\,n & n > 0\n",
    "\\end{cases}\n",
    "$$\n",
    " \n",
    "e.g. \n",
    "<br> $1! = 1$\n",
    "<br> $2! = 2 \\cdot 1! = 2 \\cdot 1 = 2$\n",
    "<br> $3! = 3 \\cdot 2! = 3 \\cdot 2 \\cdot 1 = 6$\n",
    "<br> $4! = 4 \\cdot 3! = 4 \\cdot 3 \\cdot 2 \\cdot 1 = 24$\n",
    "\n",
    "\n",
    "Refer to Section 1.4: Recursive functions.\n",
    "\n",
    "In the cell below, write a recursive function to compute $n!$.\n",
    "__Input:__ $n$\n",
    "__Output:__ $n!$\n",
    "\n",
    "Test your function for correctness using hand calculations. \n",
    "\n",
    "Show the output of your function for several input values.\n"
   ]
  },
  {
   "cell_type": "code",
   "execution_count": null,
   "metadata": {
    "collapsed": true
   },
   "outputs": [],
   "source": [
    "# A function to compute n! for given n"
   ]
  },
  {
   "cell_type": "markdown",
   "metadata": {},
   "source": [
    "__*Optional Extension*__ Refer to Section 1.5: Generators.\n",
    "<br> Write a generator that computes $n!$.\n",
    "<br>__Input:__ $n$\n",
    "<br>__Output:__ $n!$\n",
    "\n",
    "Show the output of your function for several input values."
   ]
  },
  {
   "cell_type": "code",
   "execution_count": 5,
   "metadata": {
    "collapsed": true
   },
   "outputs": [],
   "source": [
    "# A generator to compute n! for given n"
   ]
  },
  {
   "cell_type": "markdown",
   "metadata": {},
   "source": [
    "## 1.7.5 Review Excercise  (Expressing Engineering Calculations as Functions)\n",
    "\n",
    "Refer to your answer to Seminar 2, Review Excercie 4.4.\n",
    "\n",
    "__(A)__ In the cell below this one, restructure the program you wrote as your answer to to Seminar 2, Review Excercie 4.4 to use a Python function to find the square root of a given argument.\n",
    "<br> __Input:__ numeric variable\n",
    "<br> __Output:__ square root of numeric variable\n",
    "\n",
    "__(B)__ Use a while loop to execute the function for the first 25 odd positive integers."
   ]
  },
  {
   "cell_type": "code",
   "execution_count": null,
   "metadata": {
    "collapsed": true
   },
   "outputs": [],
   "source": [
    "# A function to find the square root of an input"
   ]
  },
  {
   "cell_type": "markdown",
   "metadata": {},
   "source": [
    "## 1.7.6 Extension Excercise  (Expressing Engineering Calculations as Functions)\n",
    "\n",
    "Refer to your answer to Seminar 2, Extension Excercie 4.8.\n",
    "\n",
    "__(A)__ In the cell below this one, restructure the program you wrote as your answer to to Seminar 2, Extension Excercie 4.8. \n",
    "<br> Use a Python function to return an approximation for the root of a function using the bisection method.\n",
    "\n",
    "__Inputs:__\n",
    " - The function $f(x)$\n",
    " - The limits if $x$ between which the root lies, $x_0 and x_1$. \n",
    " \n",
    " __Output:__\n",
    " - An approximation for the root of $f(x)$\n",
    "\n",
    "__(B)__ Show that your function can solve the task in Extension Excercie 4.8:\n",
    "<br> \n",
    "> The function\n",
    "\n",
    ">$$\n",
    "f(x) = x^3 - 6x^2 + 4x + 12\n",
    "$$\n",
    "\n",
    ">has one root between $x_0 = 3$ and $x_1 = 6$.\n",
    "\n",
    ">__(i)__ Use the bisection method to find an approximate root $x_{r}$.  \n",
    "\n",
    ">Use a while loop (Section 2.3) to repeat the steps described above until $|f_{\\rm mid}| < 1 \\times10^{-6}$\n",
    "\n",
    ">__(ii)__ Print the approximation for the root of the function f(x). \n",
    "\n",
    "<br>\n",
    "__(C)__ Use your function and while loop program to approximate the root of the function: \n",
    "\n",
    "$f(x) = x^3 - 13x - 12$\n",
    "\n",
    "\n",
    "that lies between between $x_0 = 0$ and $x_1 = 14$.\n"
   ]
  },
  {
   "cell_type": "markdown",
   "metadata": {
    "collapsed": true
   },
   "source": [
    "# Summary\n",
    " - Functions are defined using the .... keyword.\n",
    " - Functions contain indented statements to execute when the function is called.\n",
    " - Global variables can be used ....\n",
    " - Local variables can be used ....\n",
    " - Function arguments (inputs) are declared as a list, between () parentheses, seperated by commas.\n",
    " - Function arguments muct be specified each time a function is called. \n",
    " - Default arguments do not need to be specified when a function is called unless .... \n",
    " - The keyword used to determine what the function outputs is ....\n",
    " - [An un-named function can be created using the `lamda` keyword.\n",
    " - [A generator function is created when the keyword .... is included in the function block.]\n",
    " - [Varibales in a generator function their state from when the function was last called.]\n",
    " - [The python built in `next()` function can be used to continue execution of a generator function by one iteration.]\n",
    " \n"
   ]
  },
  {
   "cell_type": "code",
   "execution_count": null,
   "metadata": {
    "collapsed": true
   },
   "outputs": [],
   "source": []
  }
 ],
 "metadata": {
  "kernelspec": {
   "display_name": "env",
   "language": "python",
   "name": "env"
  },
  "language_info": {
   "codemirror_mode": {
    "name": "ipython",
    "version": 3
   },
   "file_extension": ".py",
   "mimetype": "text/x-python",
   "name": "python",
   "nbconvert_exporter": "python",
   "pygments_lexer": "ipython3",
   "version": "3.5.3"
  }
 },
 "nbformat": 4,
 "nbformat_minor": 2
}
