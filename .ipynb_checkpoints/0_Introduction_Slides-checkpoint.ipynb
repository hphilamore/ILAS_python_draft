{
 "cells": [
  {
   "cell_type": "code",
   "execution_count": 2,
   "metadata": {
    "slideshow": {
     "slide_type": "skip"
    }
   },
   "outputs": [
    {
     "data": {
      "text/html": [
       "<style>\n",
       "\n",
       "body {\n",
       " counter-reset: h2counter;\n",
       "}\n",
       "h1 {\n",
       " counter-reset: h2counter;\n",
       "}\n",
       "h2:before {\n",
       " content: counter(h2counter) \".\\0000a0\\0000a0\";\n",
       " counter-increment: h2counter;\n",
       " counter-reset: h3counter;\n",
       "}\n",
       "\n",
       "\n",
       "</style>\n"
      ],
      "text/plain": [
       "<IPython.core.display.HTML object>"
      ]
     },
     "execution_count": 2,
     "metadata": {},
     "output_type": "execute_result"
    }
   ],
   "source": [
    "from IPython.core.display import HTML\n",
    "def css_styling():\n",
    "    styles = open(\"./styles/custom.css\", \"r\").read()\n",
    "    return HTML(styles)\n",
    "css_styling()"
   ]
  },
  {
   "cell_type": "markdown",
   "metadata": {
    "slideshow": {
     "slide_type": "slide"
    }
   },
   "source": [
    "# Introduction to Programming\n",
    "\n"
   ]
  },
  {
   "cell_type": "markdown",
   "metadata": {
    "slideshow": {
     "slide_type": "slide"
    }
   },
   "source": [
    "### Who am I?\n",
    "\n",
    " - Name: __Hemma__ (名) __Philamore__ (姓)\n",
    " - From: __England__ \n",
    " - Lab: __Matsuno mechatronics lab__, Kyoto University, Katsura Campus\n",
    " - Research: __Bio-inspired, energy autonomous robots__\n",
    " - Contact: __philamore.hemma.5s@kyoto-u.ac.jp__ \n",
    " <img src=\"../../../ILAS_seminars/intro to python/img/row_bot.jpg\" alt=\"Drawing\" style=\"width: 300px;\"/>\n",
    "\n"
   ]
  },
  {
   "cell_type": "markdown",
   "metadata": {
    "slideshow": {
     "slide_type": "slide"
    }
   },
   "source": [
    "Today is an introductory seminar.\n",
    "\n",
    "\n",
    "__Part 1:__Course Overview\n",
    " - What topics the course will cover.\n",
    " - Activities we will be doing.\n",
    " - How you will be assessed.\n"
   ]
  },
  {
   "cell_type": "markdown",
   "metadata": {
    "slideshow": {
     "slide_type": "subslide"
    }
   },
   "source": [
    "__Part 2:__Practical Introduction\n",
    " - Software installation\n",
    " - Hands-on Practise\n",
    " - How to install software at home"
   ]
  },
  {
   "cell_type": "markdown",
   "metadata": {
    "slideshow": {
     "slide_type": "subslide"
    }
   },
   "source": [
    "__Howework:__ Home software installation"
   ]
  },
  {
   "cell_type": "markdown",
   "metadata": {
    "slideshow": {
     "slide_type": "slide"
    }
   },
   "source": [
    "## Why study programming?\n",
    "- Computing increasingly features in our everyday lives.\n",
    "- Programming can be used as a tool to aid your studies in other subjects.\n",
    "- Code developmemt is a rapidly growing sector of the jobs market.\n",
    "- Programming is becoming a part of jobs that were not traditionally realted to computing.\n",
    "- It's fun."
   ]
  },
  {
   "cell_type": "markdown",
   "metadata": {
    "slideshow": {
     "slide_type": "slide"
    }
   },
   "source": [
    "## Why study Python?\n",
    " - Free and open source\n",
    " - Easy to learn\n",
    " - High level (auomatic memory assignment) and interpreted (no compilation required)\n",
    " - Community\n",
    " - Increasingly used in industry\n",
    " "
   ]
  },
  {
   "cell_type": "markdown",
   "metadata": {
    "slideshow": {
     "slide_type": "slide"
    }
   },
   "source": [
    "## Course Goal\n",
    "\n",
    "Whether or not you choose to continue to develop further as a programmer, this course will give you a good standalone programming toolkit.\n",
    "\n",
    "You will learn skills improve the quality of your assignments and projects in other subjects. \n",
    "\n",
    "If you wish to continue to develop as a programmer, this course will provide you with a good fundamental base from which to start. \n"
   ]
  },
  {
   "cell_type": "markdown",
   "metadata": {
    "slideshow": {
     "slide_type": "slide"
    }
   },
   "source": [
    "## Course Entry Level\n",
    "\n",
    " - Beginner, no prior programming knowlegde.\n",
    " - Fundamental engineering background knowledge (1st year undergraduate level)."
   ]
  },
  {
   "cell_type": "markdown",
   "metadata": {
    "slideshow": {
     "slide_type": "slide"
    }
   },
   "source": [
    "## Course Structure\n",
    "\n",
    "__Part 1: Fundamentals of programming:__ \n",
    "<br>An introduction to the core function and features of the Python language. \n",
    "<br>A focus on the use of Python for solving engineering-related problems. (~10 weeks)\n",
    "- Data types and basic operations e.g. arithmetic.\n",
    "- Control Flow\n",
    "- Data Structures\n",
    "- Functions (user-defined and built-in)\n",
    "- Arrays and numerical computation\n",
    "- Visually representing data\n",
    "- Inputs and outputs\n",
    "- Testing\n",
    "\n"
   ]
  },
  {
   "cell_type": "markdown",
   "metadata": {
    "slideshow": {
     "slide_type": "subslide"
    }
   },
   "source": [
    "__Part 2: Applications of programming:__\n",
    "<br>Practicing and demonstrating the use of the skills you have learnt. \n",
    " - Writing your own programs to express and solve engineering problems. \n",
    " - Incorpoating examples taken from your surrounding subjects where possible. \n",
    " - Structured examples to combine and reinforce the skills you have learnt. \n",
    " - Coursework assessment.\n"
   ]
  },
  {
   "cell_type": "markdown",
   "metadata": {
    "slideshow": {
     "slide_type": "subslide"
    }
   },
   "source": [
    "__Version Control and Testing:__ \n",
    "<br>Essential techniques used by professional programmers. \n",
    "<br>How to store, document, manage and share your code with others.\n",
    "<br>Studies alongside coding skills to improve the quality of your work. "
   ]
  },
  {
   "cell_type": "markdown",
   "metadata": {
    "slideshow": {
     "slide_type": "slide"
    }
   },
   "source": [
    "## Lesson format\n",
    "In each class we will use a variety of learning methods:\n",
    "\n",
    "__Interactive Textbook:__ In a moment you are going to download the interactive textbook. \n",
    "<br>First half of the course notes (the second will be added soon). \n",
    "<br>A chapter for each seminar. \n",
    "<br>Each chapter has several examples for you to complete in class. \n",
    "\n",
    "<br>\n",
    "\n",
    "__Slides:__ New material will be explained on slides.\n",
    "<br>Code will be demonstrated suing slides.\n",
    "<br>We will complete examples together...\n",
    "\n",
    "<br>\n",
    "\n",
    "__Whiteboards:__ In-class feedback. \n",
    "<br>Sharing answers with the group.\n",
    "<br>your answers with each other. \n",
    "\n",
    "<br>\n",
    "\n",
    "__Review Excercises:__ At the end of each chapter there are some review excercises. \n",
    "<br>Independent practise at the end of each class. \n",
    "<br>Complete unfinished questions for homework:\n",
    " - for me to check your progress.\n",
    " - answers will be used in subsequent classes.  \n",
    " \n",
    " <br>\n",
    " \n",
    "I will release model answers weekly. \n",
    "<br>Please use the model answers as a guide to check your work. \n",
    "<br>Review exercises are not assessed but are good preparation for the exam. \n",
    "<br>I strongly advise you to complete them. \n",
    "\n",
    "\n"
   ]
  },
  {
   "cell_type": "markdown",
   "metadata": {
    "slideshow": {
     "slide_type": "slide"
    }
   },
   "source": [
    "## Assessment.  \n",
    "\n",
    "__50% Coursework__\n",
    "<br>You will chosse an engineering problem from one of your other courses.\n",
    "<br>You will to express and solve it by writing a computer program. \n",
    "<br>There will be two lessons (after week 10) assigned to this task. \n",
    "<br>Remaining work must be completed independently for homework. \n",
    "<br>A sample problem will be available for you to comlpete if you cannot find a suitable problem to use from another module. \n",
    "\n",
    "*Purpose*: To use Python programming to improve the quality of your work in the other subjects on your course. \n",
    "<br>If you choose your problem wisely you may even be able to use it as an assigmnt twice! \n",
    "<br>Once for the homework on this course and once for the course from which the problem is taken. "
   ]
  },
  {
   "cell_type": "markdown",
   "metadata": {
    "slideshow": {
     "slide_type": "subslide"
    }
   },
   "source": [
    "__50% Exam:__\n",
    "<br>Week 15\n",
    "<br>Open-book (interactive textbook). \n",
    "<br>Therefore I highly recommend you follow and complete all examples in class so you have as much information as possible when it comes to the exam. \n",
    "<br>If you miss a seminar try and catch up by competing the examples yourself. \n"
   ]
  },
  {
   "cell_type": "markdown",
   "metadata": {
    "slideshow": {
     "slide_type": "slide"
    }
   },
   "source": [
    "The tools we will use on this course may be completely new to you.\n",
    "\n",
    "We will use the remaining part of the seminar to set-up the software you will be using through a practical introduction. \n",
    "\n",
    "We will cover:\n",
    " - \t__Git__\n",
    "  - creating an online repository for your work\n",
    "  - accessing interactive textbook online.  \n",
    "  - Saving your changes in an online repository\n",
    "  \n",
    "  <br>\n",
    " - __Jupyter notebook__: Interactive python coding\n",
    " \n",
    "  <br>\n",
    " - __Home software installation__\n",
    "  - Anaconda (Python + Jupyter notebook)\n",
    "  - Git\n",
    "- Software on the Kyoto University system \n"
   ]
  },
  {
   "cell_type": "markdown",
   "metadata": {
    "slideshow": {
     "slide_type": "slide"
    }
   },
   "source": [
    "## Git\n",
    "__What is Git?__ \n",
    "\n",
    "Git is *version control* software."
   ]
  },
  {
   "cell_type": "markdown",
   "metadata": {
    "slideshow": {
     "slide_type": "slide"
    }
   },
   "source": [
    "__What is version control software?__ \n",
    "\n",
    "Software that tracks and manages changes to project without overwriting any part of the project. "
   ]
  },
  {
   "cell_type": "markdown",
   "metadata": {
    "slideshow": {
     "slide_type": "slide"
    }
   },
   "source": [
    "Typically, when you save a file, for example a word document, you either:\n",
    " - overwrite the previous version (save)\n",
    " - save the file under a new name (save as)"
   ]
  },
  {
   "cell_type": "markdown",
   "metadata": {
    "slideshow": {
     "slide_type": "slide"
    }
   },
   "source": [
    "This means we either:\n",
    "- Lose the previous version\n",
    "- End up with multiple files\n"
   ]
  },
  {
   "cell_type": "markdown",
   "metadata": {
    "slideshow": {
     "slide_type": "slide"
    }
   },
   "source": [
    "In programming we often want to:\n",
    " - make a small change to our program \n",
    " - test our change works before moving on. \n",
    " - easily revert to a previous version if we don't like the changes\n",
    "\n",
    "It makes sense to incrementally save our work as we go along. \n",
    "\n",
    "That way, if we break something we can just go back to the previous version. "
   ]
  },
  {
   "cell_type": "markdown",
   "metadata": {
    "slideshow": {
     "slide_type": "slide"
    }
   },
   "source": [
    "But this can lead to many files:\n",
    "\n",
    "<img src=\"../../../ILAS_seminars/intro to python/img/many_files_same_name.png\" alt=\"Drawing\" style=\"width: 300px;\"/>\n",
    "\n",
    "How can we tell what each one does?"
   ]
  },
  {
   "cell_type": "markdown",
   "metadata": {
    "slideshow": {
     "slide_type": "subslide"
    }
   },
   "source": [
    "We could try giving them meaningful names:\n",
    "\n",
    "<img src=\"../../../ILAS_seminars/intro to python/img/many_files.gif\" alt=\"Drawing\" style=\"width: 300px;\"/>\n",
    "\n",
    "But the name can only tell us a little bit of information...\n"
   ]
  },
  {
   "cell_type": "markdown",
   "metadata": {
    "slideshow": {
     "slide_type": "subslide"
    }
   },
   "source": [
    "...before they start getting really long!\n",
    "\n",
    "<img src=\"../../../ILAS_seminars/intro to python/img/many_files_different_names.png\" alt=\"Drawing\" style=\"width: 300px;\"/>\n",
    "\n",
    "Things get very confusing!\n",
    "\n",
    "And many files take up lots of space on your computer. "
   ]
  },
  {
   "cell_type": "markdown",
   "metadata": {
    "slideshow": {
     "slide_type": "slide"
    }
   },
   "source": [
    "### How Git works\n",
    "Git creates a folder in the same directory as your file. \n",
    "\n",
    "The directory containing both the file being tracked and the Git folder is now referred to as a repository or \"repo\". \n",
    "\n",
    "(The folder is hidden.)\n",
    "\n",
    "The folder being tracked by git is referred to as a repository or \"repo\". \n",
    "\n",
    "You can keep any type of file in a repository (code files, text files, image files....). \n",
    "\n"
   ]
  },
  {
   "cell_type": "markdown",
   "metadata": {
    "slideshow": {
     "slide_type": "subslide"
    }
   },
   "source": [
    "\n",
    "\n",
    "It logs changes you make to the file.\n",
    "\n",
    "It track of multiple files within this directory.  \n",
    "\n",
    "It stores a *commit message* with each change you *commit*, saying what you changed:\n",
    "\n",
    "<img src=\"../../../ILAS_seminars/intro to python/img/git_commit_.png\" alt=\"Drawing\" style=\"width: 300px;\"/>"
   ]
  },
  {
   "cell_type": "markdown",
   "metadata": {
    "slideshow": {
     "slide_type": "subslide"
    }
   },
   "source": [
    "So if you make a mistake, you can just reset to a previous version.\n",
    "\n",
    "<img src=\"../../../ILAS_seminars/intro to python/img/git_reset.png\" alt=\"Drawing\" style=\"width: 300px;\"/>"
   ]
  },
  {
   "cell_type": "markdown",
   "metadata": {
    "slideshow": {
     "slide_type": "subslide"
    }
   },
   "source": [
    "When you commit chanegs, Git does not save two versions of the same file. \n",
    "\n",
    "Git only saves the __difference__ between two files.\n",
    "\n",
    "This minimises the amount of space that tracking your changes takes up on your computer,\n",
    "\n",
    "__Example:__ Between files r3 and r4, the information saved is\n",
    " > -juice <br>\n",
    " > +soup\n",
    "\n",
    "<img src=\"../../../ILAS_seminars/intro to python/img/git_diff.png\" alt=\"Drawing\" style=\"width: 500px;\"/>"
   ]
  },
  {
   "cell_type": "markdown",
   "metadata": {
    "slideshow": {
     "slide_type": "slide"
    }
   },
   "source": [
    "### Advantages and Disadventages of Git\n",
    "\n",
    "A __great thing__ about git is that it was made by programmers for programmers. \n",
    "\n",
    "Professional developers and most other professionals who write code, use git (or other version control software) to manage their files, workflow and collaborations.  \n",
    "\n",
    "It has an enourmous range of functionality.\n"
   ]
  },
  {
   "cell_type": "markdown",
   "metadata": {
    "slideshow": {
     "slide_type": "subslide"
    }
   },
   "source": [
    "A __problem__ with so much freedom is that it can be easy to get things wrong.\n",
    "\n",
    "Git can be difficult to use.\n",
    "\n"
   ]
  },
  {
   "cell_type": "markdown",
   "metadata": {
    "slideshow": {
     "slide_type": "subslide"
    }
   },
   "source": [
    "To keep things nice and easy we will learn only the basics of using Git. \n",
    "\n",
    "Even this basic understanding will give you essential skills that are used every day by professional programmers. "
   ]
  },
  {
   "cell_type": "markdown",
   "metadata": {
    "collapsed": true,
    "slideshow": {
     "slide_type": "subslide"
    }
   },
   "source": [
    "A __problem__ with Git is that it was made by programmers for programmers. \n",
    "\n",
    "We have to use the command line (or Terminal) to access it. \n",
    "\n",
    "There is no user interface.\n",
    "\n",
    "It can be difficult to visualise what is going on. \n",
    "\n",
    "<img src=\"../../../ILAS_seminars/intro to python/img/git_command_line.png\" alt=\"Drawing\" style=\"width: 500px;\"/>"
   ]
  },
  {
   "cell_type": "markdown",
   "metadata": {
    "slideshow": {
     "slide_type": "slide"
    }
   },
   "source": [
    "## GitHub\n",
    "To provide a visual interface we can use an online *host site* to store and view code...\n",
    "\n"
   ]
  },
  {
   "cell_type": "markdown",
   "metadata": {
    "slideshow": {
     "slide_type": "subslide"
    }
   },
   "source": [
    "A repo can be a local folder on your computer. \n",
    "\n",
    "A repo can also be a storage space on GitHub or another online host site. \n",
    "\n",
    "<img src=\"../../../ILAS_seminars/intro to python/img/github-logo.jpg\" alt=\"Drawing\" style=\"width: 200px;\"/>\n"
   ]
  },
  {
   "cell_type": "markdown",
   "metadata": {
    "slideshow": {
     "slide_type": "subslide"
    }
   },
   "source": [
    "GitHub.com is a \"code hosting site\".\n",
    "\n",
    "It provides a visual interface to view code, the changes (*commits*) and to share and collaborate with others. \n",
    "\n",
    "There are many code hosting sites, however Github has a large community of users.  \n",
    "\n",
    "So for programmers, it works like a social media site like Facebook or instagram.\n",
    "\n",
    "<img src=\"../../../ILAS_seminars/intro to python/img/github-logo.jpg\" alt=\"Drawing\" style=\"width: 200px;\"/>\n",
    "\n"
   ]
  },
  {
   "cell_type": "markdown",
   "metadata": {
    "slideshow": {
     "slide_type": "slide"
    }
   },
   "source": [
    "Let's start by downloading your interactive textbook from github.com\n",
    "\n",
    "Open a web browser and go to:\n",
    "\n",
    "https://github.com/hphilamore/ILAS_python\n",
    "\n",
    "This is a __repository__.\n",
    "\n",
    "It is an online directory where this project, the textbook, is stored. "
   ]
  },
  {
   "cell_type": "markdown",
   "metadata": {
    "slideshow": {
     "slide_type": "subslide"
    }
   },
   "source": [
    "We can look at previous versions of the code by selecting *commits*...\n",
    "\n",
    "We can easily view the difference (\"diff\") between the previous and current version."
   ]
  },
  {
   "cell_type": "markdown",
   "metadata": {
    "slideshow": {
     "slide_type": "subslide"
    }
   },
   "source": [
    " You are going to download a personal copy of the textbook to you user area. "
   ]
  },
  {
   "cell_type": "markdown",
   "metadata": {
    "collapsed": true,
    "slideshow": {
     "slide_type": "subslide"
    }
   },
   "source": [
    "Please log on to the computer. \n",
    "\n",
    "\n",
    "\n"
   ]
  },
  {
   "cell_type": "markdown",
   "metadata": {
    "slideshow": {
     "slide_type": "slide"
    }
   },
   "source": [
    "## Installing Git\n",
    "\n",
    "The first thing we need to do is install git.\n",
    "\n",
    "Download the Git program from here:\n",
    "\n",
    "https://github.com/git-for-windows/git/releases/tag/v2.14.1.windows.1\n",
    "\n",
    "The version you need is: \n",
    "\n",
    "PortableGit-2.14.1-32-bit.7z.exe"
   ]
  },
  {
   "cell_type": "markdown",
   "metadata": {
    "slideshow": {
     "slide_type": "subslide"
    }
   },
   "source": [
    "When prompted, choose to __run the file__ 実行(R).\n",
    "\n",
    "<img src=\"../../../ILAS_seminars/intro to python/img/GitHubInstallRun.png\" alt=\"Drawing\" style=\"width: 600px;\"/>\n",
    "\n",
    "When prompted, change the location to save the file to:\n",
    "\n",
    "M:￥Documents￥PortableGit \n",
    "\n",
    "<img src=\"../../../ILAS_seminars/intro to python/img/GitLocation.png\" alt=\"Drawing\" style=\"width: 400px;\"/>\n",
    "\n",
    "Press OK\n",
    "\n",
    "The download may take some time. \n",
    "\n",
    "\n",
    "\n",
    "\n"
   ]
  },
  {
   "cell_type": "markdown",
   "metadata": {
    "slideshow": {
     "slide_type": "slide"
    }
   },
   "source": [
    "### Introduction to the Command Line. \n",
    "\n",
    "We are going to download the textbook using the command line.\n",
    "\n",
    "To open the terminal:\n",
    " - press \"win key\" + \"R\"\n",
    " - type: __cmd__\n",
    " - press enter"
   ]
  },
  {
   "cell_type": "markdown",
   "metadata": {
    "slideshow": {
     "slide_type": "subslide"
    }
   },
   "source": [
    "A terminal will launch.\n",
    "\n",
    "The *command prompt* will say something like:\n",
    "\n",
    "C:¥Users¥Username:\n",
    "\n",
    "The C tells us that we are on the C drive of the computer.\n",
    "\n",
    "Lets switch to the M drive where the user (you!) can save files."
   ]
  },
  {
   "cell_type": "markdown",
   "metadata": {
    "slideshow": {
     "slide_type": "subslide"
    }
   },
   "source": [
    "In the terminal type: \n",
    "\n",
    ">`M:`\n",
    "\n",
    "...and press enter.\n"
   ]
  },
  {
   "cell_type": "markdown",
   "metadata": {
    "slideshow": {
     "slide_type": "subslide"
    }
   },
   "source": [
    "You should see the command prompt change.  \n",
    "\n",
    "\n",
    "<img src=\"../../../ILAS_seminars/intro to python/img/KUterminalMdrive.png\" alt=\"Drawing\" style=\"width: 700px;\"/>"
   ]
  },
  {
   "cell_type": "markdown",
   "metadata": {
    "slideshow": {
     "slide_type": "subslide"
    }
   },
   "source": [
    "To see what is on the M drive type:\n",
    "\n",
    ">`dir`\n",
    "\n",
    "..and press enter.\n",
    "\n",
    "You will see all the folders in your personal user area.\n",
    "\n",
    "Double click on the computer icon on the desktop. \n",
    "\n",
    "Double click on Home Directory (M:).\n",
    "\n",
    "You should see the same folders as those listed in the terminal.\n"
   ]
  },
  {
   "cell_type": "markdown",
   "metadata": {
    "collapsed": true,
    "slideshow": {
     "slide_type": "subslide"
    }
   },
   "source": [
    "To navigate to documents type:\n",
    "\n",
    ">`cd Documents`\n",
    "\n",
    "cd stands for \"change directory\".\n",
    "\n",
    "\n"
   ]
  },
  {
   "cell_type": "markdown",
   "metadata": {
    "slideshow": {
     "slide_type": "subslide"
    }
   },
   "source": [
    "We can move down the filesystem of the computer by typing:\n",
    "\n",
    ">`cd`\n",
    "\n",
    "followed by the name of the folder we want to move to.\n",
    "\n",
    "The folder must be:\n",
    " - on the same branch\n",
    " - one step from our current location\n",
    "\n",
    "<img src=\"../../../ILAS_seminars/intro to python/img/directory_tree.gif\" alt=\"Drawing\" style=\"width: 200px;\"/>"
   ]
  },
  {
   "cell_type": "markdown",
   "metadata": {
    "slideshow": {
     "slide_type": "subslide"
    }
   },
   "source": [
    "Type:\n",
    "    \n",
    ">`dir` \n",
    "\n",
    "again to view the contents of your Documents folder."
   ]
  },
  {
   "cell_type": "markdown",
   "metadata": {
    "slideshow": {
     "slide_type": "subslide"
    }
   },
   "source": [
    "To move back up by one step, type:\n",
    "    \n",
    ">`cd ..`\n",
    "\n",
    "Try this now.\n",
    "\n",
    "<img src=\"../../../ILAS_seminars/intro to python/img/directory_tree.gif\" alt=\"Drawing\" style=\"width: 200px;\"/>"
   ]
  },
  {
   "cell_type": "markdown",
   "metadata": {
    "slideshow": {
     "slide_type": "subslide"
    }
   },
   "source": [
    "We can move by more than one step by seperating the names of the folders using the symbol: \n",
    "\n",
    "¥\n",
    "\n",
    "(note, this is \\ or / on US and European computers, depending on the operating system)"
   ]
  },
  {
   "cell_type": "markdown",
   "metadata": {
    "slideshow": {
     "slide_type": "subslide"
    }
   },
   "source": [
    "For example, now try navigating to any folder in your Documents folder by typing:\n",
    ">`cd Documents¥folder_name`\n",
    "\n",
    "where `folder_name` is the name of the folder to move to.\n"
   ]
  },
  {
   "cell_type": "markdown",
   "metadata": {
    "slideshow": {
     "slide_type": "subslide"
    }
   },
   "source": [
    "And now let's go back to the main Documents folder by typing:\n",
    "> cd .."
   ]
  },
  {
   "cell_type": "markdown",
   "metadata": {
    "slideshow": {
     "slide_type": "subslide"
    }
   },
   "source": [
    "Type:\n",
    "    \n",
    ">`dir` \n",
    "\n",
    "again to view the contents of your Documents folder.\n",
    "\n",
    "You should now see a  folder called PortableGit in the contents list of __Documents__ folder.  "
   ]
  },
  {
   "cell_type": "markdown",
   "metadata": {
    "slideshow": {
     "slide_type": "subslide"
    }
   },
   "source": [
    "Type:\n",
    ">cd PortableGit \n",
    "\n",
    "to move into your PortableGit folder.\n",
    "\n",
    "To check git has installed type:\n",
    "\n",
    ">`git-bash.exe`\n",
    "\n",
    "A new terminal window will open. In this window type:\n",
    "\n",
    ">`git --version`\n",
    "\n",
    "If Git has installed, the version of the program will be dipolayed. You should see something like this:\n",
    "\n",
    "<img src=\"../../../ILAS_seminars/intro to python/img/git-version.gif\" alt=\"Drawing\" style=\"width: 500px;\"/>\n",
    "\n",
    "Close the window."
   ]
  },
  {
   "cell_type": "markdown",
   "metadata": {
    "slideshow": {
     "slide_type": "subslide"
    }
   },
   "source": [
    "The final thing we need to do is to tell the computer where to look for the Git program. \n",
    "\n",
    "Move one step up from the Git folder. In the original terminal window, type:\n",
    "\n",
    "> `cd ..`\n",
    "\n",
    "Now enter the following in the terminal:\n",
    "\n",
    "> PATH=M:¥Documents¥PortableGit¥bin;%PATH%\n",
    "\n",
    "(you may need to have your keyboard set to JP to achieve this)\n",
    "\n",
    "\n",
    "<img src=\"../../../ILAS_seminars/intro to python/img/windows_change_lang.png\" alt=\"Drawing\" style=\"width: 400px;\"/>\n",
    "\n",
    "\n",
    "You can type this or __copy and paste__ it from the README section on the github page we looked at earlier.\n",
    "\n",
    "__At the start of each seminar you will enter this line of code to allow the computer to run git.__\n",
    "\n",
    "\n"
   ]
  },
  {
   "cell_type": "markdown",
   "metadata": {
    "slideshow": {
     "slide_type": "subslide"
    }
   },
   "source": [
    "The program Git has its own terminal commands.\n",
    "\n",
    "Each one starts with the word `git`\n",
    "\n",
    "Let's check git is working by typing:\n",
    "\n",
    ">`git status`\n",
    "\n",
    "You should see something like this:\n",
    "\n",
    "<img src=\"../../../ILAS_seminars/intro to python/img/git-version.gif\" alt=\"Drawing\" style=\"width: 500px;\"/>\n"
   ]
  },
  {
   "cell_type": "markdown",
   "metadata": {
    "slideshow": {
     "slide_type": "slide"
    }
   },
   "source": [
    "## 'Cloning' the Textbook Using Git\n",
    "\n",
    "Go to the Github site we opened earlier.  \n",
    "\n",
    "We are going to download a copy of the textbook from an online *repository*.\n",
    "\n",
    "This is referred to as *cloning*.\n",
    "\n",
    "This will allow you to work on the textbook and save it locally on a computer.\n",
    "\n",
    "Click the button \"Clone or download\" and copy the link by presssing Ctrl , C\n",
    "\n",
    "<img src=\"../../../ILAS_seminars/intro to python/img/clone-url.png\" alt=\"Drawing\" style=\"width: 500px;\"/>\n",
    "\n",
    "\n"
   ]
  },
  {
   "cell_type": "markdown",
   "metadata": {
    "slideshow": {
     "slide_type": "subslide"
    }
   },
   "source": [
    "In the terminal type `git clone`. After the word `clone` leave a space and then paste the URL that you just copied.:\n",
    "\n",
    "> `git clone` [PASTE COPIED URL HERE]\n",
    "\n",
    "\n",
    "\n",
    "`Clone` copies all the files from the repository at the URL you have entered. "
   ]
  },
  {
   "cell_type": "markdown",
   "metadata": {
    "slideshow": {
     "slide_type": "subslide"
    }
   },
   "source": [
    "In the terminal type:\n",
    "\n",
    "> `dir`\n",
    "\n",
    "A folder called \"ILAS_python\" should have appeared. \n",
    "\n",
    "Go into the folder and view the content by typing:\n",
    "\n",
    ">`cd ILAS_pyhon`\n",
    "><br>`dir` \n",
    "\n"
   ]
  },
  {
   "cell_type": "markdown",
   "metadata": {
    "slideshow": {
     "slide_type": "subslide"
    }
   },
   "source": [
    "Hint: If you start typing  a folder name and press \"tab\", the folder name autocompletes! Try it for yourself e.g. in the Documents directory type:\n",
    "\n",
    ">`cd ILAS`\n",
    "\n",
    "then press \"tab\"."
   ]
  },
  {
   "cell_type": "markdown",
   "metadata": {
    "slideshow": {
     "slide_type": "subslide"
    }
   },
   "source": [
    "The textbook files should now have appeared in your Documents folder."
   ]
  },
  {
   "cell_type": "markdown",
   "metadata": {
    "slideshow": {
     "slide_type": "slide"
    }
   },
   "source": [
    "## Creating an Online Github Account\n",
    "\n",
    "The __online Github repository__ that you cloned the textbook from belongs to me. \n",
    "\n",
    "You are going to create your own online Github user account.\n",
    "\n",
    "\n"
   ]
  },
  {
   "cell_type": "markdown",
   "metadata": {
    "slideshow": {
     "slide_type": "subslide"
    }
   },
   "source": [
    "You will use Github to update the online version of your textbook with the changes you make to the version stored locally on the university M drive.\n",
    "\n",
    "This means you can easily access it from outside the Kyoto University system, for example, to complete your homework. \n",
    "\n",
    "I will use your online repositories to view your work and check your progress during the course."
   ]
  },
  {
   "cell_type": "markdown",
   "metadata": {
    "slideshow": {
     "slide_type": "subslide"
    }
   },
   "source": [
    "Open https://github.com\n",
    "\n",
    "Click \"Sign in\" at the top right hand corner. \n",
    "\n",
    "<img src=\"../../../ILAS_seminars/intro to python/img/github_signup.png\" alt=\"Drawing\" style=\"width: 500px;\"/>\n"
   ]
  },
  {
   "cell_type": "markdown",
   "metadata": {
    "slideshow": {
     "slide_type": "subslide"
    }
   },
   "source": [
    "Follow the steps to create an account, the same way as you would for a social media site for example.\n",
    "\n",
    "Choose a user name, email address, password.\n",
    "\n",
    "<img src=\"../../../ILAS_seminars/intro to python/img/github-signup.png\" alt=\"Drawing\" style=\"width: 300px;\"/>\n",
    "\n",
    "Use the confirmation email to complete your registration.\n",
    "\n",
    "Add your repository email address and username to the list so that I can access and mark your homework."
   ]
  },
  {
   "cell_type": "markdown",
   "metadata": {
    "slideshow": {
     "slide_type": "slide"
    }
   },
   "source": [
    "## Creating an Online GitHub Repository\n",
    "\n",
    "Now we are going to set up your first online repository. \n",
    "\n",
    "Click the + sign in the top right corner.\n",
    "\n",
    "Choose \"New repository\". \n",
    "\n",
    "<img src=\"../../../ILAS_seminars/intro to python/img/github_newrepo.png\" alt=\"Drawing\" style=\"width: 500px;\"/>"
   ]
  },
  {
   "cell_type": "markdown",
   "metadata": {
    "slideshow": {
     "slide_type": "subslide"
    }
   },
   "source": [
    "Choose a repository name (e.g. Python Textbook, python_textbook, Intro_to_python)\n",
    "\n",
    "<img src=\"../../../ILAS_seminars/intro to python/img/github_namerepo.jpg\" alt=\"Drawing\" style=\"width: 300px;\"/>"
   ]
  },
  {
   "cell_type": "markdown",
   "metadata": {
    "slideshow": {
     "slide_type": "subslide"
    }
   },
   "source": [
    "Leave the other settings as they are for now.\n",
    "\n",
    "We will learn about these later in the course. \n",
    "\n",
    "Click the button \"Create repository\".\n",
    "\n",
    "<img src=\"../../../ILAS_seminars/intro to python/img/github_create_repo.jpg\" alt=\"Drawing\" style=\"width: 300px;\"/>"
   ]
  },
  {
   "cell_type": "markdown",
   "metadata": {
    "slideshow": {
     "slide_type": "slide"
    }
   },
   "source": [
    "## Adding Files to an Online Github Repository\n",
    "We are now going to link your local repository (stored on the computer on the M drive) to your online repository (stored at github.com). \n",
    "\n",
    "In the terminal, make sure you are __inside__ the folder named ILAS_python.\n",
    "\n",
    "If you are not, then navigate to the folder using \n",
    "\n",
    ">`cd`\n",
    "\n"
   ]
  },
  {
   "cell_type": "markdown",
   "metadata": {
    "slideshow": {
     "slide_type": "subslide"
    }
   },
   "source": [
    "Enter the username that you registered when setting up your account on GitHub:\n",
    "\n",
    ">`git config --global user.name \"username\"`\n",
    "\n",
    "Enter the email adress that you registered when setting up your account on GitHub:\n",
    "\n",
    ">`git config --global user.email \"your_email@youremail.com\"`"
   ]
  },
  {
   "cell_type": "markdown",
   "metadata": {
    "slideshow": {
     "slide_type": "subslide"
    }
   },
   "source": [
    "Copy the URL of your repo from the \"Quick setup\" section. \n",
    "\n",
    "<img src=\"../../../ILAS_seminars/intro to python/img/github_copyurl.png\" alt=\"Drawing\" style=\"width: 300px;\"/>\n",
    "\n",
    "__NOTE__ \n",
    "<br>Earlier we copied the URL of __my repository__ (https://github.com/hphilamore/ILAS_python.git).\n",
    "<br>We used it to tell the computer where to copy files __from__.\n",
    "\n",
    "<br>Now we are copying the URL of __your repository__(https://github.com/yourGithub/yourRepo.git).\n",
    "<br>We will now use a similar procedure to tell the computer where it should copy files __to__."
   ]
  },
  {
   "cell_type": "markdown",
   "metadata": {
    "collapsed": true,
    "slideshow": {
     "slide_type": "subslide"
    }
   },
   "source": [
    "First we will disconnect your local repo from __my__ online repo.\n",
    "<br>The command `git remote rm` removes (`rm`) a remote (`remote`) URL from your local repository. \n",
    "<br>Type:\n",
    ">`git remote rm origin`\n",
    "\n",
    "(*origin* is a name that was given by default to the URL you cloned the repository from). \n",
    "\n"
   ]
  },
  {
   "cell_type": "markdown",
   "metadata": {
    "slideshow": {
     "slide_type": "subslide"
    }
   },
   "source": [
    "Second we will connect your local repo to __your__ online repo.\n",
    "<br>The command `git remote add` connects (`add`) a remote (`remote`) URL to your local repository using:\n",
    "- a name for you remote (let's use origin, again) \n",
    "- a URL (the URL just just copied)\n",
    "<br>Type:\n",
    ">`git remote add origin` [PASTE COPIED URL HERE] "
   ]
  },
  {
   "cell_type": "markdown",
   "metadata": {
    "slideshow": {
     "slide_type": "subslide"
    }
   },
   "source": [
    "  \n",
    "<br>The command `git push -u` uploads (pushes) the contents of your local repository to a remote repository:\n",
    "- a remote name (ours is \"origin\") \n",
    "- a *branch* of your repository (this is a more advanced feature of github. We will use the default branch ony. It is called \"master\")\n",
    "<br>Type:\n",
    ">`git push -u origin master`\n",
    "\n",
    "A new window should open.\n",
    "\n",
    "Enter your github login details:\n",
    "\n",
    "<img src=\"../../../ILAS_seminars/intro to python/img/GitHubLogin.png\" alt=\"Drawing\" style=\"width: 200px;\"/>\n",
    "\n",
    "Return to the teminal. You may be prompted to enter your login details a second time:\n",
    "\n",
    "<img src=\"../../../ILAS_seminars/intro to python/img/GitHubTermLogin.png\" alt=\"Drawing\" style=\"width: 500px;\"/>\n",
    "\n",
    "You should see a few lines of code appear, ending with the message:\n",
    "\n",
    ">`Branch master set up to track remote branch master from origin`\n"
   ]
  },
  {
   "cell_type": "markdown",
   "metadata": {
    "slideshow": {
     "slide_type": "subslide"
    }
   },
   "source": [
    "Now look again at your online GitHub page.\n",
    "\n",
    "Click on the \"code\" tab to reload the page.\n",
    "\n",
    "<img src=\"../../../ILAS_seminars/intro to python/img/github_code.png\" alt=\"Drawing\" style=\"width: 300px;\"/>\n",
    "\n",
    "The textbook should now have appeared in your online repository. "
   ]
  },
  {
   "cell_type": "markdown",
   "metadata": {
    "slideshow": {
     "slide_type": "slide"
    }
   },
   "source": [
    "## Jupyter Notebook\n",
    "\n",
    "There are diffrent ways of writing and running Python code.\n",
    "\n",
    "For the first part of this course we will be writing code in the Python interactive execution environment, __Jupyter notebook__. \n",
    "\n",
    "A Jupyter notebook lets you write and execute Python code a web browser. \n",
    "\n",
    "Jupyter notebooks make it very easy to write and execute code in sections and immediately view the output of each section.   \n",
    "\n",
    "For this reason Jupyter notebooks are widely used in scientific computing.\n"
   ]
  },
  {
   "cell_type": "markdown",
   "metadata": {
    "slideshow": {
     "slide_type": "subslide"
    }
   },
   "source": [
    "To launch Jupyter notebook go to:\n",
    "    \n",
    "Start >> Programs >> Programming >> Anaconda3 >> JupyterNotebook\n",
    "<br>(Start >> すべてのプログラム >> Programming >> Anaconda3 >> JupyterNotebook)\n",
    "\n",
    "and double click the Jupyter notebook icon to launch the application. "
   ]
  },
  {
   "cell_type": "markdown",
   "metadata": {
    "slideshow": {
     "slide_type": "subslide"
    }
   },
   "source": [
    "You should see the content of your documents folder appear in the window that opens.\n",
    "\n",
    "Open the folder ILAS_python which contains the interactive textbook.  \n",
    "\n",
    "The textbook is written as a Jupyter notebook; each chapter (or seminar) is a seperate .ipynb file.\n",
    "\n",
    "This format allows you to:\n",
    " - add to the textbook\n",
    " - run your code and view the outcome within the file\n",
    " \n",
    " <img src=\"../../../ILAS_seminars/intro to python/img/jupyter-file-browser.png\" alt=\"Drawing\" style=\"width: 500px;\"/>"
   ]
  },
  {
   "cell_type": "markdown",
   "metadata": {
    "slideshow": {
     "slide_type": "subslide"
    }
   },
   "source": [
    "Click on the file 0_Introduction.ipynb to open it.\n",
    "\n",
    "You will see the contents of the slides that you have been following today. \n",
    "\n",
    "Scroll down to find __THIS SLIDE__ in the notebook. \n",
    "\n",
    " <img src=\"../../../ILAS_seminars/intro to python/img/youarehere.png\" alt=\"Drawing\" style=\"width: 300px;\"/>\n",
    " \n",
    " If the following error message appears, choose `Python [python3]` from the drop-down menus and click OK. "
   ]
  },
  {
   "cell_type": "markdown",
   "metadata": {
    "slideshow": {
     "slide_type": "subslide"
    }
   },
   "source": [
    "A Jupyter notebook is made up of a number of cells. \n",
    "\n",
    "Each cell can contain Python code.\n",
    "\n",
    "Let's learn how to:\n",
    " - create a new notebook\n",
    " - write code\n",
    " - run code"
   ]
  },
  {
   "cell_type": "markdown",
   "metadata": {
    "slideshow": {
     "slide_type": "subslide"
    }
   },
   "source": [
    "At the top of the screen click:\n",
    "\n",
    "File >> New Notebook >> Python 3"
   ]
  },
  {
   "cell_type": "markdown",
   "metadata": {
    "slideshow": {
     "slide_type": "subslide"
    }
   },
   "source": [
    " \n",
    "\n",
    "To execute a cell:\n",
    "- Click on it (a green box will appear around it once selected)\n",
    "- Press \"shift\" + \"enter\"\n",
    "\n",
    "When executed: \n",
    "- the code in the cell will run\n",
    "- the output of the cell will be displayed beneath the cell. "
   ]
  },
  {
   "cell_type": "markdown",
   "metadata": {
    "slideshow": {
     "slide_type": "slide"
    }
   },
   "source": [
    "### Your First Python Code\n",
    "\n",
    "Python can be used like a calculator to do basic arithmetic.\n",
    "\n",
    "In the empty cell in the new notebook in the next tab of your web browser (Untitled) enter:\n",
    "<br> 1 + 2\n",
    "\n",
    "Press \"shift\" + \"enter\"\n",
    "\n",
    "Your notebook should look something like this:\n",
    "\n",
    "<img src=\"../../../ILAS_seminars/intro to python/img/jupyter_cell_one.png\" alt=\"Drawing\" style=\"width: 500px;\"/>"
   ]
  },
  {
   "cell_type": "markdown",
   "metadata": {
    "slideshow": {
     "slide_type": "subslide"
    }
   },
   "source": [
    "In Python we can create variables that store values.\n",
    "\n",
    "In the next cell create the value `x` which has the value `2 + 3`:\n",
    "\n",
    "```python\n",
    "x = 2 + 3\n",
    "```\n",
    "\n",
    "To display the value of x we need to \"print\" it.\n",
    "\n",
    "Type `print(x)`.\n",
    "\n",
    "Press \"shift\" + \"enter\" to run the cell.\n",
    "\n",
    "Your notebook should look something like this:\n",
    "\n",
    "<img src=\"../../../ILAS_seminars/intro to python/img/jupyter_celltwo.png\" alt=\"Drawing\" style=\"width: 500px;\"/>\n",
    "\n"
   ]
  },
  {
   "cell_type": "markdown",
   "metadata": {
    "slideshow": {
     "slide_type": "subslide"
    }
   },
   "source": [
    "Variables are shared between cells. \n",
    "\n",
    "Therefore, executing:\n",
    "\n",
    "```python\n",
    "y = x - 2\n",
    "print(y)\n",
    "```\n",
    "in the next cell\n",
    "\n",
    "should give the following result in your notebook:\n",
    "\n",
    "<img src=\"../../../ILAS_seminars/intro to python/img/jupyter_cell_three.png\" alt=\"Drawing\" style=\"width: 500px;\"/>\n",
    "\n"
   ]
  },
  {
   "cell_type": "markdown",
   "metadata": {
    "slideshow": {
     "slide_type": "subslide"
    }
   },
   "source": [
    "Cells are executed in the order that the user runs them. \n",
    "\n",
    "By convention, Jupyter notebooks are __expected__ to be run from top to bottom. \n",
    "\n",
    "If you skip a cell or run the cells in a different order you may get unexpected behaviour.\n",
    "\n",
    "For example, in the next cell enter:\n",
    "```python\n",
    "x = 10\n",
    "```\n",
    "\n",
    "then re-run the cell above containing:\n",
    "```python\n",
    "y = x - 2\n",
    "print(y)\n",
    "\n",
    "```\n",
    "\n",
    "and you should see the value of y change. \n",
    "\n",
    "The original value of `x` has been replaced by the new definition `x = 10`.\n",
    "\n",
    "<img src=\"../../../ILAS_seminars/intro to python/img/jupyter_change_value.png\" alt=\"Drawing\" style=\"width: 500px;\"/>"
   ]
  },
  {
   "cell_type": "markdown",
   "metadata": {
    "slideshow": {
     "slide_type": "subslide"
    }
   },
   "source": [
    "Now run the cell containing: \n",
    "    \n",
    "```python\n",
    "x = 2 + 3\n",
    "```\n",
    "then the cell containing:\n",
    "```python\n",
    "y = x - 2\n",
    "print(y)\n",
    "\n",
    "```\n",
    "and you will see the value of `y` change back to it's original value. \n",
    "\n",
    "<img src=\"../../../ILAS_seminars/intro to python/img/jupyter_value_change2.png\" alt=\"Drawing\" style=\"width: 500px;\"/>\n",
    "\n"
   ]
  },
  {
   "cell_type": "markdown",
   "metadata": {
    "slideshow": {
     "slide_type": "subslide"
    }
   },
   "source": [
    "To run all the cells sequentially from top to bottom:\n",
    "\n",
    "Click Cell >> Run All\n",
    "\n",
    "This menu also contains other options for running cells. "
   ]
  },
  {
   "cell_type": "markdown",
   "metadata": {
    "slideshow": {
     "slide_type": "subslide"
    }
   },
   "source": [
    "Close the file Untitled.ipynb\n",
    "\n",
    "Delete the file Untitled.ipynb \n",
    "\n",
    "__NOTE__: Deleting this file NOW is important as it will be difficult to remove it from your repository later. "
   ]
  },
  {
   "cell_type": "markdown",
   "metadata": {
    "slideshow": {
     "slide_type": "slide"
    }
   },
   "source": [
    "## Adding to the Python Textbook\n",
    "Throughout this course you will develop new skills by completing excercises in the interactive textbook.\n",
    "\n",
    "At the end of the course you will have all of your notes and practise excercises in one place, accessible from almost anywhere.\n",
    "\n",
    "Let's practise making a change to this chapter of the texbook and saving the change to your Git repository."
   ]
  },
  {
   "cell_type": "markdown",
   "metadata": {
    "slideshow": {
     "slide_type": "subslide"
    }
   },
   "source": [
    "Copy and paste the following code to the cell below and press \"shift\" + \"enter\" to run the cell.\n",
    "```PYTHON\n",
    "print(2 + 1)\n",
    "\n",
    "print(5 - 2)\n",
    "\n",
    "print(1 + 1)\n",
    "\n",
    "print(2 - 1)\n",
    "\n",
    "print(1 + 5)\n",
    "```\n",
    "\n",
    "<img src=\"../../../ILAS_seminars/intro to python/img/change.jpg\" alt=\"Drawing\" style=\"width: 500px;\"/>"
   ]
  },
  {
   "cell_type": "code",
   "execution_count": null,
   "metadata": {
    "collapsed": true,
    "slideshow": {
     "slide_type": "-"
    }
   },
   "outputs": [],
   "source": [
    "# copy and paste code here"
   ]
  },
  {
   "cell_type": "markdown",
   "metadata": {
    "slideshow": {
     "slide_type": "subslide"
    }
   },
   "source": [
    "Save your changes by clicking the button in the top left of this window.\n",
    "\n",
    "<img src=\"../../../ILAS_seminars/intro to python/img/Jupytersave.png\" alt=\"Drawing\" style=\"width: 300px;\"/>"
   ]
  },
  {
   "cell_type": "markdown",
   "metadata": {
    "slideshow": {
     "slide_type": "slide"
    }
   },
   "source": [
    "## Tracking changes using Git\n",
    "\n",
    "We are now going to:\n",
    " - use Git to record the changes you make to the textbook.\n",
    " - upload it to your online GitHub repository so that you can access it online. "
   ]
  },
  {
   "cell_type": "markdown",
   "metadata": {
    "slideshow": {
     "slide_type": "subslide"
    }
   },
   "source": [
    "Git has a two-step process for saving changes.\n",
    "\n",
    "1. Select files for which to log changes (__\"add\"__)\n",
    "1. Log changes (__\"commit\"__)\n",
    "\n",
    "This is an advanced feature.\n",
    "\n",
    "For now, we will just learn to __add__ all the files in our directory (rather than selecting individual files).\n",
    "\n",
    "When files have been __added__ but not yet __commited__, we say they have been *staged*. \n",
    "\n",
    "<img src=\"../../../ILAS_seminars/intro to python/img/git_simple_workflow.png\" alt=\"Drawing\" style=\"width: 500px;\"/>\n"
   ]
  },
  {
   "cell_type": "markdown",
   "metadata": {
    "slideshow": {
     "slide_type": "subslide"
    }
   },
   "source": [
    "In the terminal type:\n",
    ">`git add -A`\n",
    "\n",
    "to take a snapshot of the changes to all (`-A`) the files in your local directory.\n",
    "<br>This is held at the index (stage).\n",
    "\n",
    "Then:\n",
    ">`git commit -m \"A short message explaining your changes\"`\n",
    "\n",
    "to save the changes with a message (`-m`) you can refer to to remind you what you changed. \n",
    "<br>\n",
    "\n",
    "To avoid losing any changes, these commands are usually executed in immediate succession.\n",
    "\n"
   ]
  },
  {
   "cell_type": "markdown",
   "metadata": {
    "slideshow": {
     "slide_type": "subslide"
    }
   },
   "source": [
    "To see the commit you just made type:\n",
    ">`git log`\n",
    "\n",
    "You will see the message you write and a long number.\n",
    "\n",
    "We can return to this point in the your work at any time by referencing this number. \n",
    "\n",
    "Type:\n",
    ">`q`\n",
    "\n",
    "to exit the log commit log."
   ]
  },
  {
   "cell_type": "markdown",
   "metadata": {
    "slideshow": {
     "slide_type": "slide"
    }
   },
   "source": [
    "## Updating your Online GitHub Repository  \n",
    "\n",
    "We have updated the Git repository held on the computer.\n",
    "\n",
    "The last thing we need to do is to update your online repository. \n",
    "\n",
    "We do this using the `push` command.\n",
    "\n",
    "<img src=\"../../../ILAS_seminars/intro to python/img/git-local-remote-workflow-cropped.png\" alt=\"Drawing\" style=\"width: 500px;\"/>"
   ]
  },
  {
   "cell_type": "markdown",
   "metadata": {
    "slideshow": {
     "slide_type": "subslide"
    }
   },
   "source": [
    "You used the `push` command when you originally uploaded the textbook to your repository.\n",
    "\n",
    "Enter exactly the same code into the terminal:\n",
    "\n",
    "Type:\n",
    "\n",
    "    git push -u origin master\n",
    "    \n",
    "Enter you GitHub login details when prompted.  \n"
   ]
  },
  {
   "cell_type": "markdown",
   "metadata": {
    "slideshow": {
     "slide_type": "subslide"
    }
   },
   "source": [
    "Go to the web browser and open the file 0_Introduction.\n",
    "\n",
    "Scroll down to where you made the change. \n",
    "\n",
    "Hint: look for the marker: \n",
    "\n",
    "<img src=\"../../../ILAS_seminars/intro to python/img/change.jpg\" alt=\"Drawing\" style=\"width: 100px;\"/>"
   ]
  },
  {
   "cell_type": "markdown",
   "metadata": {
    "slideshow": {
     "slide_type": "slide"
    }
   },
   "source": [
    "## Installing Software for Home Use \n",
    "\n",
    "It is highly recommended that you download and install the software we will use in class:\n",
    "- Jupyter notebook (anaconda)\n",
    "- Git\n",
    "\n",
    "You will need to use this software to complete homework assigments and prepare for the exam. \n",
    "\n",
    "Both are free to download and install.\n",
    "\n",
    "When running Git you do not need to use the \n",
    "\n"
   ]
  },
  {
   "cell_type": "markdown",
   "metadata": {
    "slideshow": {
     "slide_type": "subslide"
    }
   },
   "source": [
    "Anaconda (which includes Jupyter notebook) can be downloaded from: https://www.anaconda.com/download/\n",
    "><br>Python 3.6 version and Python 2.7 version are available.\n",
    "><br>Choose Python 3.6 version\n",
    "\n",
    "Git can be downloaded from: https://github.com/git-for-windows/git/releases/tag/v2.14.1.windows.1\n",
    ">Choose Git-2.14.1-64-bit.exe if you have a 64 bit operating system.\n",
    "><br> Choose Git-2.14.1-32-bit.exe if you have a 32 bit operating system.\n",
    "\n",
    "An easy to follow download wizard will launch for each piece of software. \n",
    "\n",
    "__NOTE:__ The procedure to install git on your personal computer is different from the method we have used in the \"Installing Git\" Section of this seminar.  \n"
   ]
  },
  {
   "cell_type": "markdown",
   "metadata": {},
   "source": [
    "# Summary \n",
    "\n",
    "\n",
    " - Course structure:\n",
    "  - Part 1: Fundamentals of programming (~10 weeks)\n",
    "  - Part 2: Applications of programming (~4 weeks).\n",
    "  - Version Control and Testing (throughout)\n",
    " - Assessment: \n",
    "  - 50% course work (mostly in-class)\n",
    "  - 50% exam\n",
    " - New Software:\n",
    "  - Git\n",
    "  - GitHub\n",
    "  - Jupyter notebook"
   ]
  },
  {
   "cell_type": "markdown",
   "metadata": {
    "slideshow": {
     "slide_type": "slide"
    }
   },
   "source": [
    "# Homework \n",
    "\n",
    "Download and install Jupyter notebook and Git on your personal computer.\n",
    "\n"
   ]
  },
  {
   "cell_type": "markdown",
   "metadata": {},
   "source": [
    "# Homework \n",
    "\n",
    "*Optional extension.*\n",
    "<br>Use the same procedure as we used earlier to clone the textbook repo into a local folder on your computer.\n",
    "<br>This time clone it from *your* personal repository __not__ mine.\n",
    "\n",
    "\n",
    "Refer to the file: 0_Introduction.ipynb for the notes from today's seminar. \n",
    "\n",
    "You can view this in your online GitHub repository.\n",
    "\n",
    "Go to  https://github.com/ and sign in. \n",
    "\n",
    "\n"
   ]
  },
  {
   "cell_type": "markdown",
   "metadata": {},
   "source": [
    "The steps are as follows, using windows (please ask me about other operating systems e.g. Mac): \n",
    "- Open the terminal:\n",
    " - press \"win key\" + \"R\"\n",
    " - type cmd\n",
    " -press enter\n",
    "- Use `cd` to move to the directory in which you want to download the textbook folder.\n",
    "- Go to the Github site and sign in. \n",
    "- Open the repository in which the textbook is stored.\n",
    "- Click the button \"Clone or download\" and copy the link by presssing Ctrl , C. \n",
    "<br>It will be the same as the URL you used for `git remote add origin` (e.g. https://github.com/yourGithub/yourRepo.git)\n",
    "\n",
    "<img src=\"../../../ILAS_seminars/intro to python/img/clone-url.png\" alt=\"Drawing\" style=\"width: 500px;\"/>\n",
    "\n",
    "- In the terminal type:\n",
    ">`git clone` [INSERT THE COPIED URL HERE]"
   ]
  },
  {
   "cell_type": "code",
   "execution_count": null,
   "metadata": {
    "collapsed": true
   },
   "outputs": [],
   "source": []
  }
 ],
 "metadata": {
  "celltoolbar": "Slideshow",
  "kernelspec": {
   "display_name": "env",
   "language": "python",
   "name": "env"
  },
  "language_info": {
   "codemirror_mode": {
    "name": "ipython",
    "version": 3
   },
   "file_extension": ".py",
   "mimetype": "text/x-python",
   "name": "python",
   "nbconvert_exporter": "python",
   "pygments_lexer": "ipython3",
   "version": "3.5.3"
  }
 },
 "nbformat": 4,
 "nbformat_minor": 2
}
