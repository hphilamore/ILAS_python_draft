{
 "cells": [
  {
   "cell_type": "markdown",
   "metadata": {
    "collapsed": true
   },
   "source": [
    "__Example:__\n",
    "\n",
    "How much work is done by pushing a lawn-mower for 10m if the force is applied at angle $\\theta$. [For simplicity, we will neglect friction in this example.] \n",
    "\n",
    "ii) How much force is actually helping the object move, when pushing at an angle.\n",
    "\n",
    "<img src=\"../../../ILAS_seminars/intro to python/img/work_equation.jpg\" alt=\"Drawing\" style=\"width: 250px;\"/>"
   ]
  },
  {
   "cell_type": "markdown",
   "metadata": {},
   "source": [
    " - Compose simple programs to perform the algebraic equations we have studied so far on:\n",
    "  - single value variables.\n",
    "  - data structures (holding mutiple variables)\n",
    "  - data imported from external sources (user input and external files)"
   ]
  },
  {
   "cell_type": "markdown",
   "metadata": {},
   "source": [
    "We have been using lists as a convenient way to express vectors.\n",
    "<br>\n",
    "It may be more convenient to input a list as an argument.\n",
    "<br> \n",
    "To this we need to edit the body of the function slightly."
   ]
  },
  {
   "cell_type": "code",
   "execution_count": 3,
   "metadata": {},
   "outputs": [
    {
     "name": "stdout",
     "output_type": "stream",
     "text": [
      "[1, 3, 0.0]\n"
     ]
    }
   ],
   "source": [
    "## list args\n",
    "def vector3D(vector, z  = 0.0):\n",
    "    \"\"\"\n",
    "    Prints a vector, expressed in 3D space, as a list.\n",
    "    \"\"\"\n",
    "    V = [0, 0, z] \n",
    "    \n",
    "    for i in range(len(vector)):\n",
    "        \n",
    "        V[i] = vector[i]\n",
    "    \n",
    "    print(V)\n",
    "    \n",
    "\n",
    "vector = [1,3]\n",
    "vector3D(vector)"
   ]
  },
  {
   "cell_type": "markdown",
   "metadata": {
    "collapsed": true
   },
   "source": [
    "Make a new folder in which to store your Git program. \n",
    "\n",
    "Type:\n",
    "    `mkdir Git`\n",
    "\n",
    "`mkdir` stands for \"make directory\".\n",
    "`Git` is the name, chosen by you."
   ]
  },
  {
   "cell_type": "markdown",
   "metadata": {
    "collapsed": true
   },
   "source": [
    "## Exam\n",
    "## 3: Data structures\n",
    "### Extension Exercise: Selecting data structures.\n",
    "\n",
    "<img src=\"../../../ILAS_seminars/intro to python/img/2d_poly.png\" alt=\"Drawing\" style=\"width: 300px;\"/>\n",
    "\n",
    "For a simple (non-intersecting) polygon:\n",
    "\n",
    " - with $n$ vertices \n",
    " ($(x_0, y_0)$, $(x_1, y_1, ...x_{n-1}, y_{n-1})$\n",
    " - where $(x_n, y_n) = (x_0, y_0)$. \n",
    " - where the vertices are ordered as you move around the polygon.\n",
    "\n",
    "the area $A$ is given by:\n",
    "$$\n",
    "A = \\left| \\frac{1}{2} \\sum_{i=0}^{n-1} \\left(x_{i} y _{i+1} - x_{i+1} y_{i} \\right) \\right|\n",
    "$$\n",
    "\n",
    "Write a program that computes the area of a simple polygon with an arbitrary number of vertices.\n",
    "\n",
    "Choose a data structure to represent the coordinates of each vertex of the polygon. \n",
    "\n",
    "Use a for loop for the summation. For an examlpe of how to do this refer to the method you used when finding the dot product of two vectors. \n",
    "\n",
    "<a href='#DotProduct'>Jump to the Dot Product</a>\n",
    "\n",
    "Test your function for some simple shapes. "
   ]
  }
 ],
 "metadata": {
  "kernelspec": {
   "display_name": "Python 3",
   "language": "python",
   "name": "python3"
  },
  "language_info": {
   "codemirror_mode": {
    "name": "ipython",
    "version": 3
   },
   "file_extension": ".py",
   "mimetype": "text/x-python",
   "name": "python",
   "nbconvert_exporter": "python",
   "pygments_lexer": "ipython3",
   "version": "3.6.1"
  }
 },
 "nbformat": 4,
 "nbformat_minor": 2
}
