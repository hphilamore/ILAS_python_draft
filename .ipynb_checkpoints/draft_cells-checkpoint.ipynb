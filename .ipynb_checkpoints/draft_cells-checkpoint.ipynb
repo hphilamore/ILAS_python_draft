{
 "cells": [
  {
   "cell_type": "markdown",
   "metadata": {
    "collapsed": true
   },
   "source": [
    "__Example:__\n",
    "\n",
    "How much work is done by pushing a lawn-mower for 10m if the force is applied at angle $\\theta$. [For simplicity, we will neglect friction in this example.] \n",
    "\n",
    "ii) How much force is actually helping the object move, when pushing at an angle.\n",
    "\n",
    "<img src=\"../../../ILAS_seminars/intro to python/img/work_equation.jpg\" alt=\"Drawing\" style=\"width: 250px;\"/>"
   ]
  },
  {
   "cell_type": "markdown",
   "metadata": {},
   "source": [
    " - Compose simple programs to perform the algebraic equations we have studied so far on:\n",
    "  - single value variables.\n",
    "  - data structures (holding mutiple variables)\n",
    "  - data imported from external sources (user input and external files)"
   ]
  },
  {
   "cell_type": "markdown",
   "metadata": {},
   "source": [
    "We have been using lists as a convenient way to express vectors.\n",
    "<br>\n",
    "It may be more convenient to input a list as an argument.\n",
    "<br> \n",
    "To this we need to edit the body of the function slightly."
   ]
  },
  {
   "cell_type": "code",
   "execution_count": 3,
   "metadata": {},
   "outputs": [
    {
     "name": "stdout",
     "output_type": "stream",
     "text": [
      "[1, 3, 0.0]\n"
     ]
    }
   ],
   "source": [
    "## list args\n",
    "def vector3D(vector, z  = 0.0):\n",
    "    \"\"\"\n",
    "    Prints a vector, expressed in 3D space, as a list.\n",
    "    \"\"\"\n",
    "    V = [0, 0, z] \n",
    "    \n",
    "    for i in range(len(vector)):\n",
    "        \n",
    "        V[i] = vector[i]\n",
    "    \n",
    "    print(V)\n",
    "    \n",
    "\n",
    "vector = [1,3]\n",
    "vector3D(vector)"
   ]
  },
  {
   "cell_type": "markdown",
   "metadata": {
    "collapsed": true
   },
   "source": [
    "Make a new folder in which to store your Git program. \n",
    "\n",
    "Type:\n",
    "    `mkdir Git`\n",
    "\n",
    "`mkdir` stands for \"make directory\".\n",
    "`Git` is the name, chosen by you."
   ]
  },
  {
   "cell_type": "code",
   "execution_count": null,
   "metadata": {
    "collapsed": true
   },
   "outputs": [],
   "source": []
  }
 ],
 "metadata": {
  "kernelspec": {
   "display_name": "Python 3",
   "language": "python",
   "name": "python3"
  },
  "language_info": {
   "codemirror_mode": {
    "name": "ipython",
    "version": 3
   },
   "file_extension": ".py",
   "mimetype": "text/x-python",
   "name": "python",
   "nbconvert_exporter": "python",
   "pygments_lexer": "ipython3",
   "version": "3.6.1"
  }
 },
 "nbformat": 4,
 "nbformat_minor": 2
}
