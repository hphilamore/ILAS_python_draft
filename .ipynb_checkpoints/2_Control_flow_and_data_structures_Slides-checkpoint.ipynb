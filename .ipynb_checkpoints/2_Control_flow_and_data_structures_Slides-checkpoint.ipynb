{
 "cells": [
  {
   "cell_type": "code",
   "execution_count": null,
   "metadata": {
    "collapsed": true
   },
   "outputs": [],
   "source": [
    "from IPython.core.display import HTML\n",
    "def css_styling():\n",
    "    styles = open(\"./styles/custom.css\", \"r\").read()\n",
    "    return HTML(styles)\n",
    "css_styling()"
   ]
  },
  {
   "cell_type": "code",
   "execution_count": null,
   "metadata": {
    "collapsed": true
   },
   "outputs": [],
   "source": [
    "__PULL__ the changes you made in-class today to your personal computer.\n",
    "\n",
    "If you need a reminder of how to do this:\n",
    "\n",
    "Open Jupyter notebook:\n",
    "<br> Start >> Programs >> Programming >> Anaconda3 >> JupyterNotebook\n",
    "<br>(Start >> すべてのプログラム >> Programming >> Anaconda3 >> JupyterNotebook)\n",
    "\n",
    "Navigate to where your interactive textbook is stored.\n",
    "\n",
    "Open __S1_Introduction_to_Version_Control__.  "
   ]
  },
  {
   "cell_type": "code",
   "execution_count": null,
   "metadata": {
    "collapsed": true
   },
   "outputs": [],
   "source": [
    "Open Jupyter notebook:\n",
    "<br> Start >> Programs >> Programming >> Anaconda3 >> JupyterNotebook\n",
    "<br>(Start >> すべてのプログラム >> Programming >> Anaconda3 >> JupyterNotebook)\n",
    "\n",
    "Navigate to where your interactive textbook is stored.\n",
    "\n",
    "Open __2_Control_flow_and_data_structures__.  "
   ]
  },
  {
   "cell_type": "markdown",
   "metadata": {
    "collapsed": true,
    "slideshow": {
     "slide_type": "slide"
    }
   },
   "source": [
    "# Control Flow and Data Structures\n",
    "\n",
    "## Lesson Goal\n",
    "\n",
    " - Compose simple programs to control the flow with which the operators we have studied so far are executed on:\n",
    "  - single value variables.\n",
    "  - data structures (holding mutiple variables)\n",
    "\n",
    "\n"
   ]
  },
  {
   "cell_type": "markdown",
   "metadata": {
    "slideshow": {
     "slide_type": "slide"
    }
   },
   "source": [
    "## Objectives\n",
    "\n",
    " - Use control __statements__, __loops__ and  to determine the flow of a program. \n",
    " \n",
    " - Express collections of mulitple variables as `list`, `tuple` and dictionary (`dict`) data structures.\n",
    " \n",
    "- Use iteratation to visit entries in a data structure \n",
    "\n",
    "- Learn to select the right data structure for an application"
   ]
  },
  {
   "cell_type": "markdown",
   "metadata": {
    "slideshow": {
     "slide_type": "slide"
    }
   },
   "source": [
    "Why we are studying this:\n",
    "\n",
    "To use Python to solve more complex engineering problems you are likely to encounter involving:\n",
    " - multi-variable values (e.g. vectors)\n",
    " - large data sets (e.g. experiment results)\n",
    " - manipulating your data using logic \n",
    " <br>\n",
    " (e.g. sorting and categorising answers to an operation performed on multiple data points)\n",
    "\n"
   ]
  },
  {
   "cell_type": "markdown",
   "metadata": {
    "slideshow": {
     "slide_type": "slide"
    }
   },
   "source": [
    "Open lesson 2 of your interactive textbook:\n",
    " - Open a terminal.\n",
    " - Type jupyter notebook\n",
    " - Navigate to the folder you saved the repository in\n",
    " - Double click on 2_Control_flow_and_data_structures.ipynb\n",
    "\n"
   ]
  },
  {
   "cell_type": "markdown",
   "metadata": {
    "slideshow": {
     "slide_type": "slide"
    }
   },
   "source": [
    "Lesson structure:\n",
    " - Practise new skills __together__\n",
    " - Practise skills by __completing examples__ in textbooks.\n",
    " - __Feedback answers__ (verbally / whiteboards)\n",
    " - __Practise alone__ by completing review excercises. \n",
    " - __Update your online git repository__.\n",
    " - __Summary__ and __quiz__. "
   ]
  },
  {
   "cell_type": "markdown",
   "metadata": {
    "slideshow": {
     "slide_type": "slide"
    }
   },
   "source": [
    "Each time you complete a section of your textbook, please wait to feedback the answer before moving on.\n",
    "\n",
    "\n"
   ]
  },
  {
   "cell_type": "markdown",
   "metadata": {
    "slideshow": {
     "slide_type": "slide"
    }
   },
   "source": [
    "What is a *__control statement__*?\n",
    "\n",
    "Let's start with an example from the last seminar..."
   ]
  },
  {
   "cell_type": "markdown",
   "metadata": {
    "slideshow": {
     "slide_type": "slide"
    }
   },
   "source": [
    "## 1.Control Statements\n",
    "In the last seminar we looked at a simple computer program that returned Boolean (True or False) variables... \n",
    "\n"
   ]
  },
  {
   "cell_type": "markdown",
   "metadata": {
    "slideshow": {
     "slide_type": "slide"
    }
   },
   "source": [
    "## 1.Control Statements\n",
    "Based on the current time of day, the program answers two questions:\n",
    "\n",
    "\n",
    ">__Is it lunchtime?__\n",
    "\n",
    ">`True`\n",
    "\n",
    "\n",
    "if it is lunch time.\n",
    "\n",
    ">__Is it time for work?__\n",
    "\n",
    ">`True`\n",
    "\n",
    "if it is within working hours."
   ]
  },
  {
   "cell_type": "code",
   "execution_count": 2,
   "metadata": {
    "slideshow": {
     "slide_type": "slide"
    }
   },
   "outputs": [
    {
     "name": "stdout",
     "output_type": "stream",
     "text": [
      "Is it lunchtime?\n",
      "True\n",
      "Is it time for work?\n",
      "False\n"
     ]
    }
   ],
   "source": [
    "time = 13.05          # current time\n",
    "\n",
    "work_starts = 8.00    # time work starts \n",
    "work_ends =  17.00    # time work ends\n",
    "\n",
    "lunch_starts = 13.00  # time lunch starts\n",
    "lunch_ends =   14.00  # time lunch ends\n",
    "\n",
    "# variable lunchtime is True or False\n",
    "lunchtime = time >= lunch_starts and time < lunch_ends\n",
    "\n",
    "# variable work_time is True or False\n",
    "work_time = time < work_starts or time >= work_ends\n",
    "\n",
    "\n",
    "print(\"Is it lunchtime?\")\n",
    "print(lunchtime)\n",
    "print(\"Is it time for work?\")\n",
    "print(work_time)"
   ]
  },
  {
   "cell_type": "markdown",
   "metadata": {
    "slideshow": {
     "slide_type": "slide"
    }
   },
   "source": [
    "What if we now want our computer program to do something based on these answers?\n",
    "\n",
    "To do this, we need to use *control statements*.\n",
    "\n",
    "Control statements allow us to make decisions in a program.\n",
    "\n",
    "This decision making is known as *control flow*. \n",
    "\n",
    "Control statements are a fundamental part of programming."
   ]
  },
  {
   "cell_type": "markdown",
   "metadata": {
    "slideshow": {
     "slide_type": "slide"
    }
   },
   "source": [
    "Here is a control statement in pseudo code:\n",
    "\n",
    "This is an `if` statement.\n",
    "\n",
    "    if A is true    \n",
    "        Perform task X\n",
    "        \n",
    "For example \n",
    "\n",
    "    if lunchtime is true    \n",
    "        Eat lunch\n"
   ]
  },
  {
   "cell_type": "markdown",
   "metadata": {
    "slideshow": {
     "slide_type": "slide"
    }
   },
   "source": [
    "We can check if an alternative to the `if` statement is true using an `else if` statement.\n",
    "\n",
    "\n",
    "    if A is true\n",
    "        Perform task X (only)\n",
    "        \n",
    "    else if B is true\n",
    "        Perform task Y (only)\n",
    "        \n",
    "\n",
    "\n",
    "    if lunchtime is true\n",
    "        Eat lunch\n",
    "        \n",
    "    else if work_time is true\n",
    "        Do work"
   ]
  },
  {
   "cell_type": "markdown",
   "metadata": {
    "slideshow": {
     "slide_type": "slide"
    }
   },
   "source": [
    "Often it is useful to include an `else` statement.\n",
    "\n",
    "If none of the `if` and `else if` statements are satisfied, the code following the `else` statement will be executed.\n",
    "\n",
    "    if A is true\n",
    "        Perform task X (only)\n",
    "        \n",
    "    else if B is true\n",
    "        Perform task Y (only)\n",
    "        \n",
    "    else   \n",
    "        Perform task Z (only)\n",
    "        \n",
    "\n",
    "\n",
    "\n"
   ]
  },
  {
   "cell_type": "markdown",
   "metadata": {
    "slideshow": {
     "slide_type": "slide"
    }
   },
   "source": [
    "    if lunchtime is true\n",
    "        Eat lunch\n",
    "        \n",
    "    else if work_time is true\n",
    "        Do work\n",
    "        \n",
    "    else   \n",
    "        Go home"
   ]
  },
  {
   "cell_type": "markdown",
   "metadata": {
    "slideshow": {
     "slide_type": "slide"
    }
   },
   "source": [
    "Let's get a better understanding of control flow statements by completing some examples. "
   ]
  },
  {
   "cell_type": "markdown",
   "metadata": {
    "collapsed": true
   },
   "source": [
    "## 1.1 `if` and `else` statements\n",
    "\n",
    "Below is a simple example that demonstrates a Python  if-else control statement. \n",
    "\n",
    "It uses the lunch/work example from the previous seminar.\n",
    "\n",
    "__Note:__ In Python, \"else if\" is written: `elif`"
   ]
  },
  {
   "cell_type": "code",
   "execution_count": 104,
   "metadata": {},
   "outputs": [
    {
     "name": "stdout",
     "output_type": "stream",
     "text": [
      "Eat lunch\n"
     ]
    }
   ],
   "source": [
    "time = 13.05          # current time\n",
    "\n",
    "work_starts = 8.00    # time work starts \n",
    "work_ends =  17.00    # time work ends\n",
    "\n",
    "lunch_starts = 13.00  # time lunch starts\n",
    "lunch_ends =   14.00  # time lunch ends\n",
    "\n",
    "# variable lunchtime is True or False\n",
    "lunchtime = time >= lunch_starts and time < lunch_ends\n",
    "\n",
    "# variable work_time is True or False\n",
    "work_time = time < work_starts or time >= work_ends\n",
    "\n",
    "#print(\"Is it lunchtime?\")\n",
    "#print(lunchtime)\n",
    "#print(\"Is it time for work?\")\n",
    "#print(work_time)\n",
    "\n",
    "if lunchtime == True:\n",
    "    print(\"Eat lunch\")\n",
    "        \n",
    "elif work_time == True:\n",
    "    print(\"Do work\")\n",
    "        \n",
    "else:   \n",
    "    print(\"Go home\")\n"
   ]
  },
  {
   "cell_type": "markdown",
   "metadata": {},
   "source": [
    "Here is another example, using algebraic operators to modify the value of an initial variable, `x`. "
   ]
  },
  {
   "cell_type": "code",
   "execution_count": 3,
   "metadata": {},
   "outputs": [
    {
     "name": "stdout",
     "output_type": "stream",
     "text": [
      "Initial x is less than zero\n",
      "Modified x =  11.0\n"
     ]
    }
   ],
   "source": [
    "#The input to the program is variable `x`.\n",
    "x = -10.0  # Initial x value\n",
    "\n",
    "if x > 0.0:     \n",
    "    \n",
    "    print('Initial x is greater than zero') #The program prints a message... \n",
    "    x -= 20.0                               # ...and modifies `x`.\n",
    "    \n",
    "elif x < 0.0:  \n",
    "    print('Initial x is less than zero')\n",
    "    x += 21.0\n",
    "    \n",
    "else: \n",
    "    print('Initial x is not less than zero and not greater than zero, therefore it must be zero')\n",
    "    x *= 2.5\n",
    "\n",
    "print(\"Modified x = \", x)"
   ]
  },
  {
   "cell_type": "markdown",
   "metadata": {
    "slideshow": {
     "slide_type": "slide"
    }
   },
   "source": [
    "The message and the modification of `x` depend on the initial value of `x`.\n",
    "\n",
    "__Note:__ The program  uses the short-cut algebraic operators that you learnt to use in the last seminar. "
   ]
  },
  {
   "cell_type": "code",
   "execution_count": null,
   "metadata": {
    "collapsed": true,
    "slideshow": {
     "slide_type": "slide"
    }
   },
   "outputs": [],
   "source": [
    "#The input to the program is variable `x`.\n",
    "x = -10.0  # Initial x value\n",
    "\n",
    "if x > 0.0:     \n",
    "    \n",
    "    print('Initial x is greater than zero') #The program prints a message... \n",
    "    x -= 20.0                               # ...and modifies `x`.\n",
    "    \n",
    "elif x < 0.0:  \n",
    "    print('Initial x is less than zero')\n",
    "    x += 21.0\n",
    "    \n",
    "else: \n",
    "    print('Initial x is not less than zero and not greater than zero, therefore it must be zero')\n",
    "    x *= 2.5\n",
    "\n",
    "print(\"Modified x = \", x)"
   ]
  },
  {
   "cell_type": "markdown",
   "metadata": {
    "slideshow": {
     "slide_type": "slide"
    }
   },
   "source": [
    "__Try it yourself__\n",
    "\n",
    "In your textbook, try changing the value of `x` a few times.\n",
    "Re-run the cell to see the different paths the program can follow."
   ]
  },
  {
   "cell_type": "markdown",
   "metadata": {},
   "source": [
    "### Look carefully at the structure of the `if`, `elif`, `else`, control statement:\n",
    "\n",
    "\n",
    "__The control statement begins with an `if`__, followed by the expression to check.  <br> \n",
    " At the end of the `if` statement you must put a colon (`:`) <br> \n",
    "````python\n",
    "if x > 0.0:    \n",
    "````"
   ]
  },
  {
   "cell_type": "markdown",
   "metadata": {},
   "source": [
    "After the `if` statement, indent the code to be run in the case that the `if` statement is `True`. <br>\n",
    "\n",
    "\n",
    " To end the code to be run, simply stop indenting:\n",
    " \n",
    "````python\n",
    "if x > 0.0:\n",
    "    print('Initial x is greater than zero')\n",
    "    x -= 20.0\n",
    "````"
   ]
  },
  {
   "cell_type": "markdown",
   "metadata": {},
   "source": [
    " - `if` statement is `True` (e.g. (`x > 0.0`) is True):\n",
    "    - The indented code is executed.\n",
    "    - The control block is exited.\n",
    "    - The program moves past any subsequent `elif` or `else` statements.\n",
    "    <br>    \n",
    "    \n",
    "    \n",
    "  - `if` statement is `False`:\n",
    "  the program moves past the inented code to the next (non-indented) part of the program... <br>"
   ]
  },
  {
   "cell_type": "markdown",
   "metadata": {},
   "source": [
    "__In this case `elif` (else if)__ check is performed.\n",
    "<br>\n",
    "(Notice that the code is structured in the same way as the `if` statement.):\n",
    "\n",
    "```python\n",
    "if x > 0.0:\n",
    "    print('Initial x is greater than zero')\n",
    "    x -= 20.0\n",
    "    \n",
    "elif x < 0.0:\n",
    "    print('Initial x is less than zero')\n",
    "    x += 21.0\n",
    "```  "
   ]
  },
  {
   "cell_type": "markdown",
   "metadata": {},
   "source": [
    "- If (`x < 0.0`) is true:\n",
    "    - The indented code is executed.\n",
    "    - The control block is exited. \n",
    "    - The program moves past any subsequent `elif` or `else` statements.\n",
    "    \n",
    "    \n",
    "- `if` statement is `False`:\n",
    "  the program moves past the inented code to the next (non-indented) part of the program. <br>\n",
    " \n",
    "\n",
    " "
   ]
  },
  {
   "cell_type": "markdown",
   "metadata": {},
   "source": [
    "__If none of the preceding stements are true__ [(`x > 0.0`) is false and (`x < 0.0`) is false], the code following the `else` statement is executed.\n",
    "\n",
    "```python\n",
    "if x > 0.0:\n",
    "    print('Initial x is greater than zero')\n",
    "    x -= 20.0\n",
    "\n",
    "elif x < 0.0:\n",
    "    print('Initial x is less than zero')\n",
    "    x += 21.0\n",
    "\n",
    "else:\n",
    "    print('Initial x is not less than zero and not greater than zero, therefore it must be zero')\n",
    "```"
   ]
  },
  {
   "cell_type": "markdown",
   "metadata": {},
   "source": [
    "Evaluating data against different criteria is extremely useful for solving real-world mathematical problems."
   ]
  },
  {
   "cell_type": "markdown",
   "metadata": {},
   "source": [
    "Let's look at a simple example..."
   ]
  },
  {
   "cell_type": "markdown",
   "metadata": {
    "collapsed": true
   },
   "source": [
    "### Real-World Example: currency trading\n",
    "\n",
    "To make a comission (profit), a currency trader sells US dollars to travellers at a rate below the market rate. \n",
    "\n",
    " - The multiplier they apply to calculate the reduction is shown in the table.  \n",
    "\n",
    "|Amount (GBP)                                |reduction on market rate |\n",
    "|--------------------------------------------|-------------------------|\n",
    "| Less than $100$                            | 0.9                     |   \n",
    "| From $100$ and less than $1,000$           | 0.925                   |   \n",
    "| From $1,000$ and less than $10,000$        | 0.95                    |   \n",
    "| From $10,000$ and less than $100,000$      | 0.97                    |   \n",
    "| Over $100,000$                             | 0.98                    |   \n",
    "\n",
    " - The currency trader incurs extra costs for handling cash. \n",
    " Therefore, if the transaction is made in cash they retain an extra 10% after conversion. \n",
    " (If the trasnaction is made electronically, they do not).  \n",
    "\n"
   ]
  },
  {
   "cell_type": "markdown",
   "metadata": {},
   "source": [
    "At the current market rate 1 JPY is 0.0091 USD.\n",
    "\n",
    "The *effective rate* is the rate that the customer is getting based on the amount in JPY to be changed."
   ]
  },
  {
   "cell_type": "markdown",
   "metadata": {},
   "source": [
    "The program calculates:\n",
    " - The reduction based on the values in the table.\n",
    " - An additional 10% reduction if the transaction is made in cash."
   ]
  },
  {
   "cell_type": "code",
   "execution_count": 41,
   "metadata": {},
   "outputs": [
    {
     "name": "stdout",
     "output_type": "stream",
     "text": [
      "Amount in JPY sold: 200500\n",
      "Amount in USD purchased: 1609.2531000000001\n",
      "Effective rate: 0.0080262\n"
     ]
    }
   ],
   "source": [
    "JPY  = 200500  # The amount in JPY to be changed into USD\n",
    "cash = True  # True if selling cash, otherwise False\n",
    "\n",
    "market_rate = 0.0091  # 1 JPY is worth this many dollars at the market rate\n",
    "\n",
    "# Apply the appropriate reduction depending on the amount being sold\n",
    "if JPY < 100:\n",
    "    USD = 0.9 * market_rate * JPY\n",
    "    \n",
    "elif JPY < 1000:  \n",
    "    USD = 0.925 * market_rate * JPY\n",
    "    \n",
    "elif JPY < 10000:\n",
    "    USD = 0.95 * market_rate * JPY\n",
    "    \n",
    "elif JPY < 100000:\n",
    "    USD = 0.97 * market_rate * JPY\n",
    "    \n",
    "else:\n",
    "    USD = 0.98 * market_rate * JPY\n",
    "\n",
    "if cash:\n",
    "    USD *= 0.9  # recall that this is shorthand for USD = 0.9*USD \n",
    "    \n",
    "print(\"Amount in JPY sold:\", JPY)\n",
    "print(\"Amount in USD purchased:\", USD)\n",
    "print(\"Effective rate:\", USD/JPY)"
   ]
  },
  {
   "cell_type": "markdown",
   "metadata": {},
   "source": [
    "The program calculates:\n",
    " - The reduction based on the values in the table.\n",
    " - An additional 10% reduction if the transaction is made in cash.\n",
    " \n",
    " __Note:__\n",
    " - We can use multiple `elif` statements.\n",
    " - When the program executes and exits a control block, it moves to the next `if` statement.  \n",
    " \n"
   ]
  },
  {
   "cell_type": "markdown",
   "metadata": {},
   "source": [
    "__Try it yourself__\n",
    "\n",
    "In your textbook, try changing the values of `JPY` and `cash` a few times.\n",
    "\n",
    "Re-run the cell to see the different paths the program can follow."
   ]
  },
  {
   "cell_type": "markdown",
   "metadata": {},
   "source": [
    "## 1.2 `for` loops\n",
    "\n",
    "*Loops* are used to execute a command repeatedly.\n",
    "<br>\n",
    "A loop is a block that repeats an operation a specified number of times (loops). \n",
    "\n",
    "To learn about loops we are going to use the function `range()`."
   ]
  },
  {
   "cell_type": "markdown",
   "metadata": {},
   "source": [
    "### 1.2.1 `range`.\n",
    "\n",
    "The function `range` gives us a sequence of *integer* numbers.\n",
    "\n",
    "`range(3, 6)` returns integer values starting from 3 and ending at 6.\n",
    "\n",
    "i.e.\n",
    "\n",
    "> 3,4,5\n",
    "\n",
    "Note this does not include 6.\n",
    "\n"
   ]
  },
  {
   "cell_type": "markdown",
   "metadata": {},
   "source": [
    "We can change the starting value.\n",
    " \n",
    "For example for integer values starting at 0 and ending at 4:\n",
    " \n",
    "`range(0,4)`\n",
    "\n",
    "returns:\n",
    "\n",
    "> 0, 1, 2, 3\n",
    "\n",
    "`range(4)` is a __shortcut__ for range(0, 4) "
   ]
  },
  {
   "cell_type": "markdown",
   "metadata": {
    "slideshow": {
     "slide_type": "slide"
    }
   },
   "source": [
    "### 1.2.2 Simple `for` loops"
   ]
  },
  {
   "cell_type": "code",
   "execution_count": 42,
   "metadata": {},
   "outputs": [
    {
     "name": "stdout",
     "output_type": "stream",
     "text": [
      "0\n",
      "1\n",
      "2\n",
      "3\n",
      "4\n"
     ]
    }
   ],
   "source": [
    "for i in range(0, 5):\n",
    "    print(i)"
   ]
  },
  {
   "cell_type": "markdown",
   "metadata": {},
   "source": [
    "An example of a for loop.\n",
    "\n",
    "The statement \n",
    "```python\n",
    "for i in range(0, 5):\n",
    "```\n",
    "says that we want to run the indented code five times."
   ]
  },
  {
   "cell_type": "code",
   "execution_count": null,
   "metadata": {
    "collapsed": true,
    "slideshow": {
     "slide_type": "slide"
    }
   },
   "outputs": [],
   "source": [
    "for i in range(0, 5):\n",
    "    print(i)"
   ]
  },
  {
   "cell_type": "markdown",
   "metadata": {},
   "source": [
    "The first time through, the value of i is equal to 0.\n",
    "<br>\n",
    "The second time through, its value is 1.\n",
    "<br>\n",
    "Each loop the value `i` increases by 1 (0, 1, 2, 3, 4) until the last time when its value is 4. "
   ]
  },
  {
   "cell_type": "code",
   "execution_count": null,
   "metadata": {
    "collapsed": true,
    "slideshow": {
     "slide_type": "slide"
    }
   },
   "outputs": [],
   "source": [
    "for i in range(0, 5):\n",
    "    print(i)"
   ]
  },
  {
   "cell_type": "markdown",
   "metadata": {},
   "source": [
    "Look carefully at the structure of the `for` loop:\n",
    " - `for` is followed by the condition being checked.\n",
    " - At the end of the `for` statement you must put a colon (`:`) \n",
    " - The indented code that follows is run each time the code loops.  <br>\n",
    " (Any number of spaces, but __same of spaces__ for the entire `for` loop.) \n",
    " <br> \n",
    " - To end the `for` loop, simply stop indenting. "
   ]
  },
  {
   "cell_type": "code",
   "execution_count": 43,
   "metadata": {
    "slideshow": {
     "slide_type": "slide"
    }
   },
   "outputs": [
    {
     "name": "stdout",
     "output_type": "stream",
     "text": [
      "-2\n",
      "-1\n",
      "0\n",
      "1\n",
      "2\n",
      "The end of the loop\n"
     ]
    }
   ],
   "source": [
    "for i in range(-2, 3):\n",
    "    print(i)\n",
    "print('The end of the loop')"
   ]
  },
  {
   "cell_type": "markdown",
   "metadata": {},
   "source": [
    "The above loop starts from -2 and executes the indented code for each value of i in the range (-2, -1, 0, 1, 2).\n",
    "<br>\n",
    "When the loop has executed the code for the final value `i = 2`, it moves on to the next unindented line of code."
   ]
  },
  {
   "cell_type": "code",
   "execution_count": 44,
   "metadata": {
    "slideshow": {
     "slide_type": "slide"
    }
   },
   "outputs": [
    {
     "name": "stdout",
     "output_type": "stream",
     "text": [
      "----\n",
      "0 0\n",
      "----\n",
      "1 1\n",
      "----\n",
      "2 4\n",
      "----\n",
      "3 9\n"
     ]
    }
   ],
   "source": [
    "for n in range(4):\n",
    "    \n",
    "    print(\"----\")\n",
    "    \n",
    "    print(n, n**2)"
   ]
  },
  {
   "cell_type": "markdown",
   "metadata": {},
   "source": [
    "The above executes 4 loops.\n",
    "\n",
    "The statement \n",
    "```python\n",
    "for n in range(4):\n",
    "```\n",
    "says that we want to loop over four integers, starting from 0. \n",
    "\n",
    "Each loop the value `n` increases by 1 (0, 1, 2 3).\n",
    "\n",
    "\n"
   ]
  },
  {
   "cell_type": "markdown",
   "metadata": {
    "slideshow": {
     "slide_type": "slide"
    }
   },
   "source": [
    "__Try it yourself__\n",
    "<br>\n",
    "Go back and change the __range__ of input values in the last three cells and observe the change in output. \n"
   ]
  },
  {
   "cell_type": "markdown",
   "metadata": {
    "collapsed": true,
    "slideshow": {
     "slide_type": "slide"
    }
   },
   "source": [
    "If we want to step by three rather than one:"
   ]
  },
  {
   "cell_type": "code",
   "execution_count": 45,
   "metadata": {},
   "outputs": [
    {
     "name": "stdout",
     "output_type": "stream",
     "text": [
      "0\n",
      "3\n",
      "6\n",
      "9\n"
     ]
    }
   ],
   "source": [
    "for n in range(0, 10, 3):\n",
    "    print(n)"
   ]
  },
  {
   "cell_type": "markdown",
   "metadata": {
    "slideshow": {
     "slide_type": "slide"
    }
   },
   "source": [
    "If we want to step backwards rather than forwards we __must__ include the step size:"
   ]
  },
  {
   "cell_type": "code",
   "execution_count": 46,
   "metadata": {},
   "outputs": [
    {
     "name": "stdout",
     "output_type": "stream",
     "text": [
      "10\n",
      "9\n",
      "8\n",
      "7\n",
      "6\n",
      "5\n",
      "4\n",
      "3\n",
      "2\n",
      "1\n"
     ]
    }
   ],
   "source": [
    "for n in range(10, 0, -1):\n",
    "    print(n)"
   ]
  },
  {
   "cell_type": "markdown",
   "metadata": {},
   "source": [
    "For example:"
   ]
  },
  {
   "cell_type": "code",
   "execution_count": 47,
   "metadata": {
    "collapsed": true
   },
   "outputs": [],
   "source": [
    "for n in range(10, 0):\n",
    "    print(n)"
   ]
  },
  {
   "cell_type": "markdown",
   "metadata": {},
   "source": [
    "Does not return any values because there are no values that lie between 10 and 0 when counting in the positive direction from 10. "
   ]
  },
  {
   "cell_type": "markdown",
   "metadata": {
    "slideshow": {
     "slide_type": "slide"
    }
   },
   "source": [
    "__Try it yourself.__\n",
    "\n",
    "In your textbooks write a `for` loop that:\n",
    " - loops __backwards__ through a range starting at `n = 10` and ending at `n = 1`.\n",
    " - prints `n`$^2$ at each loop.\n"
   ]
  },
  {
   "cell_type": "code",
   "execution_count": 48,
   "metadata": {
    "collapsed": true
   },
   "outputs": [],
   "source": [
    "# For loop"
   ]
  },
  {
   "cell_type": "markdown",
   "metadata": {
    "slideshow": {
     "slide_type": "slide"
    }
   },
   "source": [
    "For loops are useful for performing operations on large data sets.\n",
    "\n",
    "We often encounter large data sets in real-world mathematical problems. "
   ]
  },
  {
   "cell_type": "markdown",
   "metadata": {
    "slideshow": {
     "slide_type": "slide"
    }
   },
   "source": [
    "A simple example of this is converting multiple values using the same mathematical equation to create a look-up table..."
   ]
  },
  {
   "cell_type": "markdown",
   "metadata": {
    "slideshow": {
     "slide_type": "slide"
    }
   },
   "source": [
    "### Real-world Example: conversion table from degrees Fahrenheit to degrees Celsius\n",
    "\n",
    "We can use a `for` loop to create a conversion table from degrees Fahrenheit ($T_F$) to degrees Celsius ($T_c$).\n",
    "\n",
    "Conversion formula:\n",
    "\n",
    "$$\n",
    "T_c = 5(T_f - 32)/9\n",
    "$$\n",
    "\n",
    "Computing the conversion from -100 F to 200 F in steps of 20 F (not including 200 F):"
   ]
  },
  {
   "cell_type": "code",
   "execution_count": 49,
   "metadata": {},
   "outputs": [
    {
     "name": "stdout",
     "output_type": "stream",
     "text": [
      "T_f,    T_c\n",
      "-100 -73.33333333333333\n",
      "-80 -62.22222222222222\n",
      "-60 -51.111111111111114\n",
      "-40 -40.0\n",
      "-20 -28.88888888888889\n",
      "0 -17.77777777777778\n",
      "20 -6.666666666666667\n",
      "40 4.444444444444445\n",
      "60 15.555555555555555\n",
      "80 26.666666666666668\n",
      "100 37.77777777777778\n",
      "120 48.888888888888886\n",
      "140 60.0\n",
      "160 71.11111111111111\n",
      "180 82.22222222222223\n"
     ]
    }
   ],
   "source": [
    "print(\"T_f,    T_c\")\n",
    "\n",
    "for Tf in range(-100, 200, 20):\n",
    "    print(Tf, (Tf - 32) * 5 / 9)"
   ]
  },
  {
   "cell_type": "markdown",
   "metadata": {
    "slideshow": {
     "slide_type": "slide"
    }
   },
   "source": [
    "## 1.3 `while` loops\n",
    "\n",
    "`for` loops perform an operation a specified number of times. \n",
    "\n",
    "A `while` loop performs a task while a specified statement is true. \n",
    "\n",
    "For example..."
   ]
  },
  {
   "cell_type": "code",
   "execution_count": 50,
   "metadata": {
    "slideshow": {
     "slide_type": "slide"
    }
   },
   "outputs": [
    {
     "name": "stdout",
     "output_type": "stream",
     "text": [
      "Start of while statement\n",
      "-2\n",
      "-1\n",
      "0\n",
      "1\n",
      "2\n",
      "3\n",
      "4\n",
      "End of while statement\n"
     ]
    }
   ],
   "source": [
    "x = -2\n",
    "\n",
    "print(\"Start of while statement\")\n",
    "\n",
    "while x < 5:\n",
    "    print(x)\n",
    "    x += 1  # Increment x\n",
    "    \n",
    "print(\"End of while statement\")"
   ]
  },
  {
   "cell_type": "markdown",
   "metadata": {},
   "source": [
    "The structure of a `while` loop is similar to a `for` loop.\n",
    "- `while` is followed by the condition being checked.\n",
    " - At the end of the `for` statement you must put a colon (`:`) \n",
    " - The indented code that follows the `while` statement is is executed and repeated until the `while` statement (e.g. `x < 5`) is `False`.\n",
    "\n",
    " "
   ]
  },
  {
   "cell_type": "markdown",
   "metadata": {
    "slideshow": {
     "slide_type": "slide"
    }
   },
   "source": [
    "It can be quite easy to crash your computer using a `while` loop. \n",
    "\n",
    "e.g. if we don't modify the value of x each time the code loops:\n",
    "```python\n",
    "x = -2\n",
    "while x < 5:\n",
    "    print(x)\n",
    "    # x += 1  \n",
    "```\n",
    "will continue indefinitely since `x < 5 == False`  will never be satisfied.\n",
    "\n",
    "This is called an *infinite loop*.\n",
    "\n"
   ]
  },
  {
   "cell_type": "markdown",
   "metadata": {
    "slideshow": {
     "slide_type": "slide"
    }
   },
   "source": [
    "One way to avoid getting stuck in an infinite loop is to consider using a `for` loop instead."
   ]
  },
  {
   "cell_type": "code",
   "execution_count": 5,
   "metadata": {},
   "outputs": [
    {
     "name": "stdout",
     "output_type": "stream",
     "text": [
      "Start of for statement\n",
      "-2\n",
      "-1\n",
      "0\n",
      "1\n",
      "2\n",
      "3\n",
      "4\n",
      "End of for statement\n"
     ]
    }
   ],
   "source": [
    "x = -2\n",
    "\n",
    "print(\"Start of for statement\")\n",
    "\n",
    "for y in range(x,5):\n",
    "    print(y)\n",
    "    \n",
    "print(\"End of for statement\")"
   ]
  },
  {
   "cell_type": "markdown",
   "metadata": {
    "slideshow": {
     "slide_type": "slide"
    }
   },
   "source": [
    "Here is another example of a `while` loop."
   ]
  },
  {
   "cell_type": "code",
   "execution_count": 52,
   "metadata": {},
   "outputs": [
    {
     "name": "stdout",
     "output_type": "stream",
     "text": [
      "0.81\n",
      "0.6561000000000001\n",
      "0.43046721000000016\n",
      "0.18530201888518424\n",
      "0.03433683820292518\n",
      "0.001179018457773862\n",
      "1.390084523771456e-06\n"
     ]
    }
   ],
   "source": [
    "x = 0.9\n",
    "\n",
    "while x > 0.001:\n",
    "    # Square x (shortcut x *= x)\n",
    "    x = x * x\n",
    "    print(x)"
   ]
  },
  {
   "cell_type": "markdown",
   "metadata": {
    "slideshow": {
     "slide_type": "slide"
    }
   },
   "source": [
    "This example will generate an infinite loop if $x \\ge 1$ as `x` will always be greater than 0.001.\n",
    "\n",
    "e.g. \n",
    "```python\n",
    "x = 2\n",
    "\n",
    "while x > 0.001:\n",
    "    x = x * x\n",
    "    print(x)\n",
    "```\n",
    "\n",
    "In this case using a for loop is less appropraite; we might not know beforehand how many steps are required before `x > 0.001` becomes false. \n",
    "\n"
   ]
  },
  {
   "cell_type": "markdown",
   "metadata": {
    "slideshow": {
     "slide_type": "slide"
    }
   },
   "source": [
    "To make a code robust, it is good practice to check that $x < 1$ before entering the `while` loop e.g."
   ]
  },
  {
   "cell_type": "code",
   "execution_count": null,
   "metadata": {
    "collapsed": true
   },
   "outputs": [],
   "source": [
    "x = 0.9\n",
    "\n",
    "if x < 1:\n",
    "\n",
    "    while x > 0.001:\n",
    "        # Square x (shortcut x *= x)\n",
    "        x = x * x\n",
    "        print(x)\n",
    "        \n",
    "else:\n",
    "    print(\"x is greater than one, infinite loop avoided\")"
   ]
  },
  {
   "cell_type": "markdown",
   "metadata": {
    "collapsed": true
   },
   "source": [
    "__Try it for yourself:__\n",
    "\n",
    "Find the cell shown above in your textbook and change the value of x to above or below 1.\n",
    "\n",
    "Observe the output.\n"
   ]
  },
  {
   "cell_type": "markdown",
   "metadata": {
    "slideshow": {
     "slide_type": "slide"
    }
   },
   "source": [
    "__Try it for yourself:__\n",
    "\n",
    "In the cell provided in your textbook:\n",
    " - Create a variable,`x`, with the initial value 50\n",
    " - Each loop, reduce the value of x by half\n",
    " - Exit the loop when `x` < 3"
   ]
  },
  {
   "cell_type": "code",
   "execution_count": 53,
   "metadata": {
    "collapsed": true
   },
   "outputs": [],
   "source": [
    "# While loop"
   ]
  },
  {
   "cell_type": "markdown",
   "metadata": {
    "slideshow": {
     "slide_type": "slide"
    }
   },
   "source": [
    "## 1.4 `break` and `continue`.\n",
    "\n",
    "### 1.4.1 `break`\n",
    "\n",
    "Sometimes we want to break out of a `for` or `while` loop. \n",
    "\n",
    "For example in a `for` loop we can check if something is true, and then exit the loop prematurely, e.g"
   ]
  },
  {
   "cell_type": "code",
   "execution_count": 54,
   "metadata": {},
   "outputs": [
    {
     "name": "stdout",
     "output_type": "stream",
     "text": [
      "0\n",
      "1\n",
      "2\n",
      "3\n",
      "4\n",
      "5\n",
      "Time to break out\n"
     ]
    }
   ],
   "source": [
    "for x in range(10):\n",
    "    print(x)\n",
    "    \n",
    "    if x == 5:\n",
    "        print(\"Time to break out\")\n",
    "        break"
   ]
  },
  {
   "cell_type": "markdown",
   "metadata": {
    "slideshow": {
     "slide_type": "slide"
    }
   },
   "source": [
    "Let's look at how we can use this in a program...\n"
   ]
  },
  {
   "cell_type": "markdown",
   "metadata": {
    "slideshow": {
     "slide_type": "slide"
    }
   },
   "source": [
    "Let's use a program to check (integer) numbers up to 50 __finds prime numbers__ and prints the prime numbers. \n",
    "\n",
    "__Prime number:__ A positive integer, greater than 1, that has no positive divisors other than 1 and itself (2, 3, 5, 11, 13, 17....)"
   ]
  },
  {
   "cell_type": "code",
   "execution_count": 55,
   "metadata": {
    "slideshow": {
     "slide_type": "slide"
    }
   },
   "outputs": [
    {
     "name": "stdout",
     "output_type": "stream",
     "text": [
      "2\n",
      "3\n",
      "5\n",
      "7\n",
      "11\n",
      "13\n",
      "17\n",
      "19\n",
      "23\n",
      "29\n",
      "31\n",
      "37\n",
      "41\n",
      "43\n",
      "47\n"
     ]
    }
   ],
   "source": [
    "N = 50  # Check numbers up 50 for primes (excludes 50)\n",
    "\n",
    "# Loop over all numbers from 2 to 50 (excluding 50)\n",
    "for n in range(2, N):\n",
    "\n",
    "    # Assume that n is prime\n",
    "    n_is_prime = True\n",
    "\n",
    "    # Check if n can be divided by m\n",
    "    # m ranges from 2 to n (excluding n)\n",
    "    for m in range(2, n):\n",
    "        \n",
    "        # Check if the remainder when n/m is equal to zero \n",
    "        # If the remainder is zero it is not a prime number\n",
    "        if n % m == 0:   \n",
    "            n_is_prime = False\n",
    "\n",
    "    #  If n is prime, print to screen        \n",
    "    if n_is_prime:\n",
    "        print(n)"
   ]
  },
  {
   "cell_type": "markdown",
   "metadata": {
    "slideshow": {
     "slide_type": "slide"
    }
   },
   "source": [
    "Notice that our program contains a second `for` loop. \n",
    "\n",
    "For each value of n, it loops through incrementing values of m in the range (2 to n):\n",
    "\n",
    "```python\n",
    "# Check if n can be divided by m\n",
    "    # m ranges from 2 to n (excluding n)\n",
    "    for m in range(2, n):\n",
    "```\n",
    "before incrementing to the next value of n.\n",
    "\n",
    "We call this a *nested* loop.\n",
    "\n",
    "The indents in the code show where loops are nested.\n",
    " "
   ]
  },
  {
   "cell_type": "code",
   "execution_count": null,
   "metadata": {
    "collapsed": true,
    "slideshow": {
     "slide_type": "slide"
    }
   },
   "outputs": [],
   "source": [
    "N = 50  \n",
    "\n",
    "# for loop 1\n",
    "for n in range(2, N):    \n",
    "    n_is_prime = True\n",
    "\n",
    "    # for loop 2\n",
    "    for m in range(2, n): \n",
    "        if n % m == 0:   \n",
    "            n_is_prime = False\n",
    "            \n",
    "    if n_is_prime:\n",
    "        print(n)"
   ]
  },
  {
   "cell_type": "code",
   "execution_count": null,
   "metadata": {
    "collapsed": true,
    "slideshow": {
     "slide_type": "slide"
    }
   },
   "outputs": [],
   "source": [
    "Notice that one of the prime numbers is 17.\n",
    "\n",
    "In the program below, a break statment is added."
   ]
  },
  {
   "cell_type": "code",
   "execution_count": 56,
   "metadata": {},
   "outputs": [
    {
     "name": "stdout",
     "output_type": "stream",
     "text": [
      "2\n",
      "3\n",
      "5\n",
      "7\n",
      "11\n",
      "13\n",
      "17\n"
     ]
    }
   ],
   "source": [
    "N = 50  \n",
    "#for loop 1\n",
    "for n in range(2, N):   \n",
    "    n_is_prime = True\n",
    "\n",
    "    # for loop 2\n",
    "    for m in range(2, n):\n",
    "        if n % m == 0:   \n",
    "            n_is_prime = False\n",
    "\n",
    "    if n_is_prime:\n",
    "        print(n)\n",
    "    \n",
    "    # if n == 17, stop for loop 1\n",
    "    if n == 17:   \n",
    "        break"
   ]
  },
  {
   "cell_type": "markdown",
   "metadata": {},
   "source": [
    "If if `n`  is equal to 17, the program stops running the `for` loop:\n",
    "\n",
    "```python\n",
    "for n in range(2, N):\n",
    "```\n",
    "\n",
    "Only values up to 17 are printed. "
   ]
  },
  {
   "cell_type": "markdown",
   "metadata": {
    "slideshow": {
     "slide_type": "slide"
    }
   },
   "source": [
    "__Try it yourself.__\n",
    "\n",
    "In your textbook, re-write the break statement in the cell above to stop the foor loop at the first prime number greater than 20.\n",
    "\n",
    "__Note:__ You do not need to delete the previous `break` statement.\n",
    "\n",
    "You can make it a comment by adding a `#` at the start of each line:\n",
    "\n",
    "```python\n",
    "#    if n == 17:   \n",
    "#        break\n",
    "```\n",
    "This allows you to refer to see the code, but stops the program from running it. \n",
    "\n"
   ]
  },
  {
   "cell_type": "markdown",
   "metadata": {
    "slideshow": {
     "slide_type": "slide"
    }
   },
   "source": [
    "The program exits the loop at the `break` statement.\n",
    "<br>\n",
    "This means that any code within the loop, after the break statement is skipped. \n",
    "\n",
    "__In the cell provided in your textbook, copy and paste your code from the cell above.__\n",
    "\n",
    "__Try editing your code to printing all of the prime numbers *under* 20.__\n",
    "\n",
    "Put your hand up when you have completed this task. "
   ]
  },
  {
   "cell_type": "code",
   "execution_count": 57,
   "metadata": {
    "collapsed": true,
    "slideshow": {
     "slide_type": "-"
    }
   },
   "outputs": [],
   "source": [
    "# Copy and paste your code here."
   ]
  },
  {
   "cell_type": "markdown",
   "metadata": {
    "slideshow": {
     "slide_type": "slide"
    }
   },
   "source": [
    "A simple way to do this is to place the break statement before we print the value of `n`.\n",
    "\n",
    "    #  If n is prime, print to screen        \n",
    "    if n_is_prime:\n",
    "        print(n)\n",
    "        \n",
    "If `n`$>20$ the program breaks out of the loop before printing the number."
   ]
  },
  {
   "cell_type": "markdown",
   "metadata": {
    "collapsed": true,
    "slideshow": {
     "slide_type": "slide"
    }
   },
   "source": [
    "### 1.4.2 `continue`\n",
    "\n",
    "Sometimes, instead of stopping the loop we want to go to the next iteration in a loop, skipping the remaining code.\n",
    "\n",
    "For this we use `continue`. \n",
    "\n"
   ]
  },
  {
   "cell_type": "markdown",
   "metadata": {
    "slideshow": {
     "slide_type": "slide"
    }
   },
   "source": [
    "The example below loops over 20 numbers (0 to 19) and checks if the number is divisible by 4. \n",
    "\n",
    "If the number is not divisible by 4:\n",
    "\n",
    "- it prints a message \n",
    "- it moves to the next value. \n",
    "\n",
    "If the number is divisible by 4 it *continues* to the next value in the loop, without printing."
   ]
  },
  {
   "cell_type": "code",
   "execution_count": 110,
   "metadata": {},
   "outputs": [
    {
     "name": "stdout",
     "output_type": "stream",
     "text": [
      "1 is not a multiple of 4\n",
      "2 is not a multiple of 4\n",
      "3 is not a multiple of 4\n",
      "5 is not a multiple of 4\n",
      "6 is not a multiple of 4\n",
      "7 is not a multiple of 4\n",
      "9 is not a multiple of 4\n",
      "10 is not a multiple of 4\n",
      "11 is not a multiple of 4\n",
      "13 is not a multiple of 4\n",
      "14 is not a multiple of 4\n",
      "15 is not a multiple of 4\n",
      "17 is not a multiple of 4\n",
      "18 is not a multiple of 4\n",
      "19 is not a multiple of 4\n"
     ]
    }
   ],
   "source": [
    "for j in range(20):\n",
    "    \n",
    "    if j % 4 == 0:  # Check remainer of j/4\n",
    "        continue    # continue to next value of j\n",
    "        \n",
    "    print(j, \"is not a multiple of 4\")"
   ]
  },
  {
   "cell_type": "markdown",
   "metadata": {
    "slideshow": {
     "slide_type": "slide"
    }
   },
   "source": [
    "## 2. Data Structures\n",
    "\n",
    "Often we want to manipulate data that is more meaningful than ranges of numbers.\n",
    "\n",
    "These collections of variables might include:\n",
    " - the results of an experiment\n",
    " - a list of names\n",
    " - the components of a vector\n",
    " - a telephone directory with names and associated numbers.\n",
    " \n",
    "\n",
    "\n",
    " \n",
    " "
   ]
  },
  {
   "cell_type": "markdown",
   "metadata": {},
   "source": [
    "Python has different __data structures__ that can be used to store and manipulate these values.\n",
    "\n",
    "Like variable types (`string`, `int`,`float`...) different data structures behave in different ways.\n",
    "\n",
    "Today we will learn to use `list`, `tuple` and dictionary (`dict`) data structures."
   ]
  },
  {
   "cell_type": "markdown",
   "metadata": {},
   "source": [
    "\n",
    "We will study the differences in how they behave so that you can learn to select the most suitable data structure for an application. "
   ]
  },
  {
   "cell_type": "markdown",
   "metadata": {
    "slideshow": {
     "slide_type": "slide"
    }
   },
   "source": [
    "Programs use data structure to collect data into useful packages. \n",
    "\n",
    "$$\n",
    "r = [u, v, w]\n",
    "$$\n",
    "\n",
    "For example, rather than representing a vector `r` of length 3 using three seperate floats `ru`, `rv` and `rw`, we could represent \n",
    "it as a __list__ of floats:\n",
    "\n",
    "&nbsp;&nbsp;&nbsp;&nbsp;&nbsp;&nbsp;&nbsp;&nbsp; &nbsp;&nbsp;&nbsp;&nbsp;&nbsp;&nbsp;&nbsp;&nbsp;\n",
    "&nbsp;&nbsp;&nbsp;&nbsp;&nbsp;&nbsp;&nbsp;&nbsp;\n",
    "&nbsp;&nbsp;&nbsp;&nbsp;&nbsp;&nbsp;&nbsp;&nbsp;\n",
    "`r = [u, v, w]`. \n",
    "\n",
    "<img src=\"../../../ILAS_seminars/intro to python/img/3d_position_vector.png\" alt=\"Drawing\" style=\"width: 175px;\"/>\n",
    "\n",
    "(We will learn what a __list__ is in a moment.)"
   ]
  },
  {
   "cell_type": "markdown",
   "metadata": {
    "slideshow": {
     "slide_type": "slide"
    }
   },
   "source": [
    "If we want to store the names of students in a laboratory group, rather than representing each students using an individual string variable, we could use a list of names, e.g.:\n",
    "\n"
   ]
  },
  {
   "cell_type": "code",
   "execution_count": 59,
   "metadata": {
    "collapsed": true
   },
   "outputs": [],
   "source": [
    "lab_group0 = [\"Sarah\", \"John\", \"Joe\", \"Emily\"]\n",
    "lab_group1 = [\"Roger\", \"Rachel\", \"Amer\", \"Caroline\", \"Colin\"]"
   ]
  },
  {
   "cell_type": "markdown",
   "metadata": {
    "slideshow": {
     "slide_type": "slide"
    }
   },
   "source": [
    "This is useful because we can perform operations on lists such as:\n",
    " - checking its length (number of students in a lab group)\n",
    " - sorting the names in the list into alphabetical order\n",
    " - making a list of lists (we call this a *nested list*):\n"
   ]
  },
  {
   "cell_type": "code",
   "execution_count": 60,
   "metadata": {
    "collapsed": true
   },
   "outputs": [],
   "source": [
    "lab_groups = [lab_group0, lab_group1]"
   ]
  },
  {
   "cell_type": "markdown",
   "metadata": {
    "slideshow": {
     "slide_type": "slide"
    }
   },
   "source": [
    "## 2.1 Lists"
   ]
  },
  {
   "cell_type": "markdown",
   "metadata": {
    "slideshow": {
     "slide_type": "slide"
    }
   },
   "source": [
    "A list is a sequence of data. \n",
    "\n",
    "We call each item in the sequence an *element*. \n",
    "\n",
    "A list is constructed using square brackets:\n",
    "\n"
   ]
  },
  {
   "cell_type": "code",
   "execution_count": 61,
   "metadata": {
    "collapsed": true
   },
   "outputs": [],
   "source": [
    "a = [1, 2, 3]"
   ]
  },
  {
   "cell_type": "markdown",
   "metadata": {
    "slideshow": {
     "slide_type": "slide"
    }
   },
   "source": [
    "A `range` can be converted to a list with the `list` function."
   ]
  },
  {
   "cell_type": "code",
   "execution_count": 62,
   "metadata": {},
   "outputs": [
    {
     "name": "stdout",
     "output_type": "stream",
     "text": [
      "[0, 1, 2, 3, 4, 5, 6, 7, 8, 9]\n"
     ]
    }
   ],
   "source": [
    "print(list(range(10)))"
   ]
  },
  {
   "cell_type": "markdown",
   "metadata": {
    "slideshow": {
     "slide_type": "slide"
    }
   },
   "source": [
    "When `range` has just one *argument* (the entry in the parentheses), it will generate a range from 0 up to but not including the specified number. \n"
   ]
  },
  {
   "cell_type": "code",
   "execution_count": 63,
   "metadata": {
    "slideshow": {
     "slide_type": "slide"
    }
   },
   "outputs": [
    {
     "name": "stdout",
     "output_type": "stream",
     "text": [
      "[10, 11, 12, 13, 14, 15, 16, 17, 18, 19]\n"
     ]
    }
   ],
   "source": [
    "print(list(range(10,20)))"
   ]
  },
  {
   "cell_type": "markdown",
   "metadata": {
    "slideshow": {
     "slide_type": "-"
    }
   },
   "source": [
    "When a range has two arguments:\n",
    " - the first value is the starting value.\n",
    " - the second value is the stoping value.\n",
    " - the stopping value is not included in the range"
   ]
  },
  {
   "cell_type": "markdown",
   "metadata": {
    "slideshow": {
     "slide_type": "slide"
    }
   },
   "source": [
    "You can optionally include a step:"
   ]
  },
  {
   "cell_type": "code",
   "execution_count": 64,
   "metadata": {},
   "outputs": [
    {
     "name": "stdout",
     "output_type": "stream",
     "text": [
      "[10, 12, 14, 16, 18]\n"
     ]
    }
   ],
   "source": [
    "print(list(range(10, 20, 2)))"
   ]
  },
  {
   "cell_type": "markdown",
   "metadata": {
    "slideshow": {
     "slide_type": "slide"
    }
   },
   "source": [
    "A list can hold a mixture of types (`int`, `string`....)."
   ]
  },
  {
   "cell_type": "code",
   "execution_count": 65,
   "metadata": {
    "collapsed": true
   },
   "outputs": [],
   "source": [
    "a = [1, 2.0, \"three\"]"
   ]
  },
  {
   "cell_type": "markdown",
   "metadata": {
    "slideshow": {
     "slide_type": "slide"
    }
   },
   "source": [
    "An empty list is created by"
   ]
  },
  {
   "cell_type": "code",
   "execution_count": 67,
   "metadata": {
    "collapsed": true
   },
   "outputs": [],
   "source": [
    "my_list = []"
   ]
  },
  {
   "cell_type": "markdown",
   "metadata": {
    "slideshow": {
     "slide_type": "slide"
    }
   },
   "source": [
    "A list of length 5 with repeated values can be created by"
   ]
  },
  {
   "cell_type": "code",
   "execution_count": 68,
   "metadata": {},
   "outputs": [
    {
     "name": "stdout",
     "output_type": "stream",
     "text": [
      "['Hello', 'Hello', 'Hello', 'Hello', 'Hello']\n"
     ]
    }
   ],
   "source": [
    "my_list = [\"Hello\"]*5\n",
    "print(my_list)"
   ]
  },
  {
   "cell_type": "markdown",
   "metadata": {
    "slideshow": {
     "slide_type": "slide"
    }
   },
   "source": [
    "We can check if an item is in a list using the function `in`:\n"
   ]
  },
  {
   "cell_type": "code",
   "execution_count": 131,
   "metadata": {},
   "outputs": [
    {
     "name": "stdout",
     "output_type": "stream",
     "text": [
      "True\n",
      "False\n"
     ]
    }
   ],
   "source": [
    "print(\"Hello\" in my_list)\n",
    "print(\"Goodbye\" in my_list)"
   ]
  },
  {
   "cell_type": "markdown",
   "metadata": {
    "slideshow": {
     "slide_type": "slide"
    }
   },
   "source": [
    "### 2.1.1 Iterating over lists\n",
    "\n",
    "Looping over each item in a list is called *iterating*. \n",
    "\n",
    "To iterate over a list of the lab group we use a `for` loop.\n",
    "\n",
    "Each iteration, variable data takes the value of the next item in the list:"
   ]
  },
  {
   "cell_type": "code",
   "execution_count": 69,
   "metadata": {},
   "outputs": [
    {
     "name": "stdout",
     "output_type": "stream",
     "text": [
      "the value of data is: 1\n",
      "the value of data is: 2.0\n",
      "the value of data is: three\n"
     ]
    }
   ],
   "source": [
    "for data in [1, 2.0, \"three\"]:    \n",
    "    print('the value of data is:', data)"
   ]
  },
  {
   "cell_type": "markdown",
   "metadata": {
    "slideshow": {
     "slide_type": "slide"
    }
   },
   "source": [
    "__Try it yourself__\n",
    "\n",
    "\n",
    "In the cell provided in your testbook *iterate* over the list `[1, 2.0, \"three\"]`.\n",
    "\n",
    "\n",
    "Each time the code loops print the value of data __cast as a string__.\n",
    "\n",
    "\n",
    "(Hint: Look at Seminar 1, Section 8.5.2 for how to __cast__ a variable as a different type).  "
   ]
  },
  {
   "cell_type": "code",
   "execution_count": 112,
   "metadata": {
    "collapsed": true
   },
   "outputs": [],
   "source": [
    "# Iterate over a list and cast each item as a string"
   ]
  },
  {
   "cell_type": "markdown",
   "metadata": {
    "slideshow": {
     "slide_type": "slide"
    }
   },
   "source": [
    "### 2.1.2 Manipulating lists \n",
    "\n",
    "There are many functions for manipulating lists. \n",
    "\n",
    "We can find the length (number of items) of a list using the function `len()`, by including the name of the list in the brackets. \n",
    "\n",
    "\n",
    "\n",
    "\n"
   ]
  },
  {
   "cell_type": "markdown",
   "metadata": {
    "slideshow": {
     "slide_type": "slide"
    }
   },
   "source": [
    "In the example below, we find the length of the list `lab_group0`. "
   ]
  },
  {
   "cell_type": "code",
   "execution_count": 113,
   "metadata": {},
   "outputs": [
    {
     "name": "stdout",
     "output_type": "stream",
     "text": [
      "Lab group members: ['Sara', 'Mari', 'Quang']\n",
      "Size of lab group: 3\n",
      "Check the Python object type: <class 'list'>\n"
     ]
    }
   ],
   "source": [
    "lab_group0 = [\"Sara\", \"Mari\", \"Quang\"]\n",
    "\n",
    "size = len(lab_group0)\n",
    "\n",
    "print(\"Lab group members:\", lab_group0)\n",
    "\n",
    "print(\"Size of lab group:\", size)\n",
    "\n",
    "print(\"Check the Python object type:\", type(lab_group0))"
   ]
  },
  {
   "cell_type": "markdown",
   "metadata": {
    "slideshow": {
     "slide_type": "slide"
    }
   },
   "source": [
    "To sort the list we use `sorted()`.\n",
    "\n",
    "If the list contains numerical variables, the numbers is sorted in ascending order."
   ]
  },
  {
   "cell_type": "code",
   "execution_count": 114,
   "metadata": {},
   "outputs": [
    {
     "name": "stdout",
     "output_type": "stream",
     "text": [
      "[7, 1, 3.0]\n",
      "[1, 3.0, 7]\n"
     ]
    }
   ],
   "source": [
    "numbers = [7, 1, 3.0]\n",
    "\n",
    "print(numbers)\n",
    "\n",
    "numbers = sorted(numbers)\n",
    "\n",
    "print(numbers)"
   ]
  },
  {
   "cell_type": "markdown",
   "metadata": {
    "slideshow": {
     "slide_type": "slide"
    }
   },
   "source": [
    "__Note:__ We can sort a list with mixed numeric types (e.g. `float` and `int`). \n",
    "\n",
    "However, we cannot sort a list with types that cannot be sorted by the same ordering rule \n",
    "\n",
    "(e.g. `numbers = sorted([seven, 1, 3.0])` causes an error.)"
   ]
  },
  {
   "cell_type": "code",
   "execution_count": 115,
   "metadata": {
    "collapsed": true
   },
   "outputs": [],
   "source": [
    "# numbers = sorted([seven, 1, 3.0])"
   ]
  },
  {
   "cell_type": "markdown",
   "metadata": {
    "slideshow": {
     "slide_type": "slide"
    }
   },
   "source": [
    "If the list contains strings, the list is sorted by alphabetical order. "
   ]
  },
  {
   "cell_type": "code",
   "execution_count": 117,
   "metadata": {},
   "outputs": [
    {
     "name": "stdout",
     "output_type": "stream",
     "text": [
      "['Sara', 'Mari', 'Quang']\n",
      "['Mari', 'Quang', 'Sara']\n"
     ]
    }
   ],
   "source": [
    "lab_group0 = [\"Sara\", \"Mari\", \"Quang\"]\n",
    "\n",
    "print(lab_group0)\n",
    "\n",
    "lab_group0 = sorted(lab_group0)\n",
    "\n",
    "print(lab_group0)"
   ]
  },
  {
   "cell_type": "markdown",
   "metadata": {
    "slideshow": {
     "slide_type": "slide"
    }
   },
   "source": [
    "As with `len()` we include the name of the list we want to sort in the brackets. "
   ]
  },
  {
   "cell_type": "markdown",
   "metadata": {},
   "source": [
    "There is a shortcut for sorting a list\n",
    "\n",
    "`sort` is known as a 'method' of a `list`. \n",
    "\n",
    "If we suffix a list with `.sort()`, it performs an *in-place* sort."
   ]
  },
  {
   "cell_type": "code",
   "execution_count": 7,
   "metadata": {
    "slideshow": {
     "slide_type": "slide"
    }
   },
   "outputs": [
    {
     "name": "stdout",
     "output_type": "stream",
     "text": [
      "['Sara', 'Mari', 'Quang']\n",
      "['Mari', 'Quang', 'Sara']\n"
     ]
    }
   ],
   "source": [
    "lab_group0 = [\"Sara\", \"Mari\", \"Quang\"]\n",
    "\n",
    "print(lab_group0)\n",
    "\n",
    "#lab_group0 = sorted(lab_group0)\n",
    "lab_group0.sort()\n",
    "\n",
    "print(lab_group0)"
   ]
  },
  {
   "cell_type": "markdown",
   "metadata": {
    "slideshow": {
     "slide_type": "slide"
    }
   },
   "source": [
    "__Try it yourself__\n",
    "\n",
    "In the cell provided in your textbook create a list of __numeric__ or __string__ values.\n",
    "\n",
    "Sort the list using `sorted()` __or__ `.sort()`.\n",
    "\n",
    "Print the sorted list.\n",
    "\n",
    "Print the length of the list using `len()`."
   ]
  },
  {
   "cell_type": "code",
   "execution_count": null,
   "metadata": {
    "collapsed": true
   },
   "outputs": [],
   "source": [
    "# Sorting a list"
   ]
  },
  {
   "cell_type": "markdown",
   "metadata": {
    "slideshow": {
     "slide_type": "slide"
    }
   },
   "source": [
    "We can remove items from a list using the method `pop`.\n",
    "\n",
    "We place the index of the element we wich to remove in brackets. "
   ]
  },
  {
   "cell_type": "code",
   "execution_count": 75,
   "metadata": {},
   "outputs": [
    {
     "name": "stdout",
     "output_type": "stream",
     "text": [
      "['Mari', 'Quang', 'Sara']\n",
      "['Mari', 'Sara']\n"
     ]
    }
   ],
   "source": [
    "print(lab_group0)\n",
    "\n",
    "# Remove the second student \n",
    "# remember indexing starts from 0\n",
    "# 1 is the second element\n",
    "\n",
    "lab_group0.pop(1)\n",
    "print(lab_group0)"
   ]
  },
  {
   "cell_type": "markdown",
   "metadata": {
    "slideshow": {
     "slide_type": "slide"
    }
   },
   "source": [
    "We can add items at the end of a list using the method `append`.\n",
    "\n",
    "We place the element we want to add to the end of the list in brackets. "
   ]
  },
  {
   "cell_type": "code",
   "execution_count": 76,
   "metadata": {},
   "outputs": [
    {
     "name": "stdout",
     "output_type": "stream",
     "text": [
      "['Mari', 'Sara', 'Lia']\n"
     ]
    }
   ],
   "source": [
    "# Add new student \"Lia\" at the end of the list\n",
    "lab_group0.append(\"Lia\")\n",
    "print(lab_group0)"
   ]
  },
  {
   "cell_type": "markdown",
   "metadata": {
    "slideshow": {
     "slide_type": "slide"
    }
   },
   "source": [
    "__Try it yourself__\n",
    "\n",
    "In the cell provided in your textbook.\n",
    "\n",
    "Remove Sara from the list.\n",
    "\n",
    "Print the new list.\n",
    "\n",
    "Add a new lab group member, Tom, to the list.\n",
    "\n",
    "Print the new list."
   ]
  },
  {
   "cell_type": "code",
   "execution_count": 119,
   "metadata": {
    "collapsed": true
   },
   "outputs": [],
   "source": [
    "# Adding and removing items from a list."
   ]
  },
  {
   "cell_type": "markdown",
   "metadata": {
    "slideshow": {
     "slide_type": "slide"
    }
   },
   "source": [
    "## 2.1.3 Indexing\n",
    "\n",
    "Lists store data in order.\n",
    "\n",
    "We can select a single element of a list using its __index__.\n",
    "\n",
    "You are familiar with this process; it is the same as selecting individual characters of a `string`:"
   ]
  },
  {
   "cell_type": "code",
   "execution_count": 77,
   "metadata": {},
   "outputs": [
    {
     "name": "stdout",
     "output_type": "stream",
     "text": [
      "t\n"
     ]
    }
   ],
   "source": [
    "a = \"string\"\n",
    "b = a[1]\n",
    "print(b)"
   ]
  },
  {
   "cell_type": "code",
   "execution_count": 121,
   "metadata": {},
   "outputs": [
    {
     "name": "stdout",
     "output_type": "stream",
     "text": [
      "Mari\n"
     ]
    }
   ],
   "source": [
    "first_member = lab_group0[0]\n",
    "print(first_member)"
   ]
  },
  {
   "cell_type": "markdown",
   "metadata": {
    "slideshow": {
     "slide_type": "slide"
    }
   },
   "source": [
    "Indices can be useful when looping through the items in a list.`"
   ]
  },
  {
   "cell_type": "code",
   "execution_count": 79,
   "metadata": {},
   "outputs": [
    {
     "name": "stdout",
     "output_type": "stream",
     "text": [
      "Mari\n",
      "Sara\n",
      "Lia\n",
      "Mari\n",
      "Sara\n",
      "Lia\n"
     ]
    }
   ],
   "source": [
    "# We can express the following for loop:\n",
    "# ITERATING\n",
    "for i in lab_group0:\n",
    "    print(i)\n",
    "    \n",
    "# as:\n",
    "# INDEXING\n",
    "for i in range(len(lab_group0)):\n",
    "    print(lab_group0[i])"
   ]
  },
  {
   "cell_type": "markdown",
   "metadata": {
    "slideshow": {
     "slide_type": "slide"
    }
   },
   "source": [
    "__Note:__<br>\n",
    "- Some data structures that support *iterating* but do not support *indexing*. <br> When possible, it is better to iterate over a list rather than use indexing.\n",
    "- When indexing:\n",
    "   - the first value in the range is 0.\n",
    "   - the last value in the range is (list length - 1). "
   ]
  },
  {
   "cell_type": "markdown",
   "metadata": {
    "slideshow": {
     "slide_type": "slide"
    }
   },
   "source": [
    "Lists and indexing can be useful for numerical computations. \n",
    "\n",
    "### Example: Vectors\n",
    "\n",
    "__Vector:__ A quantity with magnitude and direction.\n",
    "\n",
    "\n"
   ]
  },
  {
   "cell_type": "markdown",
   "metadata": {
    "slideshow": {
     "slide_type": "slide"
    }
   },
   "source": [
    "Position vectors (or displacement vectors) in 3D space can always be expressed in terms of x,y, and z-directions.  \n",
    "\n",
    "<img src=\"../../../ILAS_seminars/intro to python/img/3d_position_vector.png\" alt=\"Drawing\" style=\"width: 175px;\"/>\n",
    "\n",
    "The position vector 𝒓 indicates the position of a point in 3D space.\n",
    "\n",
    "$$\n",
    "\\mathbf{r} = x\\mathbf{i} + y\\mathbf{j} + z\\mathbf{k}\n",
    "$$\n",
    "\n"
   ]
  },
  {
   "cell_type": "markdown",
   "metadata": {
    "slideshow": {
     "slide_type": "slide"
    }
   },
   "source": [
    "$$\n",
    "\\mathbf{r} = x\\mathbf{i} + y\\mathbf{j} + z\\mathbf{k}\n",
    "$$\n",
    "\n",
    "𝒊 is the displacement one unit in the x-direction<br>\n",
    "𝒋 is the displacement one unit in the y-direction<br>\n",
    "𝒌 is the displacement one unit in the z-direction\n",
    "\n",
    "We can conveniently express $\\mathbf{r}$ as a matrix: \n",
    "$$\n",
    "\\mathbf{r} = [x, y, z]\n",
    "$$\n",
    "\n",
    "__...which looks a lot like a Python list!__\n"
   ]
  },
  {
   "cell_type": "markdown",
   "metadata": {
    "slideshow": {
     "slide_type": "slide"
    }
   },
   "source": [
    "You will encounter 3D vectors a lot in your engineering studies as they are used to describe many physical quantities, e.g. force."
   ]
  },
  {
   "cell_type": "markdown",
   "metadata": {
    "slideshow": {
     "slide_type": "slide"
    }
   },
   "source": [
    "### Example: The dot product of two vectors:\n",
    "\n",
    "The __dot product__ is a really useful algebraic operation that takes two equal-length sequences of numbers (usually coordinate vectors) and returns a single number.\n",
    "\n",
    "It can be expressed mathematically as..."
   ]
  },
  {
   "cell_type": "markdown",
   "metadata": {
    "slideshow": {
     "slide_type": "slide"
    }
   },
   "source": [
    "__GEOMETRIC REPRESENTATION__\n",
    "\n",
    "\\begin{align}\n",
    "\\mathbf{A} \\cdot \\mathbf{B} = |\\mathbf{A}| |\\mathbf{B}| cos(\\theta)\n",
    "\\end{align}\n",
    "\n",
    "<img src=\"../../../ILAS_seminars/intro to python/img/dot_product.gif\" alt=\"Drawing\" style=\"width: 250px;\"/>\n",
    "&nbsp;&nbsp;&nbsp;&nbsp; $\\mathbf{B} cos(\\theta)$ is the component of $B$ acting in the direction of $A$."
   ]
  },
  {
   "cell_type": "markdown",
   "metadata": {
    "slideshow": {
     "slide_type": "slide"
    }
   },
   "source": [
    "&nbsp;&nbsp;&nbsp;&nbsp; $\\mathbf{B} cos(\\theta)$ is the component of $B$ acting in the direction of $A$.\n",
    "\n",
    "For example, the component of a force, $\\mathbf{F_{app}}$, acting in the direction of the velocity of an object (x direction):\n",
    "\n",
    "<img src=\"../../../ILAS_seminars/intro to python/img/resolving_force.png\" alt=\"Drawing\" style=\"width: 250px;\"/>\n",
    "\n",
    "$$\n",
    "\\mathbf{F_{app,x}} = \\mathbf{F_{app}}cos(\\theta)\n",
    "$$"
   ]
  },
  {
   "cell_type": "markdown",
   "metadata": {
    "slideshow": {
     "slide_type": "slide"
    }
   },
   "source": [
    "__ALGEBRAIC REPRESENTATION__\n",
    "\n",
    ">The dot product of two $n$-length-vectors:\n",
    "> <br> $ \\mathbf{A} = [A_1, A_2, ... A_n]$\n",
    "> <br> $ \\mathbf{B} = [B_1, B_2, ... B_n]$\n",
    "> <br> is: \n",
    "\n",
    "\\begin{align}\n",
    "\\mathbf{A} \\cdot \\mathbf{B} = \\sum_{i=1}^n A_i B_i.\n",
    "\\end{align}\n",
    "\n"
   ]
  },
  {
   "cell_type": "markdown",
   "metadata": {},
   "source": [
    ">So the dot product of two 3D vectors:\n",
    "> <br> $ \\mathbf{A} = [A_x, A_y, A_z]$\n",
    "> <br> $ \\mathbf{B} = [B_x, B_y, B_z]$\n",
    "> <br> is:\n",
    "\n",
    "\\begin{align}\n",
    "\\mathbf{A} \\cdot \\mathbf{B} &= \\sum_{i=1}^n A_i B_i \\\\\n",
    "&= A_x B_x + A_y B_y + A_z B_z.\n",
    "\\end{align}\n",
    "\n",
    "__Example:__ \n",
    "<br> The dot product $\\mathbf{A} \\cdot \\mathbf{B}$:\n",
    "> <br> $ \\mathbf{A} = [1, 3, −5]$\n",
    "> <br> $ \\mathbf{B} = [4, −2, −1]$\n",
    "\n",
    "\n",
    "\n",
    "\\begin{align}\n",
    "      {\\displaystyle {\\begin{aligned}\\ [1,3,-5]\\cdot [4,-2,-1]&=(1)(4)+(3)(-2)+(-5)(-1)\\\\&=4-6+5\\\\&=3\\end{aligned}}} \n",
    "\\end{align}"
   ]
  },
  {
   "cell_type": "markdown",
   "metadata": {
    "slideshow": {
     "slide_type": "slide"
    }
   },
   "source": [
    "\n",
    "\n",
    "We can solve this very easily using a Python `for` loop.\n",
    "\n"
   ]
  },
  {
   "cell_type": "code",
   "execution_count": 8,
   "metadata": {
    "slideshow": {
     "slide_type": "slide"
    }
   },
   "outputs": [
    {
     "name": "stdout",
     "output_type": "stream",
     "text": [
      "3.0\n"
     ]
    }
   ],
   "source": [
    "A = [1.0, 3.0, -5.0]\n",
    "B = [4.0, -2.0, -1.0]\n",
    "\n",
    "# Create a variable called dot_product with value, 0.\n",
    "dot_product = 0.0\n",
    "\n",
    "for i in range(len(A)):\n",
    "    dot_product += A[i]*B[i]\n",
    "\n",
    "print(dot_product)"
   ]
  },
  {
   "cell_type": "markdown",
   "metadata": {
    "slideshow": {
     "slide_type": "slide"
    }
   },
   "source": [
    "From is __GEOMETRIC__ representation, we can see that the dot product allows us to quickly solve many engineering-related problems..."
   ]
  },
  {
   "cell_type": "markdown",
   "metadata": {
    "collapsed": true,
    "slideshow": {
     "slide_type": "slide"
    }
   },
   "source": [
    "\\begin{align}\n",
    "\\mathbf{A} \\cdot \\mathbf{B} = |\\mathbf{A}| |\\mathbf{B}| cos(\\theta)\n",
    "\\end{align}\n",
    "\n",
    "Examples:\n",
    " - Test if two vectors are:\n",
    "   - perpendicular ($\\mathbf{A} \\cdot \\mathbf{B}==0$)\n",
    "   - acute ($\\mathbf{A} \\cdot \\mathbf{B}>0$)\n",
    "   - obtuse ($\\mathbf{A} \\cdot \\mathbf{B}<0$)\n",
    " - Find the angle between two vectors (from its cosine).\n",
    " - Find the magnitude of one vector in the direction of another.\n",
    " - Find physical quantities e.g. the work, W, when pushing an object a certain distance, d, with force, F:\n",
    " \n",
    " <img src=\"../../../ILAS_seminars/intro to python/img/work_equation.jpg\" alt=\"Drawing\" style=\"width: 300px;\"/>\n"
   ]
  },
  {
   "cell_type": "markdown",
   "metadata": {
    "slideshow": {
     "slide_type": "slide"
    }
   },
   "source": [
    "__Try it yourself:__ \n",
    "\n",
    "$\\mathbf{C} = [2, 4, 3.5]$\n",
    "\n",
    "$\\mathbf{D} = [1, 2, -6]$\n",
    "\n",
    "In the cell provided in your textbook find:\n",
    "$\\mathbf{C} \\cdot \\mathbf{D}$\n",
    "\n",
    "using a for loop and the indices of Python lists. \n",
    "\n",
    "Is the angle between the vectors obtuse or acute or are the vectors perpendicular? \n",
    "\n",
    "(Perpendicular if $\\mathbf{A} \\cdot \\mathbf{B}==0$, acute if $\\mathbf{A} \\cdot \\mathbf{B}>0$, or obtuse if $\\mathbf{A} \\cdot \\mathbf{B}<0$).\n",
    " "
   ]
  },
  {
   "cell_type": "code",
   "execution_count": 81,
   "metadata": {
    "collapsed": true
   },
   "outputs": [],
   "source": [
    "# The dot product of C and D"
   ]
  },
  {
   "cell_type": "markdown",
   "metadata": {
    "collapsed": true,
    "slideshow": {
     "slide_type": "slide"
    }
   },
   "source": [
    "A *nested list* is a list within a list. (Recall a *nested loop* from Section 1). \n",
    "\n",
    "To access a __single element__ we need as many indices as there are levels of nested list. \n",
    "\n",
    "This is more easily explained with an example:"
   ]
  },
  {
   "cell_type": "code",
   "execution_count": 82,
   "metadata": {
    "collapsed": true
   },
   "outputs": [],
   "source": [
    "lab_group0 = [\"Sara\", \"Mika\", \"Ryo\", \"Am\"]\n",
    "lab_group1 = [\"Hemma\", \"Miri\", \"Qui\", \"Sajid\"]\n",
    "lab_group2 = [\"Adam\", \"Yukari\", \"Farad\", \"Fumitoshi\"]\n",
    "\n",
    "lab_groups = [lab_group0, lab_group1]"
   ]
  },
  {
   "cell_type": "markdown",
   "metadata": {},
   "source": [
    "`lab_group0`, `lab_group1` and `lab_group2` are nested within `lab_groups`.\n",
    "\n",
    "Therefore there are __two__ levels of nested lists.\n",
    "\n",
    "Therefore we need __two__ indices to select a single elememt from `lab_group0`, `lab_group1` or `lab_group2`. \n",
    "    The first index: a list (`lab_group0`, `lab_group1` or `lab_group2`). \n",
    "The second index: an element in that list. "
   ]
  },
  {
   "cell_type": "code",
   "execution_count": 125,
   "metadata": {},
   "outputs": [
    {
     "name": "stdout",
     "output_type": "stream",
     "text": [
      "['Sara', 'Mika', 'Ryo', 'Am']\n",
      "Qui\n"
     ]
    }
   ],
   "source": [
    "group = lab_groups[0]\n",
    "print(group)\n",
    "\n",
    "name = lab_groups[1][2]\n",
    "print(name)"
   ]
  },
  {
   "cell_type": "markdown",
   "metadata": {},
   "source": [
    "## 2.2 Tuples\n",
    "\n",
    "Tuples are similar to lists. \n",
    "\n",
    "However, after creatig a tuple:\n",
    " - you can't add or remove elements from it without creating a new tuple. \n",
    " - you can't change the value of a single tuple element e.g. by indexing. \n",
    "\n",
    "Tuples are therefore used for values that should not change after being created.\n",
    "<br> e.g. a vector of length three with fixed entries\n",
    "<br>It is 'safer' in this case since it cannot be modified accidentally in a program. \n",
    "\n",
    "To create a tuple, use round brackets. \n",
    "\n",
    "__Example__\n",
    "In Kyoto University, each professor is assigned an office.\n",
    "\n",
    "Philamore-sensei is given room 32:"
   ]
  },
  {
   "cell_type": "code",
   "execution_count": 85,
   "metadata": {},
   "outputs": [
    {
     "name": "stdout",
     "output_type": "stream",
     "text": [
      "Room allocation: ('Philamore', 32)\n",
      "Length of entry: 2\n",
      "<class 'tuple'>\n"
     ]
    }
   ],
   "source": [
    "room = (\"Philamore\", 32)\n",
    "\n",
    "print(\"Room allocation:\", room)\n",
    "\n",
    "print(\"Length of entry:\", len(room))\n",
    "\n",
    "print(type(room))"
   ]
  },
  {
   "cell_type": "markdown",
   "metadata": {},
   "source": [
    "We can *iterate* over tuples in the same way as with lists,"
   ]
  },
  {
   "cell_type": "code",
   "execution_count": 86,
   "metadata": {},
   "outputs": [
    {
     "name": "stdout",
     "output_type": "stream",
     "text": [
      "Philamore\n",
      "32\n"
     ]
    }
   ],
   "source": [
    "# Iterate over tuple values\n",
    "for d in room:\n",
    "    print(d)"
   ]
  },
  {
   "cell_type": "markdown",
   "metadata": {},
   "source": [
    "and we can index into a tuple:"
   ]
  },
  {
   "cell_type": "code",
   "execution_count": 15,
   "metadata": {},
   "outputs": [
    {
     "name": "stdout",
     "output_type": "stream",
     "text": [
      "32\n",
      "Philamore\n"
     ]
    }
   ],
   "source": [
    "# Index into tuple values\n",
    "print(room[1])\n",
    "print(room[0])"
   ]
  },
  {
   "cell_type": "markdown",
   "metadata": {},
   "source": [
    "__Note__ Take care when creating a tuple of length 1:"
   ]
  },
  {
   "cell_type": "code",
   "execution_count": 23,
   "metadata": {},
   "outputs": [
    {
     "name": "stdout",
     "output_type": "stream",
     "text": [
      "[1]\n",
      "1\n",
      "<class 'list'>\n"
     ]
    }
   ],
   "source": [
    "# Creating a list of length 1 \n",
    "a = [1]\n",
    "print(a)\n",
    "print(type(a))\n",
    "print(len(a))"
   ]
  },
  {
   "cell_type": "markdown",
   "metadata": {},
   "source": [
    "However, if we use the same process for a tuple:"
   ]
  },
  {
   "cell_type": "code",
   "execution_count": 26,
   "metadata": {},
   "outputs": [
    {
     "name": "stdout",
     "output_type": "stream",
     "text": [
      "1\n",
      "<class 'int'>\n"
     ]
    }
   ],
   "source": [
    "a = (1)\n",
    "print(a)\n",
    "print(type(a))\n",
    "#print(len(a))"
   ]
  },
  {
   "cell_type": "markdown",
   "metadata": {},
   "source": [
    "To create a tuple of length 1, we use a comma:"
   ]
  },
  {
   "cell_type": "code",
   "execution_count": 28,
   "metadata": {},
   "outputs": [
    {
     "name": "stdout",
     "output_type": "stream",
     "text": [
      "(1,)\n",
      "<class 'tuple'>\n",
      "1\n"
     ]
    }
   ],
   "source": [
    "a = (1,)\n",
    "print(a)\n",
    "print(type(a))\n",
    "print(len(a))"
   ]
  },
  {
   "cell_type": "code",
   "execution_count": 20,
   "metadata": {},
   "outputs": [
    {
     "data": {
      "text/plain": [
       "1"
      ]
     },
     "execution_count": 20,
     "metadata": {},
     "output_type": "execute_result"
    }
   ],
   "source": [
    "room = (\"Endo\",)\n",
    "print(\"Room allocation:\", room))\n",
    "print(\"Length of entry:\", len(room))\n",
    "print(type(room))"
   ]
  },
  {
   "cell_type": "markdown",
   "metadata": {},
   "source": [
    "As part of a rooms database, we can create a list of tuples:"
   ]
  },
  {
   "cell_type": "code",
   "execution_count": 127,
   "metadata": {},
   "outputs": [
    {
     "name": "stdout",
     "output_type": "stream",
     "text": [
      "[('Endo',), ('Philamore', 32), ('Matsuno', 31), ('Sawaragi', 28), ('Okino', 28), ('Kumegawa', 19)]\n"
     ]
    }
   ],
   "source": [
    "room_allocation = [(\"Endo\",), \n",
    "                   (\"Philamore\", 32), \n",
    "                   (\"Matsuno\", 31), \n",
    "                   (\"Sawaragi\", 28), \n",
    "                   (\"Okino\", 28), \n",
    "                   (\"Kumegawa\", 19)]\n",
    "\n",
    "print(room_allocation)"
   ]
  },
  {
   "cell_type": "markdown",
   "metadata": {},
   "source": [
    "Index into the list room allocation \n",
    "\n",
    "(See Section 2.1.3 for how to index into *nested* data structures.)\n",
    "\n",
    "In the cell below use indexing to print:\n",
    " - Matsuno-sensei's room number\n",
    " - Kumegawa-sensei's room number\n",
    " - The variable type of Kumegawa-sensei's room number"
   ]
  },
  {
   "cell_type": "code",
   "execution_count": 129,
   "metadata": {
    "collapsed": true
   },
   "outputs": [],
   "source": [
    "# Matsuno-sensei's room number\n",
    "\n",
    "# Kumegawa-sensei's room number\n",
    "\n",
    "# The Python variable type of Kumegawa-sensei's room number\n"
   ]
  },
  {
   "cell_type": "markdown",
   "metadata": {},
   "source": [
    "To make it easier to look up the office number each professor, we can __sort__ the list of tuples into an office directory.\n",
    "\n",
    "The ordering rule is determined by the __first element__ of each tuple.\n",
    "\n",
    "If the first element of each tuple is a numeric type (`int`, `float`...) the tulpes are sorted by ascending numerical order of the first element:\n",
    "\n",
    "If the first element of each tuple is a `string` (as in this case), the tuples are sorted by alphabetical order of the first element.\n",
    "\n",
    "Look back at Section 2.1.2 (Manipulating Lists) and remind yourself how to sort a list.\n",
    "\n",
    "In the cell provided below, sort the list, `room_allocation` by alphabetical order. "
   ]
  },
  {
   "cell_type": "code",
   "execution_count": 43,
   "metadata": {},
   "outputs": [
    {
     "name": "stdout",
     "output_type": "stream",
     "text": [
      "[('Endo',), ('Kumegawa', 19), ('Matsuno', 31), ('Okino', 28), ('Philamore', 32), ('Sawaragi', 28)]\n"
     ]
    }
   ],
   "source": [
    "# room_allocation sorted by alphabetical order"
   ]
  },
  {
   "cell_type": "markdown",
   "metadata": {},
   "source": [
    "The office directory can be improved by excluding professors who do not have an office at Yoshida campus:"
   ]
  },
  {
   "cell_type": "code",
   "execution_count": 45,
   "metadata": {},
   "outputs": [
    {
     "name": "stdout",
     "output_type": "stream",
     "text": [
      "Name: Kumegawa , Room: 19\n",
      "Name: Matsuno , Room: 31\n",
      "Name: Okino , Room: 28\n",
      "Name: Philamore , Room: 32\n",
      "Name: Sawaragi , Room: 28\n"
     ]
    }
   ],
   "source": [
    "for entry in room_allocation:\n",
    "    \n",
    "    # only professors with an office have an entry length > 1\n",
    "    if len(entry) > 1:\n",
    "        print(\"Name:\", entry[0], \", Room:\", entry[1])"
   ]
  },
  {
   "cell_type": "markdown",
   "metadata": {},
   "source": [
    "In summary, use tuples over lists when the length will not change."
   ]
  },
  {
   "cell_type": "markdown",
   "metadata": {},
   "source": [
    "## 2.3 Dictionaries (maps)\n",
    "\n",
    "We used a list of tuples in the previous section to store room allocations. \n",
    "\n",
    "What if we wanted to use a program to find which room a particular professor has been allocated?\n",
    "\n",
    "we would need to either:\n",
    "- iterate through the list and check each name. \n",
    "\n",
    "> For a very large list, this might not be very efficient.\n",
    "\n",
    "- use the index to select a specific entry of a list or tuple. \n",
    "\n",
    "> This works if we know the index to the entry of interest. For a very large list, this is unlikely.\n",
    "\n",
    "\n",
    "\n",
    "\n",
    "\n",
    "A human looking would identify individuals in an office directory by name (or \"keyword\") rather than a continuous set of integers. \n",
    "\n",
    "Using a Python __dictionary__ we can build a 'map' from names (*keys*) to room numbers (*values*). \n",
    "\n",
    "A Python dictionary (`dict`) is declared using curly braces:"
   ]
  },
  {
   "cell_type": "code",
   "execution_count": 135,
   "metadata": {},
   "outputs": [
    {
     "name": "stdout",
     "output_type": "stream",
     "text": [
      "{'Okino': 28, 'Matsuno': 31, 'Kumegawa': 19, 'Sawaragi': 28, 'Philamore': 32, 'Endo': None}\n",
      "<class 'dict'>\n"
     ]
    }
   ],
   "source": [
    "room_allocation = {\"Endo\": None, \n",
    "                   \"Philamore\": 32, \n",
    "                   \"Matsuno\": 31, \n",
    "                   \"Sawaragi\": 28, \n",
    "                   \"Okino\": 28, \n",
    "                   \"Kumegawa\": 19}\n",
    "\n",
    "print(room_allocation)\n",
    "\n",
    "print(type(room_allocation))"
   ]
  },
  {
   "cell_type": "markdown",
   "metadata": {},
   "source": [
    "Each entry is separated by a comma. \n",
    "\n",
    "For each entry we have:\n",
    " - a 'key' (followed by a colon)\n",
    " - a 'value'. \n",
    " \n",
    "__Note:__ For empty values (e.g. `Endo` in the example above) we use '`None`' for the value.\n",
    "\n",
    "`None` is a Python keyword for 'nothing' or 'empty'.\n",
    "\n",
    "Now if we want to know which office belongs to Philamore-sensei, we can query the dictionary by key:"
   ]
  },
  {
   "cell_type": "code",
   "execution_count": 136,
   "metadata": {},
   "outputs": [
    {
     "name": "stdout",
     "output_type": "stream",
     "text": [
      "32\n"
     ]
    }
   ],
   "source": [
    "philamore_office = room_allocation[\"Philamore\"]\n",
    "print(philamore_office)"
   ]
  },
  {
   "cell_type": "markdown",
   "metadata": {},
   "source": [
    "We can __*iterate*__ over the keys in a dictionary as we iterated over the elements of a list or tuple:\n",
    "\n",
    "__Try it yourself:__\n",
    "<br>\n",
    "Refer back to Sections 2.1.3 and 2.2 to remind yourself how to *iterate* over a data structure.\n",
    "<br>\n",
    "Using __exactly the same method__, iterate over the entries in the dictionary `room allocation` using a `for` loop.\n",
    "<br>\n",
    "Each time the code loops, print the next dictionary entry. "
   ]
  },
  {
   "cell_type": "code",
   "execution_count": 137,
   "metadata": {
    "collapsed": true
   },
   "outputs": [],
   "source": [
    "# iterate over the dictionary, room_allocation.\n",
    "# print each entry\n"
   ]
  },
  {
   "cell_type": "markdown",
   "metadata": {},
   "source": [
    "We can also iterate over `keys` and `values` seperately by:\n",
    " - creating two variable names before `in` \n",
    " - putting `items()` after the dictionary name"
   ]
  },
  {
   "cell_type": "code",
   "execution_count": 138,
   "metadata": {},
   "outputs": [
    {
     "name": "stdout",
     "output_type": "stream",
     "text": [
      "Okino 28\n",
      "Matsuno 31\n",
      "Kumegawa 19\n",
      "Sawaragi 28\n",
      "Philamore 32\n",
      "Endo None\n"
     ]
    }
   ],
   "source": [
    "for name, room_number in room_allocation.items():\n",
    "    print(name, room_number)    "
   ]
  },
  {
   "cell_type": "markdown",
   "metadata": {},
   "source": [
    "__Try it yourself__<br>\n",
    "Copy and paste the code from the cell above.\n",
    "<br>\n",
    "Edit it so that it prints the names only. \n",
    "\n",
    "Remember you can __\"comment out\"__ the existing code (instead of deleting it) so that you can refer to it later.\n",
    "e.g.\n",
    "```python\n",
    "#print(name, room_number)\n",
    "```\n"
   ]
  },
  {
   "cell_type": "code",
   "execution_count": 139,
   "metadata": {
    "collapsed": true
   },
   "outputs": [],
   "source": [
    "# iterate over the dictionary, room_allocation.\n",
    "# print each name"
   ]
  },
  {
   "cell_type": "markdown",
   "metadata": {},
   "source": [
    "Note that the order of the printed entries in the dictionary is different from the input order. \n",
    "<br>\n",
    "A dictionary stores data differently from a list or tuple. \n",
    "<br>\n",
    "Lists and tuples store entries as continuous pieces of memory, which is why we can access entries by index. \n",
    "<br>\n",
    "Indexing cannot be used to access the entries of a dictionary. For example:\n",
    "```python\n",
    "print(room_allocation[0])\n",
    "```\n",
    "raises an error. \n",
    "<br>\n",
    "\n",
    "Dictionaries use a different type of storage which allows us to perform look-ups using a 'key'.\n",
    "\n",
    "\n",
    "\n"
   ]
  },
  {
   "cell_type": "code",
   "execution_count": 140,
   "metadata": {},
   "outputs": [
    {
     "name": "stdout",
     "output_type": "stream",
     "text": [
      "32\n"
     ]
    }
   ],
   "source": [
    "print(room_allocation[\"Philamore\"])"
   ]
  },
  {
   "cell_type": "markdown",
   "metadata": {},
   "source": [
    "And we use this same code to add new entries to an existing dictionary: "
   ]
  },
  {
   "cell_type": "code",
   "execution_count": 141,
   "metadata": {},
   "outputs": [
    {
     "name": "stdout",
     "output_type": "stream",
     "text": [
      "{'Okino': 28, 'Matsuno': 31, 'Kumegawa': 19, 'Sawaragi': 28, 'Philamore': 32, 'Endo': None}\n",
      "\n",
      "{'Okino': 28, 'Matsuno': 31, 'Fujiwara': 34, 'Kumegawa': 19, 'Sawaragi': 28, 'Philamore': 32, 'Endo': None}\n"
     ]
    }
   ],
   "source": [
    "print(room_allocation)\n",
    "\n",
    "room_allocation[\"Fujiwara\"]= 34\n",
    "\n",
    "print(\"\")\n",
    "\n",
    "print(room_allocation)\n"
   ]
  },
  {
   "cell_type": "markdown",
   "metadata": {},
   "source": [
    "To remove an item from a disctionary we use the command `del`."
   ]
  },
  {
   "cell_type": "code",
   "execution_count": 142,
   "metadata": {},
   "outputs": [
    {
     "name": "stdout",
     "output_type": "stream",
     "text": [
      "{'Okino': 28, 'Matsuno': 31, 'Fujiwara': 34, 'Kumegawa': 19, 'Sawaragi': 28, 'Philamore': 32, 'Endo': None}\n",
      "\n",
      "{'Okino': 28, 'Matsuno': 31, 'Kumegawa': 19, 'Sawaragi': 28, 'Philamore': 32, 'Endo': None}\n"
     ]
    }
   ],
   "source": [
    "print(room_allocation)\n",
    "\n",
    "del room_allocation[\"Fujiwara\"]\n",
    "\n",
    "print(\"\")\n",
    "\n",
    "print(room_allocation)"
   ]
  },
  {
   "cell_type": "markdown",
   "metadata": {},
   "source": [
    "__Try it yourself__\n",
    "<br>\n",
    "Okino-sensei is leaving Kyoto University. Her office will be re-allocated to a new member of staff, Ito-sensei.\n",
    "<br>\n",
    "In the cell below, update the dictionary by deleting the entry for Okino-sensei and creating a new entry for Ito-sensei."
   ]
  },
  {
   "cell_type": "code",
   "execution_count": 143,
   "metadata": {
    "collapsed": true
   },
   "outputs": [],
   "source": [
    "# Remove Okino-sensei (room 28) from the dictionary.\n",
    "# Add a new entry for Ito-sensei (room 28)"
   ]
  },
  {
   "cell_type": "markdown",
   "metadata": {},
   "source": [
    "So far we have used a string variable types for the dictionary keys.\n",
    "<br>\n",
    "However, we can use almost any variable type as a key and we can mix types. \n",
    "\n",
    "__Example__: We could 'invert' the room allocation dictionary to create a room-to-name map.\n",
    "\n",
    "We are going to build a new dictionary (`room_map`) by looping through the old dictionary (`room_allocation`) using a `for` loop:"
   ]
  },
  {
   "cell_type": "code",
   "execution_count": 144,
   "metadata": {},
   "outputs": [
    {
     "name": "stdout",
     "output_type": "stream",
     "text": [
      "{32: 'Philamore', None: 'Endo', 19: 'Kumegawa', 28: 'Sawaragi', 31: 'Matsuno'}\n"
     ]
    }
   ],
   "source": [
    "# Create empty dictionary\n",
    "room_map = {}\n",
    "\n",
    "# Build dictionary to map 'room number' -> name \n",
    "for name, room_number in room_allocation.items():\n",
    "    \n",
    "    # Insert entry into new dictionary\n",
    "    room_map[room_number] = name\n",
    "\n",
    "print(room_map)"
   ]
  },
  {
   "cell_type": "markdown",
   "metadata": {},
   "source": [
    "We can now consult the room-to-name map to find out if a particular room is occupied and by whom.\n",
    "\n",
    "Let's assume some rooms are unoccupied and therefore do not exist in this dictionary.\n",
    "\n",
    "If we try to use a key that does not exist in the dictionary, e.g.\n",
    "\n",
    "   occupant17 = room_map[17]\n",
    "\n",
    "Python will give an error (raise an exception). \n",
    "<br>\n",
    "If we're not sure that a __key__ is present (that a room is occupied or unocupied in this case), we can check using the funstion in '`in`' \n",
    "<br>(we used this function to check wether an entry exists in a __list__)\n",
    "\n"
   ]
  },
  {
   "cell_type": "code",
   "execution_count": 146,
   "metadata": {},
   "outputs": [
    {
     "name": "stdout",
     "output_type": "stream",
     "text": [
      "True\n",
      "False\n",
      "False\n"
     ]
    }
   ],
   "source": [
    "print(19 in room_map)\n",
    "print(17 in room_map)"
   ]
  },
  {
   "cell_type": "markdown",
   "metadata": {},
   "source": [
    "So we know that:\n",
    " - room 17 is unoccupied\n",
    " - room 19 is occupied\n"
   ]
  },
  {
   "cell_type": "markdown",
   "metadata": {},
   "source": [
    "When using `in`, take care to check for the __key__ (not the value)"
   ]
  },
  {
   "cell_type": "code",
   "execution_count": 147,
   "metadata": {},
   "outputs": [
    {
     "name": "stdout",
     "output_type": "stream",
     "text": [
      "False\n"
     ]
    }
   ],
   "source": [
    "print('Kumegawa' in room_map)"
   ]
  },
  {
   "cell_type": "markdown",
   "metadata": {},
   "source": [
    "We could `in` to avoid generating errors if unoccupied room numbers are entered.  \n",
    "\n",
    "For example, in a program that checks the occupants of rooms by entreing the room number: "
   ]
  },
  {
   "cell_type": "code",
   "execution_count": 148,
   "metadata": {},
   "outputs": [
    {
     "name": "stdout",
     "output_type": "stream",
     "text": [
      "Room 17 is unoccupied.\n",
      "Room 19 is occupied by Kumegawa -sensei\n"
     ]
    }
   ],
   "source": [
    "rooms_to_check = [17, 19]\n",
    "\n",
    "for room in rooms_to_check:\n",
    "    \n",
    "    if room in room_map:\n",
    "        print(\"Room\", room, \"is occupied by\", room_map[room], \"-sensei\")\n",
    "    \n",
    "    else:\n",
    "        print(\"Room\", room, \"is unoccupied.\")"
   ]
  },
  {
   "cell_type": "markdown",
   "metadata": {},
   "source": [
    "# 3 Choosing a data structure\n",
    "\n",
    "An important task when developing a computer program is selecting the *appropriate* data structure for a task.\n",
    "\n",
    "Here are some examples of the suitablity of the data types we have studied for some common computing tasks.\n",
    "\n",
    "- __Dynamically changing individual elements of a data structure.__ \n",
    "<br> \n",
    "e.g. updating the occupant of a room number or adding a name to a list of group members.<br> \n",
    "__Lists and dictionaries__ allow us to do this.<br> \n",
    "__Tuples__ do not.\n",
    "\n",
    "\n",
    "- __Storing items in a perticular sequence (so that they can be addressed by index or in a particular order)__.\n",
    "<br> \n",
    "e.g. representing the x, y, z coordinates of a 3D position vector, storing data collected from an experiment as a time series. \n",
    "<br> \n",
    "__Lists and tuples__ allow us to do this.\n",
    "<br> \n",
    "__Dictionaries__ do not.\n",
    "\n",
    "\n",
    "- __Performing an operation on every item in a sequence.__ \n",
    "<br> \n",
    "e.g. checking every item in a data set against a particular condition (e.g. prime number, multiple of 5....etc), performing an algebraic operation on every item in a data set. \n",
    "<br> \n",
    "__Lists and tuples__ make this simple as we can call each entry in turn using its index.\n",
    "<br> \n",
    "__Dictionaries__ this is less efficient as it requires more code.\n",
    "\n",
    "\n",
    "- __Selecting a single item from a data structure without knowing its position in a sequence.__  \n",
    "e.g. looking up the profile of a person using their name, avoiding looping through a large data set in order to identify a single entry. \n",
    "<br> \n",
    "__Dictionaries__ allow us to select a single entry by an associated (unique) key variable.\n",
    "<br> \n",
    "__Lists and tuples__ make this difficult as to pick out a single value we must either i) know it's position in an ordered sequence, ii)loop through every item until we find it. \n",
    "\n",
    "\n",
    "- __Protecting individual items of a data sequence from being added, removed or changed within the program.__\n",
    "<br>\n",
    "e.g. representing a vector of fixed length with fixed values, representing the coordintes of a fixed point. \n",
    "<br> \n",
    "__Tuples__ allow us to do this.\n",
    "<br> \n",
    "__Lists and dictionaries__ do not. \n",
    "\n",
    "\n",
    "- __Speed__\n",
    "For many numerical computations, efficiency is essential. More flexible data structures are generally less efficient computationally. They require more computer memory. We will study the difference in speed there can be between different data structures in a later seminar."
   ]
  },
  {
   "cell_type": "markdown",
   "metadata": {},
   "source": [
    "## 4. Review Exercises\n",
    "Here are a series of engineering problems for you to practise each of the new Python skills that you have learnt today."
   ]
  },
  {
   "cell_type": "markdown",
   "metadata": {},
   "source": [
    "### 4.1 Review Exercise:  <a name=\"back1\"></a> Data structures.\n",
    "\n",
    "__(A)__ In the cell below, what type of data structure is C?\n",
    "\n",
    "__(B)__ Write a line of code that checks whether 3 exists within the data strcuture.\n",
    "\n",
    "__(C)__ Write a line of code that checks whether 3.0 exists within the data strcuture.\n",
    "\n",
    "__(D)__ Write a line of code that checks whether \"3\" exists within the data strcuture.\n"
   ]
  },
  {
   "cell_type": "code",
   "execution_count": 94,
   "metadata": {
    "collapsed": true
   },
   "outputs": [],
   "source": [
    "C = (2, 3, 5, 6, 1, \"hello\")"
   ]
  },
  {
   "cell_type": "markdown",
   "metadata": {},
   "source": [
    "### 4.2 Review Exercise:  <a name=\"back1\"></a> `for` loops.\n",
    "\n",
    "In the cell below, create a list with the names of the months. \n",
    "<br>\n",
    "Create a second list with the number of days in each month (for a regular year). \n",
    "<br>\n",
    "Create a `for` loop that prints:\n",
    "\n",
    "`The number of days in MONTH is XX days`\n",
    "\n",
    "where, `MONTH` is the name of the month and `XX` is the correct number of days in that month.\n",
    "\n",
    "Hint: See computing the dot product in Section 2.1.3 for how to use two vectors in a loop."
   ]
  },
  {
   "cell_type": "code",
   "execution_count": 95,
   "metadata": {
    "collapsed": true
   },
   "outputs": [],
   "source": [
    "# A for loop to print the number of days in each month"
   ]
  },
  {
   "cell_type": "markdown",
   "metadata": {},
   "source": [
    "### 4.3 Review Exercise: `while` loops.\n",
    "In the cell below, write a program to repeatedly print the value of `x`, decreasing it by 0.5 each time, as long as `x` remains positive (Section 1.3)."
   ]
  },
  {
   "cell_type": "code",
   "execution_count": null,
   "metadata": {
    "collapsed": true
   },
   "outputs": [],
   "source": [
    "x = 4"
   ]
  },
  {
   "cell_type": "markdown",
   "metadata": {},
   "source": [
    "### 4.4 Review Exercise: `while` loops and .\n",
    "__(A)__ In the cell below print the square roots of the first 25 odd positive integers.\n",
    "\n",
    "__(B)__ If the number generated is a whole number, print \"`whole number`\" and `continue` (Section 1.4.2) to the next iteration without printing the number."
   ]
  },
  {
   "cell_type": "code",
   "execution_count": null,
   "metadata": {
    "collapsed": true
   },
   "outputs": [],
   "source": []
  },
  {
   "cell_type": "markdown",
   "metadata": {},
   "source": [
    "\n",
    "### 4.5 Review Exercise:  <a name=\"back1\"></a> Indexing.\n",
    "\n",
    "__(A)__ In the cell below write a program that adds two vectors, $\\mathbf{A}$ and $\\mathbf{B}$, expressed as lists (Hint: See computing the dot product in Section 2.1.3 for how to use two vectors in a loop).\n",
    "\n",
    "The vectors can be of any length ($n$) but the length of the two vectors must be equal (or an error will be generated). \n",
    "\n",
    " $ \\mathbf{A} = [A_1, A_2, ... A_n]$\n",
    " \n",
    " $ \\mathbf{B} = [B_1, B_2, ... B_n]$\n",
    " \n",
    " $ \\mathbf{A} + \\mathbf{B} = [(A_1 + B_1), \n",
    "                              (A_2 + B_2),\n",
    "                              ...\n",
    "                              (A_n + B_n)]$\n",
    " \n",
    "__(B)__ Use the function `len()` (Section 2.1) to \n",
    "find the length of $\\mathbf{A}$ and the length of $\\mathbf{B}$ before adding the two vectors.\n",
    "\n",
    "__(C)__ Use a logical operator (`==`, `<`, `>`....) to determine if the length of $\\mathbf{A}$ and the length of $\\mathbf{B}$ are equal or unequal(Seminar 1, Section 7.1)before adding the two vectors.\n",
    "\n",
    "__(D)__ Use `if` and `else` statements (Section 1.1) to:\n",
    "- perform the addition __only__ if the length of $\\mathbf{A}$ and the length of $\\mathbf{B}$ are equal.\n",
    "- print a message  (e.g. \"`unequal vector length!`\") and __do not__ perform the addition, if the length of $\\mathbf{A}$ and the length of $\\mathbf{B}$ are unequal.   \n",
    "\n",
    "\n",
    "__(E)__ Check your code works by testing it using vectors of equal length and vectors of mismatched length."
   ]
  },
  {
   "cell_type": "code",
   "execution_count": 96,
   "metadata": {
    "collapsed": true
   },
   "outputs": [],
   "source": [
    "# Vector addition program with length check."
   ]
  },
  {
   "cell_type": "markdown",
   "metadata": {},
   "source": [
    "### 4.6 Review Exercise: <a name=\"back1\"></a> `if` and `else` statements.\n",
    "\n",
    "__(A)__Copy and paste the program you wrote earlier to find the dot product of two vectors (Section 2.1.3) into the cell below.\n",
    "\n",
    "__(B)__Within the loop use `if`, `elif` and else `else` to make the program print:\n",
    " - \"`The angle between vectors is acute`\" if the dot product is positive.\n",
    " - \"`The angle between vectors is obtuse`\" if the dot product is negative.\n",
    " - \"`The vectors are perpendicular`\" if the dot product is 0."
   ]
  },
  {
   "cell_type": "code",
   "execution_count": 97,
   "metadata": {
    "collapsed": true
   },
   "outputs": [],
   "source": [
    "# Determinig angle types using the dot product."
   ]
  },
  {
   "cell_type": "markdown",
   "metadata": {},
   "source": [
    "### 4.7 Review Exercise: <a name=\"back1\"></a> Dictionaries.\n",
    "\n",
    "<img src=\"../../../ILAS_seminars/intro to python/img/periodic_table.gif\" alt=\"Drawing\" style=\"width: 300px;\"/>\n",
    "\n",
    "__(A)__ Choose 5 elements from the periodic table.\n",
    "<br>\n",
    "In the cell below create a dictionary where the:\n",
    " - keys are the chemical symbol names \n",
    " - values are the atomic numbers \n",
    " \n",
    " e.g. \n",
    " ```python\n",
    " dictionary = {\"C\":6, \"N\":7, \"O\":8....}\n",
    " ```\n",
    "__(B)__ Remove one entry from the dictionary and print it.\n",
    "\n",
    "__(C)__ Add a new entry (chemical symbol and atomic number) to the dictionary and print it.\n",
    "\n",
    "__(D)__ Use a `for` loop to create a new dictionary where the: \n",
    " - keys are the atomic numbers \n",
    " - values are the chemical symbols\n",
    "using your original dictionary (See section 2.3)\n",
    "\n",
    "__*Optional Extension*__\n",
    "\n",
    "Generate a __list__ of the chemical symbols in your dictionary, sorted into alphabetical order.\n",
    "Hints:\n",
    " - Create an empty list (Section 2.1)\n",
    " - Use a for loop to add each chemical symbol to the list (Section 2.3 shows how to add to a data structure with each loop, Section 2.1.2 shows how to add an item to a list)\n",
    " - Put the list in alphabetical order (2.1.2)"
   ]
  },
  {
   "cell_type": "code",
   "execution_count": 98,
   "metadata": {
    "collapsed": true
   },
   "outputs": [],
   "source": [
    "# Dictionary of periodic table items."
   ]
  },
  {
   "cell_type": "markdown",
   "metadata": {},
   "source": [
    "## 4.8 Extension Exercise `while` loops (bisection)\n",
    "\n",
    "Bisection is an iterative method for approximating roots of a function. \n",
    "\n",
    "It repeatedly bisects an interval and then selects a subinterval in which a root must lie for further processing.\n",
    "\n",
    "It is a very simple and robust method.\n",
    "\n",
    "<img src=\"../../../ILAS_seminars/intro to python/img/bisection.png\" alt=\"Drawing\" style=\"width: 200px;\"/>\n",
    "\n",
    "If the function $f(x)$ has one root ($y=0$) between $x_{0}$ and $x_{1}$ ($x_{0} < x_{1}$): \n",
    "\n",
    "- Evaluate $f$ at the midpoint $x_{\\rm mid} = \\frac{(x_0 + x_1)}{2}$, \n",
    "<br>\n",
    "i.e. evaluate $f_{\\rm mid} = f(x_{\\rm mid})$\n",
    "\n",
    "\n",
    "- Evaluate $f(x_0) \\times f(x_{\\rm mid})$\n",
    "\n",
    "  - If $f(x_0) \\cdot f(x_{\\rm mid}) < 0$: \n",
    "    <br>\n",
    "    $f$ must change sign between $x_0$ and $x_{\\rm mid}$\n",
    "    <br> so the root must lie between \n",
    "    $x_0$ and $x_{\\rm mid}$.\n",
    "    <br>\n",
    "    Redefine $x_1 = x_{\\rm mid}$.\n",
    "    <br>\n",
    "    Redefine $x_{\\rm mid} = \\frac{(x_0 + x_1)}{2}$    \n",
    "    <br>\n",
    "  - Else\n",
    "    <br>\n",
    "    $f$ must change sign between $x_{\\rm mid}$ and $x_1$, \n",
    "    <br> so the root must lie between\n",
    "    $x_0 = x_{\\rm mid}$.\n",
    "    <br>\n",
    "    Redefine $x_0 = x_{\\rm mid}$.\n",
    "    <br>\n",
    "    Redefine $x_{\\rm mid} = \\frac{(x_0 + x_1)}{2}$\n",
    "\n",
    "The above steps can be repeated a specified number of times, or until $|f_{\\rm mid}|$\n",
    "is below a threshold (i.e. sufficiently close to 0).\n",
    "\n",
    "$x_{\\rm mid}$ being the approximate root.\n",
    "\n",
    "\n",
    "**Task:** The function\n",
    "\n",
    "$$\n",
    "f(x) = x^3 - 6x^2 + 4x + 12\n",
    "$$\n",
    "\n",
    "has one root somewhere between $x_0 = 3$ and $x_1 = 6$.\n",
    "\n",
    "__(A)__ Use the bisection method to find an approximate root $x_{r}$.  \n",
    "\n",
    "Use a while loop (Section 2.3) to repeat the steps described above until $|f_{\\rm mid}| < 1 \\times10^{-6}$\n",
    "\n",
    "__(B)__ Print the approximation for the root of the function f(x).  \n",
    "\n",
    "*Hint:* Use  `abs` to compute the absolute value of a number, e.g. `y = abs(x)` assigns the absolute value of `x` to `y`. "
   ]
  },
  {
   "cell_type": "code",
   "execution_count": 100,
   "metadata": {
    "collapsed": true
   },
   "outputs": [],
   "source": [
    "# Bisection method for root finding."
   ]
  },
  {
   "cell_type": "markdown",
   "metadata": {},
   "source": [
    "\n",
    " "
   ]
  },
  {
   "cell_type": "markdown",
   "metadata": {},
   "source": [
    "## 4.9 Extension Exercise: Selecting data structures.\n",
    "\n",
    "<img src=\"../../../ILAS_seminars/intro to python/img/2d_poly.png\" alt=\"Drawing\" style=\"width: 300px;\"/>\n",
    "\n",
    "For a simple (non-intersecting) polygon:\n",
    "\n",
    " - with $n$ vertices \n",
    " ($(x_0, y_0)$, $(x_1, y_1, ...x_{n-1}, y_{n-1})$\n",
    " - where $(x_n, y_n) = (x_0, y_0)$. \n",
    " - where the vertices are ordered as you move around the polygon.\n",
    "\n",
    "the area $A$ is given by:\n",
    "$$\n",
    "A = \\left| \\frac{1}{2} \\sum_{i=0}^{n-1} \\left(x_{i} y _{i+1} - x_{i+1} y_{i} \\right) \\right|\n",
    "$$\n",
    "\n",
    "Write a program that computes the area of a simple polygon with an arbitrary number of vertices.\n",
    "\n",
    "Write a for loop to to the summation as you did when finding the dot product. \n",
    "\n",
    "Before doing this you must choose a data structure to represent the coordinates of each vertex of the polygon. \n",
    "\n",
    "Test your function for some simple shapes. "
   ]
  },
  {
   "cell_type": "code",
   "execution_count": 99,
   "metadata": {
    "collapsed": true
   },
   "outputs": [],
   "source": [
    "# Program to calculate the area of a polygon."
   ]
  },
  {
   "cell_type": "markdown",
   "metadata": {},
   "source": [
    "# Updating your git repository\n",
    "\n",
    "You have made several changes to your interactive textbook.\n",
    "\n",
    "The final thing we are going to do is add these changes to your online repository so that:\n",
    " - I can check your progress\n",
    " - You can access the changes from outside of the university server. \n",
    " \n",
    " > Save your work.\n",
    " > <br> `git add -A`\n",
    " > <br>`git commit -m \"A short message describing changes\"`\n",
    " > <br>`git push origin master`\n",
    " \n",
    " <br>Refer to supplementary material: S1_Syncing_Repositories "
   ]
  },
  {
   "cell_type": "markdown",
   "metadata": {},
   "source": [
    "## Summary: Control Statements\n",
    "\n",
    "[*McGrath, Python in easy steps, 2013*]\n",
    "\n",
    " - The Python `if` keyword performs a conditional test on an expression for a Boolean value of True or False.\n",
    " - Alternatives to an `if` test are provided using `elif` and `else` tests.\n",
    " - A `while` loop repeats until a test expression returns `False`.\n",
    " - A `for`...`in`... loop iterates over each item in a specified data structure (or string).\n",
    " - The `range()` function generates a numerical sequence that can be used to specify the length of the `for` loop.\n",
    " - The `break` and `continue` keywords interrupt loop iterations."
   ]
  },
  {
   "cell_type": "markdown",
   "metadata": {
    "collapsed": true
   },
   "source": [
    "## Summary: Data Structures\n",
    " - A data structure is used to assign a collection of values to a single collection name.\n",
    " - A Python list can store multiple items of data in sequentially numbered elements (numbering starts at zero)\n",
    " - Data stored in a list element can be referenced using the list name can be referenced using the list name followed by an index number in [] square brackets.\n",
    " - The `len()` function returns the length of a specified list.\n",
    " - A Python tuple whose values can not be individually changed, removed or added to (except by adding another tuple).\n",
    " - Data stored in a tuple element can be referenced using the tuple name followed by an index number in [] square brackets.\n",
    " - A Python dictionary is a list of key: value pairs of data in which each key must be unique.\n",
    " - Data stored in a dictionary element can be referenced using the dictionary name followed by its key in [] square brackets. "
   ]
  },
  {
   "cell_type": "markdown",
   "metadata": {
    "collapsed": true
   },
   "source": [
    "# Homework \n",
    "\n",
    "1. __PULL__ the changes you made in-class today to your personal computer.\n",
    "1. __COMPLETE__ any unfinished Review Exercises.\n",
    "1. __PUSH__ the changes you make at home to your online repository. \n",
    "\n",
    "<br>Refer to supplementary material: __S1_Introduction_to_Version_Control.ipynb__.  "
   ]
  }
 ],
 "metadata": {
  "celltoolbar": "Slideshow",
  "kernelspec": {
   "display_name": "Python 3",
   "language": "python",
   "name": "python3"
  },
  "language_info": {
   "codemirror_mode": {
    "name": "ipython",
    "version": 3
   },
   "file_extension": ".py",
   "mimetype": "text/x-python",
   "name": "python",
   "nbconvert_exporter": "python",
   "pygments_lexer": "ipython3",
   "version": "3.6.1"
  }
 },
 "nbformat": 4,
 "nbformat_minor": 2
}
