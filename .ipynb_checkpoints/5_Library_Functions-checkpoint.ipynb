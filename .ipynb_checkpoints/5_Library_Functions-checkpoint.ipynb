{
 "cells": [
  {
   "cell_type": "markdown",
   "metadata": {
    "collapsed": true
   },
   "source": [
    "# Library Functions\n",
    "## Lesson Goal\n",
    "\n",
    " - To source and incorporate appropriate functions from external libraries to optimise your code.  \n",
    "\n",
    "## Objectives\n",
    "\n",
    "- Introduce use of standard library functions\n",
    "- Importing and using modules\n",
    "- Understanding module documentation\n",
    "- Using imported functions to optimise the code you have written so far.\n",
    "- Determining optimal solutions by timing your code.\n",
    "\n"
   ]
  },
  {
   "cell_type": "markdown",
   "metadata": {},
   "source": [
    "## 1.0 Libraries\n",
    "\n",
    "Python, like other modern programming languages, has an extensive *library* of built-in functions. \n",
    "\n",
    "These functions are designed, tested and optimised by the developers of the Pyhton langauge.  \n",
    "\n",
    "We can use these functions to make our code shorter, faster and more reliable.\n"
   ]
  },
  {
   "cell_type": "markdown",
   "metadata": {},
   "source": [
    "You are already familiar with some *built in* Python functions:\n",
    "\n",
    "   - `print()` takes the __input__ in the parentheses and __outputs__ a visible representation.\n",
    "   - `len()` takes a data structure as __input__ in the parentheses and __outputs__ the number of items in the data structure (in one direction).\n",
    "   - `sorted()` takes a data structure as __input__ in the parentheses and __outputs__ the data structure sorted by a rule determined by the data type.\n",
    "   - `abs()` takes a numeric variable as  __input__ in the parentheses and __outputs__ the mathematical absolute value of the input."
   ]
  },
  {
   "cell_type": "markdown",
   "metadata": {},
   "source": [
    "These functions belong to Python's standard library."
   ]
  },
  {
   "cell_type": "markdown",
   "metadata": {},
   "source": [
    "## 1.1 The Standard Library"
   ]
  },
  {
   "cell_type": "markdown",
   "metadata": {},
   "source": [
    "Python has a large standard library. \n",
    "\n",
    "It is simply a collection of Python files called 'modules'.\n",
    "\n",
    "These files are installed on the computer you are using.\n",
    "\n",
    "Each module contains code very much like the code that you have been writing, defining various functions. \n",
    "\n",
    "There are multiple modules to keep the code sorted and well organised. "
   ]
  },
  {
   "cell_type": "markdown",
   "metadata": {
    "collapsed": true
   },
   "source": [
    "The standard libary contains many useful functions. \n",
    "\n",
    "They are listed on the Python website:\n",
    "https://docs.python.org/3/library/functions.html\n",
    "\n",
    "If you want to do something, for example a mathematical operation, it worth trying an internet search for a built-in function already exists.\n",
    "\n"
   ]
  },
  {
   "cell_type": "markdown",
   "metadata": {},
   "source": [
    "For example, a quick google search for \"python function to sum all the numbers in a list\"...\n",
    "\n",
    "<br>\n",
    "https://www.google.co.jp/search?q=python+function+to+sum+all+the+numbers+in+a+list&rlz=1C5CHFA_enJP751JP751&oq=python+function+to+sum+&aqs=chrome.0.0j69i57j0l4.7962j0j7&sourceid=chrome&ie=UTF-8"
   ]
  },
  {
   "cell_type": "markdown",
   "metadata": {},
   "source": [
    "...returns the function `sum()`.\n",
    "\n",
    "`sum()` finds the sum of the values in a data strcuture. "
   ]
  },
  {
   "cell_type": "code",
   "execution_count": 14,
   "metadata": {},
   "outputs": [
    {
     "name": "stdout",
     "output_type": "stream",
     "text": [
      "15\n",
      "15\n",
      "15\n"
     ]
    }
   ],
   "source": [
    "print(sum([1,2,3,4,5]))\n",
    "\n",
    "print(sum((1,2,3,4,5)))\n",
    "\n",
    "a = [1,2,3,4,5]\n",
    "print(sum(a))\n",
    "\n"
   ]
  },
  {
   "cell_type": "markdown",
   "metadata": {},
   "source": [
    "The function `max()` finds the maximum value in data structure."
   ]
  },
  {
   "cell_type": "code",
   "execution_count": 15,
   "metadata": {},
   "outputs": [
    {
     "name": "stdout",
     "output_type": "stream",
     "text": [
      "61\n",
      "15\n",
      "5\n"
     ]
    }
   ],
   "source": [
    "print(max([4,61,12,9,2]))\n",
    "\n",
    "print(max((3,6,9,12,15)))\n",
    "\n",
    "a = [1,2,3,4,5]\n",
    "print(max(a))"
   ]
  },
  {
   "cell_type": "markdown",
   "metadata": {},
   "source": [
    "## 1.2 Packages\n",
    "\n",
    "The standard library tools are available in any Python environment.\n",
    "\n",
    "More specialised libraries are available. We call these packages. \n",
    "\n",
    "Packages contain functions and constants for more specific tasks e.g. solving trigonometric functions. \n",
    "\n",
    "We simply install the modules on the computer where we want to use them. \n",
    "\n",
    "When developing programs outside of learning exercises, if there is a no standard library module for a problem you are trying to solve, \n",
    "search online for a module before implementing your own."
   ]
  },
  {
   "cell_type": "markdown",
   "metadata": {},
   "source": [
    "Two widely used packages for mathematics, science and engineeirng are `NumPy` and `SciPy`.\n",
    "\n",
    "These are already installed on your computers.\n",
    "\n",
    "### 1.2.1 Importing a Package\n",
    "\n",
    "To use an installed package, we  simply `import` it. "
   ]
  },
  {
   "cell_type": "code",
   "execution_count": 45,
   "metadata": {},
   "outputs": [
    {
     "name": "stdout",
     "output_type": "stream",
     "text": [
      "0.540302305868\n",
      "3.141592653589793\n"
     ]
    }
   ],
   "source": [
    "import numpy \n",
    "\n",
    "x = 1\n",
    "\n",
    "y = numpy.cos(x)\n",
    "\n",
    "print(y)\n",
    "\n",
    "print(numpy.pi)"
   ]
  },
  {
   "cell_type": "markdown",
   "metadata": {},
   "source": [
    "The `import` statement must appear before the use of the package in the code.  \n",
    "\n",
    "        import numpy \n",
    "\n",
    "After this, any function in `numpy` can be called as:\n",
    "\n",
    "        `numpy.function()`\n",
    "        \n",
    "and, any constant in `numpy` can be called as:\n",
    "\n",
    "        `numpy.constant`.\n",
    "\n",
    "There are a many mathematical functions available. <br>\n",
    "https://docs.scipy.org/doc/numpy-1.13.0/reference/routines.math.html"
   ]
  },
  {
   "cell_type": "markdown",
   "metadata": {},
   "source": [
    "### 1.2.2 Reading function documentation\n",
    "\n",
    "To check how to use a function e.g.:\n",
    " - what arguments to include in the () parentheses\n",
    " - allowable data types to use as arguments\n",
    " - the order in which arguments should be given \n",
    " \n",
    "search for the documentation online.\n",
    "\n",
    "https://docs.scipy.org/doc/numpy-1.13.0/reference/routines.math.html\n",
    "\n",
    "For example, the documentation for the function numpy.cos https://docs.scipy.org/doc/numpy-1.13.0/reference/routines.math.html includes:\n",
    "    \n",
    ">numpy.cos(x, /, out=None, *, where=True, casting='same_kind', order='K', dtype=None, subok=True[, signature, extobj]) \n",
    " \n",
    "> Cosine element-wise.\n",
    "\n",
    ">x : array_like\n",
    "><br>Input array in radians.\n",
    "\n",
    "This tells us:\n",
    " - What the function does. \n",
    " - how to call the function: \n",
    "  - we must set one function argument, x\n",
    "  - there are several default arguments (where, casting etc) that we can optionally set.\n",
    " - x should be \"arraylike\" (it can be an `int`, `float`, `list` or `tuple`)\n",
    " - x is the input to the cosine function, in radians"
   ]
  },
  {
   "cell_type": "markdown",
   "metadata": {},
   "source": [
    "We can change the name of a package e.g. to keep our code short and neat.\n",
    "\n",
    "Using the __`as`__ keyword:"
   ]
  },
  {
   "cell_type": "code",
   "execution_count": 17,
   "metadata": {},
   "outputs": [
    {
     "name": "stdout",
     "output_type": "stream",
     "text": [
      "0.540302305868\n"
     ]
    }
   ],
   "source": [
    "import numpy as np\n",
    "\n",
    "x = 1\n",
    "\n",
    "y = np.cos(x)\n",
    "\n",
    "print(y)"
   ]
  },
  {
   "cell_type": "markdown",
   "metadata": {
    "collapsed": true
   },
   "source": [
    "### 1.2.3 Namespaces\n",
    "<br>By prefixing `cos` with `np`, we are using a *namespace* (which in this case is `np`).\n",
    "\n",
    "The namespace shows we want to use the `cos` function from the Numpy package.\n",
    "\n",
    "If `cos` appears in more than one package we import, then there will be more than one `cos` function available.\n",
    "\n",
    "We must make it clear which `cos` we want to use. \n",
    "\n",
    "Often, functions with the same name, from different packages, will use a different algorithms for performing the same or similar operation. \n",
    "\n",
    "They may vary in speed and accuracy. \n",
    "\n",
    "In some applications we might need an accurate method for computing the square root, for example, and the speed of the program may not be important. For other applications we might need speed with an allowable compromise on accuracy.\n",
    "\n",
    "e.g. Below are two functions, both named `sqrt`. \n",
    "\n",
    "Both functions compute the square root of the input.\n",
    "\n",
    " - `math.sqrt`, from the package, `math`, gives an error if the input is a negative number. It does not support complex numbers.\n",
    " - `cmath.sqrt`, from the package, `cmath`, supports complex numbers.\n"
   ]
  },
  {
   "cell_type": "code",
   "execution_count": 20,
   "metadata": {},
   "outputs": [
    {
     "name": "stdout",
     "output_type": "stream",
     "text": [
      "2.0\n"
     ]
    }
   ],
   "source": [
    "import math\n",
    "import cmath\n",
    "\n",
    "print(math.sqrt(4))\n",
    "#print(math.sqrt-5)\n",
    "#print(cmath.sqrt(-5))\n",
    "\n",
    "# if we use a function name with more than one definition we get a clash\n",
    "#print(sqrt(-5))"
   ]
  },
  {
   "cell_type": "markdown",
   "metadata": {},
   "source": [
    "As anther example, two developers collaborating on the same program might choose the same name for two functions that perform similar but slightly different tasks. If these functions are in different modules, there will be no name clash since the module name provides a 'namespace'. "
   ]
  },
  {
   "cell_type": "markdown",
   "metadata": {},
   "source": [
    "### 1.2.4 Importing a Function\n",
    "Single functions can be imported without importing the entire package e.g. use:\n",
    "\n",
    "        from numpy import cos\n",
    "\n",
    "instead of:\n",
    "\n",
    "        import numpy \n",
    "\n",
    "After this you call the function without the numpy prefix: "
   ]
  },
  {
   "cell_type": "code",
   "execution_count": 48,
   "metadata": {},
   "outputs": [
    {
     "data": {
      "text/plain": [
       "0.54030230586813977"
      ]
     },
     "execution_count": 48,
     "metadata": {},
     "output_type": "execute_result"
    }
   ],
   "source": [
    "from numpy import cos\n",
    "\n",
    "cos(x)"
   ]
  },
  {
   "cell_type": "raw",
   "metadata": {},
   "source": [
    "Be careful when doing this as there can be only one definition of each function.\n",
    "In the case that a function name is already defined, it will be overwritten by a more recent definietion. "
   ]
  },
  {
   "cell_type": "code",
   "execution_count": 49,
   "metadata": {},
   "outputs": [
    {
     "data": {
      "text/plain": [
       "1j"
      ]
     },
     "execution_count": 49,
     "metadata": {},
     "output_type": "execute_result"
    }
   ],
   "source": [
    "from cmath import sqrt\n",
    "from math import sqrt\n",
    "\n",
    "#sqrt(-1)"
   ]
  },
  {
   "cell_type": "markdown",
   "metadata": {},
   "source": [
    "We can even rename individual functions or constants when we import them:"
   ]
  },
  {
   "cell_type": "code",
   "execution_count": 19,
   "metadata": {},
   "outputs": [
    {
     "data": {
      "text/plain": [
       "0.54030230586813977"
      ]
     },
     "execution_count": 19,
     "metadata": {},
     "output_type": "execute_result"
    }
   ],
   "source": [
    "from numpy import cos as cosine\n",
    "\n",
    "cosine(x)"
   ]
  },
  {
   "cell_type": "code",
   "execution_count": 41,
   "metadata": {},
   "outputs": [
    {
     "data": {
      "text/plain": [
       "3.141592653589793"
      ]
     },
     "execution_count": 41,
     "metadata": {},
     "output_type": "execute_result"
    }
   ],
   "source": [
    "from numpy import pi as pi\n",
    "pi"
   ]
  },
  {
   "cell_type": "markdown",
   "metadata": {},
   "source": [
    "This can be useful when importing functions from different modules:"
   ]
  },
  {
   "cell_type": "code",
   "execution_count": 11,
   "metadata": {},
   "outputs": [
    {
     "name": "stdout",
     "output_type": "stream",
     "text": [
      "2.0\n",
      "1j\n"
     ]
    }
   ],
   "source": [
    "from math import sqrt as square_root\n",
    "from cmath import sqrt as complex_square_root\n",
    "\n",
    "print(square_root(4))\n",
    "print(complex_square_root(-1))"
   ]
  },
  {
   "cell_type": "markdown",
   "metadata": {},
   "source": [
    "Function names should be chosen wisely."
   ]
  },
  {
   "cell_type": "markdown",
   "metadata": {},
   "source": [
    "## 1.3 Using Package Functions. \n",
    "\n",
    "Let's learn to use `numpy` functions in our programs. \n",
    "\n",
    "To check how to use a function e.g.:\n",
    " - what arguments to include in the () parentheses\n",
    " - allowable data types to use as arguments\n",
    " - the order in which arguments should be given \n",
    " \n",
    "look at the Numpy documentation.\n",
    "\n",
    "A google search for 'numpy functions' returns:\n",
    "\n",
    "https://docs.scipy.org/doc/numpy-1.13.0/reference/routines.math.html\n",
    "\n",
    "(this list is not exhaustive). "
   ]
  },
  {
   "cell_type": "code",
   "execution_count": 20,
   "metadata": {},
   "outputs": [
    {
     "name": "stdout",
     "output_type": "stream",
     "text": [
      "0.841470984808\n",
      "1.55740772465\n",
      "0.785398163397\n",
      "57.2957795131\n",
      "1.0\n"
     ]
    }
   ],
   "source": [
    "# Some Numpy functions with their definitions as given in the documentation\n",
    "\n",
    "x = 1\n",
    "y = 2\n",
    "z = 3\n",
    "\n",
    "# Trigonometric sine, element-wise.\n",
    "print(np.sin(x))\n",
    "\n",
    "# Compute tangent element-wise.\n",
    "print(np.tan(x))\n",
    "\n",
    "# Trigonometric inverse tangent\n",
    "print(np.arctan(x))\n",
    "\n",
    "# Convert angles from radians to degrees\n",
    "degrees = np.degrees(x)\n",
    "print(degrees)\n",
    "\n",
    "# Convert angles from degrees to radians\n",
    "radians = np.radians(degrees)\n",
    "print(radians)   "
   ]
  },
  {
   "cell_type": "markdown",
   "metadata": {},
   "source": [
    "__Try it yourself:__\n",
    "<br> Find a function in the Python Numpy documentation that matches the function definition and use it to solve the problems below:  \n",
    "\n",
    "__(A)__ Given the “legs” of a right triangle, return its hypotenuse.<br> If  the lengths of the two shorter sides of a right angle triangle are 6 units  and 3 units, what is the length of the hypotenuse?"
   ]
  },
  {
   "cell_type": "code",
   "execution_count": null,
   "metadata": {
    "collapsed": true
   },
   "outputs": [],
   "source": []
  },
  {
   "cell_type": "markdown",
   "metadata": {},
   "source": [
    "Numpy functions often appear within user defined functions e.g.:\n",
    "\n",
    "$f(x)= \\cos(x) \\qquad x <0$\n",
    "\n",
    "$f(x) = \\exp(-x) \\qquad x \\ge 0$"
   ]
  },
  {
   "cell_type": "code",
   "execution_count": 40,
   "metadata": {},
   "outputs": [
    {
     "name": "stdout",
     "output_type": "stream",
     "text": [
      "0.0432139182638\n",
      "0.592384847188\n"
     ]
    }
   ],
   "source": [
    "def f(x):\n",
    "    if x < 0:\n",
    "        f = np.cos(x)\n",
    "    else:\n",
    "        f = np.exp(-x)\n",
    "    return f\n",
    "\n",
    "print(f(np.pi))\n",
    "print(f(np.pi/6))"
   ]
  },
  {
   "cell_type": "markdown",
   "metadata": {
    "collapsed": true
   },
   "source": [
    "Package functions can be passed to other functions as arguments.\n",
    "\n",
    "Recall __Seminar 4, Section 1.2.2 What can be passed as a function argument?__\n",
    "\n",
    "Example: the function `is_positive` checks if the value of a function $f$, evaluated at $x$, is positive.\n",
    "<br> The arguments are:\n",
    " - the function $f$\n",
    " - the value of $x$,in $f(x)$"
   ]
  },
  {
   "cell_type": "code",
   "execution_count": 23,
   "metadata": {},
   "outputs": [
    {
     "name": "stdout",
     "output_type": "stream",
     "text": [
      "False\n",
      "True\n"
     ]
    }
   ],
   "source": [
    "def is_positive(f, x):\n",
    "\n",
    "    if f(x) > 0:\n",
    "        return True\n",
    "    else:\n",
    "        return False\n",
    "    \n",
    "def f0(x):\n",
    "    \"\"\"\n",
    "    Computes x^2 - 1\n",
    "    \"\"\"\n",
    "    return x*x - 1\n",
    "    \n",
    "# Value of x to test\n",
    "x = 0.5\n",
    "\n",
    "# Test user defined function f0\n",
    "print(is_positive(f0, x))\n",
    "\n",
    "# Test function f1\n",
    "print(is_positive(np.cos, x))"
   ]
  },
  {
   "cell_type": "markdown",
   "metadata": {},
   "source": [
    "__Try it yourself:__\n",
    "<br> Search online for the numpy function for each of the following mathematical functions: \n",
    "- $f = arcsin(x)$\n",
    "- $f = \\sqrt x$\n",
    "- $ f = $ maximum $ \\{ sin(x), cos(x) \\}$\n",
    "\n",
    "<br> In the cell below use the function `is_positive` to test the sign of output of the functions.  "
   ]
  },
  {
   "cell_type": "code",
   "execution_count": 24,
   "metadata": {
    "collapsed": true
   },
   "outputs": [],
   "source": [
    "# f = arcsin(x)\n",
    "\n",
    "# f = square root of x\n",
    "\n",
    "# f = maximum of sin(x) and cos(x)  "
   ]
  },
  {
   "cell_type": "markdown",
   "metadata": {},
   "source": [
    "##### Try it yourself\n",
    "In the cell below, copy and paste the `bisection` function you wrote for Seminar 4: 1.7.6 Review Excercise: Using Functions as Function Arguments. \n",
    "\n",
    "Demonstrate that your `bisection` function works correctly by finding the zero of the Numpy cos($x$) function that lies in the interval $x_1=0$ to $x_2=3$. "
   ]
  },
  {
   "cell_type": "code",
   "execution_count": null,
   "metadata": {
    "collapsed": true
   },
   "outputs": [],
   "source": []
  },
  {
   "cell_type": "markdown",
   "metadata": {},
   "source": [
    "## 1.4 Using Package Functions to Optimise your Code\n",
    "The examples in this section will take previous excercises that you have completed either in class or for homework and look at how we can optimise them using Numpy functions.\n",
    "<br> If you have not completed the excercises mentiond in previous seminars  you can *optionally* complete the exercise without Numpy functions before optimising. "
   ]
  },
  {
   "cell_type": "markdown",
   "metadata": {},
   "source": [
    "Refer to your answer to __Seminar 4, 1.2.4 Return arguments__. \n",
    "\n",
    "The function `compute_max_min_mean`:\n"
   ]
  },
  {
   "cell_type": "code",
   "execution_count": 52,
   "metadata": {},
   "outputs": [
    {
     "name": "stdout",
     "output_type": "stream",
     "text": [
      "-20 0.5 -6.466666666666666\n"
     ]
    }
   ],
   "source": [
    "def compute_max_min_mean(x0, x1, x2):\n",
    "    \"Return maximum, minimum and mean values\"\n",
    "    \n",
    "    x_min = x0\n",
    "    if x1 < x_min:\n",
    "        x_min = x1\n",
    "    if x2 < x_min:\n",
    "        x_min = x2\n",
    "\n",
    "    x_max = x0\n",
    "    if x1 > x_max:\n",
    "        x_max = x1\n",
    "    if x2 > x_max:\n",
    "        x_max = x2\n",
    "\n",
    "    x_mean = (x0 + x1 + x2)/3    \n",
    "        \n",
    "    return x_min, x_max, x_mean\n",
    "\n",
    "\n",
    "xmin, xmax, xmean = compute_max_min_mean(0.5, 0.1, -20)\n",
    "print(xmin, xmax, xmean)"
   ]
  },
  {
   "cell_type": "markdown",
   "metadata": {},
   "source": [
    "Could be re-written as:"
   ]
  },
  {
   "cell_type": "code",
   "execution_count": 53,
   "metadata": {},
   "outputs": [
    {
     "name": "stdout",
     "output_type": "stream",
     "text": [
      "-20.0 0.5 -6.46666666667\n"
     ]
    }
   ],
   "source": [
    "def np_compute_max_min_mean(x0, x1, x2):\n",
    "    \"Return maximum, minimum and mean values\"\n",
    "    \n",
    "    x_min = np.amin([x0, x1, x2])\n",
    "    x_max = np.amax([x0, x1, x2])\n",
    "    x_mean = np.mean([x0, x1, x2])\n",
    "            \n",
    "    return x_min, x_max, x_mean\n",
    "\n",
    "\n",
    "xmin, xmax, xmean = np_compute_max_min_mean(0.5, 0.1, -20)\n",
    "print(xmin, xmax, xmean)"
   ]
  },
  {
   "cell_type": "code",
   "execution_count": 44,
   "metadata": {},
   "outputs": [
    {
     "data": {
      "text/plain": [
       "-1"
      ]
     },
     "execution_count": 44,
     "metadata": {},
     "output_type": "execute_result"
    }
   ],
   "source": [
    "np.amin([1,2,3, -1])"
   ]
  },
  {
   "cell_type": "markdown",
   "metadata": {},
   "source": [
    "We can use *magic function* (http://ipython.readthedocs.io/en/stable/interactive/magics.html), `%timeit`, to compare the time the user-defiend function takes to execute compared to the Numpy function. \n",
    "\n",
    "Sometimes we must choose between minimising the length of the code and minimising the time it takes to run. \n",
    "\n",
    "Simply put `%timeit` before the function call to print the execution time. \n",
    "<br> e.g. `%timeit cos(x)` "
   ]
  },
  {
   "cell_type": "code",
   "execution_count": 50,
   "metadata": {},
   "outputs": [
    {
     "name": "stdout",
     "output_type": "stream",
     "text": [
      "The slowest run took 10.69 times longer than the fastest. This could mean that an intermediate result is being cached.\n",
      "1000000 loops, best of 3: 369 ns per loop\n",
      "\n",
      "The slowest run took 87.57 times longer than the fastest. This could mean that an intermediate result is being cached.\n",
      "10000 loops, best of 3: 21.1 µs per loop\n"
     ]
    }
   ],
   "source": [
    "%timeit compute_max_min_mean(0.5, 0.1, -20)\n",
    "print(\"\")\n",
    "%timeit np_compute_max_min_mean(0.5, 0.1, -20)"
   ]
  },
  {
   "cell_type": "markdown",
   "metadata": {},
   "source": [
    "##### Try it yourself \n",
    "In the cell below, find a Numpy function that provides the same solution as the function your write as your answer to Seminar 3, Section 5.3 Review Exercise: Indexing., __part (A)__: Add two vectors, $\\mathbf{A}$ and $\\mathbf{B}$ such that:\n",
    "$ \\mathbf{A} + \\mathbf{B} = [(A_1 + B_1), \n",
    "                              (A_2 + B_2),\n",
    "                              ...\n",
    "                              (A_n + B_n)]$\n",
    "\n",
    "Use the Numpy function to add vectors:\n",
    "\n",
    "$\\mathbf{A} = [-2, 1, 3]$\n",
    "\n",
    "$\\mathbf{B} = [6, 2, 2]$\n",
    "\n",
    "Compare your answer with your answer to Seminar 3, Section 5.3 Review Exercise: Indexing.\n",
    "\n",
    "Use *magic function* `%timeit`, to compare the time your user-defiend function takes to execute compared to the Numpy function. \n",
    "<br> If you want to, you can also compare the function you write as your answer to Seminar 4, 1.7.2 Review Exercise.\n",
    "<br> Which is fastest?"
   ]
  },
  {
   "cell_type": "code",
   "execution_count": 58,
   "metadata": {
    "collapsed": true
   },
   "outputs": [],
   "source": [
    "# Vector Addition"
   ]
  },
  {
   "cell_type": "markdown",
   "metadata": {},
   "source": [
    "## 1.5 Importing Algorithms as Functions (e.g. Root finding)\n",
    "\n",
    "So far we have mostly looked at library functions that perform single mathematical operations such as trigonomtric or algebraic functions. \n",
    "\n",
    "Library functions also include those that can be used for complete multi-stage tasks.\n",
    "\n",
    "For example, in place of the `bisection` function you wrote to find the root of a function, a number of root-finding functions from imported modules can be used. \n",
    "\n",
    "The package `scipy.optimize` contains a number of functions for estimating the roots of a function including:\n",
    " - `scipy.optimize.bisect`\n",
    " - `scipy.optimize.fsolve` (the most popular root-finding function)"
   ]
  },
  {
   "cell_type": "markdown",
   "metadata": {},
   "source": [
    "The documentation for `fsolve` https://docs.scipy.org/doc/scipy-0.14.0/reference/generated/scipy.optimize.fsolve.html:\n",
    "\n",
    ">scipy.optimize.fsolve(func, x0, args=(), fprime=None, full_output=0, col_deriv=0, xtol=1.49012e-08, maxfev=0, band=None, epsfcn=None, factor=100, diag=None)[source]\n",
    "\n",
    ">Return the roots of the (non-linear) equations defined by func(x) = 0 given a starting estimate.\n",
    "\n",
    ">__func__ : callable f(x, *args)\n",
    "<br> &nbsp; &nbsp; &nbsp; A function that takes at least one (possibly vector) argument.\n",
    "<br>__x0__ : ndarray\n",
    "<br>&nbsp; &nbsp; &nbsp; The starting estimate for the roots of func(x) = 0."
   ]
  },
  {
   "cell_type": "markdown",
   "metadata": {},
   "source": [
    "In the bisection method we select the interval in which to look for the root. \n",
    "\n",
    "Using `solve` we instead give an __initial estimate__ for the root.\n",
    "\n",
    "The function, $f(x) = x^3 + 4x^2 + x - 6$ has roots -3, -2, and 1. \n",
    "\n",
    "The function should return the root that is closest to our estimate. "
   ]
  },
  {
   "cell_type": "code",
   "execution_count": 16,
   "metadata": {},
   "outputs": [
    {
     "name": "stdout",
     "output_type": "stream",
     "text": [
      "[-3.]\n"
     ]
    }
   ],
   "source": [
    "import scipy\n",
    "from scipy.optimize import fsolve\n",
    "\n",
    "def func(x):\n",
    "    return x**3 + 4*x**2 + x - 6\n",
    "\n",
    "a = scipy.optimize.fsolve(func, -30)\n",
    "\n",
    "print(a)"
   ]
  },
  {
   "cell_type": "markdown",
   "metadata": {},
   "source": [
    "__Try it yourself:__\n",
    "<br> In the cell below, use `scipy.optimize.fsolve()` to print the root of cos(x) (using `np.cos()`).\n",
    "Try serval initial guess values of x.   "
   ]
  },
  {
   "cell_type": "code",
   "execution_count": 17,
   "metadata": {
    "collapsed": true
   },
   "outputs": [],
   "source": [
    "# Fin the root of cos(x)"
   ]
  },
  {
   "cell_type": "markdown",
   "metadata": {},
   "source": [
    "Sometimes, we want to find more than one root of a function. \n",
    "\n",
    " - For the function $cos(x)$, finding all roots is impractical as our solution would be infinite.\n",
    " <br>\n",
    "\n",
    " - For functions like the polynomial $f(x) = x^3 + 4x^2 + x - 6$ we can use the function `np.roots()` to find all roots.\n",
    " <br> The function argument is the coeffients of the polynomial as a list."
   ]
  },
  {
   "cell_type": "code",
   "execution_count": 18,
   "metadata": {},
   "outputs": [
    {
     "name": "stdout",
     "output_type": "stream",
     "text": [
      "[-3. -2.  1.]\n"
     ]
    }
   ],
   "source": [
    "print(np.roots([1, 4, 1, -6]))"
   ]
  },
  {
   "cell_type": "markdown",
   "metadata": {},
   "source": [
    "__Try it yourself:__\n",
    "<br>In the cell below use `numpy.roots()` to find the roots of the function:\n",
    "<br>$y = x^3 - 2x^2 - 11x + 12$"
   ]
  },
  {
   "cell_type": "code",
   "execution_count": 25,
   "metadata": {},
   "outputs": [
    {
     "name": "stdout",
     "output_type": "stream",
     "text": [
      "[-3.  4.  1.]\n"
     ]
    }
   ],
   "source": []
  },
  {
   "cell_type": "markdown",
   "metadata": {},
   "source": [
    "## 1.6 Review Exercises\n",
    "The following excercises will help you to practise finding useful functions form external packages and applying them when solving engineering problems. "
   ]
  },
  {
   "cell_type": "markdown",
   "metadata": {},
   "source": [
    "## 1.6.1 Review Exercise: Using Package Functions. \n",
    "<br> Find a function in the Python Numpy documentation that matches the function definition and use it to solve the problems below:"
   ]
  },
  {
   "cell_type": "markdown",
   "metadata": {},
   "source": [
    "__(A)__ Calculate the exponential of all elements in the input array.\n",
    "<br> Print a list where each element is the exponential of the corresponding element in list a:\n",
    "<br>`a = [0.1, 0, 10]`"
   ]
  },
  {
   "cell_type": "code",
   "execution_count": null,
   "metadata": {
    "collapsed": true
   },
   "outputs": [],
   "source": []
  },
  {
   "cell_type": "markdown",
   "metadata": {},
   "source": [
    "__(B)__ Convert angles from degrees to radians..\n",
    "<br> Convert angle `theta`, expresse in degrees, to radians:\n",
    "<br>`theta` = 47"
   ]
  },
  {
   "cell_type": "code",
   "execution_count": null,
   "metadata": {
    "collapsed": true
   },
   "outputs": [],
   "source": []
  },
  {
   "cell_type": "code",
   "execution_count": null,
   "metadata": {
    "collapsed": true
   },
   "outputs": [],
   "source": []
  },
  {
   "cell_type": "markdown",
   "metadata": {},
   "source": [
    "## 1.6.2. Review Exercise: Using Package Functions to Optimise your Code\n",
    "<br>\n",
    "Refer to your answer to Seminar 4, 1.7.2 Review Exercise: (functions and default arguments).\n",
    "\n",
    "Copy and paste your code in the cell below.\n",
    "\n",
    "__A__ Find Numpy functions to the replace operations for:\n",
    "\n",
    " - summation $\\sum$\n",
    " - square root $\\sqrt $\n",
    " - square (raise to power of 2) $^2$  \n",
    "\n",
    "Find the magnitude of the vector $x = [1, 3, -2]$.\n",
    "\n",
    "__B__ Search online for a single numpy function that takes a vector as input and returns the magnitide of a vector. \n",
    "<br> Use it calculate the magnitude of the vector $x$. \n",
    "<br> Check the answer against the value generated in __A__\n",
    "<br> Check your answers using hand calculations.\n",
    "\n",
    "__C__ Use *magic function* `%timeit`, to compare the time your user-defiend function takes to execute compared to the Numpy function. \n",
    "<br> If you want to, you can also compare the function you write as your answer to Seminar 4, 1.7.2 Review Exercise.\n",
    "<br> Which is fastest?\n"
   ]
  },
  {
   "cell_type": "code",
   "execution_count": null,
   "metadata": {
    "collapsed": true
   },
   "outputs": [],
   "source": []
  },
  {
   "cell_type": "markdown",
   "metadata": {},
   "source": [
    "## 1.6.3. Review Exercise: Using Package Functions to Optimise your Code\n",
    "\n",
    "Search for a Numpy function that has a __similar__ function to the `is_positive`function used in Section 1.3 of this Seminar; the answer it returns should show if an input is positive or not. \n",
    "\n",
    "In the cell below:\n",
    " - copy and paste the `is_positive` function\n",
    " - use the magic unction %timeit to compare the speed of the `is_positive` function with the Numpy function for analysing the sign of a numerical input."
   ]
  },
  {
   "cell_type": "code",
   "execution_count": 22,
   "metadata": {},
   "outputs": [
    {
     "data": {
      "text/plain": [
       "-1"
      ]
     },
     "execution_count": 22,
     "metadata": {},
     "output_type": "execute_result"
    }
   ],
   "source": [
    "np.sign(-2)"
   ]
  },
  {
   "cell_type": "markdown",
   "metadata": {},
   "source": [
    "## 1.6.4 Review Exercise: Alternative Expressions\n",
    "Recall Seminar 3, Section 1.3 Indexing. \n",
    "\n",
    "We saw that the __dot product__ of two vectors can be experssed both geometrically and algebraically. \n",
    "\n",
    "__GEOMETRIC REPRESENTATION__\n",
    "\n",
    "\\begin{align}\n",
    "\\mathbf{A} \\cdot \\mathbf{B} = |\\mathbf{A}| |\\mathbf{B}| cos(\\theta)\n",
    "\\end{align}\n",
    "\n",
    "__ALGEBRAIC REPRESENTATION__\n",
    "\n",
    ">So the dot product of two 3D vectors:\n",
    "> <br> $ \\mathbf{A} = [A_x, A_y, A_z]$\n",
    "> <br> $ \\mathbf{B} = [B_x, B_y, B_z]$\n",
    "> <br> is:\n",
    "\n",
    "\\begin{align}\n",
    "\\mathbf{A} \\cdot \\mathbf{B} &= \\sum_{i=1}^n A_i B_i \\\\\n",
    "&= A_x B_x + A_y B_y + A_z B_z.\n",
    "\\end{align}\n"
   ]
  },
  {
   "cell_type": "markdown",
   "metadata": {},
   "source": [
    "\n",
    "In the cell titled `# The dot product of C and D `, you wrote a program that used a for loop and indexing to compute the dot product using the algebraic method. \n",
    "\n",
    "$\\mathbf{C} = [2, 4, 3.5]$\n",
    "\n",
    "$\\mathbf{D} = [1, 2, -6]$\n",
    "\n",
    "\n",
    "In the cell below, use:\n",
    " - the Numpy cosine function\n",
    " - the magnitude function that you used in the last example (either  user defined or Numpy function)\n",
    " \n",
    "to compute $\\mathbf{C} \\cdot \\mathbf{D}$ using the geomtric expression.\n",
    "\n",
    "Compare your answer to your answer in Seminar 3, Section 1.3. \n",
    "\n"
   ]
  },
  {
   "cell_type": "markdown",
   "metadata": {
    "collapsed": true
   },
   "source": [
    "## 1.6.5 Review Exercise: Importing Algorithms as Functions\n",
    "\n",
    "In Section 1.5, we learnt that the package scipy.optimize contains a number of functions for estimating the roots of a function, including `scipy.optimize.bisect`.\n",
    "\n",
    "This function performs the same/ a similar function to the `bisection` function that you have been developing. \n",
    "\n",
    "__(A)__ Find the documentation for the function `scipy.optimize.bisect` to learn how to use it.\n",
    "\n",
    "__(B)__ Use `scipy.optimize.bisect` to estimate the root of the function $f(x) = 2sin^2 x - 3sin x + 1$:\n",
    "<br> &nbsp; &nbsp; &nbsp; (i) between 0 and $\\frac{\\pi}{6}$\n",
    "<br> &nbsp; &nbsp; &nbsp; (ii) between 1.5 and 2\n",
    "<br> &nbsp; &nbsp; &nbsp; (iii) between $\\frac{3}{4}\\pi$ and $\\pi$\n",
    "\n",
    "__NOTE:__ &nbsp; $sin^2(x) = (sin(x))^2$\n",
    "\n",
    "__(C)__ Use the magic unction %timeit to compare the speed of your user-sefined function `bisection`, with the speed of `scipy.optimize.bisect`. "
   ]
  },
  {
   "cell_type": "code",
   "execution_count": 51,
   "metadata": {},
   "outputs": [
    {
     "data": {
      "text/plain": [
       "0.5235987755982023"
      ]
     },
     "execution_count": 51,
     "metadata": {},
     "output_type": "execute_result"
    }
   ],
   "source": [
    "import scipy\n",
    "from scipy.optimize import bisect\n",
    "\n",
    "def func(x):\n",
    "    return x**3 + 4*x**2 + x - 6\n",
    "\n",
    "def q(x):\n",
    "    return (2 * (np.sin(x))**2) - (3 * np.sin(x)) + 1\n",
    "\n",
    "scipy.optimize.bisect(func, 0, 3)\n",
    "scipy.optimize.bisect(q, 0, 1.5)"
   ]
  },
  {
   "cell_type": "markdown",
   "metadata": {
    "collapsed": true
   },
   "source": [
    "# Summary\n",
    "\n",
    "- Python has an extensive __standard library__ of built-in functions. \n",
    "- More specialised libraries of functions and constants are available. We call these __packages__. \n",
    "- Packages are imported using the keyword ....\n",
    "- The function documentation tells is what it does and how to use it.\n",
    "- When calling a library function it must be prefixed with a __namespace__ is used to show from which package it should be called.  \n",
    "- The magic function .... can be used to time the execution of a function. \n",
    "\n",
    "\n"
   ]
  }
 ],
 "metadata": {
  "kernelspec": {
   "display_name": "Python 3",
   "language": "python",
   "name": "python3"
  },
  "language_info": {
   "codemirror_mode": {
    "name": "ipython",
    "version": 3
   },
   "file_extension": ".py",
   "mimetype": "text/x-python",
   "name": "python",
   "nbconvert_exporter": "python",
   "pygments_lexer": "ipython3",
   "version": "3.6.1"
  }
 },
 "nbformat": 4,
 "nbformat_minor": 2
}
