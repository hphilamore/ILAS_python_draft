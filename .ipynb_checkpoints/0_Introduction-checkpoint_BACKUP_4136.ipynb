{
 "cells": [
  {
   "cell_type": "markdown",
   "metadata": {
    "collapsed": true
   },
   "source": []
  },
  {
   "cell_type": "markdown",
   "metadata": {},
   "source": []
  },
  {
   "cell_type": "code",
   "execution_count": null,
   "metadata": {
    "collapsed": true
   },
   "outputs": [],
   "source": []
  },
  {
   "cell_type": "markdown",
   "metadata": {},
   "source": []
  },
  {
   "cell_type": "code",
   "execution_count": null,
   "metadata": {
    "collapsed": true
   },
   "outputs": [],
   "source": [
    " "
   ]
  },
  {
   "cell_type": "markdown",
   "metadata": {},
   "source": []
  },
  {
   "cell_type": "code",
<<<<<<< HEAD
   "execution_count": null,
   "metadata": {
    "collapsed": true
   },
   "outputs": [],
=======
   "execution_count": 8,
   "metadata": {},
   "outputs": [
    {
     "data": {
      "text/plain": [
       "24"
      ]
     },
     "execution_count": 8,
     "metadata": {},
     "output_type": "execute_result"
    }
   ],
>>>>>>> 412d7cb2e25b8568859ad2262b719e223aa80f1e
   "source": []
  },
  {
   "cell_type": "markdown",
   "metadata": {},
   "source": []
  },
  {
   "cell_type": "code",
<<<<<<< HEAD
   "execution_count": null,
   "metadata": {
    "collapsed": true
   },
   "outputs": [],
=======
   "execution_count": 12,
   "metadata": {},
   "outputs": [
    {
     "data": {
      "text/plain": [
       "2.4"
      ]
     },
     "execution_count": 12,
     "metadata": {},
     "output_type": "execute_result"
    }
   ],
>>>>>>> 412d7cb2e25b8568859ad2262b719e223aa80f1e
   "source": []
  },
  {
   "cell_type": "markdown",
   "metadata": {},
   "source": []
  },
  {
   "cell_type": "code",
   "execution_count": null,
   "metadata": {
    "collapsed": true
   },
   "outputs": [],
   "source": []
  },
  {
   "cell_type": "markdown",
   "metadata": {},
   "source": []
  },
  {
   "cell_type": "code",
   "execution_count": null,
   "metadata": {
    "collapsed": true
   },
   "outputs": [],
   "source": []
  },
  {
   "cell_type": "markdown",
   "metadata": {},
   "source": []
  },
  {
   "cell_type": "code",
   "execution_count": null,
   "metadata": {
    "collapsed": true
   },
   "outputs": [],
   "source": []
  },
  {
   "cell_type": "markdown",
   "metadata": {},
   "source": [
    "\n",
    "__What is Git?__ \n",
    "\n",
    "Git is *version control* software."
   ]
  },
  {
   "cell_type": "markdown",
   "metadata": {},
   "source": [
    "__What is version control software?__ \n",
    "\n",
    "Software that tracks and manages changes to project without overwriting any part of the project. "
   ]
  },
  {
   "cell_type": "markdown",
   "metadata": {},
   "source": [
    "Typically, when you save a file, for example a word document, you either:\n",
    " - overwrite the previous version (save)\n",
    " - save the file under a new name (save as)"
   ]
  },
  {
   "cell_type": "markdown",
   "metadata": {},
   "source": [
    "This means we either:\n",
    "- Lose the previous version\n",
    "- End up with multiple files\n"
   ]
  },
  {
   "cell_type": "markdown",
   "metadata": {},
   "source": [
<<<<<<< HEAD
    "In programming we often want to:\n",
    " - make a small change to our program \n",
    " - test our change works before moving on. \n",
    " - easily revert to a previous version if we don't like the changes\n",
=======
    "In programming we often want to make a small change to our program and test that it works. \n",
>>>>>>> 412d7cb2e25b8568859ad2262b719e223aa80f1e
    "\n",
    "It makes sense to incrementally save our work as we go along. \n",
    "\n",
    "That way, if we break something we can just go back to the previous version. "
   ]
  },
  {
   "cell_type": "markdown",
   "metadata": {},
   "source": [
    "But this can lead to many files:\n",
    "\n",
    "<img src=\"../../../ILAS_seminars/intro to python/img/many_files_same_name.png\" alt=\"Drawing\" style=\"width: 300px;\"/>\n",
    "\n",
    "How can we tell what each one does?"
   ]
  },
  {
   "cell_type": "markdown",
   "metadata": {},
   "source": [
    "We could try giving them meaningful names:\n",
    "\n",
    "<img src=\"../../../ILAS_seminars/intro to python/img/many_files.gif\" alt=\"Drawing\" style=\"width: 300px;\"/>\n",
    "\n",
    "But the name can only tell us a little bit of information...\n"
   ]
  },
  {
   "cell_type": "markdown",
   "metadata": {},
   "source": [
    "...before they start getting really long!\n",
    "\n",
    "<img src=\"../../../ILAS_seminars/intro to python/img/many_files_different_names.png\" alt=\"Drawing\" style=\"width: 300px;\"/>\n",
    "\n",
    "Things get very confusing!\n",
    "\n",
    "And many files take up lots of space on your computer. "
   ]
  },
  {
   "cell_type": "markdown",
   "metadata": {},
   "source": [
    "Git creates a folder in the same directory as your file. \n",
    "\n",
<<<<<<< HEAD
    "The directory containing both the file being tracked and the Git folder is now referred to as a repository or \"repo\". \n",
    "\n",
    "(The folder is hidden.)\n",
    "\n",
    "The folder being tracked by git is referred to as a repository or \"repo\". \n",
    "\n",
    "You can keep any type of file in a repository (code files, text files, image files....). \n",
    "\n"
   ]
  },
  {
   "cell_type": "markdown",
   "metadata": {},
   "source": [
    "\n",
    "\n",
    "It logs changes you make to the file.\n",
    "\n",
    "It track of multiple files within this directory.  \n",
    "\n",
=======
    "(The folder is hidden.)\n",
    "\n",
    "It logs changes you make to the file.\n",
    "\n",
>>>>>>> 412d7cb2e25b8568859ad2262b719e223aa80f1e
    "It stores a *commit message* with each change you *commit*, saying what you changed:\n",
    "\n",
    "<img src=\"../../../ILAS_seminars/intro to python/img/MILK.png\" alt=\"Drawing\" style=\"width: 300px;\"/>"
   ]
  },
  {
   "cell_type": "markdown",
   "metadata": {},
   "source": [
    "So if you make a mistake, you can just reset to a previous version.\n",
    "\n",
    "<img src=\"../../../ILAS_seminars/intro to python/img/git_reset.png\" alt=\"Drawing\" style=\"width: 300px;\"/>"
   ]
  },
  {
   "cell_type": "markdown",
   "metadata": {},
   "source": [
    "When you commit chanegs, Git does not save two versions of the same file. \n",
    "\n",
    "Git only saves the __difference__ between two files.\n",
    "\n",
    "This minimises the amount of space that tracking your changes takes up on your computer,\n",
    "\n",
    "__Example:__ Between files r3 and r4, the information saved is\n",
    " > -juice <br>\n",
    " > +soup\n",
    "\n",
    "<img src=\"../../../ILAS_seminars/intro to python/img/git_diff.png\" alt=\"Drawing\" style=\"width: 500px;\"/>"
   ]
  },
  {
   "cell_type": "markdown",
   "metadata": {},
   "source": [
    "A __great thing__ about git is that it was made by programmers for programmers. \n",
    "\n",
<<<<<<< HEAD
    "Professional developers and most other professionals who write code, use git (or other version control software) to manage their files, workflow and collaborations.  \n",
    "\n",
    "It has an enourmous range of functionality.\n"
   ]
  },
  {
   "cell_type": "markdown",
   "metadata": {},
   "source": [
    "A __problem__ with so much freedom is that it can be easy to get things wrong.\n",
    "\n",
    "Git can be difficult to use.\n",
    "\n"
   ]
  },
  {
   "cell_type": "markdown",
   "metadata": {},
   "source": [
    "To keep things nice and easy we will learn only the basics of using Git. \n",
    "\n",
    "Even this basic understanding will give you essential skills that are used every day by professional programmers. "
=======
    "It has an enourmous range of functionality.\n",
    "\n",
    "But this can be very difficult to learn.\n",
    "\n",
    "We will use it's most basic form.\n"
>>>>>>> 412d7cb2e25b8568859ad2262b719e223aa80f1e
   ]
  },
  {
   "cell_type": "markdown",
   "metadata": {
    "collapsed": true
   },
   "source": [
    "A __problem__ with Git is that it was made by programmers for programmers. \n",
    "\n",
<<<<<<< HEAD
    "We have to use the command line (or Terminal) to access it. \n",
    "\n",
    "There is no user interface.\n",
=======
    "We have to use the command line (or Terminal on a Mac) to access it. \n",
>>>>>>> 412d7cb2e25b8568859ad2262b719e223aa80f1e
    "\n",
    "It can be difficult to visualise what is going on. \n",
    "\n",
    "<img src=\"../../../ILAS_seminars/intro to python/img/git_command_line.png\" alt=\"Drawing\" style=\"width: 500px;\"/>"
   ]
  },
  {
   "cell_type": "markdown",
   "metadata": {},
   "source": [
<<<<<<< HEAD
    "To provide a visual interface we can use an online *host site* to store and view code...\n",
    "\n"
   ]
  },
  {
   "cell_type": "markdown",
   "metadata": {},
   "source": [
    "A repo can be a local folder on your computer. \n",
    "\n",
    "A repo can also be a storage space on GitHub or another online host site. \n",
    "\n",
    "<img src=\"../../../ILAS_seminars/intro to python/img/github-logo.jpg\" alt=\"Drawing\" style=\"width: 200px;\"/>\n"
   ]
  },
  {
   "cell_type": "markdown",
   "metadata": {},
   "source": [
    "GitHub.com is a \"code hosting site\".\n",
    "\n",
    "It provides a visual interface to view code, the changes (*commits*) and to share and collaborate with others. \n",
    "\n",
    "There are many code hosting sites, however Github has a large community of users.  \n",
    "\n",
    "So for programmers, it works like a social media site like Facebook or instagram.\n",
=======
    "GitHub.com is a \"code hosting site\".\n",
    "\n",
    "IT provides a visual interface to view code, the changes (*commits*) and to share and collaborate with others. \n",
    "\n",
    "There are many code hosting sites.\n",
    "\n",
    "Github has a large community of users.  \n",
    "\n",
    "For programmers, it works like a social media site like Facebook or instagram.\n",
>>>>>>> 412d7cb2e25b8568859ad2262b719e223aa80f1e
    "\n",
    "<img src=\"../../../ILAS_seminars/intro to python/img/github-logo.jpg\" alt=\"Drawing\" style=\"width: 200px;\"/>\n",
    "\n"
   ]
  },
  {
   "cell_type": "markdown",
   "metadata": {},
   "source": [
    "Let's start by downloading your interactive textbook from github.com\n",
    "\n",
    "Open a web browser and go to:\n",
    "\n",
    "https://github.com/hphilamore/ILAS_python\n",
    "\n",
    "This is a __repository__.\n",
    "\n",
    "It is an online directory where this project, the textbook, is stored. "
   ]
  },
  {
   "cell_type": "markdown",
   "metadata": {},
   "source": [
<<<<<<< HEAD
    "We can look at previous versions of the code by selecting *commits*...\n",
    "\n",
    "We can easily view the difference (\"diff\") between the previous and current version."
=======
    "We can look at previous versions of the code by selecting *commits*..."
>>>>>>> 412d7cb2e25b8568859ad2262b719e223aa80f1e
   ]
  },
  {
   "cell_type": "markdown",
   "metadata": {},
   "source": [
<<<<<<< HEAD
    " You are going to download a personal copy of the textbook to you user area. "
=======
    "And we can download the repository so that we can work on it and save it locally on a computer.\n",
    "\n",
    "Click the button \"Clone or download\" and copy the link by presssing Ctrl , C\n",
    "\n",
    "<img src=\"../../../ILAS_seminars/intro to python/img/clone_or_download.png\" alt=\"Drawing\" style=\"width: 500px;\"/>\n"
>>>>>>> 412d7cb2e25b8568859ad2262b719e223aa80f1e
   ]
  },
  {
   "cell_type": "markdown",
<<<<<<< HEAD
   "metadata": {},
   "source": []
  },
  {
   "cell_type": "markdown",
=======
>>>>>>> 412d7cb2e25b8568859ad2262b719e223aa80f1e
   "metadata": {
    "collapsed": true
   },
   "source": [
<<<<<<< HEAD
    "To do this we are going to learn to use the command line. \n",
    "\n",
    "\n",
=======
    "We are going to learn to use the git command line. \n",
>>>>>>> 412d7cb2e25b8568859ad2262b719e223aa80f1e
    "\n"
   ]
  },
  {
   "cell_type": "markdown",
   "metadata": {},
<<<<<<< HEAD
   "source": [
    "## Introduction to the Command Line. \n",
    "\n",
    "To open the terminal:\n",
    " - press \"win key\" + \"R\"\n",
    " - type cmd\n",
    " -press enter"
   ]
=======
   "source": []
  },
  {
   "cell_type": "code",
   "execution_count": 18,
   "metadata": {},
   "outputs": [
    {
     "name": "stdout",
     "output_type": "stream",
     "text": [
      "13\n"
     ]
    }
   ],
   "source": []
>>>>>>> 412d7cb2e25b8568859ad2262b719e223aa80f1e
  },
  {
   "cell_type": "markdown",
   "metadata": {},
<<<<<<< HEAD
   "source": [
    "A terminal will launch.\n",
    "\n",
    "The *command prompt* will say something like:\n",
    "\n",
    "C:¥Users¥Username:\n",
    "\n",
    "The C tells us that we are on the C drive of the computer.\n",
    "\n",
    "Lets switch to the M drive where the user (you!) can save files."
   ]
=======
   "source": []
>>>>>>> 412d7cb2e25b8568859ad2262b719e223aa80f1e
  },
  {
   "cell_type": "markdown",
   "metadata": {},
   "source": [
<<<<<<< HEAD
    "In the terminal type: \n",
    "\n",
    ">`M:`\n",
    "\n",
    "...and press enter.\n"
=======
    "__In the cell below solve the polynomial $y=ax^2+bx+c$ for $y$ where  $a=1$, $b=1$, $c=-6$ and $x=-2$__\n"
   ]
  },
  {
   "cell_type": "code",
   "execution_count": null,
   "metadata": {
    "collapsed": true
   },
   "outputs": [],
   "source": [
    "# create variables a, b, c and x\n",
    "# e.g. a = 1  \n",
    "\n",
    "\n",
    "#type: print (y) to reveal the answer"
>>>>>>> 412d7cb2e25b8568859ad2262b719e223aa80f1e
   ]
  },
  {
   "cell_type": "markdown",
   "metadata": {},
   "source": [
<<<<<<< HEAD
    "You should see the command prompt change.  \n",
    "\n",
    "<img src=\"../../../ILAS_seminars/intro to python/img/cmd_jupyter.png\" alt=\"Drawing\" style=\"width: 500px;\"/>"
=======
    "Now change the value of $x$ so that $x = 0$ and re-run the cell to update the value. "
>>>>>>> 412d7cb2e25b8568859ad2262b719e223aa80f1e
   ]
  },
  {
   "cell_type": "markdown",
   "metadata": {},
   "source": [
<<<<<<< HEAD
    "To see what is on the M drive type:\n",
    "\n",
    ">`dir`\n",
    "\n",
    "..and press enter.\n",
    "\n",
    "You will see all the folders in your personal user area.\n",
    "\n",
    "Double click on the computer icon on the desktop. \n",
    "\n",
    "Double click on the M drive.\n",
    "\n",
    "You should see the same folders as those listed in the terminal.\n"
   ]
  },
  {
   "cell_type": "markdown",
   "metadata": {
    "collapsed": true
   },
   "source": [
    "## Installing Git\n",
    "\n",
    "The first thing we need to do is install git.\n",
    "\n",
    "You are going to install your own personal copy in your user area, in the documents folder.\n",
    "\n",
    "To navigate to documents type:\n",
    "\n",
    ">`cd Documents`\n",
    "\n",
    "cd stands for \"change directory\".\n",
    "\n",
    "\n",
    "\n"
=======
    "### 3.2 Augmented Assignment\n",
    "\n",
    "The case where the assigned value depends on a previous value of the variable. \n",
    "\n",
    "Example:"
   ]
  },
  {
   "cell_type": "code",
   "execution_count": 19,
   "metadata": {},
   "outputs": [
    {
     "name": "stdout",
     "output_type": "stream",
     "text": [
      "13\n"
     ]
    }
   ],
   "source": [
    "a = 2\n",
    "b = 11\n",
    "a = a + b\n",
    "print(a)"
>>>>>>> 412d7cb2e25b8568859ad2262b719e223aa80f1e
   ]
  },
  {
   "cell_type": "markdown",
   "metadata": {},
   "source": [
<<<<<<< HEAD
    "We can move down the filesystem of the computer by typing:\n",
    "\n",
    ">`cd`\n",
    "\n",
    "followed by the name of the folder we want to move to.\n",
    "\n",
    "The folder must be:\n",
    " - on the same branch\n",
    " - one step from our current location\n",
    "\n",
    "<img src=\"../../../ILAS_seminars/intro to python/img/directory_tree.gif\" alt=\"Drawing\" style=\"width: 200px;\"/>"
   ]
  },
  {
   "cell_type": "markdown",
   "metadata": {},
   "source": [
    "Type:\n",
    "    \n",
    ">`dir` \n",
    "\n",
    "again to view the contents of your Documents folder."
=======
    "This type of expression is not a valid algebraic statement since '`a`' appears on both sides of '`=`'. \n",
    "\n",
    "However, is very common in computer programming. \n",
    "\n",
    "\n",
    "__How it works:__\n",
    " 1. The expression on the right-hand side is evaluated (the values assigned to `a` and `b` are summed).\n",
    " 2. The result is assigned to the left-hand side (to the variable `a`).\n",
    " \n",
    "There is a mathematical notation for this type of assignment:\n",
    "\n",
    "$$\n",
    "a \\leftarrow a +b \n",
    "$$\n",
    "\n",
    "which says 'sum $a$ and $b$, and copy the result to $a$'. "
>>>>>>> 412d7cb2e25b8568859ad2262b719e223aa80f1e
   ]
  },
  {
   "cell_type": "markdown",
   "metadata": {},
   "source": [
<<<<<<< HEAD
    "To move back up by one step, type:\n",
    "    \n",
    ">`cd ..`\n",
    "\n",
    "Try this now.\n",
    "\n",
    "<img src=\"../../../ILAS_seminars/intro to python/img/directory_tree.gif\" alt=\"Drawing\" style=\"width: 200px;\"/>"
=======
    "# 4. Shortcuts"
>>>>>>> 412d7cb2e25b8568859ad2262b719e223aa80f1e
   ]
  },
  {
   "cell_type": "markdown",
   "metadata": {},
   "source": [
<<<<<<< HEAD
    "We can move by more than one step by seperating the names of the folders using the symbol: \n",
    "\n",
    "¥\n",
    "\n",
    "(note, this is \\ or / on US and European computers, depending on the operating system)"
   ]
  },
  {
   "cell_type": "markdown",
   "metadata": {},
   "source": [
    "For example, now try navigating to any folder in your Documents folder by typing:\n",
    ">`cd Documents¥folder_name`\n",
    "\n",
    "where `folder_name` is the name of the folder to move to.\n"
=======
    "Augmented assignments can be written in short form.\n",
    "\n",
    "For __addition__:\n",
    "\n",
    "`a = a + b`  &nbsp;&nbsp; &nbsp; can be written &nbsp;&nbsp;&nbsp; `a += b`"
   ]
  },
  {
   "cell_type": "code",
   "execution_count": 24,
   "metadata": {},
   "outputs": [
    {
     "name": "stdout",
     "output_type": "stream",
     "text": [
      "13\n",
      "13\n"
     ]
    }
   ],
   "source": [
    "# Long-hand addition\n",
    "a = 2\n",
    "b = 11\n",
    "a = a + b\n",
    "print(a)\n",
    "\n",
    "# Short-hand addition\n",
    "a = 2\n",
    "b = 11\n",
    "a += b\n",
    "print(a)"
>>>>>>> 412d7cb2e25b8568859ad2262b719e223aa80f1e
   ]
  },
  {
   "cell_type": "markdown",
   "metadata": {},
   "source": [
<<<<<<< HEAD
    "And now let's go back to the main Documents folder by typing:\n",
    "> cd .."
   ]
  },
  {
   "cell_type": "markdown",
   "metadata": {},
   "source": [
    "Make a new folder in which to store your Git program. Type:\n",
    "> `mkdir Git`\n",
    "\n",
    "`mkdir` stands for \"make directory\".\n",
    "`Git` is the name, chosen by you.\n",
    "\n"
=======
    "For __subtraction__:\n",
    "\n",
    "`a = a - b`  &nbsp;&nbsp; &nbsp; can be written &nbsp;&nbsp;&nbsp; `a -= b`\n"
   ]
  },
  {
   "cell_type": "code",
   "execution_count": 25,
   "metadata": {},
   "outputs": [
    {
     "name": "stdout",
     "output_type": "stream",
     "text": [
      "-3\n",
      "-3\n"
     ]
    }
   ],
   "source": [
    "# Long-hand subtraction\n",
    "a = 1\n",
    "b = 4\n",
    "a = a - b\n",
    "print(a)\n",
    "\n",
    "# Short-hand subtraction\n",
    "a = 1\n",
    "b = 4\n",
    "a -= b\n",
    "print(a)"
>>>>>>> 412d7cb2e25b8568859ad2262b719e223aa80f1e
   ]
  },
  {
   "cell_type": "markdown",
   "metadata": {},
   "source": [
<<<<<<< HEAD
    "Download the Git program from here:\n",
    "\n",
    "https://github.com/git-for-windows/git/releases/tag/v2.14.1.windows.1\n",
    "\n",
    "The version you need is: \n",
    "\n",
    "PortableGit-2.14.1-32-bit.7z.exe\n",
    "\n",
    "\n",
    "\n"
=======
    "The basic algebraic operations we used in Section 1.1 can all be manipulated in the same way to produce a short form of augmented assigment. \n",
    "\n",
    "__Complete the cells below to include the short form of the expression and `print(a)` to check your answers match.__ "
>>>>>>> 412d7cb2e25b8568859ad2262b719e223aa80f1e
   ]
  },
  {
   "cell_type": "markdown",
   "metadata": {},
   "source": [
<<<<<<< HEAD
    "This file will appear in the downloads folde of you computer.\n",
    "\n",
    "If it downloads as a zip file:\n",
    "- right click on it \n",
    "- exctract files\n",
    "\n",
    "Move the file PortableGit-2.14.1-32-bit.7z.exe to the Git folder you just created in Documents."
   ]
  },
  {
   "cell_type": "markdown",
   "metadata": {},
   "source": [
    "Double click on the file to launch a wizard that will install Git for you. "
=======
    "__Multiplication__"
   ]
  },
  {
   "cell_type": "code",
   "execution_count": 26,
   "metadata": {},
   "outputs": [
    {
     "name": "stdout",
     "output_type": "stream",
     "text": [
      "20\n"
     ]
    }
   ],
   "source": [
    "# Long-hand multiplication\n",
    "a = 10\n",
    "c = 2\n",
    "a = c*a\n",
    "print(a)\n",
    "\n",
    "# Short-hand multiplication\n",
    "a = 10\n",
    "c = 2"
>>>>>>> 412d7cb2e25b8568859ad2262b719e223aa80f1e
   ]
  },
  {
   "cell_type": "markdown",
   "metadata": {},
   "source": [
<<<<<<< HEAD
    "Go back to the terminal and type:\n",
    ">cd Git \n",
    "\n",
    "to move into your Git folder.\n",
    "\n",
    "To check git has installed type:\n",
    "\n",
    ">`git --version`\n",
    "\n",
    "You should see something like this:\n",
    "\n",
    "<img src=\"../../../ILAS_seminars/intro to python/img/git-version.gif\" alt=\"Drawing\" style=\"width: 500px;\"/>"
   ]
  },
  {
   "cell_type": "markdown",
   "metadata": {},
   "source": [
    "The final thing we need to do is to tell the computer where to look for the Git program. \n",
    "\n",
    "Move one step up from the Git folder. Type:\n",
    "\n",
    "> `cd ..`\n",
    "\n",
    "Now enter the following in the terminal: \n",
    "\n",
    ">set PATH=%PATH%;M:¥Documents¥Git¥bin\n",
    "\n",
    "If this is a little bit complicated, you can __copy and paste__ it from the README section on the github page we looked at earlier.\n",
    "\n",
    "At the start of each seminar you will enter this line of code to allow the computer to run git.\n",
    "\n",
    "\n"
=======
    "__Division__"
   ]
  },
  {
   "cell_type": "code",
   "execution_count": 27,
   "metadata": {},
   "outputs": [
    {
     "name": "stdout",
     "output_type": "stream",
     "text": [
      "0.25\n"
     ]
    }
   ],
   "source": [
    "# Long-hand division\n",
    "a = 1\n",
    "a = a/4\n",
    "print(a)\n",
    "\n",
    "# Short-hand division\n",
    "a = 1"
>>>>>>> 412d7cb2e25b8568859ad2262b719e223aa80f1e
   ]
  },
  {
   "cell_type": "markdown",
   "metadata": {},
   "source": [
<<<<<<< HEAD
    "Finally, let's check git is working by typing:\n",
    ">`git status`\n",
    "\n",
    "You should see something like this:\n",
    "\n",
    "....."
   ]
  },
  {
   "cell_type": "markdown",
   "metadata": {},
   "source": [
    "The program Git has its own terminal commands.\n",
    "\n",
    "Each one starts with the word `git`"
=======
    "__Floor Division__"
   ]
  },
  {
   "cell_type": "code",
   "execution_count": 29,
   "metadata": {},
   "outputs": [
    {
     "name": "stdout",
     "output_type": "stream",
     "text": [
      "2\n"
     ]
    }
   ],
   "source": [
    "# Long-hand floor division\n",
    "a = 12\n",
    "a = a//5\n",
    "print(a)\n",
    "\n",
    "# Short-hand floor division\n",
    "a = 12"
>>>>>>> 412d7cb2e25b8568859ad2262b719e223aa80f1e
   ]
  },
  {
   "cell_type": "markdown",
   "metadata": {},
   "source": [
<<<<<<< HEAD
    "## 'Cloning' the Textbook Using Git\n",
    "\n",
    "Go to the Github site we opened earlier.  \n",
    "\n",
    "We are going to download the *repository* so that we can work on the textbook and save it locally on a computer.\n",
    "\n",
    "Click the button \"Clone or download\" and copy the link by presssing Ctrl , C\n",
    "\n",
    "<img src=\"../../../ILAS_seminars/intro to python/img/clone_or_download.png\" alt=\"Drawing\" style=\"width: 500px;\"/>\n",
    "\n",
    "\n"
   ]
  },
  {
   "cell_type": "markdown",
   "metadata": {},
   "source": [
    "In the terminal type:\n",
    "\n",
    "> `git clone` \n",
    "\n",
    "after the word `clone` leave a space and then paste the URL that you just copied.\n",
    "\n",
    "`Clone` copies all the files from the repository at the URL you have entered. "
=======
    "__Modulus__"
   ]
  },
  {
   "cell_type": "code",
   "execution_count": 31,
   "metadata": {},
   "outputs": [
    {
     "name": "stdout",
     "output_type": "stream",
     "text": [
      "2\n"
     ]
    }
   ],
   "source": [
    "# Long-hand modulus\n",
    "a = 12\n",
    "c = 5\n",
    "\n",
    "# Short-hand modulus\n",
    "a = 12\n",
    "c = 5"
>>>>>>> 412d7cb2e25b8568859ad2262b719e223aa80f1e
   ]
  },
  {
   "cell_type": "markdown",
   "metadata": {},
   "source": [
<<<<<<< HEAD
    "In the terminal type:\n",
    "\n",
    "> `dir`\n",
    "\n",
    "A folder called \"ILAS_python\" should have appeared. \n",
    "\n",
    "Go into the folder and view the content by typing:\n",
    "\n",
    ">`cd ILAS_pyhon`\n",
    "><br>`dir` \n",
    "\n"
   ]
  },
  {
   "cell_type": "markdown",
   "metadata": {},
   "source": [
    "Hint: If you start typing  a folder name and press \"tab\", the folder name autocompletes! Try it for yourself e.g. in the Documents directory type:\n",
    "\n",
    ">`cd ILAS`\n",
    "\n",
    "then press \"tab\"."
=======
    "__Exponent__"
   ]
  },
  {
   "cell_type": "code",
   "execution_count": 32,
   "metadata": {},
   "outputs": [
    {
     "name": "stdout",
     "output_type": "stream",
     "text": [
      "8\n"
     ]
    }
   ],
   "source": [
    "# Long-hand exponent\n",
    "a = 3\n",
    "c = 2\n",
    "\n",
    "# Short-hand exponent\n",
    "a = 3\n",
    "c = 2"
>>>>>>> 412d7cb2e25b8568859ad2262b719e223aa80f1e
   ]
  },
  {
   "cell_type": "markdown",
   "metadata": {},
   "source": [
<<<<<<< HEAD
    "The textbook files should now have appeared in your Documents folder."
=======
    "##### Note:  The sentences beginning with \"#\" in the cell are called comments.  \n",
    "These are not computed as part of the program but are there for humans to read to help understand what the code does."
>>>>>>> 412d7cb2e25b8568859ad2262b719e223aa80f1e
   ]
  },
  {
   "cell_type": "markdown",
   "metadata": {},
   "source": [
<<<<<<< HEAD
    "## Creating an Online Github Account\n",
    "\n",
    "The __online Github repository__ that you cloned the textbook from belongs to me. \n",
    "\n",
    "You are going to create your own online Github user account.\n",
    "\n",
    "\n"
   ]
  },
  {
   "cell_type": "markdown",
   "metadata": {},
   "source": [
    "You will use Github to update the online version of your textbook to match the version on the university M drive.\n",
    "\n",
    "This means you can easily access it from outside the Kyoto University system, for example, to complete your homework. \n",
    "\n",
    "I will use your online repositories to view your work and check your progress during the course."
=======
    "# 5. Naming Variables\n",
    "__It is good practice to use meaningful variable names. __\n",
    "\n",
    "e.g. using '`x`' for time, and '`t`' for position is likely to cause confusion. \n",
    "\n",
    "Problems with poorly considered variable names: \n",
    "\n",
    "1. You're much more likely to make errors.\n",
    "1. It can be difficult to understand what the program does after not looking at it for some time. \n",
    "1. It can be difficult for others to understand and use your program. \n",
    "\n",
    "__Different languages have different rules__ for what characters can be used in variable names. \n",
    "\n",
    "In Python variable names can use letters and digits, but cannot start with a digit.\n",
    "\n",
    "__Python is a case-sensitive language__, e.g. the variables '`A`' and '`a`' are different. (Some other languages are case-insensitive).\n",
    "\n",
    "__Languages have *reserved keywords*__ that cannot be used as variable names as they are used for other purposes. \n",
    "\n",
    "The reserved keywords in Python are:\n",
    "\n",
    "`['False', 'None', 'True', 'and', 'as', 'assert', 'break', 'class', 'continue', 'def', 'del', 'elif', 'else', 'except', 'finally', 'for', 'from', 'global', 'if', 'import', 'in', 'is', 'lambda', 'nonlocal', 'not', 'or', 'pass', 'raise', 'return', 'try', 'while', 'with', 'yield']`\n",
    "\n",
    "Reserved words are colored bold green when you type them in the Notebook so you can see if one is being used. \n",
    "\n",
    "If you try to assign something to a reserved keyword, you will get an error e.g. it is not possible to create a variable with the name __`for`__: "
   ]
  },
  {
   "cell_type": "code",
   "execution_count": 36,
   "metadata": {},
   "outputs": [
    {
     "ename": "SyntaxError",
     "evalue": "invalid syntax (<ipython-input-36-b2b80c29dc9d>, line 1)",
     "output_type": "error",
     "traceback": [
      "\u001b[0;36m  File \u001b[0;32m\"<ipython-input-36-b2b80c29dc9d>\"\u001b[0;36m, line \u001b[0;32m1\u001b[0m\n\u001b[0;31m    for = 12\u001b[0m\n\u001b[0m        ^\u001b[0m\n\u001b[0;31mSyntaxError\u001b[0m\u001b[0;31m:\u001b[0m invalid syntax\n"
     ]
    }
   ],
   "source": [
    "for = 12"
>>>>>>> 412d7cb2e25b8568859ad2262b719e223aa80f1e
   ]
  },
  {
   "cell_type": "markdown",
   "metadata": {},
   "source": [
<<<<<<< HEAD
    "Open github.com. \n",
    "\n",
    "Click \"Sign in\" at the top right hand corner. \n",
    "\n",
    "<img src=\"../../../ILAS_seminars/intro to python/img/github_signup.png\" alt=\"Drawing\" style=\"width: 500px;\"/>\n"
=======
    "__Sometimes it is useful to have variable names that are made up of two words.__ \n",
    "\n",
    "A convention is to separate the words in the variable name using an underscore '`_`'.\n",
    "\n",
    " e.g. a variable name for storing the number of days: \n",
    "```python \n",
    " num_days = 10\n",
    "```"
>>>>>>> 412d7cb2e25b8568859ad2262b719e223aa80f1e
   ]
  },
  {
   "cell_type": "markdown",
   "metadata": {},
   "source": [
<<<<<<< HEAD
    "Follow the steps to create an account, the same way as you would for a social media site for example.\n",
    "\n",
    "Choose a user name, email address, password.\n",
    "\n",
    "<img src=\"../../../ILAS_seminars/intro to python/img/github-signup.png\" alt=\"Drawing\" style=\"width: 300px;\"/>\n",
    "\n",
    "Use the confirmation email to complete your registration."
   ]
  },
  {
   "cell_type": "markdown",
   "metadata": {},
   "source": [
    "## Creating an Online GitHub Repository\n",
    "\n",
    "Now we are going to set up your first online repository. \n",
    "\n",
    "Click the + sign in the top right corner.\n",
    "\n",
    "Choose \"New repository\". \n",
    "\n",
    "<img src=\"../../../ILAS_seminars/intro to python/img/github_newrepo.png\" alt=\"Drawing\" style=\"width: 500px;\"/>"
   ]
  },
  {
   "cell_type": "markdown",
   "metadata": {},
   "source": [
    "Choose a repository name (e.g. Python Textbook, python_textbook, Intro_to_python)\n",
    "\n",
    "<img src=\"../../../ILAS_seminars/intro to python/img/github_namerepo.jpg\" alt=\"Drawing\" style=\"width: 300px;\"/>"
=======
    "# 7. Comparing Variables Using Booleans\n",
    "\n",
    "__Boolean:__A type of variable that can take on one of two values - true or false. \n",
    "\n",
    "## 7.1 Comparison Operators\n",
    "\n",
    "__Comparison Operator:__An operator that is used to compare the values of two variables. \n",
    "\n",
    "__Commonly used comparison operators:__\n",
    "\n",
    "$==$   &nbsp; &nbsp; &nbsp; &nbsp; &nbsp;         Equality <br>\n",
    "$!=$   &nbsp; &nbsp; &nbsp; &nbsp; &nbsp;         Inequality <br>\n",
    "$>$    &nbsp; &nbsp; &nbsp; &nbsp; &nbsp; &nbsp;  Greater than <br>\n",
    "$<$    &nbsp; &nbsp; &nbsp; &nbsp; &nbsp; &nbsp;  Less than <br>\n",
    "$>=$   &nbsp; &nbsp; &nbsp; &nbsp;         Greater than or equal to <br>\n",
    "$<=$   &nbsp; &nbsp; &nbsp; &nbsp;         Less than or equal to <br>\n",
    "\n",
    "\n",
    "__Example:__ Comparing variables a and b using comparison operators returns a boolean variable:"
   ]
  },
  {
   "cell_type": "code",
   "execution_count": 43,
   "metadata": {},
   "outputs": [
    {
     "name": "stdout",
     "output_type": "stream",
     "text": [
      "Is a less than b?\n",
      "False\n",
      "Is a greater than b?\n",
      "True\n"
     ]
    }
   ],
   "source": [
    "a = 10.0\n",
    "b = 9.9\n",
    "\n",
    "# Check if a is less than b.\n",
    "print(\"Is a less than b?\")\n",
    "print(a < b)\n",
    "\n",
    "# Check if a is more than b.\n",
    "print(\"Is a greater than b?\")\n",
    "print(a > b)"
>>>>>>> 412d7cb2e25b8568859ad2262b719e223aa80f1e
   ]
  },
  {
   "cell_type": "markdown",
   "metadata": {},
   "source": [
<<<<<<< HEAD
    "Leave the other settings as they are for now.\n",
    "\n",
    "We will learn about these later in the course. \n",
    "\n",
    "Click the button \"Create repository\".\n",
    "\n",
    "<img src=\"../../../ILAS_seminars/intro to python/img/github_create_repo.jpg\" alt=\"Drawing\" style=\"width: 300px;\"/>"
=======
    "##### Note: We can print words by placing them between quotation marks  \"......\".\n",
    "The collection of words between the marks is called a *string* (remember  `\"Hello World\"`).\n",
    "A string is a type of variable. We will learn about other types of variable shortly.\n"
>>>>>>> 412d7cb2e25b8568859ad2262b719e223aa80f1e
   ]
  },
  {
   "cell_type": "markdown",
   "metadata": {},
   "source": [
<<<<<<< HEAD
    "## Adding Files to an Online Github Repository\n",
    "We are now going to link your local repository (stored on the computer on the M drive) to your online repository (stored at github.com). \n",
    "\n",
    "In the terminal, make sure you are __inside__ the folder named ILAS_python.\n",
    "\n",
    "If you are not, then navigate to the folder using \n",
    "\n",
    ">`cd`\n",
    "\n"
   ]
  },
  {
   "cell_type": "markdown",
   "metadata": {},
   "source": [
    "Enter the username that you registered when setting up your account on GitHub:\n",
    "\n",
    ">`git config --global user.name \"username\"`\n",
    "\n",
    "Enter the email adress that you registered when setting up your account on GitHub:\n",
    "\n",
    ">`git config --global user.email \"your_email@youremail.com\"`"
=======
    "__Try it yourself__\n",
    "\n",
    "Complete the cell below by writing the correct comparison operator in each set of empty brackets. "
   ]
  },
  {
   "cell_type": "code",
   "execution_count": null,
   "metadata": {
    "collapsed": true
   },
   "outputs": [],
   "source": [
    "a = 14\n",
    "b = -9\n",
    "c = 14\n",
    "\n",
    "# Check if a is equal to b \n",
    "print(\"Is a equal to b?\")\n",
    "print()\n",
    "\n",
    "# Check if a is equal to c \n",
    "print(\"Is a equal to c?\")\n",
    "print()\n",
    "\n",
    "# Check if a is not equal to c \n",
    "print(\"Is a not equal to c?\")\n",
    "print()\n",
    "\n",
    "# Check if a is less than or equal to b \n",
    "print(\"Is a less than or equal to b?\")\n",
    "print()\n",
    "\n",
    "# Check if a is less than or equal to c \n",
    "print(\"Is a less than or equal to c?\")\n",
    "print()\n",
    "\n",
    "# Check if two colours are the same\n",
    "colour0 = 'blue'\n",
    "colour1 = 'green'\n",
    "print(\"Is colour0 the same as colour1?\")\n",
    "print()"
>>>>>>> 412d7cb2e25b8568859ad2262b719e223aa80f1e
   ]
  },
  {
   "cell_type": "markdown",
   "metadata": {},
   "source": [
<<<<<<< HEAD
    "Copy the URL of your repo from the \"Quick setup\" section. \n",
    "\n",
    "<img src=\"../../../ILAS_seminars/intro to python/img/github_copyurl.png\" alt=\"Drawing\" style=\"width: 300px;\"/>\n",
    "\n",
    "__NOTE__ \n",
    "<br>Earlier we copied the URL of __my repository__ (https://github.com/hphilamore/ILAS_python.git).\n",
    "<br>We used it to tell the computer where to copy files __from__.\n",
    "\n",
    "<br>Now we are copying the URL of __your repository__(https://github.com/yourGithub/yourRepo.git).\n",
    "<br>We will now use a similar procedure to tell the computer where it should copy files __to__."
   ]
  },
  {
   "cell_type": "markdown",
   "metadata": {
    "collapsed": true
   },
   "source": [
    "First we will disconnect your local repo from __my__ online repo.\n",
    "<br>The command `git remote rm` removes (`rm`) a remote (`remote`) URL from your local repository. \n",
    "<br>Type:\n",
    ">`git remote rm origin`\n",
    "\n",
    "(*origin* is a name that was given by default to the URL you cloned the repository from). \n",
    "\n"
   ]
  },
  {
   "cell_type": "markdown",
   "metadata": {},
   "source": [
    "Second we will connect your local repo to __your__ online repo.\n",
    "<br>The command `git remote add` connects (`add`) a remote (`remote`) URL to your local repository using:\n",
    "- a name for you remote (let's use origin, again) \n",
    "- a URL (the URL just just copied)\n",
    "<br>Type:\n",
    ">`git remote add origin` [PASTE COPIED URL HERE] "
=======
    "## 7.2 Logical Operators\n",
    "\n",
    "The comparisons we have looked at so far consider two variables.\n",
    "\n",
    "*Logical operators*:\n",
    "\n",
    "> ```python \n",
    "  and\n",
    "  or\n",
    "  not\n",
    "  ```\n",
    "  \n",
    "allow us to make multiple comparisons at the same time.\n",
    "\n",
    "\n",
    "\n",
    "```python\n",
    "X and Y\n",
    "```\n",
    "will evaluate to `True` if `X` *and* `Y` are both true, and otherwise will evaluate to `False`. \n",
    "\n",
    "\n",
    "\n",
    "```python\n",
    "X or Y\n",
    "```\n",
    "will evaluate to `True` if `X` *or* `Y` is true, and otherwise will evaluate to `False`.\n",
    "\n",
    "__Examples:__\n",
    "\n",
    "$10 < 9$   &nbsp; &nbsp;&nbsp; &nbsp;  is false\n",
    "\n",
    "$15 < 20$  &nbsp; &nbsp;                is true"
   ]
  },
  {
   "cell_type": "code",
   "execution_count": 38,
   "metadata": {},
   "outputs": [
    {
     "name": "stdout",
     "output_type": "stream",
     "text": [
      "False\n"
     ]
    }
   ],
   "source": [
    "print(10 < 9 and 15 < 20)"
   ]
  },
  {
   "cell_type": "code",
   "execution_count": 39,
   "metadata": {},
   "outputs": [
    {
     "name": "stdout",
     "output_type": "stream",
     "text": [
      "True\n"
     ]
    }
   ],
   "source": [
    "print(10 < 9 or 15 < 20)"
>>>>>>> 412d7cb2e25b8568859ad2262b719e223aa80f1e
   ]
  },
  {
   "cell_type": "markdown",
   "metadata": {},
   "source": [
<<<<<<< HEAD
    "Upload the textbook to your personal GitHub online repository.\n",
    "    \n",
    "<br>The command `git push -u` uploads (pushes) the contents of your local repository to a remote repository:\n",
    "- a remote name (ours is \"origin\") \n",
    "- a *branch* of your repository (this is a more advanced feature of github. We will use the default branch ony. It is called \"master\")\n",
    "<br>Type:\n",
    ">`git push -u origin master`\n",
    "\n"
   ]
  },
  {
   "cell_type": "markdown",
   "metadata": {},
   "source": [
    "Now look again at your online GitHub page.\n",
    "\n",
    "Click on the \"code\" tab.\n",
    "\n",
    "<img src=\"../../../ILAS_seminars/intro to python/img/github_code.png\" alt=\"Drawing\" style=\"width: 300px;\"/>\n",
    "\n",
    "The textbook should now have appeared in your online repository. "
=======
    "In Python, the 'not' operator negates a statement, e.g.:"
   ]
  },
  {
   "cell_type": "code",
   "execution_count": 40,
   "metadata": {},
   "outputs": [
    {
     "name": "stdout",
     "output_type": "stream",
     "text": [
      "True\n"
     ]
    }
   ],
   "source": [
    "a = 12\n",
    "b = 7\n",
    "print(a < b)\n",
    "print(not a < b)"
>>>>>>> 412d7cb2e25b8568859ad2262b719e223aa80f1e
   ]
  },
  {
   "cell_type": "markdown",
   "metadata": {},
   "source": [
<<<<<<< HEAD
    "## Writing Code Using Jupyter Notebook\n",
    "\n",
    "There are diffrent ways of writing and running Python code.\n",
    "\n",
    "For the first part of this course we will be writing code in the Python interactive execution environment, __Jupyte notebook__. \n",
    "\n",
    "A Jupyter notebook lets you write and execute Python code a web browser. \n",
    "\n",
    "Jupyter notebooks make it very easy to write and execute code in sections and immediately view the output of each section.   \n",
    "\n",
    "For this reason Jupyter notebooks are widely used in scientific computing.\n"
   ]
  },
  {
   "cell_type": "markdown",
   "metadata": {},
   "source": [
    "To launch Jupyter notebook go to:\n",
    "    \n",
    "Start >> Programs >> Programming >> JupyterNotebook\n",
    "\n",
    "and double click the Jupyter notebook icon to launch the application. "
   ]
  },
  {
   "cell_type": "markdown",
   "metadata": {},
   "source": [
    "In the window that opens, click through the file system to navigate to the folder ILAS_python which contains the interactive textbook that we will use on this course. \n",
    "\n",
    "The textbook is written as a Jupyter notebook; each chapter (or seminar) is a seperate .ipynb file.\n",
    "\n",
    "This format allows you to:\n",
    " - add to the textbook\n",
    " - run your code and view the outcome within the file\n",
    " \n",
    " <img src=\"../../../ILAS_seminars/intro to python/img/jupyter-file-browser.png\" alt=\"Drawing\" style=\"width: 500px;\"/>"
=======
    "Here is a simple example showing how we might use comparison operators in a simple computer program. \n",
    "\n",
    "Based on the current time of day, the program answers two questions:\n",
    "\n",
    "\n",
    ">__Is it lunchtime?__\n",
    "\n",
    ">`True`\n",
    "\n",
    "\n",
    "if it is lunch time.\n",
    "\n",
    ">__Is it time for work?__\n",
    "\n",
    ">`True`\n",
    "\n",
    "if it is within working hours."
   ]
  },
  {
   "cell_type": "code",
   "execution_count": 45,
   "metadata": {},
   "outputs": [
    {
     "name": "stdout",
     "output_type": "stream",
     "text": [
      "Is it lunchtime?\n",
      "True\n",
      "Is it time for work?\n",
      "False\n"
     ]
    }
   ],
   "source": [
    "time = 13.05          # current time\n",
    "\n",
    "work_starts = 8.00    # time work starts \n",
    "work_ends =  17.00    # time work ends\n",
    "\n",
    "lunch_starts = 13.00  # time lunch starts\n",
    "lunch_ends =   14.00  # time lunch ends\n",
    "\n",
    "# variable lunchtime is True or False\n",
    "lunchtime = time >= lunch_starts and time < lunch_ends\n",
    "\n",
    "# variable work_time is True or False\n",
    "work_time = time < work_starts or time >= work_ends\n",
    "\n",
    "\n",
    "print(\"Is it lunchtime?\")\n",
    "print(lunchtime)\n",
    "print(\"Is it time for work?\")\n",
    "print(work_time)"
>>>>>>> 412d7cb2e25b8568859ad2262b719e223aa80f1e
   ]
  },
  {
   "cell_type": "markdown",
   "metadata": {},
   "source": [
<<<<<<< HEAD
    "Double click on the file 0_Introduction.ipynb to open it.\n",
    "\n",
    "You will see the contents of the slides that you have been following today. \n",
    "\n",
    "Scroll down to find __THIS SLIDE__ in the notebook. \n",
    "\n",
    " <img src=\"../../../ILAS_seminars/intro to python/img/youarehere.png\" alt=\"Drawing\" style=\"width: 300px;\"/>"
=======
    "__Try changing the value of variable `time`__ to a value that is:\n",
    " - before work\n",
    " - during work \n",
    " - during lunchtime \n",
    " - after work\n",
    " \n",
    "Each time you change the value of `time` re-run the cell to check if the answer is as you expect; lunchtime, work-time or neither. "
>>>>>>> 412d7cb2e25b8568859ad2262b719e223aa80f1e
   ]
  },
  {
   "cell_type": "markdown",
   "metadata": {},
   "source": [
<<<<<<< HEAD
    "At the top of the screen click:\n",
    "\n",
    "File >> New Notebook >> Python 3\n",
    "\n",
    "We will use this new notebook to learn how a Jupyter notebook works.\n",
    "\n"
=======
    "Note that the comparison operators (`>=`, `<=`, `<` and `>`) are evaluated before the Boolean operators (`and`, `or`).\n",
    "\n",
    "### Operator Precedence\n",
    "\n",
    "> 1. Parentheses\n",
    "1. Exponents \n",
    "1. Multiplication, Division, Floor Division and Modulus (left to right)\n",
    "1. Addition and Subtraction (left to right)\n",
    "1. Comparison Operators (left to right)\n",
    "1. Boolean not\n",
    "1. Boolean and\n",
    "1. Boolean or"
>>>>>>> 412d7cb2e25b8568859ad2262b719e223aa80f1e
   ]
  },
  {
   "cell_type": "markdown",
   "metadata": {},
   "source": [
<<<<<<< HEAD
    "A Jupyter notebook is made up of a number of cells. \n",
    "\n",
    "Each cell can contain Python code. \n",
    "\n",
    "To execute a cell:\n",
    "- Click on it (a green box will appear around it once selected)\n",
    "- Press \"shift\" + \"enter\"\n",
    "\n",
    "When executed: \n",
    "- the code in the cell will run\n",
    "- the output of the cell will be displayed beneath the cell. "
=======
    "# 8. Types\n",
    "All variables have a 'type', which indicates what the variable is, e.g. a number, a string of characters, etc. \n",
    "\n",
    "Type is important because it determines:\n",
    " - how a variable is stored\n",
    " - how it behaves when we perform operations on it\n",
    " - how it interacts with other variables. \n",
    "\n",
    "e.g.multiplication of two real numbers is different from multiplication of two complex numbers."
>>>>>>> 412d7cb2e25b8568859ad2262b719e223aa80f1e
   ]
  },
  {
   "cell_type": "markdown",
   "metadata": {},
   "source": [
<<<<<<< HEAD
    "Let's execute from very simple code in your \n",
    "\n",
    "### Your First Python Code\n",
    "\n",
    "Python can be used like a calculator to do basic arithmetic.\n",
    "\n",
    "In the empty cell in the new notebook in the next tab of your web browser (Untitled) enter:\n",
    "<br> 1 + 2\n",
    "\n",
    "Press \"shift\" + \"enter\"\n",
    "\n",
    "Your notebook should look something like this:\n",
    "\n",
    "<img src=\"../../../ILAS_seminars/intro to python/img/jupyter_cell_one.png\" alt=\"Drawing\" style=\"width: 500px;\"/>"
   ]
  },
  {
   "cell_type": "markdown",
   "metadata": {},
   "source": [
    "In Python we can create variables that store values.\n",
    "\n",
    "In the next cell create the value `x` which has the value `2 + 3`:\n",
    "\n",
    "```python\n",
    "x = 2 + 3\n",
    "```\n",
    "\n",
    "To display the value of x we need to \"print\" it.\n",
    "\n",
    "Type `print(x)`.\n",
    "\n",
    "Press \"shift\" + \"enter\" to run the cell.\n",
    "\n",
    "Your notebook should look something like this:\n",
    "\n",
    "<img src=\"../../../ILAS_seminars/intro to python/img/jupyter_celltwo.png\" alt=\"Drawing\" style=\"width: 500px;\"/>\n",
    "\n"
=======
    "## 8.1 Introspection \n",
    "\n",
    "We can check a variable's type using *introspection*. \n",
    "\n",
    "To check the type of a variable we use the function `type`:"
   ]
  },
  {
   "cell_type": "code",
   "execution_count": 44,
   "metadata": {},
   "outputs": [
    {
     "name": "stdout",
     "output_type": "stream",
     "text": [
      "<class 'bool'>\n",
      "<class 'str'>\n"
     ]
    }
   ],
   "source": [
    "x = True\n",
    "print(type(x))\n",
    "\n",
    "a = \"1.0\"\n",
    "print(type(a))\n",
    "\n",
    "a = 1\n",
    "\n",
    "a = 1.0"
>>>>>>> 412d7cb2e25b8568859ad2262b719e223aa80f1e
   ]
  },
  {
   "cell_type": "markdown",
   "metadata": {},
   "source": [
<<<<<<< HEAD
    "Variables are shared between cells. \n",
    "\n",
    "Therefore, executing:\n",
    "\n",
    "```python\n",
    "y = x - 2\n",
    "\n",
    "print(y)\n",
    "```\n",
    "in the next cell\n",
    "\n",
    "should give the following result in your notebook:\n",
    "\n",
    "<img src=\"../../../ILAS_seminars/intro to python/img/jupyter_cell_three.png\" alt=\"Drawing\" style=\"width: 500px;\"/>\n",
    "\n"
=======
    " - __bool__ means __Boolean__ variable.\n",
    " - __str__ means __string__ variable. \n",
    " - __int__ means __integer__ variable.\n",
    " - __float__ means __floating point__ variable. \n",
    "\n",
    "Note that `a = 1` and `a = 1.0` are different types! \n",
    "\n",
    "This distinction is very important for numerical computations.\n",
    "\n",
    "We will look at the meaning of these different types next... "
>>>>>>> 412d7cb2e25b8568859ad2262b719e223aa80f1e
   ]
  },
  {
   "cell_type": "markdown",
   "metadata": {},
   "source": [
<<<<<<< HEAD
    "Cells are executed in the order that the user runs them. \n",
    "\n",
    "By convention, Jupyter notebooks are expected to be run from top to bottom. \n",
    "\n",
    "Failing to execute some cells or running cells in a different order can result in errors:\n",
    "\n"
=======
    "## 8.2 Booleans\n",
    "\n",
    "A type of variable that can take on one of two values - true or false.  This is the simplest type."
>>>>>>> 412d7cb2e25b8568859ad2262b719e223aa80f1e
   ]
  },
  {
   "cell_type": "code",
<<<<<<< HEAD
   "execution_count": 34,
=======
   "execution_count": 54,
>>>>>>> 412d7cb2e25b8568859ad2262b719e223aa80f1e
   "metadata": {},
   "outputs": [
    {
     "name": "stdout",
     "output_type": "stream",
     "text": [
      "True\n"
     ]
    }
   ],
<<<<<<< HEAD
   "source": []
=======
   "source": [
    "a = True\n",
    "b = False\n",
    "\n",
    "# test will = True if a or b = True\n",
    "test = a or b  \n",
    "\n",
    "print(test)"
   ]
>>>>>>> 412d7cb2e25b8568859ad2262b719e223aa80f1e
  },
  {
   "cell_type": "markdown",
   "metadata": {},
<<<<<<< HEAD
   "source": []
  },
  {
   "cell_type": "code",
   "execution_count": 35,
=======
   "source": [
    "##### Note: We can use a single instance of the print function to display multiple pieces of information if we sperate them by commas.\n",
    "\n",
    "e.g. `print(item_1, item_2)`\n"
   ]
  },
  {
   "cell_type": "code",
   "execution_count": 55,
>>>>>>> 412d7cb2e25b8568859ad2262b719e223aa80f1e
   "metadata": {},
   "outputs": [
    {
     "name": "stdout",
     "output_type": "stream",
     "text": [
      "True <class 'bool'>\n"
     ]
    }
   ],
<<<<<<< HEAD
   "source": []
=======
   "source": [
    "print(test, type(test))"
   ]
>>>>>>> 412d7cb2e25b8568859ad2262b719e223aa80f1e
  },
  {
   "cell_type": "markdown",
   "metadata": {},
<<<<<<< HEAD
   "source": []
  },
  {
   "cell_type": "code",
   "execution_count": 36,
=======
   "source": [
    "## 8.3 Strings\n",
    "\n",
    "A string is a collection of characters (remember  `\"Hello World\"`). \n",
    "\n",
    "A string is created by placing the characters between quotation marks. \n",
    "\n",
    "You may use single or double quotation marks; either is fine e.g.\n",
    "\n",
    "    my_string = 'This is a string.'\n",
    "    \n",
    "or\n",
    "\n",
    "    my_string = \"This is a string.\"\n",
    "    \n",
    "__Example:__ Assign a string to a variable, display the string, and then check its type:"
   ]
  },
  {
   "cell_type": "code",
   "execution_count": 3,
>>>>>>> 412d7cb2e25b8568859ad2262b719e223aa80f1e
   "metadata": {},
   "outputs": [
    {
     "name": "stdout",
     "output_type": "stream",
     "text": [
      "This is a string.\n",
      "<class 'str'>\n"
     ]
    }
   ],
<<<<<<< HEAD
   "source": []
=======
   "source": [
    "my_string = \"This is a string.\"\n",
    "\n",
    "print(my_string)\n",
    "\n",
    "print(type(my_string))"
   ]
>>>>>>> 412d7cb2e25b8568859ad2262b719e223aa80f1e
  },
  {
   "cell_type": "markdown",
   "metadata": {},
<<<<<<< HEAD
   "source": []
  },
  {
   "cell_type": "code",
   "execution_count": 37,
=======
   "source": [
    "We can perform many different operations on strings. \n",
    "\n",
    "__Example__: Extract a *single* character as a new string:\n",
    "\n",
    "> *__NOTE:__ Python counts from 0.*"
   ]
  },
  {
   "cell_type": "code",
   "execution_count": 4,
>>>>>>> 412d7cb2e25b8568859ad2262b719e223aa80f1e
   "metadata": {},
   "outputs": [
    {
     "name": "stdout",
     "output_type": "stream",
     "text": [
      "i\n",
      "<class 'str'>\n"
     ]
    }
   ],
<<<<<<< HEAD
   "source": []
=======
   "source": [
    "# Store the 3rd character as a new variable\n",
    "s = my_string[2]\n",
    "\n",
    "# Print the new variable\n",
    "print(s)\n",
    "\n",
    "# Check the type of the new variable\n",
    "print(type(s))"
   ]
>>>>>>> 412d7cb2e25b8568859ad2262b719e223aa80f1e
  },
  {
   "cell_type": "markdown",
   "metadata": {},
   "source": [
    "__Try it yourself__. In the cell below:\n",
    " - store the 5th character as a new variable\n",
    " - print the new variable\n",
    " - check that it is a string"
   ]
  },
  {
   "cell_type": "code",
<<<<<<< HEAD
   "execution_count": 38,
=======
   "execution_count": 7,
>>>>>>> 412d7cb2e25b8568859ad2262b719e223aa80f1e
   "metadata": {
    "collapsed": true
   },
   "outputs": [],
   "source": [
    "# Store the 7th character as a new variable\n",
    "\n",
    "# Print the new variable\n",
    "\n",
    "# Check the type of the new variable"
   ]
  },
  {
   "cell_type": "markdown",
   "metadata": {},
   "source": [
    "We can extract a *range of* characters as a new string by specifiying the index to start at and the index to stop at:\n",
    "\n"
   ]
  },
  {
   "cell_type": "code",
<<<<<<< HEAD
   "execution_count": 39,
=======
   "execution_count": 10,
>>>>>>> 412d7cb2e25b8568859ad2262b719e223aa80f1e
   "metadata": {},
   "outputs": [
    {
     "name": "stdout",
     "output_type": "stream",
     "text": [
      "This i\n",
      "<class 'str'>\n"
     ]
    }
   ],
   "source": [
    "# Store the first 6 characters, print and check type\n",
    "s = my_string[0:6]\n",
    "\n",
    "print(s)\n",
    "\n",
    "print(type(s))"
   ]
  },
  {
   "cell_type": "markdown",
   "metadata": {},
   "source": [
    "$$\n",
    "my\\_string = \n",
    "\\underbrace{\n",
    "\\underbrace{t}_{\\text{0}} \\\n",
    "\\underbrace{h}_{\\text{1}}\\\n",
    "\\underbrace{i}_{\\text{2}}\\\n",
    "\\underbrace{s}_{\\text{3}}\\\n",
    "\\underbrace{}_{\\text{4}}\\\n",
    "\\underbrace{i}_{\\text{5}}\\\n",
    "}_{\\text{s}}\n",
    "\\underbrace{s}_{\\text{6}}\\\n",
    "\\underbrace{}_{\\text{7}}\\\n",
    "\\underbrace{a}_{\\text{8}}\\\n",
    "\\underbrace{}_{\\text{9}}\\\n",
    "\\underbrace{s}_{\\text{10}}\\\n",
    "\\underbrace{t}_{\\text{11}}\\\n",
    "\\underbrace{r}_{\\text{12}}\\\n",
    "\\underbrace{i}_{\\text{13}}\\\n",
    "\\underbrace{n}_{\\text{14}} \\\n",
    "\\underbrace{g}_{\\text{15}} \\\n",
    "\\underbrace{.}_{\\text{16}} \\\n",
    "$$"
   ]
  },
  {
   "cell_type": "markdown",
   "metadata": {},
   "source": [
    "__Note:__ \n",
    " - The space between the first and second word is counted as the 5th character. Spaces between words are counted as characters.\n",
    " - The \"stop\" value is not included in the range. "
   ]
  },
  {
   "cell_type": "code",
<<<<<<< HEAD
   "execution_count": 40,
=======
   "execution_count": 9,
>>>>>>> 412d7cb2e25b8568859ad2262b719e223aa80f1e
   "metadata": {},
   "outputs": [
    {
     "name": "stdout",
     "output_type": "stream",
     "text": [
      "ing.\n"
     ]
    }
   ],
   "source": [
    "# Store the last 4 characters and print\n",
    "s = my_string[-4:]\n",
    "print(s)"
   ]
  },
  {
   "cell_type": "markdown",
   "metadata": {},
   "source": [
    "$$\n",
    "my\\_string = \n",
    "\\underbrace{t}_{\\text{-17}} \\\n",
    "\\underbrace{h}_{\\text{-16}}\\\n",
    "\\underbrace{i}_{\\text{-15}}\\\n",
    "\\underbrace{s}_{\\text{-14}}\\\n",
    "\\underbrace{}_{\\text{-13}}\\\n",
    "\\underbrace{i}_{\\text{-12}}\\\n",
    "\\underbrace{s}_{\\text{-11}}\\\n",
    "\\underbrace{}_{\\text{-10}}\\\n",
    "\\underbrace{a}_{\\text{-9}}\\\n",
    "\\underbrace{}_{\\text{-8}}\\\n",
    "\\underbrace{s}_{\\text{-7}}\\\n",
    "\\underbrace{t}_{\\text{-6}}\\\n",
    "\\underbrace{r}_{\\text{-5}}\\\n",
    "\\underbrace{\n",
    "\\underbrace{i}_{\\text{-4}}\\\n",
    "\\underbrace{n}_{\\text{-3}} \\\n",
    "\\underbrace{g}_{\\text{-2}} \\\n",
    "\\underbrace{.}_{\\text{-1}} \\\n",
    "}_{\\text{s}}\n",
    "$$"
   ]
  },
  {
   "cell_type": "markdown",
   "metadata": {},
   "source": [
    "__Note:__ \n",
    " - The second value in this range is empty.\n",
    " - This means the range ends at the end of the string."
   ]
  },
  {
   "cell_type": "markdown",
   "metadata": {},
   "source": [
    "__Try it yourself.__ In the cell below:\n",
    "\n",
    "  - store the last 6 characters\n",
    "  - print your new variable\n",
    "\n"
   ]
  },
  {
   "cell_type": "code",
<<<<<<< HEAD
   "execution_count": 41,
=======
   "execution_count": null,
>>>>>>> 412d7cb2e25b8568859ad2262b719e223aa80f1e
   "metadata": {
    "collapsed": true
   },
   "outputs": [],
   "source": [
    "# Store the last 6 characters as a new variable\n",
    "\n",
    "# Print the new varaible"
   ]
  },
  {
   "cell_type": "markdown",
   "metadata": {},
   "source": [
    "__Try it yourself__. In the cell below:\n",
    " - store 6 characters, starting with the 2nd character; \"his is\"\n",
    " - print your new variable"
   ]
  },
  {
   "cell_type": "code",
<<<<<<< HEAD
   "execution_count": 42,
=======
   "execution_count": 63,
>>>>>>> 412d7cb2e25b8568859ad2262b719e223aa80f1e
   "metadata": {
    "collapsed": true
   },
   "outputs": [],
   "source": [
    "# Store 6 characters, starting with \"h\"\n",
    "\n",
    "# Print the new varaible"
   ]
  },
  {
   "cell_type": "markdown",
   "metadata": {},
   "source": [
    "Try an alternative way of extracting the same string. \n",
    "Run the cell again to check your answer."
   ]
  },
  {
   "cell_type": "markdown",
   "metadata": {},
   "source": [
    "__Example:__ Add strings together. "
   ]
  },
  {
   "cell_type": "code",
<<<<<<< HEAD
   "execution_count": 43,
=======
   "execution_count": 64,
>>>>>>> 412d7cb2e25b8568859ad2262b719e223aa80f1e
   "metadata": {},
   "outputs": [
    {
     "name": "stdout",
     "output_type": "stream",
     "text": [
      "Python\n"
     ]
    }
   ],
   "source": [
    "start = \"Py\"\n",
    "\n",
    "end = \"thon\"\n",
    "\n",
    "word = start + end\n",
    "\n",
    "print(word)"
   ]
  },
  {
   "cell_type": "markdown",
   "metadata": {},
   "source": [
    "__Example:__ Add a section of a string to a section of another string:"
   ]
  },
  {
   "cell_type": "code",
<<<<<<< HEAD
   "execution_count": 44,
=======
   "execution_count": 50,
>>>>>>> 412d7cb2e25b8568859ad2262b719e223aa80f1e
   "metadata": {},
   "outputs": [
    {
     "name": "stdout",
     "output_type": "stream",
     "text": [
      "Python\n"
     ]
    }
   ],
   "source": [
    "start = \"Pythagorus\"\n",
    "\n",
    "end = \"marathon\"\n",
    "\n",
    "word = start[:2] + end[-4:]\n",
    "\n",
    "print(word)"
   ]
  },
  {
   "cell_type": "markdown",
   "metadata": {
    "collapsed": true
   },
   "source": [
    "Notice that we can use a blank space or a 0 to index the first character; either is OK.\n",
    "\n",
    "__Try it yourself:__ Add the variables `start` and `end` to make a sentence."
   ]
  },
  {
   "cell_type": "code",
<<<<<<< HEAD
   "execution_count": 45,
=======
   "execution_count": 49,
>>>>>>> 412d7cb2e25b8568859ad2262b719e223aa80f1e
   "metadata": {
    "collapsed": true
   },
   "outputs": [],
   "source": [
    "start = \"My name is\"\n",
    "\n",
    "end = \"Mari\"\n",
    "\n",
    "# Add start and end to make a new variable with the name sentence"
   ]
  },
  {
   "cell_type": "markdown",
   "metadata": {},
   "source": [
    "Notice that we need to add a space to seperate the words \"is\" and \"Mari\". \n",
    "We do this using a pair of quotation marks, seperated by a space. "
   ]
  },
  {
   "cell_type": "code",
<<<<<<< HEAD
   "execution_count": 46,
=======
   "execution_count": 68,
>>>>>>> 412d7cb2e25b8568859ad2262b719e223aa80f1e
   "metadata": {
    "collapsed": true
   },
   "outputs": [],
   "source": [
    "sentence = start + \" \" + end"
   ]
  },
  {
   "cell_type": "markdown",
   "metadata": {},
   "source": [
    "## 8.4 Numeric types\n",
    "\n",
    "Numeric types are particlarly important when solving scientific and engineering problems. \n",
    "\n",
    "Python 3 has three numerical types:\n",
    "\n",
    "- integers (`int`)\n",
    "- floating point numbers (`float`)\n",
    "- complex numbers (`complex`)\n",
    "\n",
    "__Integers:__Whole numbers.\n",
    "__Floating point:__Numbers with a decimal place.\n",
    "__Complex numbers:__Numbers with a real and imaginary part.\n",
    "\n",
    "Python determines the type of a number from the way we input it.\n",
    "\n",
    "e.g. It will decide that a number is an `int` if we assign a number with no decimal place:\n",
    "\n",
    "__Try it for yourself__ In the cell below:\n",
    " - Create a variable with the value 3.1\n",
    " - Print the variable type \n",
    " \n",
    " - Create a variable with the value 2\n",
    " - Print the variable type\n",
    " "
   ]
  },
  {
   "cell_type": "code",
<<<<<<< HEAD
   "execution_count": 47,
=======
   "execution_count": null,
>>>>>>> 412d7cb2e25b8568859ad2262b719e223aa80f1e
   "metadata": {
    "collapsed": true
   },
   "outputs": [],
   "source": [
    "# Create a variable with the value 3.1\n",
    "\n",
    "# Print the variable type\n",
    "\n",
    "# Create a variable with the value 2\n",
    "\n",
    "# Print the variable type "
   ]
  },
  {
   "cell_type": "markdown",
   "metadata": {},
   "source": [
    "__How do you think you could re-write the number 2 so that Python makes it a float?__\n",
    "\n",
    "Try changing the way 2 is written and run the cell again to check that the variable type has changed. "
   ]
  },
  {
   "cell_type": "markdown",
   "metadata": {},
   "source": [
    "## 8.4.1 Integers\n",
    "\n",
    " - Integers (`int`) are whole numbers.\n",
    " - They can be postive or negative. \n",
    " - Integers should be used when a value can only take on a whole number <br> e.g. the year, or the number of students following this course. "
   ]
  },
  {
   "cell_type": "markdown",
   "metadata": {},
   "source": [
    "##  8.4.2 Floating point \n",
    "\n",
    "Most engineering calculations involve numbers that cannot be represented as integers. \n",
    "\n",
    "Numbers that have a decimal point are automatically stored using the `float` type. "
   ]
  },
  {
   "cell_type": "markdown",
   "metadata": {},
   "source": [
    "A number is automatically classed as a float:\n",
    "- if it has a decimal point\n",
    "- if it is written using scientific notation (i.e. using e or E - either is fine)\n",
    "\n",
    "In scientific notation, the letter e (or E) symbolises the power of ten in the exponent. \n",
    "\n",
    "For example:\n",
    "\n",
    "$$\n",
    "10.45e2 = 10.45 \\times 10^{-2} = 1045\n",
    "$$"
   ]
  },
  {
   "cell_type": "markdown",
   "metadata": {},
   "source": [
    "Examples using scientific notation."
   ]
  },
  {
   "cell_type": "code",
<<<<<<< HEAD
   "execution_count": 48,
=======
   "execution_count": 2,
>>>>>>> 412d7cb2e25b8568859ad2262b719e223aa80f1e
   "metadata": {},
   "outputs": [
    {
     "name": "stdout",
     "output_type": "stream",
     "text": [
      "2.0 <class 'float'>\n",
      "2000.0\n",
      "2100.0\n"
     ]
    }
   ],
   "source": [
    "a = 2e0\n",
    "print(a, type(a))\n",
    "\n",
    "b = 2e3\n",
    "print(b)\n",
    "\n",
    "c = 2.1E3\n",
    "print(c)"
   ]
  },
  {
   "cell_type": "markdown",
   "metadata": {},
   "source": [
    "__Try it yourself__ \n",
    "\n",
    "In the cell below:\n",
    "\n",
    "- create a floating point variable for each number shown using scientific notation.\n",
    "- print each variable to check it matches the number given in the comment. "
   ]
  },
  {
   "cell_type": "code",
<<<<<<< HEAD
   "execution_count": 49,
=======
   "execution_count": 3,
>>>>>>> 412d7cb2e25b8568859ad2262b719e223aa80f1e
   "metadata": {
    "collapsed": true
   },
   "outputs": [],
   "source": [
    "# Create a variable with value 62\n",
    "\n",
    "# Print the variable\n",
    "\n",
    "# Create a variable with value 35,000\n",
    "\n",
    "# Print the variable\n",
    "\n",
    "# Are there any other ways you could have expressed this? "
   ]
  },
  {
   "cell_type": "markdown",
   "metadata": {},
   "source": [
    "## 8.4.3 Complex numbers\n",
    "\n",
    "Complex numbers have real and imaginary parts. \n",
    "\n",
    "We can declare a complex number in Python by adding `j` or `J` after the complex part of the number:\n",
    "\n",
    "&nbsp; &nbsp; __Standard mathematical notation.__ &nbsp; &nbsp; &nbsp; &nbsp; &nbsp; &nbsp; &nbsp; &nbsp;__Python notation__\n",
    "\n",
    "&nbsp; &nbsp; &nbsp; &nbsp;\n",
    "$ a = \\underbrace{3}_{\\text{real part}} + \\underbrace{4i}_{\\text{imaginary part}} $        &nbsp; &nbsp; &nbsp; &nbsp; &nbsp; &nbsp; &nbsp; &nbsp; &nbsp; &nbsp; &nbsp; &nbsp; &nbsp; &nbsp;\n",
    "`a = 3 + 4j` &nbsp; &nbsp; __or__ &nbsp; &nbsp; `a = 3 + 4J`"
   ]
  },
  {
   "cell_type": "code",
<<<<<<< HEAD
   "execution_count": 50,
=======
   "execution_count": 5,
>>>>>>> 412d7cb2e25b8568859ad2262b719e223aa80f1e
   "metadata": {},
   "outputs": [
    {
     "name": "stdout",
     "output_type": "stream",
     "text": [
      "(4-3j) <class 'complex'>\n"
     ]
    }
   ],
   "source": [
    "b = 4 - 3j\n",
    "print(b, type(b))"
   ]
  },
  {
   "cell_type": "markdown",
   "metadata": {},
   "source": [
    "__Try it yourself__\n",
    "In the cell below:\n",
    " - re-write the complex numbers using Python.\n",
    " - print the variable and the variable type to check your answers.\n",
    "\n",
    "\n"
   ]
  },
  {
   "cell_type": "code",
<<<<<<< HEAD
   "execution_count": 51,
=======
   "execution_count": 6,
>>>>>>> 412d7cb2e25b8568859ad2262b719e223aa80f1e
   "metadata": {
    "collapsed": true
   },
   "outputs": [],
   "source": [
    "# a = 3 + 2i\n",
    "\n",
    "# b = 7i"
   ]
  },
  {
   "cell_type": "markdown",
   "metadata": {},
   "source": [
    "# 8.5 Type conversions (casting)\n",
    "\n",
    "We often want to change between types. \n",
    "\n",
    "Sometimes we need to make sure two variables have the same type in order to perform an operation on them. \n",
    "\n",
    "Sometimes we recieve data of a type that is not directly usable by the program.\n",
    "\n",
    "This is called *type conversion* or *type casting*. \n",
    "\n",
    "## 8.5.1 Automatic Type Conversion\n",
    "\n",
    "If we add two integers, the results will be an integer:"
   ]
  },
  {
   "cell_type": "code",
<<<<<<< HEAD
   "execution_count": 52,
=======
   "execution_count": 7,
>>>>>>> 412d7cb2e25b8568859ad2262b719e223aa80f1e
   "metadata": {},
   "outputs": [
    {
     "name": "stdout",
     "output_type": "stream",
     "text": [
      "19 <class 'int'>\n"
     ]
    }
   ],
   "source": [
    "a = 4     # int\n",
    "b = 15    # int\n",
    "\n",
    "c = a + b\n",
    "\n",
    "print(c, type(c))"
   ]
  },
  {
   "cell_type": "markdown",
   "metadata": {},
   "source": [
    "However, if we add an int and a float, the result will be a float:"
   ]
  },
  {
   "cell_type": "code",
<<<<<<< HEAD
   "execution_count": 53,
=======
   "execution_count": 8,
>>>>>>> 412d7cb2e25b8568859ad2262b719e223aa80f1e
   "metadata": {},
   "outputs": [
    {
     "name": "stdout",
     "output_type": "stream",
     "text": [
      "19.0 <class 'float'>\n"
     ]
    }
   ],
   "source": [
    "a = 4     # int\n",
    "b = 15.0  # float\n",
    "\n",
    "c = a + b\n",
    "\n",
    "print(c, type(c))"
   ]
  },
  {
   "cell_type": "markdown",
   "metadata": {},
   "source": [
    "If we divide two integers, the result will be a `float`:"
   ]
  },
  {
   "cell_type": "code",
<<<<<<< HEAD
   "execution_count": 54,
=======
   "execution_count": 12,
>>>>>>> 412d7cb2e25b8568859ad2262b719e223aa80f1e
   "metadata": {},
   "outputs": [
    {
     "name": "stdout",
     "output_type": "stream",
     "text": [
      "4.0 <class 'float'>\n"
     ]
    }
   ],
   "source": [
    "a = 16  # int\n",
    "b = 4   # int\n",
    "\n",
    "c = a/b\n",
    "\n",
    "print(c, type(c))"
   ]
  },
  {
   "cell_type": "markdown",
   "metadata": {},
   "source": [
    "When dividing two integers with floor division (or 'integer division') using `//`, the result will be an `int` e.g."
   ]
  },
  {
   "cell_type": "code",
<<<<<<< HEAD
   "execution_count": 55,
=======
   "execution_count": 13,
>>>>>>> 412d7cb2e25b8568859ad2262b719e223aa80f1e
   "metadata": {},
   "outputs": [
    {
     "name": "stdout",
     "output_type": "stream",
     "text": [
      "5 <class 'int'>\n"
     ]
    }
   ],
   "source": [
    "a = 16   # int\n",
    "b = 3    # int\n",
    "\n",
    "c = a//b\n",
    "\n",
    "print(c, type(c))"
   ]
  },
  {
   "cell_type": "markdown",
   "metadata": {},
   "source": [
    "In general:\n",
    " - operations that mix an `int` and `float` will generate a `float`.\n",
    " - operations that mix an `int` or a `float` with `complex` will generate a `complex` type. \n",
    " \n",
    " \n",
    "If in doubt, use `type` to experiment and check.  "
   ]
  },
  {
   "cell_type": "markdown",
   "metadata": {},
   "source": [
    "### 8.5.2. Explicit Type Conversion\n",
    "\n",
    "We can explicitly change (or *cast*) the type.\n",
    "\n",
    "To cast variable a as a different type, write the name of the type, followed by the variable to convert in brackets. \n",
    "\n",
    "__Example: Cast from an int to a float:__"
   ]
  },
  {
   "cell_type": "code",
<<<<<<< HEAD
   "execution_count": 56,
=======
   "execution_count": 11,
>>>>>>> 412d7cb2e25b8568859ad2262b719e223aa80f1e
   "metadata": {},
   "outputs": [
    {
     "name": "stdout",
     "output_type": "stream",
     "text": [
      "1.0 <class 'float'>\n"
     ]
    }
   ],
   "source": [
    "a = 1\n",
    "\n",
    "a = float(a)\n",
    "\n",
    "print(a, type(a))"
   ]
  },
  {
   "cell_type": "code",
<<<<<<< HEAD
   "execution_count": 57,
=======
   "execution_count": 12,
>>>>>>> 412d7cb2e25b8568859ad2262b719e223aa80f1e
   "metadata": {},
   "outputs": [
    {
     "name": "stdout",
     "output_type": "stream",
     "text": [
      "1.0 <class 'float'>\n",
      "1.0 <class 'float'>\n"
     ]
    }
   ],
   "source": [
    "# If we use a new variable name the original value is unchnaged.\n",
    "b = float(a)      \n",
    "\n",
    "print(a, type(a))\n",
    "print(b, type(b))"
   ]
  },
  {
   "cell_type": "code",
<<<<<<< HEAD
   "execution_count": 58,
   "metadata": {},
   "outputs": [
    {
     "name": "stdout",
     "output_type": "stream",
     "text": [
      "1.0 <class 'float'>\n"
     ]
    }
   ],
=======
   "execution_count": null,
   "metadata": {
    "collapsed": true
   },
   "outputs": [],
>>>>>>> 412d7cb2e25b8568859ad2262b719e223aa80f1e
   "source": [
    "# If we use the orignal name, the variable is updated. \n",
    "a = float(a)       \n",
    "\n",
    "print(a, type(a))"
   ]
  },
  {
   "cell_type": "markdown",
   "metadata": {},
   "source": [
    "__Try it yourself.__\n",
    "In the cell below:\n",
    "- cast variable `a` from a float back to an int. \n",
    "- print variable `a` and its type to check your answer "
   ]
  },
  {
   "cell_type": "code",
<<<<<<< HEAD
   "execution_count": 59,
=======
   "execution_count": null,
>>>>>>> 412d7cb2e25b8568859ad2262b719e223aa80f1e
   "metadata": {
    "collapsed": true
   },
   "outputs": [],
   "source": [
    "# cast a as an int\n",
    "\n",
    "# print a and its type "
   ]
  },
  {
   "cell_type": "markdown",
   "metadata": {},
   "source": [
    "##### Note: Take care when casting as the value of the variable may change as well as the type.\n",
    "\n",
    "In the cell below:\n",
    "1. cast `i` as an `int` and print `i`.\n",
    "1. cast `i` back to a `float` and print `i`."
   ]
  },
  {
   "cell_type": "code",
<<<<<<< HEAD
   "execution_count": 60,
=======
   "execution_count": 19,
>>>>>>> 412d7cb2e25b8568859ad2262b719e223aa80f1e
   "metadata": {},
   "outputs": [
    {
     "name": "stdout",
     "output_type": "stream",
     "text": [
      "1.3 <class 'float'>\n"
     ]
    }
   ],
   "source": [
    "i = 1.3                  # float\n",
    "print(i, type(i))\n",
    "\n",
    "# cast i as an int and print it\n",
    "\n",
    "# cast i back to a float and print it"
   ]
  },
  {
   "cell_type": "markdown",
   "metadata": {},
   "source": [
    "What has happened to the original value of `i`?\n",
    "\n",
    "Note that rounding is applied when converting from a `float` to an `int`; the values after the decimal point are discarded. \n",
    "\n",
    "This type of rounding is called 'round towards zero' or 'truncation'."
   ]
  },
  {
   "cell_type": "markdown",
   "metadata": {},
   "source": [
    "A common task is converting numerical types to-and-from strings. \n",
    "\n",
    "Examples:\n",
    " - Reading a number from a file where it appears as as a string\n",
    " - User input might be given as a string. \n",
    "\n",
    "__Example: Cast from a float to a string:__\n"
   ]
  },
  {
   "cell_type": "code",
<<<<<<< HEAD
   "execution_count": 61,
=======
   "execution_count": 20,
>>>>>>> 412d7cb2e25b8568859ad2262b719e223aa80f1e
   "metadata": {},
   "outputs": [
    {
     "name": "stdout",
     "output_type": "stream",
     "text": [
      "1.023 <class 'str'>\n"
     ]
    }
   ],
   "source": [
    "a = 1.023\n",
    "\n",
    "b = str(a)\n",
    "\n",
    "print(b, type(b))"
   ]
  },
  {
   "cell_type": "markdown",
   "metadata": {},
   "source": [
    "__Example: Cast from a string to a float:__\n",
    "\n",
    "It is important to cast string numbers as either `int`s or `float`s for them to perform correctly in algebraic expressions.\n",
    "\n",
    "Consider the example below:"
   ]
  },
  {
   "cell_type": "code",
<<<<<<< HEAD
   "execution_count": 62,
=======
   "execution_count": 23,
>>>>>>> 412d7cb2e25b8568859ad2262b719e223aa80f1e
   "metadata": {},
   "outputs": [
    {
     "name": "stdout",
     "output_type": "stream",
     "text": [
      "As string numbers:\n",
      "15.07 + 18.07 =  15.0718.07\n",
      "When cast from string to float:\n",
      "15.07 + 18.07 =  33.14\n"
     ]
    }
   ],
   "source": [
    "a = \"15.07\"\n",
    "b = \"18.07\"\n",
    "\n",
    "print(\"As string numbers:\")\n",
    "print(\"15.07 + 18.07 = \", a + b)\n",
    "      \n",
    "print(\"When cast from string to float:\")\n",
    "print(\"15.07 + 18.07 = \", float(a) + float(b))\n"
   ]
  },
  {
   "cell_type": "markdown",
   "metadata": {},
   "source": [
    "Note from the cell above that numbers expressed as strings can be cast as floats *within* algebraic expressions."
   ]
  },
  {
   "cell_type": "markdown",
   "metadata": {},
   "source": [
    "Only numerical values can be cast as numerical types.\n",
    "e.g. Trying to cast the string `four` as an integer causes an error:"
   ]
  },
  {
   "cell_type": "code",
<<<<<<< HEAD
   "execution_count": 63,
=======
   "execution_count": 24,
>>>>>>> 412d7cb2e25b8568859ad2262b719e223aa80f1e
   "metadata": {},
   "outputs": [
    {
     "ename": "ValueError",
     "evalue": "could not convert string to float: 'four'",
     "output_type": "error",
     "traceback": [
      "\u001b[0;31m---------------------------------------------------------------------------\u001b[0m",
      "\u001b[0;31mValueError\u001b[0m                                Traceback (most recent call last)",
<<<<<<< HEAD
      "\u001b[0;32m<ipython-input-63-3277840d9888>\u001b[0m in \u001b[0;36m<module>\u001b[0;34m()\u001b[0m\n\u001b[0;32m----> 1\u001b[0;31m \u001b[0mf\u001b[0m \u001b[0;34m=\u001b[0m \u001b[0mfloat\u001b[0m\u001b[0;34m(\u001b[0m\u001b[0;34m\"four\"\u001b[0m\u001b[0;34m)\u001b[0m\u001b[0;34m\u001b[0m\u001b[0m\n\u001b[0m",
=======
      "\u001b[0;32m<ipython-input-24-3277840d9888>\u001b[0m in \u001b[0;36m<module>\u001b[0;34m()\u001b[0m\n\u001b[0;32m----> 1\u001b[0;31m \u001b[0mf\u001b[0m \u001b[0;34m=\u001b[0m \u001b[0mfloat\u001b[0m\u001b[0;34m(\u001b[0m\u001b[0;34m\"four\"\u001b[0m\u001b[0;34m)\u001b[0m\u001b[0;34m\u001b[0m\u001b[0m\n\u001b[0m",
>>>>>>> 412d7cb2e25b8568859ad2262b719e223aa80f1e
      "\u001b[0;31mValueError\u001b[0m: could not convert string to float: 'four'"
     ]
    }
   ],
   "source": [
    "f = float(\"four\")"
   ]
  },
  {
   "cell_type": "markdown",
   "metadata": {},
   "source": [
    "## 9. Review Exercises\n",
    "Here are a series of short engineering problems for you to practise each of the new Python skills that you have learnt today. "
   ]
  },
  {
   "cell_type": "markdown",
   "metadata": {
    "collapsed": true
   },
   "source": [
    "### 9.1 Review Excercise: Gravitational Potential\n",
    "The gravitational potential, $V$, of a particle of mass $m$ at a distance $r$ from a body of mass $M$, is:\n",
    "\n",
    "$$\n",
    "V = \\frac{G M m}{r}\n",
    "$$\n",
    "\n",
    "In the cell below, solve for $V$ when:\n",
    "\n",
    "$G$ = *gravitational constant* = 6.674 \\times 10^{-11}$ Nm$^{2}$kg$^{-2}$.\n",
    "\n",
    "$M = 1.65 \\times 10^{12}$kg\n",
    "\n",
    "$m = 6.1 \\times 10^2$kg\n",
    "\n",
    "$r = 7.0 \\times 10^3$ m\n",
    "\n",
    "Assign variables for $G, M, m$ and $r$ before solving. Express the numbers using __scientific notation__."
   ]
  },
  {
   "cell_type": "code",
<<<<<<< HEAD
   "execution_count": null,
=======
   "execution_count": 1,
>>>>>>> 412d7cb2e25b8568859ad2262b719e223aa80f1e
   "metadata": {
    "collapsed": true
   },
   "outputs": [],
   "source": [
    "# Gravitational Potential"
   ]
  },
  {
   "cell_type": "markdown",
   "metadata": {},
   "source": [
    "### 9.2 Review Exercise: Fahrenheit to Celsius\n",
    "\n",
    "Degrees Fahrenheit ($T_F$) are converted to degrees Celsius ($T_c$) using the formula:\n",
    "\n",
    "$$\n",
    "T_c = 5(T_f - 32)/9\n",
    "$$\n",
    "\n",
    "In the cell below, write a program to convert 78 degrees Fahrenheit to degrees Celsius and print the result.\n",
    "\n",
    "Write your program such that you can easily change the input temperature in Fahrenheit and re-calculate the answer."
   ]
  },
  {
   "cell_type": "code",
   "execution_count": null,
   "metadata": {
    "collapsed": true
   },
   "outputs": [],
   "source": [
    "# Convert degrees Fahrenheit to degrees Celsius"
   ]
  },
  {
   "cell_type": "markdown",
   "metadata": {},
   "source": [
    "### 9.3 Review Exercise: Volume of a Cone\n",
    "The volume of a cone is:\n",
    "$$\n",
    "V = \\frac{1}{3}(base \\ area)\\times(perpendicular \\ height)\n",
    "$$\n",
    "\n",
    "![title](../../../ILAS_seminars/intro to python/img/cone.png)\n",
    "\n",
    "In the cell below, find the internal volume of a cone of internal dimensions:\n",
    "\n",
    "base radius, $r = 5cm$\n",
    "\n",
    "perpendicular height, $h = 15cm$\n",
    "\n",
    "Assign variables for $r$ and $h$ before solving."
   ]
  },
  {
   "cell_type": "code",
<<<<<<< HEAD
   "execution_count": null,
   "metadata": {
    "collapsed": true
   },
   "outputs": [],
=======
   "execution_count": 22,
   "metadata": {},
   "outputs": [
    {
     "name": "stdout",
     "output_type": "stream",
     "text": [
      "98.18749999999999\n"
     ]
    }
   ],
>>>>>>> 412d7cb2e25b8568859ad2262b719e223aa80f1e
   "source": [
    "pi = 3.142\n",
    "# Internal volume\n",
    "\n",
    "r = 2.5\n",
    "h = 15\n",
    "v = (1/3) * pi*r**2 * h\n",
    "print(v)"
   ]
  },
  {
   "cell_type": "markdown",
   "metadata": {},
   "source": [
    "The cone is held upside down and filled with liquid.\n",
    "\n",
    "The liquid is then transferred to a hollow cylinder.\n",
    "\n",
    "Base radius of cylinder, $r_c = 4cm$.\n",
    "\n",
    "<img src=\"../../../ILAS_seminars/intro to python/img/cone-cyl.gif\" alt=\"Drawing\" style=\"width: 200px;\"/>\n",
    "\n",
    "The volume of liquid in the cylinder is:\n",
    "\n",
    "$V = (base \\ area)\\times(height \\ of \\ liquid)$\n",
    "\n",
    "\n",
    "In the cell below, find the height of the liquid in the cylinder?\n",
    "\n",
    "Assign a variables for $r_c$ before solving."
   ]
  },
  {
   "cell_type": "code",
<<<<<<< HEAD
   "execution_count": null,
   "metadata": {
    "collapsed": true
   },
   "outputs": [],
=======
   "execution_count": 23,
   "metadata": {},
   "outputs": [
    {
     "name": "stdout",
     "output_type": "stream",
     "text": [
      "50.272\n",
      "1.9531249999999998\n"
     ]
    }
   ],
>>>>>>> 412d7cb2e25b8568859ad2262b719e223aa80f1e
   "source": [
    "# H = height of liquid in the cylinder\n",
    "\n",
    "rc = 4\n",
    "\n",
    "H = v / (pi*rc**2)\n",
    "print(pi*rc**2)\n",
    "print(H)"
   ]
  },
  {
   "cell_type": "markdown",
   "metadata": {},
   "source": [
    "The total height of the cyclinder, $H_{tot}$ is 10cm.\n",
    "\n",
    "In the cell below, use a __comparison operator__ (Section 7.1) to show if the height of the liquid, $H$, is more than half the total height of the cylinder.  "
   ]
  },
  {
   "cell_type": "code",
<<<<<<< HEAD
   "execution_count": null,
   "metadata": {
    "collapsed": true
   },
   "outputs": [],
=======
   "execution_count": 24,
   "metadata": {},
   "outputs": [
    {
     "name": "stdout",
     "output_type": "stream",
     "text": [
      "False\n"
     ]
    }
   ],
>>>>>>> 412d7cb2e25b8568859ad2262b719e223aa80f1e
   "source": [
    "# Is the height of the liquid more than half the total height of the cylinder?\n",
    "Htot = 10\n",
    "print(H>(Htot/2))"
   ]
  },
  {
   "cell_type": "markdown",
   "metadata": {},
   "source": [
    "Lastly, go back and change the radius of the __cone__ to 2.5cm. \n",
    "\n",
    "Re-run the cells to observe how you can quickly re-run calculations using different initial values. "
   ]
  },
  {
   "cell_type": "markdown",
   "metadata": {},
   "source": [
    "### 9.4 Review Exercise: Arithmetic with Strings\n",
    "__(A)__ \n",
    "\n",
    "In the cell below, print a new string whose:\n",
    " - first 3 letters are the last 3 letters of `a` \n",
    " - last 3 letters are the first 3 letters of `b` "
   ]
  },
  {
   "cell_type": "code",
<<<<<<< HEAD
   "execution_count": null,
=======
   "execution_count": 28,
>>>>>>> 412d7cb2e25b8568859ad2262b719e223aa80f1e
   "metadata": {
    "collapsed": true
   },
   "outputs": [],
   "source": [
    "a = \"orangutans\"\n",
    "b = \"werewolves\""
   ]
  },
  {
   "cell_type": "markdown",
   "metadata": {},
   "source": [
    "__(B)__ \n",
    "\n",
    "In the cell below, use `c` to make a new string that says: `programming`."
   ]
  },
  {
   "cell_type": "code",
<<<<<<< HEAD
   "execution_count": null,
=======
   "execution_count": 29,
>>>>>>> 412d7cb2e25b8568859ad2262b719e223aa80f1e
   "metadata": {
    "collapsed": true
   },
   "outputs": [],
   "source": [
    "c = \"programme\""
   ]
  },
  {
   "cell_type": "markdown",
   "metadata": {},
   "source": [
    "__(C)__ \n",
    "\n",
    "In the cell below create and print a new variable, `f`:\n",
    "\n",
    "$$\n",
    "f = (numerical \\ value \\ of \\ d) +  (numerical \\ value \\ of \\ e)\n",
    "$$\n",
    "\n",
    "using standard arithmetic. "
   ]
  },
  {
   "cell_type": "code",
<<<<<<< HEAD
   "execution_count": null,
   "metadata": {
    "collapsed": true
   },
   "outputs": [],
=======
   "execution_count": 38,
   "metadata": {},
   "outputs": [
    {
     "data": {
      "text/plain": [
       "10.530000000000001"
      ]
     },
     "execution_count": 38,
     "metadata": {},
     "output_type": "execute_result"
    }
   ],
>>>>>>> 412d7cb2e25b8568859ad2262b719e223aa80f1e
   "source": [
    "d = \"3.12\"\n",
    "e = \"7.41\"\n",
    "\n",
    "f = float(d) + float(e)\n",
    "f"
   ]
  },
  {
   "cell_type": "markdown",
   "metadata": {},
   "source": [
    "Use __shortcut notation__ (Section 4) to update the value of `f`.\n",
    "The new value of f should equal the __remainder (or modulus)__ when f is divided by 3."
   ]
  },
  {
   "cell_type": "code",
<<<<<<< HEAD
   "execution_count": null,
   "metadata": {
    "collapsed": true
   },
   "outputs": [],
=======
   "execution_count": 39,
   "metadata": {},
   "outputs": [
    {
     "data": {
      "text/plain": [
       "1.5300000000000011"
      ]
     },
     "execution_count": 39,
     "metadata": {},
     "output_type": "execute_result"
    }
   ],
>>>>>>> 412d7cb2e25b8568859ad2262b719e223aa80f1e
   "source": [
    "# What is the remainder (modulus) when f is divided by 3\n",
    "f"
   ]
  },
  {
   "cell_type": "markdown",
   "metadata": {},
   "source": [
    "In the cell below, cast f as an integer type. "
   ]
  },
  {
   "cell_type": "code",
<<<<<<< HEAD
   "execution_count": null,
=======
   "execution_count": 41,
>>>>>>> 412d7cb2e25b8568859ad2262b719e223aa80f1e
   "metadata": {
    "collapsed": true
   },
   "outputs": [],
   "source": [
    "# f expressed as an integer"
   ]
  },
  {
   "cell_type": "code",
   "execution_count": null,
   "metadata": {
    "collapsed": true
   },
   "outputs": [],
   "source": []
  },
  {
   "cell_type": "markdown",
   "metadata": {},
   "source": [
    "## 10. Updating your git repository\n",
    "\n",
    "You have made several changes to your interactive textbook.\n",
    "\n",
    "The final thing we are going to do is add these changes to your online repository so that:\n",
    " - I can check your progress\n",
    " - You can access the changes from outside of the university server. "
   ]
  },
  {
   "cell_type": "markdown",
   "metadata": {
    "collapsed": true
   },
   "source": [
    "# Summary\n",
    "\n",
    "- We can perform simple *arithmetic operations* in Python (+, -, $\\times$, $\\divide$.....)\n",
    "- We can *assign* values to variables.\n",
    "- Expressions containing multiple operators obey precedence when executing operations.\n",
    "- *Comparison operators* (==, !=, <, >....) compare two variables.\n",
    "- The outcome of a comparison is a *Boolean* (True or False) value.\n",
    "- *Logical operators* (`and`, `or`) compares the outcomes of two comparison operations.\n",
    "- The outcome of a logical operation is a *Boolean* (True or False) value.\n",
    "- The logical `not` operator returns the inverse Boolean value of a comparison.\n",
    "- Every variable has a type (int, float, string....).\n",
    "- A type is automatically assigned when a variable is created.\n",
    "- Python's type() function can be used to determine the type of a variable.\n",
    "-  The data type of a variable can be converted by casting (int(), float()....)"
   ]
  },
  {
   "cell_type": "code",
   "execution_count": null,
   "metadata": {
    "collapsed": true
   },
   "outputs": [],
   "source": []
  }
 ],
 "metadata": {
  "kernelspec": {
   "display_name": "env",
   "language": "python",
   "name": "env"
  },
  "language_info": {
   "codemirror_mode": {
    "name": "ipython",
    "version": 3
   },
   "file_extension": ".py",
   "mimetype": "text/x-python",
   "name": "python",
   "nbconvert_exporter": "python",
   "pygments_lexer": "ipython3",
   "version": "3.5.3"
  }
 },
 "nbformat": 4,
 "nbformat_minor": 2
}
