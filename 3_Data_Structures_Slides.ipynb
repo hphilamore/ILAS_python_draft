{
 "cells": [
  {
   "cell_type": "code",
   "execution_count": null,
   "metadata": {
    "collapsed": true
   },
   "outputs": [],
   "source": [
    "from IPython.core.display import HTML\n",
    "def css_styling():\n",
    "    styles = open(\"./styles/custom.css\", \"r\").read()\n",
    "    return HTML(styles)\n",
    "css_styling()"
   ]
  },
  {
   "cell_type": "markdown",
   "metadata": {},
   "source": [
    "# Activate Git\n",
    "- Open the terminal:\n",
    " - press \"win key\" + \"R\"\n",
    " - type: __cmd__\n",
    " - press enter\n",
    "\n",
    " <br>\n",
    "\n",
    "  \n",
    "- Switch to the M drive. \n",
    " - In the terminal type: `M:`\n",
    " - press enter\n",
    "\n",
    "  <br>            \n",
    "\n",
    "\n",
    "- Activate Git.\n",
    " - Enter the following in the terminal:\n",
    "> PATH=M:¥Documents¥PortableGit¥bin;%PATH%  \n",
    "\n",
    "      (You can type this or __copy and paste__ it from the README section on the github page)\n"
   ]
  },
  {
   "cell_type": "code",
   "execution_count": null,
   "metadata": {
    "collapsed": true
   },
   "outputs": [],
   "source": [
    "__PULL__ the changes you made at home to your local copy on the M drive.\n",
    "\n",
    "If you need a reminder of how to do this:\n",
    "\n",
    "Open Jupyter notebook:\n",
    "<br> Start >> Programs >> Programming >> Anaconda3 >> JupyterNotebook\n",
    "<br>(Start >> すべてのプログラム >> Programming >> Anaconda3 >> JupyterNotebook)\n",
    "\n",
    "Navigate to where your interactive textbook is stored.\n",
    "\n",
    "Open __S1_Introduction_to_Version_Control__.  "
   ]
  },
  {
   "cell_type": "markdown",
   "metadata": {},
   "source": [
    "Open Jupyter notebook:\n",
    "<br> Start >> Programs >> Programming >> Anaconda3 >> JupyterNotebook\n",
    "<br>(Start >> すべてのプログラム >> Programming >> Anaconda3 >> JupyterNotebook)\n",
    "\n",
    "We will start by learning how to add the __solutions to the Review Exercises__ to your interative textbook. \n",
    "\n",
    "Navigate to where your interactive textbook is stored.\n",
    "\n",
    "Open __S1_Introduction_to_Version_Control__.  \n"
   ]
  },
  {
   "cell_type": "code",
   "execution_count": null,
   "metadata": {
    "collapsed": true
   },
   "outputs": [],
   "source": [
    "In Jupyter notebook, select the tab with the contents list of the interactive textbook:\n",
    "    \n",
    "Open __Seminar 3__  by clicking on __3_Data_Structures__."
   ]
  },
  {
   "cell_type": "markdown",
   "metadata": {
    "collapsed": true,
    "slideshow": {
     "slide_type": "slide"
    }
   },
   "source": [
    "# Data Structures\n",
    "\n",
    "# Lesson Goal\n",
    "\n",
    " - Compose simple programs to control the flow with which the operators we have studied so far are executed on:\n",
    "  - single value variables.\n",
    "  - data structures (holding mutiple variables)\n",
    "\n",
    "\n"
   ]
  },
  {
   "cell_type": "markdown",
   "metadata": {
    "slideshow": {
     "slide_type": "slide"
    }
   },
   "source": [
    "# Objectives\n",
    "\n",
    "\n",
    " - Express collections of mulitple variables as `list`, `tuple` and dictionary (`dict`).\n",
    " \n",
    "- Use iteratation to visit entries in a data structure \n",
    "\n",
    "\n",
    "- Learn to select the right data structure for an application"
   ]
  },
  {
   "cell_type": "markdown",
   "metadata": {
    "slideshow": {
     "slide_type": "slide"
    }
   },
   "source": [
    "Why we are studying this:\n",
    "\n",
    "To use Python to solve more complex engineering problems you are likely to encounter involving:\n",
    " - multi-variable values (e.g. vectors)\n",
    " - large data sets (e.g. experiment results)\n",
    " - manipulating your data using logic \n",
    " <br>\n",
    " (e.g. sorting and categorising answers to an operation performed on multiple data points)\n",
    "\n"
   ]
  },
  {
   "cell_type": "markdown",
   "metadata": {},
   "source": [
    " Lesson structure:\n",
    " - Learn new skills together:\n",
    "  - __Demonstration__ on slides.\n",
    "  - __Completing examples__ in textbooks.\n",
    "  - __Feedback answers__ (verbally / whiteboards)\n",
    " - Practise alone: __Completing review excercises__.\n",
    " - Skills Review: Updating your local repository using an __upstream repository.__\n",
    " - __Summary__and __quiz__."
   ]
  },
  {
   "cell_type": "markdown",
   "metadata": {},
   "source": [
    "In the last seminar we learnt to generate a rnage of numbers for use in control flow of  a program, using the function `range()`:"
   ]
  },
  {
   "cell_type": "code",
   "execution_count": 3,
   "metadata": {},
   "outputs": [
    {
     "name": "stdout",
     "output_type": "stream",
     "text": [
      "1 is not a multiple of 4\n",
      "2 is not a multiple of 4\n",
      "3 is not a multiple of 4\n",
      "5 is not a multiple of 4\n",
      "6 is not a multiple of 4\n",
      "7 is not a multiple of 4\n",
      "9 is not a multiple of 4\n",
      "10 is not a multiple of 4\n",
      "11 is not a multiple of 4\n",
      "13 is not a multiple of 4\n",
      "14 is not a multiple of 4\n",
      "15 is not a multiple of 4\n",
      "17 is not a multiple of 4\n",
      "18 is not a multiple of 4\n",
      "19 is not a multiple of 4\n"
     ]
    }
   ],
   "source": [
    "for j in range(20):\n",
    "    \n",
    "    if j % 4 == 0:  # Check remainer of j/4\n",
    "        continue    # continue to next value of j\n",
    "        \n",
    "    print(j, \"is not a multiple of 4\")"
   ]
  },
  {
   "cell_type": "markdown",
   "metadata": {
    "slideshow": {
     "slide_type": "slide"
    }
   },
   "source": [
    "## Data Structures\n",
    "\n",
    "Often we want to manipulate data that is more meaningful than ranges of numbers.\n",
    "\n",
    "These collections of variables might include:\n",
    " - the results of an experiment\n",
    " - a list of names\n",
    " - the components of a vector\n",
    " - a telephone directory with names and associated numbers.\n",
    " \n",
    "\n",
    "\n",
    " \n",
    " "
   ]
  },
  {
   "cell_type": "markdown",
   "metadata": {
    "slideshow": {
     "slide_type": "slide"
    }
   },
   "source": [
    "Python has different __data structures__ that can be used to store and manipulate these values.\n",
    "\n",
    "Like variable types (`string`, `int`,`float`...) different data structures behave in different ways.\n",
    "\n",
    "Today we will learn to use `list`, `tuple` and dictionary (`dict`) data structures."
   ]
  },
  {
   "cell_type": "markdown",
   "metadata": {
    "slideshow": {
     "slide_type": "slide"
    }
   },
   "source": [
    "\n",
    "We will study the differences in how they behave so that you can learn to select the most suitable data structure for an application. "
   ]
  },
  {
   "cell_type": "markdown",
   "metadata": {
    "slideshow": {
     "slide_type": "slide"
    }
   },
   "source": [
    "Programs use data structure to collect data into useful packages. \n",
    "\n",
    "$$\n",
    "r = [u, v, w]\n",
    "$$\n",
    "\n",
    "For example, rather than representing a vector `r` of length 3 using three seperate floats `ru`, `rv` and `rw`, we could represent \n",
    "it as a __list__ of floats:\n",
    "\n",
    "&nbsp;&nbsp;&nbsp;&nbsp;&nbsp;&nbsp;&nbsp;&nbsp; &nbsp;&nbsp;&nbsp;&nbsp;&nbsp;&nbsp;&nbsp;&nbsp;\n",
    "&nbsp;&nbsp;&nbsp;&nbsp;&nbsp;&nbsp;&nbsp;&nbsp;\n",
    "&nbsp;&nbsp;&nbsp;&nbsp;&nbsp;&nbsp;&nbsp;&nbsp;\n",
    "`r = [u, v, w]`. \n",
    "\n",
    "<img src=\"../../../ILAS_seminars/intro to python/img/3d_position_vector.png\" alt=\"Drawing\" style=\"width: 175px;\"/>\n",
    "\n",
    "(We will learn what a __list__ is in a moment.)"
   ]
  },
  {
   "cell_type": "markdown",
   "metadata": {
    "slideshow": {
     "slide_type": "slide"
    }
   },
   "source": [
    "If we want to store the names of students in a laboratory group, rather than representing each students using an individual string variable, we could use a list of names, e.g.:\n",
    "\n"
   ]
  },
  {
   "cell_type": "code",
   "execution_count": 4,
   "metadata": {
    "collapsed": true
   },
   "outputs": [],
   "source": [
    "lab_group0 = [\"Sarah\", \"John\", \"Joe\", \"Emily\"]\n",
    "lab_group1 = [\"Roger\", \"Rachel\", \"Amer\", \"Caroline\", \"Colin\"]"
   ]
  },
  {
   "cell_type": "markdown",
   "metadata": {
    "slideshow": {
     "slide_type": "slide"
    }
   },
   "source": [
    "This is useful because we can perform operations on lists such as:\n",
    " - checking its length (number of students in a lab group)\n",
    " - sorting the names in the list into alphabetical order\n",
    " - making a list of lists (we call this a *nested list*):\n"
   ]
  },
  {
   "cell_type": "code",
   "execution_count": 5,
   "metadata": {
    "collapsed": true
   },
   "outputs": [],
   "source": [
    "lab_groups = [lab_group0, lab_group1]"
   ]
  },
  {
   "cell_type": "markdown",
   "metadata": {
    "slideshow": {
     "slide_type": "slide"
    }
   },
   "source": [
    "## Lists"
   ]
  },
  {
   "cell_type": "markdown",
   "metadata": {
    "slideshow": {
     "slide_type": "slide"
    }
   },
   "source": [
    "A list is a sequence of data. \n",
    "\n",
    "We call each item in the sequence an *element*. \n",
    "\n",
    "A list is constructed using square brackets:\n",
    "\n"
   ]
  },
  {
   "cell_type": "code",
   "execution_count": 6,
   "metadata": {
    "collapsed": true
   },
   "outputs": [],
   "source": [
    "a = [1, 2, 3]"
   ]
  },
  {
   "cell_type": "markdown",
   "metadata": {
    "slideshow": {
     "slide_type": "slide"
    }
   },
   "source": [
    "A `range` can be converted to a list with the `list` function."
   ]
  },
  {
   "cell_type": "code",
   "execution_count": 7,
   "metadata": {},
   "outputs": [
    {
     "name": "stdout",
     "output_type": "stream",
     "text": [
      "[0, 1, 2, 3, 4, 5, 6, 7, 8, 9]\n"
     ]
    }
   ],
   "source": [
    "print(list(range(10)))"
   ]
  },
  {
   "cell_type": "markdown",
   "metadata": {
    "slideshow": {
     "slide_type": "slide"
    }
   },
   "source": [
    "When `range` has just one *argument* (the entry in the parentheses), it will generate a range from 0 up to but not including the specified number. \n"
   ]
  },
  {
   "cell_type": "code",
   "execution_count": 8,
   "metadata": {
    "slideshow": {
     "slide_type": "slide"
    }
   },
   "outputs": [
    {
     "name": "stdout",
     "output_type": "stream",
     "text": [
      "[10, 11, 12, 13, 14, 15, 16, 17, 18, 19]\n"
     ]
    }
   ],
   "source": [
    "print(list(range(10,20)))"
   ]
  },
  {
   "cell_type": "markdown",
   "metadata": {
    "slideshow": {
     "slide_type": "-"
    }
   },
   "source": [
    "When a range has two arguments:\n",
    " - the first value is the starting value.\n",
    " - the second value is the stoping value.\n",
    " - the stopping value is not included in the range"
   ]
  },
  {
   "cell_type": "markdown",
   "metadata": {
    "slideshow": {
     "slide_type": "slide"
    }
   },
   "source": [
    "You can optionally include a step:"
   ]
  },
  {
   "cell_type": "code",
   "execution_count": 9,
   "metadata": {},
   "outputs": [
    {
     "name": "stdout",
     "output_type": "stream",
     "text": [
      "[10, 12, 14, 16, 18]\n"
     ]
    }
   ],
   "source": [
    "print(list(range(10, 20, 2)))"
   ]
  },
  {
   "cell_type": "markdown",
   "metadata": {
    "slideshow": {
     "slide_type": "slide"
    }
   },
   "source": [
    "A list can hold a mixture of types (`int`, `string`....)."
   ]
  },
  {
   "cell_type": "code",
   "execution_count": 10,
   "metadata": {
    "collapsed": true
   },
   "outputs": [],
   "source": [
    "a = [1, 2.0, \"three\"]"
   ]
  },
  {
   "cell_type": "markdown",
   "metadata": {
    "slideshow": {
     "slide_type": "slide"
    }
   },
   "source": [
    "An empty list is created by"
   ]
  },
  {
   "cell_type": "code",
   "execution_count": 11,
   "metadata": {
    "collapsed": true
   },
   "outputs": [],
   "source": [
    "my_list = []"
   ]
  },
  {
   "cell_type": "markdown",
   "metadata": {
    "slideshow": {
     "slide_type": "slide"
    }
   },
   "source": [
    "A list of length 5 with repeated values can be created by"
   ]
  },
  {
   "cell_type": "code",
   "execution_count": 12,
   "metadata": {},
   "outputs": [
    {
     "name": "stdout",
     "output_type": "stream",
     "text": [
      "['Hello', 'Hello', 'Hello', 'Hello', 'Hello']\n"
     ]
    }
   ],
   "source": [
    "my_list = [\"Hello\"]*5\n",
    "print(my_list)"
   ]
  },
  {
   "cell_type": "markdown",
   "metadata": {
    "slideshow": {
     "slide_type": "slide"
    }
   },
   "source": [
    "We can check if an item is in a list using the function `in`:\n"
   ]
  },
  {
   "cell_type": "code",
   "execution_count": 13,
   "metadata": {},
   "outputs": [
    {
     "name": "stdout",
     "output_type": "stream",
     "text": [
      "True\n",
      "False\n"
     ]
    }
   ],
   "source": [
    "print(\"Hello\" in my_list)\n",
    "print(\"Goodbye\" in my_list)"
   ]
  },
  {
   "cell_type": "markdown",
   "metadata": {
    "slideshow": {
     "slide_type": "slide"
    }
   },
   "source": [
    "<a id='IteratingLists'></a>\n",
    "### Iterating Over Lists\n",
    "\n",
    "Looping over each item in a list is called *iterating*. \n",
    "\n",
    "To iterate over a list of the lab group we use a `for` loop.\n",
    "\n",
    "Each iteration, variable data takes the value of the next item in the list:"
   ]
  },
  {
   "cell_type": "code",
   "execution_count": 14,
   "metadata": {},
   "outputs": [
    {
     "name": "stdout",
     "output_type": "stream",
     "text": [
      "the value of data is: 1\n",
      "the value of data is: 2.0\n",
      "the value of data is: three\n"
     ]
    }
   ],
   "source": [
    "for data in [1, 2.0, \"three\"]:    \n",
    "    print('the value of data is:', data)"
   ]
  },
  {
   "cell_type": "markdown",
   "metadata": {
    "slideshow": {
     "slide_type": "slide"
    }
   },
   "source": [
    "__Try it yourself__\n",
    "\n",
    "\n",
    "In the cell provided in your testbook *iterate* over the list `[1, 2.0, \"three\"]`.\n",
    "\n",
    "Each time the code loops print the value of data __cast as a string__ (Seminar 1 Data Types and Operators)  "
   ]
  },
  {
   "cell_type": "code",
   "execution_count": 15,
   "metadata": {
    "collapsed": true
   },
   "outputs": [],
   "source": [
    "# Iterate over a list and cast each item as a string"
   ]
  },
  {
   "cell_type": "markdown",
   "metadata": {
    "slideshow": {
     "slide_type": "slide"
    }
   },
   "source": [
    "### Manipulating Lists \n",
    "\n",
    "There are many functions for manipulating lists.\n",
    "\n",
    "<a id='Length'></a>\n",
    "\n",
    "### Finding the Length of a List\n",
    "\n",
    "We can find the length (number of items) of a list using the function `len()`, by including the name of the list in the brackets. \n",
    "\n",
    "\n",
    "\n",
    "\n"
   ]
  },
  {
   "cell_type": "markdown",
   "metadata": {
    "slideshow": {
     "slide_type": "slide"
    }
   },
   "source": [
    "In the example below, we find the length of the list `lab_group0`. "
   ]
  },
  {
   "cell_type": "code",
   "execution_count": 16,
   "metadata": {},
   "outputs": [
    {
     "name": "stdout",
     "output_type": "stream",
     "text": [
      "Lab group members: ['Sara', 'Mari', 'Quang']\n",
      "Size of lab group: 3\n",
      "Check the Python object type: <class 'list'>\n"
     ]
    }
   ],
   "source": [
    "lab_group0 = [\"Sara\", \"Mari\", \"Quang\"]\n",
    "\n",
    "size = len(lab_group0)\n",
    "\n",
    "print(\"Lab group members:\", lab_group0)\n",
    "\n",
    "print(\"Size of lab group:\", size)\n",
    "\n",
    "print(\"Check the Python object type:\", type(lab_group0))"
   ]
  },
  {
   "cell_type": "markdown",
   "metadata": {
    "slideshow": {
     "slide_type": "slide"
    }
   },
   "source": [
    "<a id='SortLists'></a>\n",
    "### Sorting Lists\n",
    "\n",
    "To sort the list we use `sorted()`.\n",
    "\n",
    "#### Sorting Numerically\n",
    "\n",
    "If the list contains numerical variables, the numbers is sorted in ascending order."
   ]
  },
  {
   "cell_type": "code",
   "execution_count": 17,
   "metadata": {
    "scrolled": true
   },
   "outputs": [
    {
     "name": "stdout",
     "output_type": "stream",
     "text": [
      "[7, 1, 3.0]\n",
      "[1, 3.0, 7]\n"
     ]
    }
   ],
   "source": [
    "numbers = [7, 1, 3.0]\n",
    "\n",
    "print(numbers)\n",
    "\n",
    "numbers = sorted(numbers)\n",
    "\n",
    "print(numbers)"
   ]
  },
  {
   "cell_type": "markdown",
   "metadata": {
    "slideshow": {
     "slide_type": "slide"
    }
   },
   "source": [
    "__Note:__ We can sort a list with mixed numeric types (e.g. `float` and `int`). \n",
    "\n",
    "However, we cannot sort a list with types that cannot be sorted by the same ordering rule \n",
    "\n",
    "(e.g. `numbers = sorted([seven, 1, 3.0])` causes an error.)"
   ]
  },
  {
   "cell_type": "code",
   "execution_count": 18,
   "metadata": {
    "collapsed": true
   },
   "outputs": [],
   "source": [
    "# numbers = sorted([seven, 1, 3.0])"
   ]
  },
  {
   "cell_type": "markdown",
   "metadata": {
    "slideshow": {
     "slide_type": "slide"
    }
   },
   "source": [
    "#### Sorting Alphabetically\n",
    "\n",
    "If the list contains strings, the list is sorted by alphabetical order. "
   ]
  },
  {
   "cell_type": "code",
   "execution_count": 19,
   "metadata": {},
   "outputs": [
    {
     "name": "stdout",
     "output_type": "stream",
     "text": [
      "['Sara', 'Mari', 'Quang']\n",
      "['Mari', 'Quang', 'Sara']\n"
     ]
    }
   ],
   "source": [
    "lab_group0 = [\"Sara\", \"Mari\", \"Quang\"]\n",
    "\n",
    "print(lab_group0)\n",
    "\n",
    "lab_group0 = sorted(lab_group0)\n",
    "\n",
    "print(lab_group0)"
   ]
  },
  {
   "cell_type": "markdown",
   "metadata": {
    "slideshow": {
     "slide_type": "slide"
    }
   },
   "source": [
    "As with `len()` we include the name of the list we want to sort in the brackets. "
   ]
  },
  {
   "cell_type": "markdown",
   "metadata": {},
   "source": [
    "There is a shortcut for sorting a list\n",
    "\n",
    "`sort` is known as a 'method' of a `list`. \n",
    "\n",
    "If we suffix a list with `.sort()`, it performs an *in-place* sort."
   ]
  },
  {
   "cell_type": "code",
   "execution_count": 20,
   "metadata": {
    "slideshow": {
     "slide_type": "slide"
    }
   },
   "outputs": [
    {
     "name": "stdout",
     "output_type": "stream",
     "text": [
      "['Sara', 'Mari', 'Quang']\n",
      "['Mari', 'Quang', 'Sara']\n"
     ]
    }
   ],
   "source": [
    "lab_group0 = [\"Sara\", \"Mari\", \"Quang\"]\n",
    "\n",
    "print(lab_group0)\n",
    "\n",
    "#lab_group0 = sorted(lab_group0)\n",
    "lab_group0.sort()\n",
    "\n",
    "print(lab_group0)"
   ]
  },
  {
   "cell_type": "markdown",
   "metadata": {
    "slideshow": {
     "slide_type": "slide"
    }
   },
   "source": [
    "__Try it yourself__\n",
    "\n",
    "In the cell provided in your textbook create a list of __numeric__ or __string__ values.\n",
    "\n",
    "Sort the list using `sorted()` __or__ `.sort()`.\n",
    "\n",
    "Print the sorted list.\n",
    "\n",
    "Print the length of the list using `len()`."
   ]
  },
  {
   "cell_type": "code",
   "execution_count": 21,
   "metadata": {
    "collapsed": true
   },
   "outputs": [],
   "source": [
    "# Sorting a list"
   ]
  },
  {
   "cell_type": "markdown",
   "metadata": {
    "slideshow": {
     "slide_type": "slide"
    }
   },
   "source": [
    "### Removing an Item from a List\n",
    "\n",
    "We can remove items from a list using the method `pop`.\n",
    "\n",
    "We place the index of the element we wich to remove in brackets. "
   ]
  },
  {
   "cell_type": "code",
   "execution_count": 22,
   "metadata": {},
   "outputs": [
    {
     "name": "stdout",
     "output_type": "stream",
     "text": [
      "['Mari', 'Quang', 'Sara']\n",
      "['Mari', 'Sara']\n"
     ]
    }
   ],
   "source": [
    "# Remove the second student from the list: lab_group0\n",
    "# remember indexing starts from 0\n",
    "# 1 is the second element\n",
    "\n",
    "print(lab_group0)\n",
    "\n",
    "lab_group0.pop(1)\n",
    "\n",
    "print(lab_group0)"
   ]
  },
  {
   "cell_type": "markdown",
   "metadata": {
    "slideshow": {
     "slide_type": "slide"
    }
   },
   "source": [
    "We can add items at the end of a list using the method `append`.\n",
    "\n",
    "We place the element we want to add to the end of the list in brackets. "
   ]
  },
  {
   "cell_type": "code",
   "execution_count": 23,
   "metadata": {},
   "outputs": [
    {
     "name": "stdout",
     "output_type": "stream",
     "text": [
      "['Mari', 'Sara', 'Lia']\n"
     ]
    }
   ],
   "source": [
    "# Add new student \"Lia\" at the end of the list\n",
    "lab_group0.append(\"Lia\")\n",
    "print(lab_group0)"
   ]
  },
  {
   "cell_type": "markdown",
   "metadata": {
    "slideshow": {
     "slide_type": "slide"
    }
   },
   "source": [
    "__Try it yourself__\n",
    "\n",
    "In the cell provided in your textbook.\n",
    "\n",
    "Remove Sara from the list.\n",
    "\n",
    "Print the new list.\n",
    "\n",
    "Add a new lab group member, Tom, to the list.\n",
    "\n",
    "Print the new list."
   ]
  },
  {
   "cell_type": "code",
   "execution_count": 24,
   "metadata": {
    "collapsed": true
   },
   "outputs": [],
   "source": [
    "# Adding and removing items from a list."
   ]
  },
  {
   "cell_type": "markdown",
   "metadata": {
    "slideshow": {
     "slide_type": "slide"
    }
   },
   "source": [
    "### Indexing\n",
    "\n",
    "Lists store data in order.\n",
    "\n",
    "We can select a single element of a list using its __index__.\n",
    "\n",
    "You are familiar with this process; it is the same as selecting individual characters of a `string`:"
   ]
  },
  {
   "cell_type": "code",
   "execution_count": 25,
   "metadata": {},
   "outputs": [
    {
     "name": "stdout",
     "output_type": "stream",
     "text": [
      "t\n"
     ]
    }
   ],
   "source": [
    "a = \"string\"\n",
    "b = a[1]\n",
    "print(b)"
   ]
  },
  {
   "cell_type": "code",
   "execution_count": 26,
   "metadata": {},
   "outputs": [
    {
     "name": "stdout",
     "output_type": "stream",
     "text": [
      "Mari\n"
     ]
    }
   ],
   "source": [
    "first_member = lab_group0[0]\n",
    "print(first_member)"
   ]
  },
  {
   "cell_type": "markdown",
   "metadata": {
    "slideshow": {
     "slide_type": "slide"
    }
   },
   "source": [
    "Indices can be useful when looping through the items in a list.`"
   ]
  },
  {
   "cell_type": "code",
   "execution_count": 27,
   "metadata": {},
   "outputs": [
    {
     "name": "stdout",
     "output_type": "stream",
     "text": [
      "Mari\n",
      "Sara\n",
      "Lia\n",
      "Mari\n",
      "Sara\n",
      "Lia\n"
     ]
    }
   ],
   "source": [
    "# We can express the following for loop:\n",
    "# ITERATING\n",
    "for i in lab_group0:\n",
    "    print(i)\n",
    "    \n",
    "# as:\n",
    "# INDEXING\n",
    "for i in range(len(lab_group0)):\n",
    "    print(lab_group0[i])"
   ]
  },
  {
   "cell_type": "markdown",
   "metadata": {
    "slideshow": {
     "slide_type": "slide"
    }
   },
   "source": [
    "__Note:__<br>\n",
    "- Some data structures that support *iterating* but do not support *indexing*. <br> When possible, it is better to iterate over a list rather than use indexing.\n",
    "- When indexing:\n",
    "   - the first value in the range is 0.\n",
    "   - the last value in the range is (list length - 1). "
   ]
  },
  {
   "cell_type": "markdown",
   "metadata": {
    "slideshow": {
     "slide_type": "slide"
    }
   },
   "source": [
    "Lists and indexing can be useful for numerical computations. \n",
    "\n",
    "### Indexing Example: Vectors\n",
    "\n",
    "__Vector:__ A quantity with magnitude and direction.\n",
    "\n",
    "\n"
   ]
  },
  {
   "cell_type": "markdown",
   "metadata": {
    "slideshow": {
     "slide_type": "slide"
    }
   },
   "source": [
    "Position vectors (or displacement vectors) in 3D space can always be expressed in terms of x,y, and z-directions.  \n",
    "\n",
    "<img src=\"../../../ILAS_seminars/intro to python/img/3d_position_vector.png\" alt=\"Drawing\" style=\"width: 175px;\"/>\n",
    "\n",
    "The position vector 𝒓 indicates the position of a point in 3D space.\n",
    "\n",
    "$$\n",
    "\\mathbf{r} = x\\mathbf{i} + y\\mathbf{j} + z\\mathbf{k}\n",
    "$$\n",
    "\n"
   ]
  },
  {
   "cell_type": "markdown",
   "metadata": {
    "slideshow": {
     "slide_type": "slide"
    }
   },
   "source": [
    "$$\n",
    "\\mathbf{r} = x\\mathbf{i} + y\\mathbf{j} + z\\mathbf{k}\n",
    "$$\n",
    "\n",
    "𝒊 is the displacement one unit in the x-direction<br>\n",
    "𝒋 is the displacement one unit in the y-direction<br>\n",
    "𝒌 is the displacement one unit in the z-direction\n",
    "\n",
    "We can conveniently express $\\mathbf{r}$ as a matrix: \n",
    "$$\n",
    "\\mathbf{r} = [x, y, z]\n",
    "$$\n",
    "\n",
    "__...which looks a lot like a Python list!__\n"
   ]
  },
  {
   "cell_type": "markdown",
   "metadata": {
    "slideshow": {
     "slide_type": "slide"
    }
   },
   "source": [
    "You will encounter 3D vectors a lot in your engineering studies as they are used to describe many physical quantities, e.g. force."
   ]
  },
  {
   "cell_type": "markdown",
   "metadata": {
    "slideshow": {
     "slide_type": "slide"
    }
   },
   "source": [
    "<a id='DotProductLists'></a>\n",
    "\n",
    "### Indexing Example: The dot product of two vectors:\n",
    "\n",
    "The __dot product__ is a really useful algebraic operation that takes two equal-length sequences of numbers (usually coordinate vectors) and returns a single number.\n",
    "\n",
    "It can be expressed mathematically as..."
   ]
  },
  {
   "cell_type": "markdown",
   "metadata": {
    "slideshow": {
     "slide_type": "slide"
    }
   },
   "source": [
    "__GEOMETRIC REPRESENTATION__\n",
    "\n",
    "\\begin{align}\n",
    "\\mathbf{A} \\cdot \\mathbf{B} = |\\mathbf{A}| |\\mathbf{B}| cos(\\theta)\n",
    "\\end{align}\n",
    "\n",
    "<img src=\"../../../ILAS_seminars/intro to python/img/dot_product.gif\" alt=\"Drawing\" style=\"width: 250px;\"/>\n",
    "&nbsp;&nbsp;&nbsp;&nbsp; $\\mathbf{B} cos(\\theta)$ is the component of $B$ acting in the direction of $A$."
   ]
  },
  {
   "cell_type": "markdown",
   "metadata": {
    "slideshow": {
     "slide_type": "slide"
    }
   },
   "source": [
    "&nbsp;&nbsp;&nbsp;&nbsp; $\\mathbf{B} cos(\\theta)$ is the component of $B$ acting in the direction of $A$.\n",
    "\n",
    "For example, the component of a force, $\\mathbf{F_{app}}$, acting in the direction of the velocity of an object (x direction):\n",
    "\n",
    "<img src=\"../../../ILAS_seminars/intro to python/img/resolving_force.png\" alt=\"Drawing\" style=\"width: 250px;\"/>\n",
    "\n",
    "$$\n",
    "\\mathbf{F_{app,x}} = \\mathbf{F_{app}}cos(\\theta)\n",
    "$$"
   ]
  },
  {
   "cell_type": "markdown",
   "metadata": {
    "slideshow": {
     "slide_type": "slide"
    }
   },
   "source": [
    "__ALGEBRAIC REPRESENTATION__\n",
    "\n",
    ">The dot product of two $n$-length-vectors:\n",
    "> <br> $ \\mathbf{A} = [A_1, A_2, ... A_n]$\n",
    "> <br> $ \\mathbf{B} = [B_1, B_2, ... B_n]$\n",
    "> <br> is: \n",
    "\n",
    "\\begin{align}\n",
    "\\mathbf{A} \\cdot \\mathbf{B} = \\sum_{i=1}^n A_i B_i.\n",
    "\\end{align}\n",
    "\n"
   ]
  },
  {
   "cell_type": "markdown",
   "metadata": {},
   "source": [
    ">So the dot product of two 3D vectors:\n",
    "> <br> $ \\mathbf{A} = [A_x, A_y, A_z]$\n",
    "> <br> $ \\mathbf{B} = [B_x, B_y, B_z]$\n",
    "> <br> is:\n",
    "\n",
    "\\begin{align}\n",
    "\\mathbf{A} \\cdot \\mathbf{B} &= \\sum_{i=1}^n A_i B_i \\\\\n",
    "&= A_x B_x + A_y B_y + A_z B_z.\n",
    "\\end{align}\n",
    "\n",
    "__Example:__ \n",
    "<br> The dot product $\\mathbf{A} \\cdot \\mathbf{B}$:\n",
    "> <br> $ \\mathbf{A} = [1, 3, −5]$\n",
    "> <br> $ \\mathbf{B} = [4, −2, −1]$\n",
    "\n",
    "\n",
    "\n",
    "\\begin{align}\n",
    "      {\\displaystyle {\\begin{aligned}\\ [1,3,-5]\\cdot [4,-2,-1]&=(1)(4)+(3)(-2)+(-5)(-1)\\\\&=4-6+5\\\\&=3\\end{aligned}}} \n",
    "\\end{align}"
   ]
  },
  {
   "cell_type": "markdown",
   "metadata": {
    "slideshow": {
     "slide_type": "slide"
    }
   },
   "source": [
    "\n",
    "\n",
    "We can solve this very easily using a Python `for` loop.\n",
    "\n"
   ]
  },
  {
   "cell_type": "code",
   "execution_count": 28,
   "metadata": {
    "slideshow": {
     "slide_type": "slide"
    }
   },
   "outputs": [
    {
     "name": "stdout",
     "output_type": "stream",
     "text": [
      "3.0\n"
     ]
    }
   ],
   "source": [
    "A = [1.0, 3.0, -5.0]\n",
    "B = [4.0, -2.0, -1.0]\n",
    "\n",
    "# Create a variable called dot_product with value, 0.\n",
    "dot_product = 0.0\n",
    "\n",
    "for i in range(len(A)):\n",
    "    dot_product += A[i]*B[i]\n",
    "\n",
    "print(dot_product)"
   ]
  },
  {
   "cell_type": "markdown",
   "metadata": {
    "slideshow": {
     "slide_type": "slide"
    }
   },
   "source": [
    "From is __GEOMETRIC__ representation, we can see that the dot product allows us to quickly solve many engineering-related problems..."
   ]
  },
  {
   "cell_type": "markdown",
   "metadata": {
    "collapsed": true,
    "slideshow": {
     "slide_type": "slide"
    }
   },
   "source": [
    "\\begin{align}\n",
    "\\mathbf{A} \\cdot \\mathbf{B} = |\\mathbf{A}| |\\mathbf{B}| cos(\\theta)\n",
    "\\end{align}\n",
    "\n",
    "Examples:\n",
    " - Test if two vectors are:\n",
    "   - perpendicular ($\\mathbf{A} \\cdot \\mathbf{B}==0$)\n",
    "   - acute ($\\mathbf{A} \\cdot \\mathbf{B}>0$)\n",
    "   - obtuse ($\\mathbf{A} \\cdot \\mathbf{B}<0$)\n",
    " - Find the angle between two vectors (from its cosine).\n",
    " - Find the magnitude of one vector in the direction of another.\n",
    " - Find physical quantities e.g. the work, W, when pushing an object a certain distance, d, with force, F:\n",
    " \n",
    " <img src=\"../../../ILAS_seminars/intro to python/img/work_equation.jpg\" alt=\"Drawing\" style=\"width: 300px;\"/>\n"
   ]
  },
  {
   "cell_type": "markdown",
   "metadata": {
    "slideshow": {
     "slide_type": "slide"
    }
   },
   "source": [
    "__Try it yourself:__ \n",
    "\n",
    "$\\mathbf{C} = [2, 4, 3.5]$\n",
    "\n",
    "$\\mathbf{D} = [1, 2, -6]$\n",
    "\n",
    "In the cell provided in your textbook find:\n",
    "$\\mathbf{C} \\cdot \\mathbf{D}$\n",
    "\n",
    "using a for loop and the indices of Python lists. \n",
    "\n",
    "Is the angle between the vectors obtuse or acute or are the vectors perpendicular? \n",
    "\n",
    "(Perpendicular if $\\mathbf{A} \\cdot \\mathbf{B}==0$, acute if $\\mathbf{A} \\cdot \\mathbf{B}>0$, or obtuse if $\\mathbf{A} \\cdot \\mathbf{B}<0$).\n",
    " "
   ]
  },
  {
   "cell_type": "code",
   "execution_count": 29,
   "metadata": {
    "collapsed": true
   },
   "outputs": [],
   "source": [
    "# The dot product of C and D"
   ]
  },
  {
   "cell_type": "markdown",
   "metadata": {
    "collapsed": true,
    "slideshow": {
     "slide_type": "slide"
    }
   },
   "source": [
    "<a id='NestedList'></a>\n",
    "### Nested Data Structures: Lists of Lists\n",
    "\n",
    "A *nested list* is a list within a list. (Recall *nested loops* from Seminar 1: Control Flow). \n",
    "\n",
    "To access a __single element__ we need as many indices as there are levels of nested list. \n",
    "\n",
    "This is more easily explained with an example:"
   ]
  },
  {
   "cell_type": "code",
   "execution_count": 30,
   "metadata": {
    "collapsed": true,
    "slideshow": {
     "slide_type": "slide"
    }
   },
   "outputs": [],
   "source": [
    "lab_group0 = [\"Sara\", \"Mika\", \"Ryo\", \"Am\"]\n",
    "lab_group1 = [\"Hemma\", \"Miri\", \"Qui\", \"Sajid\"]\n",
    "lab_group2 = [\"Adam\", \"Yukari\", \"Farad\", \"Fumitoshi\"]\n",
    "\n",
    "lab_groups = [lab_group0, lab_group1]"
   ]
  },
  {
   "cell_type": "markdown",
   "metadata": {},
   "source": [
    "`lab_group0`, `lab_group1` and `lab_group2` are nested within `lab_groups`.\n",
    "\n"
   ]
  },
  {
   "cell_type": "markdown",
   "metadata": {
    "slideshow": {
     "slide_type": "slide"
    }
   },
   "source": [
    "There are __two__ levels of nested lists.\n",
    "\n",
    "We need __two__ indices to select a single elememt from `lab_group0`, `lab_group1` or `lab_group2`. \n",
    "    \n",
    "The first index: a list (`lab_group0`, `lab_group1` or `lab_group2`). \n",
    "    \n",
    "The second index: an element in that list. "
   ]
  },
  {
   "cell_type": "code",
   "execution_count": 31,
   "metadata": {
    "slideshow": {
     "slide_type": "slide"
    }
   },
   "outputs": [
    {
     "name": "stdout",
     "output_type": "stream",
     "text": [
      "['Sara', 'Mika', 'Ryo', 'Am']\n",
      "Qui\n"
     ]
    }
   ],
   "source": [
    "group = lab_groups[0]\n",
    "print(group)\n",
    "\n",
    "name = lab_groups[1][2]\n",
    "print(name)"
   ]
  },
  {
   "cell_type": "markdown",
   "metadata": {
    "slideshow": {
     "slide_type": "slide"
    }
   },
   "source": [
    "## Tuples\n",
    "\n",
    "Tuples are similar to lists. \n",
    "\n",
    "However, after creatig a tuple:\n",
    " - you cannot add or remove elements from it without creating a new tuple. \n",
    " - you cannot change the value of a single tuple element e.g. by indexing. \n",
    "\n",
    "\n"
   ]
  },
  {
   "cell_type": "markdown",
   "metadata": {
    "slideshow": {
     "slide_type": "slide"
    }
   },
   "source": [
    "Tuples are therefore used for values that should not change after being created.\n",
    "<br> e.g. a vector of length three with fixed entries\n",
    "<br>It is 'safer' in this case since it cannot be modified accidentally in a program. \n",
    "\n",
    "To create a tuple, use () parentheses.\n"
   ]
  },
  {
   "cell_type": "markdown",
   "metadata": {
    "slideshow": {
     "slide_type": "slide"
    }
   },
   "source": [
    "__Example__\n",
    "In Kyoto University, each professor is assigned an office.\n",
    "\n",
    "Philamore-sensei is given room 32:"
   ]
  },
  {
   "cell_type": "code",
   "execution_count": 32,
   "metadata": {},
   "outputs": [
    {
     "name": "stdout",
     "output_type": "stream",
     "text": [
      "Room allocation: ('Philamore', 32)\n",
      "Length of entry: 2\n",
      "<class 'tuple'>\n"
     ]
    }
   ],
   "source": [
    "room = (\"Philamore\", 32)\n",
    "\n",
    "print(\"Room allocation:\", room)\n",
    "\n",
    "print(\"Length of entry:\", len(room))\n",
    "\n",
    "print(type(room))"
   ]
  },
  {
   "cell_type": "markdown",
   "metadata": {
    "slideshow": {
     "slide_type": "slide"
    }
   },
   "source": [
    "<a id='IteratingTuples'></a>\n",
    "### Iterating over Tuples \n",
    "\n",
    "We can *iterate* over tuples in the same way as with lists,"
   ]
  },
  {
   "cell_type": "code",
   "execution_count": 33,
   "metadata": {},
   "outputs": [
    {
     "name": "stdout",
     "output_type": "stream",
     "text": [
      "Philamore\n",
      "32\n"
     ]
    }
   ],
   "source": [
    "# Iterate over tuple values\n",
    "for d in room:\n",
    "    print(d)"
   ]
  },
  {
   "cell_type": "markdown",
   "metadata": {
    "slideshow": {
     "slide_type": "slide"
    }
   },
   "source": [
    "###  Indexing\n",
    "\n",
    "We can index into a tuple:"
   ]
  },
  {
   "cell_type": "code",
   "execution_count": 34,
   "metadata": {},
   "outputs": [
    {
     "name": "stdout",
     "output_type": "stream",
     "text": [
      "32\n",
      "Philamore\n"
     ]
    }
   ],
   "source": [
    "# Index into tuple values\n",
    "print(room[1])\n",
    "print(room[0])"
   ]
  },
  {
   "cell_type": "markdown",
   "metadata": {
    "slideshow": {
     "slide_type": "slide"
    }
   },
   "source": [
    "__Note__ Take care when creating a tuple of length 1:"
   ]
  },
  {
   "cell_type": "code",
   "execution_count": 35,
   "metadata": {},
   "outputs": [
    {
     "name": "stdout",
     "output_type": "stream",
     "text": [
      "[1]\n",
      "<class 'list'>\n",
      "1\n"
     ]
    }
   ],
   "source": [
    "# Creating a list of length 1 \n",
    "a = [1]\n",
    "print(a)\n",
    "print(type(a))\n",
    "print(len(a))"
   ]
  },
  {
   "cell_type": "markdown",
   "metadata": {
    "slideshow": {
     "slide_type": "slide"
    }
   },
   "source": [
    "However, if we use the same process for a tuple:"
   ]
  },
  {
   "cell_type": "code",
   "execution_count": 36,
   "metadata": {},
   "outputs": [
    {
     "name": "stdout",
     "output_type": "stream",
     "text": [
      "1\n",
      "<class 'int'>\n"
     ]
    }
   ],
   "source": [
    "a = (1)\n",
    "print(a)\n",
    "print(type(a))\n",
    "#print(len(a))"
   ]
  },
  {
   "cell_type": "markdown",
   "metadata": {
    "slideshow": {
     "slide_type": "slide"
    }
   },
   "source": [
    "To create a tuple of length 1, we use a comma:"
   ]
  },
  {
   "cell_type": "code",
   "execution_count": 37,
   "metadata": {},
   "outputs": [
    {
     "name": "stdout",
     "output_type": "stream",
     "text": [
      "(1,)\n",
      "<class 'tuple'>\n",
      "1\n"
     ]
    }
   ],
   "source": [
    "a = (1,)\n",
    "print(a)\n",
    "print(type(a))\n",
    "print(len(a))"
   ]
  },
  {
   "cell_type": "code",
   "execution_count": 38,
   "metadata": {},
   "outputs": [
    {
     "ename": "SyntaxError",
     "evalue": "invalid syntax (<ipython-input-38-2ef7c9060e21>, line 2)",
     "output_type": "error",
     "traceback": [
      "\u001b[0;36m  File \u001b[0;32m\"<ipython-input-38-2ef7c9060e21>\"\u001b[0;36m, line \u001b[0;32m2\u001b[0m\n\u001b[0;31m    print(\"Room allocation:\", room))\u001b[0m\n\u001b[0m                                   ^\u001b[0m\n\u001b[0;31mSyntaxError\u001b[0m\u001b[0;31m:\u001b[0m invalid syntax\n"
     ]
    }
   ],
   "source": [
    "room = (\"Endo\",)\n",
    "print(\"Room allocation:\", room))\n",
    "print(\"Length of entry:\", len(room))\n",
    "print(type(room))"
   ]
  },
  {
   "cell_type": "markdown",
   "metadata": {
    "slideshow": {
     "slide_type": "slide"
    }
   },
   "source": [
    "### Nested Data Structures: Lists of Tuples\n",
    "As part of a rooms database, we can create a list of tuples:"
   ]
  },
  {
   "cell_type": "code",
   "execution_count": null,
   "metadata": {
    "collapsed": true
   },
   "outputs": [],
   "source": [
    "room_allocation = [(\"Endo\",), \n",
    "                   (\"Philamore\", 32), \n",
    "                   (\"Matsuno\", 31), \n",
    "                   (\"Sawaragi\", 28), \n",
    "                   (\"Okino\", 28), \n",
    "                   (\"Kumegawa\", 19)]\n",
    "\n",
    "print(room_allocation)"
   ]
  },
  {
   "cell_type": "markdown",
   "metadata": {
    "slideshow": {
     "slide_type": "slide"
    }
   },
   "source": [
    "Index into the list room allocation \n",
    "\n",
    "Refer to <a href='#NestedList'>Link to the destination'</a> for how to index into *nested* data structures.\n",
    "\n",
    "In the cell below use indexing to print:\n",
    " - Matsuno-sensei's room number\n",
    " - Kumegawa-sensei's room number\n",
    " - The variable type of Kumegawa-sensei's room number"
   ]
  },
  {
   "cell_type": "code",
   "execution_count": null,
   "metadata": {
    "collapsed": true,
    "slideshow": {
     "slide_type": "-"
    }
   },
   "outputs": [],
   "source": [
    "# Matsuno-sensei's room number\n",
    "\n",
    "# Kumegawa-sensei's room number\n",
    "\n",
    "# The Python variable type of Kumegawa-sensei's room number\n"
   ]
  },
  {
   "cell_type": "markdown",
   "metadata": {
    "slideshow": {
     "slide_type": "slide"
    }
   },
   "source": [
    "### Sorting Tuples\n",
    "To make it easier to look up the office number each professor, we can __sort__ the list of tuples into an office directory."
   ]
  },
  {
   "cell_type": "markdown",
   "metadata": {
    "slideshow": {
     "slide_type": "slide"
    }
   },
   "source": [
    "The ordering rule is determined by the __first element__ of each tuple.\n",
    "\n",
    "If the first element of each tuple is a numeric type (`int`, `float`...) the tulpes are sorted by ascending numerical order of the first element:\n",
    "\n",
    "If the first element of each tuple is a `string` (as in this case), the tuples are sorted by alphabetical order of the first element."
   ]
  },
  {
   "cell_type": "markdown",
   "metadata": {
    "slideshow": {
     "slide_type": "slide"
    }
   },
   "source": [
    "A tuple is sorted using the same method to sort a list. \n",
    "\n",
    "Refer to <a href='#SortLists'>Sorting Lists</a> remind yourself of this method.\n",
    "\n",
    "In the cell provided below, sort the list, `room_allocation` by alphabetical order. "
   ]
  },
  {
   "cell_type": "code",
   "execution_count": null,
   "metadata": {
    "collapsed": true
   },
   "outputs": [],
   "source": [
    "# room_allocation sorted by alphabetical order"
   ]
  },
  {
   "cell_type": "markdown",
   "metadata": {
    "slideshow": {
     "slide_type": "slide"
    }
   },
   "source": [
    "The office directory can be improved by excluding professors who do not have an office at Yoshida campus:"
   ]
  },
  {
   "cell_type": "code",
   "execution_count": null,
   "metadata": {
    "collapsed": true
   },
   "outputs": [],
   "source": [
    "for entry in room_allocation:\n",
    "    \n",
    "    # only professors with an office have an entry length > 1\n",
    "    if len(entry) > 1:\n",
    "        print(\"Name:\", entry[0], \", Room:\", entry[1])"
   ]
  },
  {
   "cell_type": "markdown",
   "metadata": {
    "slideshow": {
     "slide_type": "slide"
    }
   },
   "source": [
    "In summary, use tuples over lists when the length will not change."
   ]
  },
  {
   "cell_type": "markdown",
   "metadata": {
    "slideshow": {
     "slide_type": "slide"
    }
   },
   "source": [
    "<a id='Dictionaries'></a>\n",
    "## Dictionaries \n",
    "\n",
    "We used a list of tuples in the previous section to store room allocations. \n",
    "\n",
    "What if we wanted to use a program to find which room a particular professor has been allocated?\n",
    "\n",
    "we would need to either:\n",
    "- iterate through the list and check each name. \n",
    "\n",
    "> For a very large list, this might not be very efficient.\n",
    "\n",
    "- use the index to select a specific entry of a list or tuple. \n",
    "\n",
    "> This works if we know the index to the entry of interest. For a very large list, this is unlikely."
   ]
  },
  {
   "cell_type": "markdown",
   "metadata": {
    "slideshow": {
     "slide_type": "slide"
    }
   },
   "source": [
    "A human looking would identify individuals in an office directory by name (or \"keyword\") rather than a continuous set of integers. \n",
    "\n",
    "Using a Python __dictionary__ we can build a 'map' from names (*keys*) to room numbers (*values*). \n",
    "\n",
    "A Python dictionary (`dict`) is declared using curly braces:"
   ]
  },
  {
   "cell_type": "code",
   "execution_count": null,
   "metadata": {
    "collapsed": true
   },
   "outputs": [],
   "source": [
    "room_allocation = {\"Endo\": None, \n",
    "                   \"Philamore\": 32, \n",
    "                   \"Matsuno\": 31, \n",
    "                   \"Sawaragi\": 28, \n",
    "                   \"Okino\": 28, \n",
    "                   \"Kumegawa\": 19}\n",
    "\n",
    "print(room_allocation)\n",
    "\n",
    "print(type(room_allocation))"
   ]
  },
  {
   "cell_type": "markdown",
   "metadata": {
    "slideshow": {
     "slide_type": "slide"
    }
   },
   "source": [
    "Each entry is separated by a comma. \n",
    "\n",
    "For each entry we have:\n",
    " - a 'key' (followed by a colon)\n",
    " - a 'value'. \n",
    " \n",
    "__Note:__ For empty values (e.g. `Endo` in the example above) we use '`None`' for the value.\n",
    "\n",
    "`None` is a Python keyword for 'nothing' or 'empty'.\n",
    "\n",
    "Now if we want to know which office belongs to Philamore-sensei, we can query the dictionary by key:"
   ]
  },
  {
   "cell_type": "code",
   "execution_count": null,
   "metadata": {
    "collapsed": true
   },
   "outputs": [],
   "source": [
    "philamore_office = room_allocation[\"Philamore\"]\n",
    "print(philamore_office)"
   ]
  },
  {
   "cell_type": "markdown",
   "metadata": {
    "slideshow": {
     "slide_type": "slide"
    }
   },
   "source": [
    "### Iterating over Dictionaries\n",
    "\n",
    "We can __*iterate*__ over the keys in a dictionary as we iterated over the elements of a list or tuple:\n",
    "\n",
    "__Try it yourself:__\n",
    "<br>\n",
    "Refer back to:\n",
    " - <a href='#IteratingLists'>Iterating Over Lists</a>\n",
    " - <a href='#IteratingTuples'>Iterating Over Tuples</a>\n",
    "to remind yourself how to *iterate* over a data structure.\n",
    "\n",
    "<br>\n",
    "Using __exactly the same method__, iterate over the entries in the dictionary `room allocation` using a `for` loop.\n",
    "<br>\n",
    "Each time the code loops, print the next dictionary entry. "
   ]
  },
  {
   "cell_type": "code",
   "execution_count": null,
   "metadata": {
    "collapsed": true
   },
   "outputs": [],
   "source": [
    "# iterate over the dictionary, room_allocation.\n",
    "# print each entry\n"
   ]
  },
  {
   "cell_type": "markdown",
   "metadata": {
    "slideshow": {
     "slide_type": "slide"
    }
   },
   "source": [
    "We can also iterate over `keys` and `values` seperately by:\n",
    " - creating two variable names before `in` \n",
    " - putting `items()` after the dictionary name"
   ]
  },
  {
   "cell_type": "code",
   "execution_count": null,
   "metadata": {
    "collapsed": true
   },
   "outputs": [],
   "source": [
    "for name, room_number in room_allocation.items():\n",
    "    print(name, room_number)    "
   ]
  },
  {
   "cell_type": "markdown",
   "metadata": {
    "slideshow": {
     "slide_type": "slide"
    }
   },
   "source": [
    "__Try it yourself__<br>\n",
    "Copy and paste the code from the previous cell.\n",
    "<br>\n",
    "Edit it so that it prints the names only. \n",
    "\n",
    "Remember you can __\"comment out\"__ the existing code (instead of deleting it) so that you can refer to it later.\n",
    "e.g.\n",
    "```python\n",
    "#print(name, room_number)\n",
    "```\n"
   ]
  },
  {
   "cell_type": "code",
   "execution_count": null,
   "metadata": {
    "collapsed": true
   },
   "outputs": [],
   "source": [
    "# iterate over the dictionary, room_allocation.\n",
    "# print each name"
   ]
  },
  {
   "cell_type": "markdown",
   "metadata": {
    "slideshow": {
     "slide_type": "slide"
    }
   },
   "source": [
    "Note that the order of the printed entries in the dictionary is different from the input order. \n",
    "\n",
    "A dictionary stores data differently from a list or tuple. \n",
    "\n",
    "\n",
    "\n",
    "\n",
    "\n",
    "\n",
    "\n",
    "\n"
   ]
  },
  {
   "cell_type": "markdown",
   "metadata": {
    "slideshow": {
     "slide_type": "slide"
    }
   },
   "source": [
    "### Look-up Keys\n",
    "\n",
    "Lists and tuples store entries as continuous pieces of memory, which is why we can access entries by index. \n",
    "\n",
    "Indexing cannot be used to access the entries of a dictionary. For example:\n",
    "```python\n",
    "print(room_allocation[0])\n",
    "```\n",
    "raises an error. "
   ]
  },
  {
   "cell_type": "markdown",
   "metadata": {
    "slideshow": {
     "slide_type": "slide"
    }
   },
   "source": [
    "Dictionaries use a different type of storage which allows us to perform look-ups using a 'key'."
   ]
  },
  {
   "cell_type": "markdown",
   "metadata": {
    "slideshow": {
     "slide_type": "slide"
    }
   },
   "source": [
    "print(room_allocation[\"Philamore\"])"
   ]
  },
  {
   "cell_type": "markdown",
   "metadata": {
    "slideshow": {
     "slide_type": "slide"
    }
   },
   "source": [
    "<a id='DictionaryAdd'></a>\n",
    "### Adding Entries to a Dictionary\n",
    "\n",
    "We use this same code to add new entries to an existing dictionary:  "
   ]
  },
  {
   "cell_type": "code",
   "execution_count": null,
   "metadata": {
    "collapsed": true
   },
   "outputs": [],
   "source": [
    "print(room_allocation)\n",
    "\n",
    "room_allocation[\"Fujiwara\"]= 34\n",
    "\n",
    "print(\"\")\n",
    "\n",
    "print(room_allocation)\n"
   ]
  },
  {
   "cell_type": "markdown",
   "metadata": {
    "slideshow": {
     "slide_type": "slide"
    }
   },
   "source": [
    "<a id='DictionaryRemove'></a>\n",
    "### Removing Entries from a Dictionary\n",
    "\n",
    "To remove an item from a disctionary we use the command `del`."
   ]
  },
  {
   "cell_type": "code",
   "execution_count": null,
   "metadata": {
    "collapsed": true
   },
   "outputs": [],
   "source": [
    "print(room_allocation)\n",
    "\n",
    "del room_allocation[\"Fujiwara\"]\n",
    "\n",
    "print(\"\")\n",
    "\n",
    "print(room_allocation)"
   ]
  },
  {
   "cell_type": "markdown",
   "metadata": {
    "slideshow": {
     "slide_type": "slide"
    }
   },
   "source": [
    "__Try it yourself__\n",
    "<br>\n",
    "Okino-sensei is leaving Kyoto University. \n",
    "\n",
    "Her office will be re-allocated to a new member of staff, Ito-sensei.\n",
    "<br>\n",
    "In the cell below, update the dictionary by deleting the entry for Okino-sensei and creating a new entry for Ito-sensei."
   ]
  },
  {
   "cell_type": "code",
   "execution_count": null,
   "metadata": {
    "collapsed": true
   },
   "outputs": [],
   "source": [
    "# Remove Okino-sensei (room 28) from the dictionary.\n",
    "# Add a new entry for Ito-sensei (room 28)"
   ]
  },
  {
   "cell_type": "markdown",
   "metadata": {
    "slideshow": {
     "slide_type": "slide"
    }
   },
   "source": [
    "So far we have used a string variable types for the dictionary keys.\n",
    "\n",
    "However, we can use almost any variable type as a key and we can mix types. \n",
    "\n"
   ]
  },
  {
   "cell_type": "markdown",
   "metadata": {
    "slideshow": {
     "slide_type": "slide"
    }
   },
   "source": [
    "<a id='DictionaryRestructure'></a>\n",
    "### Re-structuring to make a new Dictionary\n",
    "__Example__: We could 'invert' the room allocation dictionary to create a room-to-name map.\n",
    "\n",
    "Let's build a new dictionary (`room_map`) by looping through the old dictionary (`room_allocation`) using a `for` loop:"
   ]
  },
  {
   "cell_type": "code",
   "execution_count": null,
   "metadata": {
    "collapsed": true,
    "slideshow": {
     "slide_type": "slide"
    }
   },
   "outputs": [],
   "source": [
    "# Create empty dictionary\n",
    "room_map = {}\n",
    "\n",
    "# Build dictionary to map 'room number' -> name \n",
    "for name, room_number in room_allocation.items():\n",
    "    \n",
    "    # Insert entry into new dictionary\n",
    "    room_map[room_number] = name\n",
    "\n",
    "print(room_map)"
   ]
  },
  {
   "cell_type": "markdown",
   "metadata": {
    "slideshow": {
     "slide_type": "slide"
    }
   },
   "source": [
    "We can now consult the room-to-name map to find out if a particular room is occupied and by whom.\n",
    "\n",
    "Let's assume some rooms are unoccupied and therefore do not exist in this dictionary.\n",
    "\n",
    "\n"
   ]
  },
  {
   "cell_type": "markdown",
   "metadata": {
    "slideshow": {
     "slide_type": "slide"
    }
   },
   "source": [
    "If we try to use a key that does not exist in the dictionary, e.g.\n",
    "\n",
    "   occupant17 = room_map[17]\n",
    "\n",
    "Python will give an error (raise an exception). \n",
    "\n",
    "If we're not sure that a __key__ is present (that a room is occupied or unocupied in this case), we can check using the funstion in '`in`' \n",
    "<br>(we used this function to check wether an entry exists in a __list__)\n"
   ]
  },
  {
   "cell_type": "code",
   "execution_count": null,
   "metadata": {
    "collapsed": true,
    "slideshow": {
     "slide_type": "slide"
    }
   },
   "outputs": [],
   "source": [
    "print(19 in room_map)\n",
    "print(17 in room_map)"
   ]
  },
  {
   "cell_type": "markdown",
   "metadata": {},
   "source": [
    "So we know that:\n",
    " - room 17 is unoccupied\n",
    " - room 19 is occupied\n"
   ]
  },
  {
   "cell_type": "markdown",
   "metadata": {
    "slideshow": {
     "slide_type": "slide"
    }
   },
   "source": [
    "When using `in`, take care to check for the __key__ (not the value)"
   ]
  },
  {
   "cell_type": "code",
   "execution_count": null,
   "metadata": {
    "collapsed": true
   },
   "outputs": [],
   "source": [
    "print('Kumegawa' in room_map)"
   ]
  },
  {
   "cell_type": "markdown",
   "metadata": {
    "slideshow": {
     "slide_type": "slide"
    }
   },
   "source": [
    "#### We could `in` to avoid generating errors if unoccupied room numbers are entered.  \n",
    "\n",
    "For example, in a program that checks the occupants of rooms by entreing the room number: "
   ]
  },
  {
   "cell_type": "code",
   "execution_count": null,
   "metadata": {
    "collapsed": true
   },
   "outputs": [],
   "source": [
    "rooms_to_check = [17, 19]\n",
    "\n",
    "for room in rooms_to_check:\n",
    "    \n",
    "    if room in room_map:\n",
    "        print(\"Room\", room, \"is occupied by\", room_map[room], \"-sensei\")\n",
    "    \n",
    "    else:\n",
    "        print(\"Room\", room, \"is unoccupied.\")"
   ]
  },
  {
   "cell_type": "markdown",
   "metadata": {},
   "source": [
    "## Choosing a data structure\n",
    "\n",
    "An important task when developing a computer program is selecting the *appropriate* data structure for a task.\n",
    "\n",
    "Here are some examples of the suitablity of the data types we have studied for some common computing tasks.\n"
   ]
  },
  {
   "cell_type": "markdown",
   "metadata": {
    "slideshow": {
     "slide_type": "slide"
    }
   },
   "source": [
    "- __Dynamically changing individual elements of a data structure.__ \n",
    "<br> \n",
    "e.g. updating the occupant of a room number or adding a name to a list of group members.<br> \n",
    "__Lists and dictionaries__ allow us to do this.<br> \n",
    "__Tuples__ do not."
   ]
  },
  {
   "cell_type": "markdown",
   "metadata": {},
   "source": [
    "- __Storing items in a perticular sequence (so that they can be addressed by index or in a particular order)__.\n",
    "<br> \n",
    "e.g. representing the x, y, z coordinates of a 3D position vector, storing data collected from an experiment as a time series. \n",
    "<br> \n",
    "__Lists and tuples__ allow us to do this.\n",
    "<br> \n",
    "__Dictionaries__ do not."
   ]
  },
  {
   "cell_type": "markdown",
   "metadata": {},
   "source": [
    "- __Performing an operation on every item in a sequence.__ \n",
    "<br> \n",
    "e.g. checking every item in a data set against a particular condition (e.g. prime number, multiple of 5....etc), performing an algebraic operation on every item in a data set. \n",
    "<br> \n",
    "__Lists and tuples__ make this simple as we can call each entry in turn using its index.\n",
    "<br> \n",
    "__Dictionaries__ this is less efficient as it requires more code."
   ]
  },
  {
   "cell_type": "markdown",
   "metadata": {},
   "source": [
    "- __Selecting a single item from a data structure without knowing its position in a sequence.__  \n",
    "e.g. looking up the profile of a person using their name, avoiding looping through a large data set in order to identify a single entry. \n",
    "<br> \n",
    "__Dictionaries__ allow us to select a single entry by an associated (unique) key variable.\n",
    "<br> \n",
    "__Lists and tuples__ make this difficult as to pick out a single value we must either i) know it's position in an ordered sequence, ii)loop through every item until we find it."
   ]
  },
  {
   "cell_type": "markdown",
   "metadata": {},
   "source": [
    "\n",
    "- __Protecting individual items of a data sequence from being added, removed or changed within the program.__\n",
    "<br>\n",
    "e.g. representing a vector of fixed length with fixed values, representing the coordintes of a fixed point. \n",
    "<br> \n",
    "__Tuples__ allow us to do this.\n",
    "<br> \n",
    "__Lists and dictionaries__ do not."
   ]
  },
  {
   "cell_type": "markdown",
   "metadata": {},
   "source": [
    "- __Speed__\n",
    "For many numerical computations, efficiency is essential. More flexible data structures are generally less efficient computationally. They require more computer memory. We will study the difference in speed there can be between different data structures in a later seminar."
   ]
  },
  {
   "cell_type": "markdown",
   "metadata": {},
   "source": [
    "## Review Exercises\n",
    "Here are a series of engineering problems for you to practise each of the new Python skills that you have learnt today."
   ]
  },
  {
   "cell_type": "markdown",
   "metadata": {},
   "source": [
    "### Review Exercise:  Data structures.\n",
    "\n",
    "__(A)__ In the cell below, what type of data structure is C?\n",
    "\n",
    "__(B)__ Write a line of code that checks whether 3 exists within the data structure.\n",
    "\n",
    "__(C)__ Write a line of code that checks whether 3.0 exists within the data structure.\n",
    "\n",
    "__(D)__ Write a line of code that checks whether \"3\" exists within the data structure.\n"
   ]
  },
  {
   "cell_type": "code",
   "execution_count": null,
   "metadata": {
    "collapsed": true
   },
   "outputs": [],
   "source": [
    "C = (2, 3, 5, 6, 1, \"hello\")"
   ]
  },
  {
   "cell_type": "markdown",
   "metadata": {},
   "source": [
    "### Review Exercise:  Using Lists with  `for` Loops.\n",
    "\n",
    "In the cell below, create a list with the names of the months. \n",
    "<br>\n",
    "Create a second list with the number of days in each month (for a regular year). \n",
    "<br>\n",
    "Create a `for` loop that prints:\n",
    "\n",
    "`The number of days in MONTH is XX days`\n",
    "\n",
    "where, `MONTH` is the name of the month and `XX` is the correct number of days in that month.\n",
    "\n",
    "Hint: Refer to <a href='#DotProductLists'>Indexing Example: The dot product of two vectors</a> for how to use two vectors in a loop."
   ]
  },
  {
   "cell_type": "code",
   "execution_count": null,
   "metadata": {
    "collapsed": true
   },
   "outputs": [],
   "source": [
    "# A for loop to print the number of days in each month"
   ]
  },
  {
   "cell_type": "markdown",
   "metadata": {},
   "source": [
    "### Review Exercise: Indexing.\n",
    "\n",
    "__(A)__ In the cell below write a program that adds two vectors, $\\mathbf{A}$ and $\\mathbf{B}$, expressed as lists \n",
    "<br> \n",
    "\n",
    "Hint: Refer to <a href='#DotProductLists'>Indexing Example: The dot product of two vectors</a> for how to use two vectors in a loop.\n",
    "\n",
    "The vectors can be of any length ($n$).\n",
    "<br> However the length of the two vectors must be equal (or an error will be generated). \n",
    "\n",
    " $ \\mathbf{A} = [A_1, A_2, ... A_n]$\n",
    " \n",
    " $ \\mathbf{B} = [B_1, B_2, ... B_n]$\n",
    " \n",
    " $ \\mathbf{A} + \\mathbf{B} = [(A_1 + B_1), \n",
    "                              (A_2 + B_2),\n",
    "                              ...\n",
    "                              (A_n + B_n)]$\n",
    "Use your code to add vectors:\n",
    "\n",
    "$\\mathbf{A} = [-2, 1, 3]$\n",
    "\n",
    "$\\mathbf{B} = [6, 2, 2]$\n",
    "                              \n",
    " \n",
    "<br>\n",
    "__(B)__ Use the function `len()` to \n",
    "find the length of $\\mathbf{A}$ and the length of $\\mathbf{B}$ before adding the two vectors.\n",
    "<a href='#Length'>Jump to Finding the Length of a List</a>\n",
    "\n",
    "<br>\n",
    "__(C)__ Use a logical operator (`==`, `<`, `>`....) to determine if the length of $\\mathbf{A}$ and the length of $\\mathbf{B}$ are equal or unequal before adding the two vectors.\n",
    "<br>Hint: Refer to __Logical Operators__ (Seminar 2). \n",
    "\n",
    "<br>\n",
    "__(D)__ Use `if` and `else` statements (Seminar 2) to:\n",
    "- perform the addition __only__ if the length of $\\mathbf{A}$ and the length of $\\mathbf{B}$ are equal.\n",
    "- print a message  (e.g. \"`unequal vector length!`\") and __do not__ perform the addition, if the length of $\\mathbf{A}$ and the length of $\\mathbf{B}$ are unequal.   \n",
    "\n",
    "<br>\n",
    "__(E)__ Check your code works by testing it using vectors of equal length and vectors of mismatched length."
   ]
  },
  {
   "cell_type": "code",
   "execution_count": null,
   "metadata": {
    "collapsed": true
   },
   "outputs": [],
   "source": [
    "# Vector addition program with length check."
   ]
  },
  {
   "cell_type": "markdown",
   "metadata": {},
   "source": [
    "### Review Exercise: `if` and `else` statements.\n",
    "\n",
    "__(A)__ Copy and paste the program you wrote earlier to <a href='#DotProductLists'>find the dot product of two vectors</a>  into the cell below.\n",
    "\n",
    "__(B)__ Within the loop use `if`, `elif` and else `else` to make the program print:\n",
    " - \"`The angle between vectors is acute`\" if the dot product is positive.\n",
    " - \"`The angle between vectors is obtuse`\" if the dot product is negative.\n",
    " - \"`The vectors are perpendicular`\" if the dot product is 0."
   ]
  },
  {
   "cell_type": "code",
   "execution_count": null,
   "metadata": {
    "collapsed": true
   },
   "outputs": [],
   "source": [
    "# Determinig angle types using the dot product."
   ]
  },
  {
   "cell_type": "markdown",
   "metadata": {},
   "source": [
    "### Review Exercise: Dictionaries.\n",
    "\n",
    "<img src=\"../../../ILAS_seminars/intro to python/img/periodic_table.gif\" alt=\"Drawing\" style=\"width: 300px;\"/>\n",
    "\n",
    "__(A)__ Choose 5 elements from the periodic table.\n",
    "<br>\n",
    "In the cell below create a dictionary: \n",
    " - __keys:__ chemical symbol names \n",
    " - __values:__ atomic numbers \n",
    " \n",
    " e.g. \n",
    " ```python\n",
    " dictionary = {\"C\":6, \"N\":7, \"O\":8....}\n",
    " \n",
    " ```\n",
    "<a href='#Dictionaries'>Jump to Dictionaries</a>\n",
    "\n",
    "__(B)__ Remove one entry from the dictionary and print the updated version.\n",
    "<br><a href='#DictionaryRemove'>Jump to Removing Entries from a Dictionary</a>\n",
    "\n",
    "__(C)__ Add a new entry (chemical symbol and atomic number) to the dictionary and print it.\n",
    "<br><a href='#DictionaryAdd'>Jump to Adding Entries to a Dictionary</a>\n",
    "\n",
    "__(D)__ Use a `for` loop to create a new dictionary:  \n",
    " - __keys:__ atomic numbers \n",
    " - __values:__ chemical symbols\n",
    "using your original dictionary. \n",
    "<br> Hint: Refer to the earlier example of <a href='#DictionaryRestructure'>re-structuring to make a new dictioary.</a> \n",
    "\n",
    "__*Optional Extension*__\n",
    "\n",
    "Generate a __list__ of the chemical symbols in your dictionary, sorted into alphabetical order.\n",
    "Hints:\n",
    " - Create an empty list \n",
    " - Use a for loop to add each chemical symbol to the list \n",
    " - Sort the list in alphabetical order "
   ]
  },
  {
   "cell_type": "code",
   "execution_count": null,
   "metadata": {
    "collapsed": true
   },
   "outputs": [],
   "source": [
    "# Dictionary of periodic table items."
   ]
  },
  {
   "cell_type": "markdown",
   "metadata": {},
   "source": [
    "## Review Exercise: `while` loops (bisection)\n",
    "\n",
    "Bisection is an iterative method for approximating a root of a function i.e. the values of $x$ for which the function $f(x)$ is equal to zero. \n",
    "\n",
    "If the inputs, $x$, and outputs, $f(x)$, are represented as the x and y axis, the roots are the points where the function crosses the line $y = 0$.  \n",
    "\n",
    "<img src=\"../../../ILAS_seminars/intro to python/img/bisection.png\" alt=\"Drawing\" style=\"width: 300px;\"/>\n",
    "\n",
    "If we know an interval ($x_{0}$ to $x_{1}$), between which this __crossing point__ lies, we can repeatedly *bisect* the interval (evaluate $f(x)$ at the __midpoint__ between $x_{0}$ to $x_{1}$, |f_{\\rm mid}|) until $f(x)$ is sufficiently small (close to zero). \n",
    "\n",
    "We then determine that the midpoint, $x_{mid} = \\frac{x_0 + x_1}{2}$ is the root of the function. \n",
    "\n",
    "It is a very simple and robust method.\n",
    "\n",
    "The following code is called repeatedly until the *absolute* value, $|f_{\\rm mid}|$ is below a predetermined value (*tolerance*). \n",
    "\n",
    "\n",
    "      x_mid = (x_0 + x_1)/2\n",
    "      \n",
    "      \n",
    "      # If f(x) changes sign between f(x_mid) and f(x_0), \n",
    "      # the root must lie between f(x_mid) and f(x_0)\n",
    "      \n",
    "      if f(x_mid) * f(x_0) < 0:\n",
    "          x_1 = x_mid\n",
    "          x_mid = (x_0 + x_1)/2\n",
    "          \n",
    "          \n",
    "      # If f(x) changes sign between f(x_mid) and f(x_1), \n",
    "      # the root must lie between f(x_mid) and f(x_1)\n",
    "      \n",
    "      else:\n",
    "          x_0 = x_mid\n",
    "          x_mid = (x_0 + x_1)/2  \n",
    "          \n",
    "\n",
    "\n",
    "**Task:** \n",
    "\n",
    "The function\n",
    "\n",
    "$$\n",
    "f(x) = x^3 - 6x^2 + 4x + 12\n",
    "$$\n",
    "\n",
    "has one root between $x_0 = 3$ and $x_1 = 6$.\n",
    "<br>\n",
    "<br>\n",
    "\n",
    "__(A)__ Use the bisection method to find the value of the root.  \n",
    "\n",
    "Use a while loop to repeat the code above until $|f_{\\rm mid}| < 1 \\times10^{-6}$.\n",
    "\n",
    "*Hint:* Use  the function `abs()` to compute the absolute value of a number, \n",
    "<br> e.g. `y = abs(x)` assigns the absolute value of `x` to `y`. \n",
    "\n",
    "<a href='#WhileLoops'>Jump to While Loops'</a>\n",
    "<br>\n",
    "<br>\n",
    "\n",
    "__(B)__ Check your answer by expressing $f(x) = x^3 - 6x^2 + 4x + 12$ using Python, where x = your answer to __(A)__. \n",
    "\n",
    "__(C)__ The bisection method is only effective where $x_0$ and $x_1$ are of opposite sign.\n",
    "<br> i.e. where $x_0 \\cdot x_1 < 0$\n",
    "<br>Add a check to your code so that the while loop is onyl run if the inputs $x_0$ and $x_1$ are of opposite sign.\n",
    "\n",
    "__(D)__ Use `break` statement to exit the loop if the number of iterations exceeds a certain threshold value. \n",
    "<br> First choose a low treshold value to check your methos works. \n",
    "<br> Then replace it with a higher value that you think is reasonable. \n",
    "\n",
    "<a href='#Break'>Jump to break'</a> "
   ]
  },
  {
   "cell_type": "code",
   "execution_count": null,
   "metadata": {
    "collapsed": true
   },
   "outputs": [],
   "source": [
    "# Bisection method for root finding.\n",
    "# Bisection method for root finding.\n",
    "# Example from exploratory computation 5\n",
    "\n",
    "def bisection(func, x1, x2, tol=1e-3, nmax=10, silent=True):\n",
    "    f1 = func(x1)\n",
    "    f2 = func(x2)\n",
    "    assert f1 * f2< 0, 'Error: zero not in interval x1-x2'\n",
    "    for i in range(nmax):\n",
    "        xm = 0.5*(x1 + x2)\n",
    "        fm = func(xm)\n",
    "        if fm * f2 < 0:\n",
    "            x1 = xm\n",
    "            f1 = fm\n",
    "        else:\n",
    "            x2 = xm\n",
    "            f2 = fm\n",
    "        if silent is False: print(x1, x2, f1, f2)\n",
    "        if abs(x1 - x2) < tol:\n",
    "            break\n",
    "    if abs(func(x1)) > tol:\n",
    "        print('Maximum number of iterations reached')\n",
    "    return x1"
   ]
  },
  {
   "cell_type": "markdown",
   "metadata": {},
   "source": [
    "\n",
    " "
   ]
  },
  {
   "cell_type": "markdown",
   "metadata": {},
   "source": [
    "## Extension Exercise: Selecting data structures.\n",
    "\n",
    "<img src=\"../../../ILAS_seminars/intro to python/img/2d_poly.png\" alt=\"Drawing\" style=\"width: 300px;\"/>\n",
    "\n",
    "For a simple (non-intersecting) polygon:\n",
    "\n",
    " - with $n$ vertices \n",
    " ($(x_0, y_0)$, $(x_1, y_1, ...x_{n-1}, y_{n-1})$\n",
    " - where $(x_n, y_n) = (x_0, y_0)$. \n",
    " - where the vertices are ordered as you move around the polygon.\n",
    "\n",
    "the area $A$ is given by:\n",
    "$$\n",
    "A = \\left| \\frac{1}{2} \\sum_{i=0}^{n-1} \\left(x_{i} y _{i+1} - x_{i+1} y_{i} \\right) \\right|\n",
    "$$\n",
    "\n",
    "Write a program that computes the area of a simple polygon with an arbitrary number of vertices.\n",
    "\n",
    "Choose a data structure to represent the coordinates of each vertex of the polygon. \n",
    "\n",
    "Use a for loop for the summation. For an examlpe of how to do this refer to the method you used when finding the dot product of teo vectors. \n",
    "\n",
    "<a href='#DotProduct'>Jump to the Dot Product</a>\n",
    "\n",
    "Test your function for some simple shapes. "
   ]
  },
  {
   "cell_type": "code",
   "execution_count": null,
   "metadata": {
    "collapsed": true
   },
   "outputs": [],
   "source": [
    "# Program to calculate the area of a polygon."
   ]
  },
  {
   "cell_type": "markdown",
   "metadata": {},
   "source": [
    "# Updating your git repository\n",
    "\n",
    "You have made several changes to your interactive textbook.\n",
    "\n",
    "The final thing we are going to do is add these changes to your online repository so that:\n",
    " - I can check your progress\n",
    " - You can access the changes from outside of the university server. \n",
    " \n",
    " > Save your work.\n",
    " > <br> `git add -A`\n",
    " > <br>`git commit -m \"A short message describing changes\"`\n",
    " > <br>`git push origin master`\n",
    " \n",
    " <br>Refer to supplementary material: __S1_Introduction_to_Version_Control.ipynb__.  "
   ]
  },
  {
   "cell_type": "markdown",
   "metadata": {
    "collapsed": true
   },
   "source": [
    "## Summary\n",
    " - A data structure is used to assign a collection of values to a single collection name.\n",
    " - A Python list can store multiple items of data in sequentially numbered elements (numbering starts at zero)\n",
    " - Data stored in a list element can be referenced using the list name can be referenced using the list name followed by an index number in [] square brackets.\n",
    " - The `len()` function returns the length of a specified list.\n",
    " - A Python tuple whose values can not be individually changed, removed or added to (except by adding another tuple).\n",
    " - Data stored in a tuple element can be referenced using the tuple name followed by an index number in [] square brackets.\n",
    " - A Python dictionary is a list of key: value pairs of data in which each key must be unique.\n",
    " - Data stored in a dictionary element can be referenced using the dictionary name followed by its key in [] square brackets. "
   ]
  },
  {
   "cell_type": "markdown",
   "metadata": {
    "collapsed": true
   },
   "source": [
    "# Homework \n",
    "\n",
    "1. __PULL__ the changes you made in-class today to your personal computer.\n",
    "1. __COMPLETE__ any unfinished Review Exercises.\n",
    "1. __PUSH__ the changes you make at home to your online repository. \n",
    "\n",
    "<br>Refer to supplementary material: __S1_Introduction_to_Version_Control.ipynb__.  \n",
    "\n",
    "In particular, please complete: __Review Exercise: `while` loops (bisection)__. \n",
    "<br>You will need to refer to your answer in next week's Seminar. "
   ]
  }
 ],
 "metadata": {
  "celltoolbar": "Slideshow",
  "kernelspec": {
   "display_name": "Python 3",
   "language": "python",
   "name": "python3"
  },
  "language_info": {
   "codemirror_mode": {
    "name": "ipython",
    "version": 3
   },
   "file_extension": ".py",
   "mimetype": "text/x-python",
   "name": "python",
   "nbconvert_exporter": "python",
   "pygments_lexer": "ipython3",
   "version": "3.6.1"
  }
 },
 "nbformat": 4,
 "nbformat_minor": 2
}
